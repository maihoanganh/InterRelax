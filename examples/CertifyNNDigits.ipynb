{
 "cells": [
  {
   "cell_type": "code",
   "execution_count": 1,
   "metadata": {},
   "outputs": [
    {
     "data": {
      "text/plain": [
       "10"
      ]
     },
     "execution_count": 1,
     "metadata": {},
     "output_type": "execute_result"
    }
   ],
   "source": [
    "using MAT\n",
    "using DynamicPolynomials, LinearAlgebra, SparseArrays\n",
    "\n",
    "data=\"/home/hoanganh/Desktop/math-topics/InterruptedRelax/codes/dataPOP2\" # path of data\n",
    "D = matread(data*\"/WeightsDigits.mat\");\n",
    "W1 = D[\"W1\"]; c = D[\"c\"]; x_bar=D[\"x_bar\"]; y_bar=D[\"y_bar\"]\n",
    "eps = 0.01;\n",
    "\n",
    "m1=size(W1,2)\n",
    "m2=size(W1,1)"
   ]
  },
  {
   "cell_type": "code",
   "execution_count": 2,
   "metadata": {},
   "outputs": [
    {
     "data": {
      "text/plain": [
       "8"
      ]
     },
     "execution_count": 2,
     "metadata": {},
     "output_type": "execute_result"
    }
   ],
   "source": [
    "y_bar"
   ]
  },
  {
   "cell_type": "code",
   "execution_count": 3,
   "metadata": {},
   "outputs": [
    {
     "name": "stdout",
     "output_type": "stream",
     "text": [
      "***Problem setting***\n",
      "Number of variables: n=74\n",
      "Number of inequality constraints: m=74\n",
      "Number of equality constraints: l=10\n"
     ]
    }
   ],
   "source": [
    "@polyvar x1[1:m1] x2[1:m2]# variables\n",
    "\n",
    "\n",
    "f=(c[y_bar+1,:]-c[1,:])'*x2\n",
    "\n",
    "g=Vector{Polynomial{true,Float64}}([])\n",
    "h=Vector{Polynomial{true,Float64}}([])\n",
    "\n",
    "pol=1.0*x1[1]\n",
    "\n",
    "for j in 1:m2\n",
    "    pol=x2[j]-sum(W1[j,r]*x1[r] for r=1:m1)\n",
    "    append!(g,[pol])\n",
    "    append!(h,[x2[j]*pol])\n",
    "end\n",
    "\n",
    "for t in 1:m1\n",
    "    append!(g,[-x1[t]+x_bar[1,t]+eps])\n",
    "end\n",
    "\n",
    "m=length(g)\n",
    "l=length(h)\n",
    "\n",
    "f=f([x1;x2]=>[x1+x_bar[1,:]-eps*ones(Float64,m1);x2])\n",
    "\n",
    "for j in 1:m\n",
    "    g[j]=g[j]([x1;x2]=>[x1+x_bar[1,:]-eps*ones(Float64,m1);x2])\n",
    "end\n",
    "\n",
    "for j in 1:l\n",
    "    h[j]=h[j]([x1;x2]=>[x1+x_bar[1,:]-eps*ones(Float64,m1);x2])\n",
    "end\n",
    "\n",
    "\n",
    "x=[x1;x2]; n=length(x)\n",
    "println(\"***Problem setting***\")\n",
    "println(\"Number of variables: n=\",n)\n",
    "println(\"Number of inequality constraints: m=\",m)\n",
    "\n",
    "println(\"Number of equality constraints: l=\",l)"
   ]
  },
  {
   "cell_type": "code",
   "execution_count": 8,
   "metadata": {
    "scrolled": true
   },
   "outputs": [
    {
     "name": "stdout",
     "output_type": "stream",
     "text": [
      "**Interrupted relaxation based on Putinar-Vasilescu's Positivstellensatz**\n",
      "Relaxation order: k=0\n",
      "Sparsity order: s=66\n",
      "Sparsity order: d=2\n",
      "------------------------------------------------------\n",
      "The clique sizes of varibles:\n",
      "[65]\n",
      "[10]\n",
      "------------------------------------------------------\n",
      "  Number of cliques: p=10\n",
      "  Largest clique size: u=65\n",
      " Maximal matrix size:66\n",
      "Problem\n",
      "  Name                   :                 \n",
      "  Objective sense        : max             \n",
      "  Type                   : CONIC (conic optimization problem)\n",
      "  Constraints            : 2805            \n",
      "  Cones                  : 0               \n",
      "  Scalar variables       : 26345           \n",
      "  Matrix variables       : 10              \n",
      "  Integer variables      : 0               \n",
      "\n",
      "Optimizer started.\n",
      "Presolve started.\n",
      "Linear dependency checker started.\n",
      "Linear dependency checker terminated.\n",
      "Eliminator started.\n",
      "Freed constraints in eliminator : 0\n",
      "Eliminator terminated.\n",
      "Eliminator - tries                  : 1                 time                   : 0.00            \n",
      "Lin. dep.  - tries                  : 1                 time                   : 0.00            \n",
      "Lin. dep.  - number                 : 0               \n",
      "Presolve terminated. Time: 0.01    \n",
      "Problem\n",
      "  Name                   :                 \n",
      "  Objective sense        : max             \n",
      "  Type                   : CONIC (conic optimization problem)\n",
      "  Constraints            : 2805            \n",
      "  Cones                  : 0               \n",
      "  Scalar variables       : 26345           \n",
      "  Matrix variables       : 10              \n",
      "  Integer variables      : 0               \n",
      "\n",
      "Optimizer  - threads                : 4               \n",
      "Optimizer  - solved problem         : the primal      \n",
      "Optimizer  - Constraints            : 2805\n",
      "Optimizer  - Cones                  : 1\n",
      "Optimizer  - Scalar variables       : 7616              conic                  : 12              \n",
      "Optimizer  - Semi-definite variables: 10                scalarized             : 22110           \n",
      "Factor     - setup time             : 0.52              dense det. time        : 0.00            \n",
      "Factor     - ML order time          : 0.17              GP order time          : 0.00            \n",
      "Factor     - nonzeros before factor : 3.74e+06          after factor           : 3.94e+06        \n",
      "Factor     - dense dim.             : 2                 flops                  : 7.54e+09        \n",
      "ITE PFEAS    DFEAS    GFEAS    PRSTATUS   POBJ              DOBJ              MU       TIME  \n",
      "0   1.0e+01  1.0e+00  1.0e+00  0.00e+00   0.000000000e+00   0.000000000e+00   1.0e+00  0.56  \n",
      "1   8.5e+00  8.5e-01  9.0e-01  1.21e-02   1.128979772e-01   1.073172443e-04   8.5e-01  1.34  \n",
      "2   4.7e+00  4.7e-01  6.2e-01  -8.51e-01  8.170219444e-01   -1.432734588e-03  4.7e-01  2.13  \n",
      "3   5.5e-01  5.5e-02  1.7e-01  -8.33e-01  9.303572931e+00   -3.574702911e-03  5.5e-02  2.98  \n",
      "4   9.0e-02  9.0e-03  2.1e-02  -2.07e-01  5.462653463e+00   -1.745511893e-03  9.0e-03  3.83  \n",
      "5   6.7e-02  6.7e-03  7.8e-03  2.49e+00   1.284763774e+00   -6.959185371e-04  6.7e-03  4.59  \n",
      "6   5.2e-02  5.2e-03  3.8e-03  2.79e+00   5.114682761e-01   -3.069298119e-04  5.2e-03  5.34  \n",
      "7   7.0e-03  7.0e-04  2.4e-05  2.51e+00   -1.216004564e-03  -1.138474536e-06  7.0e-04  6.18  \n",
      "8   4.3e-03  4.3e-04  1.6e-05  1.37e+00   -2.848410689e-06  -5.167216388e-07  4.3e-04  6.95  \n",
      "9   1.1e-03  1.1e-04  2.9e-06  1.22e+00   3.512887216e-04   -3.534004473e-07  1.1e-04  7.76  \n",
      "10  1.2e-04  1.2e-05  1.1e-07  1.09e+00   5.377634920e-05   -6.315036656e-07  1.2e-05  8.62  \n",
      "11  1.6e-05  1.6e-06  5.1e-09  1.03e+00   5.654690606e-06   -1.142970823e-06  1.6e-06  9.49  \n",
      "12  3.8e-06  3.8e-07  6.1e-10  1.00e+00   -9.642888844e-05  -9.804044027e-05  3.8e-07  10.35 \n",
      "13  2.3e-06  2.3e-07  2.9e-10  1.00e+00   -3.288396174e-04  -3.298153500e-04  2.3e-07  11.22 \n",
      "14  1.4e-06  1.4e-07  1.3e-10  1.00e+00   -5.385906433e-04  -5.391796760e-04  1.4e-07  12.05 \n",
      "15  5.6e-07  5.6e-08  3.4e-11  1.01e+00   -7.930201189e-04  -7.932549823e-04  5.6e-08  12.83 \n",
      "16  3.2e-07  3.2e-08  1.5e-11  1.00e+00   -8.885086058e-04  -8.886413193e-04  3.2e-08  13.61 \n",
      "17  6.6e-08  6.6e-09  1.4e-12  1.00e+00   -1.004394095e-03  -1.004421195e-03  6.6e-09  14.48 \n",
      "18  4.8e-08  4.8e-09  8.5e-13  9.99e-01   -1.017963440e-03  -1.017982927e-03  4.8e-09  15.26 \n",
      "19  1.2e-08  1.2e-09  1.1e-13  1.00e+00   -1.042346136e-03  -1.042350979e-03  1.2e-09  16.11 \n",
      "20  4.4e-09  1.6e-10  5.3e-15  1.00e+00   -1.049849161e-03  -1.049849805e-03  1.6e-10  16.94 \n",
      "Optimizer terminated. Time: 16.95   \n",
      "\n",
      "Termination status = OPTIMAL\n",
      "Optimal value = -0.001049849160735117\n",
      " 70.996733 seconds (166.01 M allocations: 20.704 GiB, 5.57% gc time)\n"
     ]
    }
   ],
   "source": [
    "using SparseArrays\n",
    "\n",
    "include(\"../src/InterRelax.jl\")\n",
    "using .InterRelax\n",
    "\n",
    "n,m,l,lmon_g,supp_g,coe_g,lmon_h,supp_h,coe_h,lmon_f,supp_f,coe_f,dg,dh=InterRelax.get_info(x,f,g,h,sparse=true);\n",
    "\n",
    "\n",
    "k=0\n",
    "s=66\n",
    "d=Int64(maximum([sum(supp_f[:,i]) for i in 1:lmon_f]))+1\n",
    "\n",
    "@time opt_val1,opt_sol=InterRelax.RelaxSparse(n,m,l,lmon_g,supp_g,coe_g,lmon_h,supp_h,coe_h,lmon_f,supp_f,coe_f,dg,dh,k,s,d,assign=\"min\",alg=\"MD\",minimize=true,solver=\"Mosek\",comp_opt_sol=false);"
   ]
  },
  {
   "cell_type": "code",
   "execution_count": null,
   "metadata": {},
   "outputs": [],
   "source": []
  },
  {
   "cell_type": "code",
   "execution_count": null,
   "metadata": {
    "scrolled": true
   },
   "outputs": [
    {
     "name": "stdout",
     "output_type": "stream",
     "text": [
      "**Interrupted relaxation based on Putinar-Vasilescu's Positivstellensatz**\n",
      "Relaxation order: k=1\n",
      "Sparsity order: s=66\n",
      "Sparsity order: d=2\n",
      "------------------------------------------------------\n",
      "The clique sizes of varibles:\n",
      "[65]\n",
      "[10]\n",
      "------------------------------------------------------\n",
      "  Number of cliques: p="
     ]
    },
    {
     "name": "stderr",
     "output_type": "stream",
     "text": [
      "WARNING: replacing module InterRelax.\n"
     ]
    },
    {
     "name": "stdout",
     "output_type": "stream",
     "text": [
      "10\n",
      "  Largest clique size: u=65\n"
     ]
    }
   ],
   "source": [
    "using SparseArrays\n",
    "\n",
    "include(\"../src/InterRelax.jl\")\n",
    "using .InterRelax\n",
    "\n",
    "n,m,l,lmon_g,supp_g,coe_g,lmon_h,supp_h,coe_h,lmon_f,supp_f,coe_f,dg,dh=InterRelax.get_info(x,f,g,h,sparse=true);\n",
    "\n",
    "\n",
    "k=1\n",
    "s=66\n",
    "d=Int64(maximum([sum(supp_f[:,i]) for i in 1:lmon_f]))+1\n",
    "\n",
    "@time opt_val1,opt_sol=InterRelax.RelaxSparse(n,m,l,lmon_g,supp_g,coe_g,lmon_h,supp_h,coe_h,lmon_f,supp_f,coe_f,dg,dh,k,s,d,assign=\"min\",alg=\"MD\",minimize=true,solver=\"Mosek\",comp_opt_sol=false);"
   ]
  },
  {
   "cell_type": "code",
   "execution_count": null,
   "metadata": {},
   "outputs": [],
   "source": []
  },
  {
   "cell_type": "code",
   "execution_count": 9,
   "metadata": {
    "scrolled": true
   },
   "outputs": [
    {
     "name": "stdout",
     "output_type": "stream",
     "text": [
      "************************TSSOS************************\n",
      "TSSOS is launching...\n",
      "------------------------------------------------------\n",
      "The clique sizes of varibles:\n",
      "[11]\n",
      "[64]\n",
      "------------------------------------------------------\n",
      "Obtained the variable cliques in 0.032647968 seconds. The maximal size of cliques is 11.\n"
     ]
    },
    {
     "name": "stderr",
     "output_type": "stream",
     "text": [
      "WARNING: replacing module InterRelax.\n"
     ]
    },
    {
     "name": "stdout",
     "output_type": "stream",
     "text": [
      "Assembling the SDP...\n",
      "There are 834 affine constraints.\n",
      "SDP assembling time: 0.00960269 seconds.\n",
      "Solving the SDP...\n",
      "Problem\n",
      "  Name                   :                 \n",
      "  Objective sense        : max             \n",
      "  Type                   : CONIC (conic optimization problem)\n",
      "  Constraints            : 834             \n",
      "  Cones                  : 0               \n",
      "  Scalar variables       : 159             \n",
      "  Matrix variables       : 64              \n",
      "  Integer variables      : 0               \n",
      "\n",
      "Optimizer started.\n",
      "Presolve started.\n",
      "Linear dependency checker started.\n",
      "Linear dependency checker terminated.\n",
      "Eliminator started.\n",
      "Freed constraints in eliminator : 0\n",
      "Eliminator terminated.\n",
      "Eliminator - tries                  : 1                 time                   : 0.00            \n",
      "Lin. dep.  - tries                  : 1                 time                   : 0.00            \n",
      "Lin. dep.  - number                 : 0               \n",
      "Presolve terminated. Time: 0.00    \n",
      "Problem\n",
      "  Name                   :                 \n",
      "  Objective sense        : max             \n",
      "  Type                   : CONIC (conic optimization problem)\n",
      "  Constraints            : 834             \n",
      "  Cones                  : 0               \n",
      "  Scalar variables       : 159             \n",
      "  Matrix variables       : 64              \n",
      "  Integer variables      : 0               \n",
      "\n",
      "Optimizer  - threads                : 4               \n",
      "Optimizer  - solved problem         : the primal      \n",
      "Optimizer  - Constraints            : 834\n",
      "Optimizer  - Cones                  : 1\n",
      "Optimizer  - Scalar variables       : 160               conic                  : 12              \n",
      "Optimizer  - Semi-definite variables: 64                scalarized             : 4992            \n",
      "Factor     - setup time             : 0.01              dense det. time        : 0.00            \n",
      "Factor     - ML order time          : 0.00              GP order time          : 0.00            \n",
      "Factor     - nonzeros before factor : 8.07e+04          after factor           : 2.36e+05        \n",
      "Factor     - dense dim.             : 2                 flops                  : 8.69e+07        \n",
      "ITE PFEAS    DFEAS    GFEAS    PRSTATUS   POBJ              DOBJ              MU       TIME  \n",
      "0   6.4e+01  1.0e+00  1.0e+00  0.00e+00   0.000000000e+00   0.000000000e+00   1.0e+00  0.01  \n",
      "1   1.0e+01  1.6e-01  3.0e-01  9.87e-03   2.681470638e+00   1.897222198e-02   1.6e-01  0.03  \n",
      "2   4.0e+00  6.2e-02  1.7e-01  -8.67e-01  6.552919499e+00   5.729663182e-02   6.2e-02  0.05  \n",
      "3   6.4e-01  1.0e-02  9.1e-03  -2.91e-01  7.647585303e-01   7.309373007e-02   1.0e-02  0.07  \n",
      "4   3.7e-02  5.9e-04  1.6e-04  1.96e+00   1.018066218e-01   2.964278567e-02   5.9e-04  0.09  \n",
      "5   7.2e-03  1.1e-04  1.2e-05  9.86e-01   -3.705560130e-01  -3.806883650e-01  1.1e-04  0.11  \n",
      "6   2.3e-03  3.6e-05  4.7e-06  3.02e-01   -2.212277230e+00  -2.228119803e+00  3.6e-05  0.13  \n",
      "7   4.6e-04  7.1e-06  9.0e-07  5.64e-02   -4.025109868e+00  -4.040713120e+00  7.1e-06  0.15  \n",
      "8   8.6e-05  1.3e-06  2.1e-07  -2.14e-01  -7.581384576e+00  -7.605181839e+00  1.3e-06  0.17  \n",
      "9   1.3e-05  2.1e-07  4.5e-08  -3.01e-01  -1.525892794e+01  -1.530623886e+01  2.1e-07  0.19  \n",
      "10  2.4e-06  3.8e-08  1.1e-08  -2.27e-01  -2.798619387e+01  -2.807253340e+01  3.8e-08  0.21  \n",
      "11  5.2e-07  7.6e-09  3.0e-09  -3.53e-01  -4.792266000e+01  -4.807974426e+01  7.7e-09  0.23  \n",
      "12  1.3e-07  1.7e-09  8.0e-10  -2.85e-01  -7.683986369e+01  -7.706458756e+01  1.7e-09  0.25  \n",
      "13  9.8e-08  4.7e-10  2.7e-10  -3.09e-01  -1.230424084e+02  -1.233824182e+02  4.7e-10  0.27  \n",
      "14  9.8e-08  4.7e-10  2.7e-10  4.05e-01   -1.230424084e+02  -1.233824182e+02  4.7e-10  0.30  \n",
      "15  9.8e-08  4.7e-10  2.7e-10  4.05e-01   -1.230424084e+02  -1.233824182e+02  4.7e-10  0.33  \n",
      "Optimizer terminated. Time: 0.36    \n",
      "\n",
      "SDP solving time: 0.403026883 seconds.\n",
      "termination status: SLOW_PROGRESS\n",
      "solution status: UNKNOWN_RESULT_STATUS\n",
      "optimum = -123.04240840167196\n",
      "  8.682156 seconds (24.43 M allocations: 1.220 GiB, 4.36% gc time)\n"
     ]
    }
   ],
   "source": [
    "using SparseArrays, TSSOS\n",
    "\n",
    "include(\"../src/InterRelax.jl\")\n",
    "using .InterRelax\n",
    "\n",
    "n,m,l,lmon_g,supp_g,coe_g,lmon_h,supp_h,coe_h,lmon_f,supp_f,coe_f,dg,dh=InterRelax.get_info(x,f,g,h,sparse=true);\n",
    "\n",
    "k=1\n",
    "\n",
    "vars,pop=InterRelax.get_POP(n,m,l,lmon_g,supp_g,coe_g,lmon_h,supp_h,coe_h,lmon_f,supp_f,coe_f)\n",
    "@time opt,sol,data=TSSOS.cs_tssos_first(pop,vars,k,numeq=l,CS=\"MD\",TS=false,solver=\"Mosek\");"
   ]
  },
  {
   "cell_type": "code",
   "execution_count": 10,
   "metadata": {},
   "outputs": [
    {
     "data": {
      "text/plain": [
       "9"
      ]
     },
     "execution_count": 10,
     "metadata": {},
     "output_type": "execute_result"
    }
   ],
   "source": [
    "binomial(8+1,1)"
   ]
  },
  {
   "cell_type": "code",
   "execution_count": 45,
   "metadata": {},
   "outputs": [
    {
     "name": "stdout",
     "output_type": "stream",
     "text": [
      "************************TSSOS************************\n",
      "TSSOS is launching...\n",
      "------------------------------------------------------\n",
      "The clique sizes of varibles:\n",
      "[20, 8]\n",
      "[1, 7]\n",
      "------------------------------------------------------\n",
      "Obtained the variable cliques in 0.000350333 seconds. The maximal size of cliques is 20.\n",
      "Assembling the SDP...\n",
      "There are 11781 affine constraints.\n",
      "SDP assembling time: 0.080258632 seconds.\n",
      "Solving the SDP...\n",
      "Problem\n",
      "  Name                   :                 \n",
      "  Objective sense        : max             \n",
      "  Type                   : CONIC (conic optimization problem)\n",
      "  Constraints            : 11781           \n",
      "  Cones                  : 0               \n",
      "  Scalar variables       : 1933            \n",
      "  Matrix variables       : 62              \n",
      "  Integer variables      : 0               \n",
      "\n",
      "Optimizer started.\n",
      "Presolve started.\n",
      "Linear dependency checker started.\n",
      "Linear dependency checker terminated.\n",
      "Eliminator started.\n",
      "Freed constraints in eliminator : 0\n",
      "Eliminator terminated.\n",
      "Eliminator - tries                  : 1                 time                   : 0.00            \n",
      "Lin. dep.  - tries                  : 1                 time                   : 0.00            \n",
      "Lin. dep.  - number                 : 0               \n",
      "Presolve terminated. Time: 0.00    \n",
      "Problem\n",
      "  Name                   :                 \n",
      "  Objective sense        : max             \n",
      "  Type                   : CONIC (conic optimization problem)\n",
      "  Constraints            : 11781           \n",
      "  Cones                  : 0               \n",
      "  Scalar variables       : 1933            \n",
      "  Matrix variables       : 62              \n",
      "  Integer variables      : 0               \n",
      "\n",
      "Optimizer  - threads                : 4               \n",
      "Optimizer  - solved problem         : the primal      \n",
      "Optimizer  - Constraints            : 11781\n",
      "Optimizer  - Cones                  : 1\n",
      "Optimizer  - Scalar variables       : 1934              conic                  : 1934            \n",
      "Optimizer  - Semi-definite variables: 62                scalarized             : 43911           \n",
      "Factor     - setup time             : 4.63              dense det. time        : 0.00            \n",
      "Factor     - ML order time          : 0.97              GP order time          : 0.00            \n",
      "Factor     - nonzeros before factor : 5.69e+07          after factor           : 5.69e+07        \n",
      "Factor     - dense dim.             : 2                 flops                  : 4.02e+11        \n",
      "ITE PFEAS    DFEAS    GFEAS    PRSTATUS   POBJ              DOBJ              MU       TIME  \n",
      "0   8.0e+00  1.0e+00  1.0e+00  0.00e+00   0.000000000e+00   0.000000000e+00   1.0e+00  4.68  \n",
      "1   6.7e+00  8.4e-01  8.8e-01  -1.62e-03  1.333922494e-01   2.458537758e-02   8.4e-01  14.77 \n",
      "2   3.6e+00  4.5e-01  7.2e-01  -7.60e-01  1.538389509e+00   1.705924309e-01   4.5e-01  24.51 \n",
      "3   4.0e-01  4.9e-02  2.0e-01  -8.03e-01  1.508818906e+01   2.181282201e-01   4.9e-02  34.59 \n",
      "4   6.9e-02  8.6e-03  8.5e-02  -1.01e+00  9.763663901e+01   1.131253055e-01   8.6e-03  45.07 \n",
      "5   1.5e-02  1.8e-03  3.8e-02  -9.95e-01  4.285779642e+02   1.676115782e-01   1.8e-03  55.56 \n",
      "6   1.6e-03  2.0e-04  1.2e-02  -9.86e-01  3.732826707e+03   1.994688460e-01   2.0e-04  66.17 \n",
      "7   2.1e-04  2.7e-05  4.4e-03  -9.97e-01  2.705055437e+04   2.165929951e-01   2.7e-05  76.60 \n",
      "8   1.5e-04  1.9e-05  3.7e-03  -1.00e+00  3.936474375e+04   2.208796888e-01   1.9e-05  86.82 \n",
      "9   2.2e-05  2.8e-06  1.4e-03  -1.00e+00  2.572722640e+05   2.549586553e-01   2.8e-06  96.54 \n",
      "10  6.7e-06  8.4e-07  7.6e-04  -1.00e+00  8.363755820e+05   2.381754281e-01   8.4e-07  106.78\n",
      "11  1.0e-06  1.2e-07  3.0e-04  -9.99e-01  5.628380843e+06   2.181475339e-01   1.2e-07  116.81\n",
      "12  7.6e-07  9.0e-08  2.5e-04  -9.93e-01  7.775390343e+06   2.169319322e-01   9.0e-08  126.50\n",
      "13  2.6e-07  3.0e-08  1.5e-04  -9.93e-01  2.321295158e+07   1.845390149e-01   3.0e-08  137.40\n",
      "14  6.7e-08  7.9e-09  7.4e-05  -9.90e-01  8.858758604e+07   1.776237565e-01   7.8e-09  175.59\n",
      "15  3.2e-08  3.8e-09  5.1e-05  -9.88e-01  1.837942677e+08   2.240113457e-01   3.7e-09  184.99\n",
      "16  6.7e-09  1.1e-09  2.3e-05  -9.89e-01  8.772763234e+08   4.844338217e-01   7.7e-10  194.79\n",
      "17  2.0e-09  1.7e-09  1.3e-05  -9.88e-01  2.872980264e+09   8.404103892e-01   2.3e-10  212.53\n",
      "18  6.9e-10  1.5e-08  7.2e-06  -9.87e-01  8.395056716e+09   1.299770845e+00   7.8e-11  223.08\n",
      "19  2.9e-10  7.3e-08  4.7e-06  -9.78e-01  1.913309647e+10   1.762432593e+00   3.3e-11  233.95\n",
      "20  2.9e-10  7.3e-08  4.7e-06  -9.60e-01  1.913309647e+10   1.762432593e+00   3.3e-11  244.30\n",
      "21  2.9e-10  7.3e-08  4.7e-06  -9.60e-01  1.913309647e+10   1.762432593e+00   3.3e-11  255.01\n",
      "Optimizer terminated. Time: 266.02  \n",
      "\n",
      "SDP solving time: 266.258711258 seconds.\n",
      "termination status: SLOW_PROGRESS\n",
      "solution status: INFEASIBILITY_CERTIFICATE\n",
      "optimum = 0.7910015241073102\n",
      "266.396499 seconds (3.67 M allocations: 342.657 MiB, 0.03% gc time)\n"
     ]
    },
    {
     "name": "stderr",
     "output_type": "stream",
     "text": [
      "WARNING: replacing module InterRelax.\n"
     ]
    }
   ],
   "source": [
    "using SparseArrays, TSSOS\n",
    "\n",
    "include(\"../src/InterRelax.jl\")\n",
    "using .InterRelax\n",
    "\n",
    "n,m,l,lmon_g,supp_g,coe_g,lmon_h,supp_h,coe_h,lmon_f,supp_f,coe_f,dg,dh=InterRelax.get_info(x,f,g,h,sparse=true);\n",
    "\n",
    "k=2\n",
    "\n",
    "vars,pop=InterRelax.get_POP(n,m,l,lmon_g,supp_g,coe_g,lmon_h,supp_h,coe_h,lmon_f,supp_f,coe_f)\n",
    "@time opt,sol,data=TSSOS.cs_tssos_first(pop,vars,k,numeq=l,CS=\"MD\",TS=false,solver=\"Mosek\");"
   ]
  },
  {
   "cell_type": "code",
   "execution_count": 46,
   "metadata": {},
   "outputs": [
    {
     "data": {
      "text/plain": [
       "231"
      ]
     },
     "execution_count": 46,
     "metadata": {},
     "output_type": "execute_result"
    }
   ],
   "source": [
    "binomial(20+2,2)"
   ]
  },
  {
   "cell_type": "code",
   "execution_count": 2,
   "metadata": {},
   "outputs": [
    {
     "data": {
      "text/plain": [
       "128"
      ]
     },
     "execution_count": 2,
     "metadata": {},
     "output_type": "execute_result"
    }
   ],
   "source": [
    "64*2"
   ]
  },
  {
   "cell_type": "code",
   "execution_count": null,
   "metadata": {},
   "outputs": [],
   "source": []
  }
 ],
 "metadata": {
  "kernelspec": {
   "display_name": "Julia 1.3.0",
   "language": "julia",
   "name": "julia-1.3"
  },
  "language_info": {
   "file_extension": ".jl",
   "mimetype": "application/julia",
   "name": "julia",
   "version": "1.3.0"
  }
 },
 "nbformat": 4,
 "nbformat_minor": 2
}
