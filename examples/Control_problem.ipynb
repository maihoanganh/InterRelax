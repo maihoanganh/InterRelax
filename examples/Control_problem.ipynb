{
 "cells": [
  {
   "cell_type": "code",
   "execution_count": 1,
   "metadata": {},
   "outputs": [
    {
     "name": "stderr",
     "output_type": "stream",
     "text": [
      "┌ Info: Precompiling DynamicPolynomials [7c1d4256-1411-5781-91ec-d7bc3513ac07]\n",
      "└ @ Base loading.jl:1273\n",
      "┌ Info: Precompiling MosekTools [1ec41992-ff65-5c91-ac43-2df89e9693a4]\n",
      "└ @ Base loading.jl:1273\n",
      "┌ Info: Precompiling JuMP [4076af6c-e467-56ae-b986-b466b2749572]\n",
      "└ @ Base loading.jl:1273\n",
      "┌ Info: Precompiling SumOfSquares [4b9e565b-77fc-50a5-a571-1244f986bda1]\n",
      "└ @ Base loading.jl:1273\n",
      "┌ Info: Precompiling LightGraphs [093fc24a-ae57-5d10-9952-331d41423f4d]\n",
      "└ @ Base loading.jl:1273\n",
      "┌ Info: Precompiling COSMO [1e616198-aa4e-51ec-90a2-23f7fbd31d8d]\n",
      "└ @ Base loading.jl:1273\n",
      "┌ Info: Precompiling PowerModels [c36e90e8-916a-50a6-bd94-075b64ef4655]\n",
      "└ @ Base loading.jl:1273\n",
      "┌ Info: Precompiling Ipopt [b6b21f68-93f8-5de0-b562-5493be1d77c9]\n",
      "└ @ Base loading.jl:1273\n",
      "┌ Info: Precompiling MatrixMarket [4d4711f2-db25-561a-b6b3-d35e7d4047d3]\n",
      "└ @ Base loading.jl:1273\n",
      "WARNING: Compat.SparseArrays is deprecated, use SparseArrays instead.\n",
      "  likely near /home/hoanganh/.julia/packages/MatrixMarket/ic62N/src/MatrixMarket.jl:3\n",
      "WARNING: Compat.LinearAlgebra is deprecated, use LinearAlgebra instead.\n",
      "  likely near /home/hoanganh/.julia/packages/MatrixMarket/ic62N/src/MatrixMarket.jl:4\n",
      "┌ Info: Precompiling PolyPowerModels [f3c7403e-b250-11e9-0dee-5374c00c4166]\n",
      "└ @ Base loading.jl:1273\n",
      "┌ Info: Precompiling TSSOS [81648402-ffe6-11e9-2394-0de17a9afdad]\n",
      "└ @ Base loading.jl:1273\n",
      "┌ Info: Precompiling MAT [23992714-dd62-5051-b70f-ba57cb901cac]\n",
      "└ @ Base loading.jl:1273\n"
     ]
    },
    {
     "name": "stdout",
     "output_type": "stream",
     "text": [
      "**Interrupted relaxation based on Polya's Positivstellensatz**\n",
      "Relaxation order: k=1\n",
      "Factor width upper bound: s=3\n",
      "Maximal matrix size:3\n",
      "Problem\n",
      "  Name                   :                 \n",
      "  Objective sense        : max             \n",
      "  Type                   : CONIC (conic optimization problem)\n",
      "  Constraints            : 55              \n",
      "  Cones                  : 0               \n",
      "  Scalar variables       : 119             \n",
      "  Matrix variables       : 8               \n",
      "  Integer variables      : 0               \n",
      "\n",
      "Optimizer started.\n",
      "Presolve started.\n",
      "Linear dependency checker started.\n",
      "Linear dependency checker terminated.\n",
      "Eliminator started.\n",
      "Freed constraints in eliminator : 24\n",
      "Eliminator terminated.\n",
      "Eliminator started.\n",
      "Freed constraints in eliminator : 1\n",
      "Eliminator terminated.\n",
      "Eliminator - tries                  : 2                 time                   : 0.00            \n",
      "Lin. dep.  - tries                  : 1                 time                   : 0.00            \n",
      "Lin. dep.  - number                 : 0               \n",
      "Presolve terminated. Time: 0.00    \n",
      "Problem\n",
      "  Name                   :                 \n",
      "  Objective sense        : max             \n",
      "  Type                   : CONIC (conic optimization problem)\n",
      "  Constraints            : 55              \n",
      "  Cones                  : 0               \n",
      "  Scalar variables       : 119             \n",
      "  Matrix variables       : 8               \n",
      "  Integer variables      : 0               \n",
      "\n",
      "Optimizer  - threads                : 4               \n",
      "Optimizer  - solved problem         : the primal      \n",
      "Optimizer  - Constraints            : 30\n",
      "Optimizer  - Cones                  : 1\n",
      "Optimizer  - Scalar variables       : 64                conic                  : 17              \n",
      "Optimizer  - Semi-definite variables: 8                 scalarized             : 48              \n",
      "Factor     - setup time             : 0.00              dense det. time        : 0.00            \n",
      "Factor     - ML order time          : 0.00              GP order time          : 0.00            \n",
      "Factor     - nonzeros before factor : 258               after factor           : 320             \n",
      "Factor     - dense dim.             : 0                 flops                  : 6.25e+03        \n",
      "ITE PFEAS    DFEAS    GFEAS    PRSTATUS   POBJ              DOBJ              MU       TIME  \n",
      "0   3.0e+00  1.0e+00  1.0e+00  0.00e+00   0.000000000e+00   0.000000000e+00   1.0e+00  0.03  \n",
      "1   1.2e+00  4.1e-01  2.0e-01  9.88e-01   5.677287209e-01   6.843486640e-01   4.1e-01  0.03  \n",
      "2   8.6e-01  2.9e-01  1.0e-01  1.65e+00   1.992481588e+00   2.069713715e+00   2.9e-01  0.03  \n",
      "3   1.9e-01  6.4e-02  6.8e-03  1.60e+00   2.771908025e+00   2.793283789e+00   6.4e-02  0.04  \n",
      "4   5.8e-02  1.9e-02  9.6e-04  1.91e+00   2.957350126e+00   2.961275870e+00   1.9e-02  0.04  \n",
      "5   4.5e-03  1.5e-03  1.8e-05  1.33e+00   2.997145208e+00   2.997415383e+00   1.5e-03  0.04  \n",
      "6   5.2e-06  1.7e-06  7.2e-10  1.03e+00   2.999996846e+00   2.999997151e+00   1.7e-06  0.04  \n",
      "7   9.6e-09  3.2e-09  5.3e-14  1.00e+00   2.999999994e+00   2.999999995e+00   3.2e-09  0.04  \n",
      "Optimizer terminated. Time: 0.05    \n",
      "\n",
      "Termination status = OPTIMAL\n",
      "Primal status = FEASIBLE_POINT\n",
      "Optimal value = 2.999999993934861\n",
      "Dimension of the null space of Gram matrix = 53\n"
     ]
    },
    {
     "data": {
      "text/plain": [
       "(2.999999993934861, Array{Float64,1}[])"
      ]
     },
     "execution_count": 1,
     "metadata": {},
     "output_type": "execute_result"
    }
   ],
   "source": [
    "using LinearAlgebra\n",
    "using DynamicPolynomials\n",
    "\n",
    "dim = 3\n",
    "M = [0 0 1.0; 1.0 0 0; 0 1 0]\n",
    "\n",
    "@polyvar x[1:dim] # nonnegative variables\n",
    "@polyvar y[1:dim]\n",
    "@polyvar d[1:dim]\n",
    "\n",
    "z=[x;y;d]\n",
    "\n",
    "f=sum(1.0*d) # the objective polynomial to minimize\n",
    "\n",
    "g=M*y-x # the inequality constraints\n",
    "h=[1.0*y-d.*x;sum(x)-1.0;d[1]-1;d[2]-1;d[3]-1] # the equality constraints\n",
    "\n",
    "k=1 # relaxation order\n",
    "s=3 # sparsity order\n",
    "\n",
    "\n",
    "include(\"../src/InterRelax.jl\")\n",
    "using .InterRelax\n",
    "\n",
    "\n",
    "\n",
    "# get information from the input data f,gi,hj\n",
    "n,m,l,lmon_g,supp_g,coe_g,lmon_h,supp_h,coe_h,lmon_f,supp_f,coe_f,dg,dh=InterRelax.get_info(z,f,g,h,sparse=false);\n",
    "\n",
    "# get an approximate optimal value and an approximate optimal solution of the polynomial optimization problem\n",
    "opt_val,opt_sol=InterRelax.RelaxDense(n,m,l,\n",
    "                                      lmon_g,supp_g,coe_g, # information of the inequality constraints\n",
    "                                      lmon_h,supp_h,coe_h, # information of the equality constraints\n",
    "                                      lmon_f,supp_f,coe_f, # information of the objective polynomial\n",
    "                                      dg,dh,k,s,\n",
    "                                      solver=\"Mosek\", # solver for the semidefinite program\n",
    "                                      comp_opt_sol=true) # to get an approximate optimal solution"
   ]
  },
  {
   "cell_type": "code",
   "execution_count": 2,
   "metadata": {},
   "outputs": [
    {
     "data": {
      "text/plain": [
       "11-element Array{Polynomial{true,Float64},1}:\n",
       " -x₁d₁ + y₁                      \n",
       " -x₂d₂ + y₂                      \n",
       " -x₃d₃ + y₃                      \n",
       " x₁ + x₂ + x₃ - 1.0              \n",
       " d₁ - 1.0                        \n",
       " d₂ - 1.0                        \n",
       " d₃ - 1.0                        \n",
       " d₁ + d₂ + d₃ - 2.999999993934861\n",
       " -w₁² - x₁ + y₃                  \n",
       " -w₂² - x₂ + y₁                  \n",
       " -w₃² - x₃ + y₂                  "
      ]
     },
     "execution_count": 2,
     "metadata": {},
     "output_type": "execute_result"
    }
   ],
   "source": [
    "@polyvar w[1:dim]\n",
    "\n",
    "h=[h;f-opt_val;g-w.^2]#polynomial equalities determining the set of solution "
   ]
  },
  {
   "cell_type": "code",
   "execution_count": 3,
   "metadata": {},
   "outputs": [
    {
     "name": "stderr",
     "output_type": "stream",
     "text": [
      "┌ Info: Precompiling HomotopyContinuation [f213a82b-91d6-5c5d-acf7-10f1c761b327]\n",
      "└ @ Base loading.jl:1273\n",
      "WARNING: could not import Math.sincospi into DoubleFloats\n",
      "WARNING: could not import Math.cispi into DoubleFloats\n"
     ]
    },
    {
     "ename": "MethodError",
     "evalue": "MethodError: no method matching System(::Array{HomotopyContinuation.ModelKit.Operation,1})\nClosest candidates are:\n  System(::Array{#s126,1} where #s126<:HomotopyContinuation.ModelKit.Expression, !Matched::Array{HomotopyContinuation.ModelKit.Variable,1}) at /home/hoanganh/.julia/packages/HomotopyContinuation/mJDHb/src/model_kit/expression.jl:680\n  System(::Array{#s125,1} where #s125<:HomotopyContinuation.ModelKit.Expression, !Matched::Array{HomotopyContinuation.ModelKit.Variable,1}, !Matched::Array{HomotopyContinuation.ModelKit.Variable,1}) at /home/hoanganh/.julia/packages/HomotopyContinuation/mJDHb/src/model_kit/expression.jl:680\n  System(!Matched::Array{HomotopyContinuation.ModelKit.Expression,1}, !Matched::Array{HomotopyContinuation.ModelKit.Variable,1}, !Matched::Array{HomotopyContinuation.ModelKit.Variable,1}) at /home/hoanganh/.julia/packages/HomotopyContinuation/mJDHb/src/model_kit/expression.jl:669",
     "output_type": "error",
     "traceback": [
      "MethodError: no method matching System(::Array{HomotopyContinuation.ModelKit.Operation,1})\nClosest candidates are:\n  System(::Array{#s126,1} where #s126<:HomotopyContinuation.ModelKit.Expression, !Matched::Array{HomotopyContinuation.ModelKit.Variable,1}) at /home/hoanganh/.julia/packages/HomotopyContinuation/mJDHb/src/model_kit/expression.jl:680\n  System(::Array{#s125,1} where #s125<:HomotopyContinuation.ModelKit.Expression, !Matched::Array{HomotopyContinuation.ModelKit.Variable,1}, !Matched::Array{HomotopyContinuation.ModelKit.Variable,1}) at /home/hoanganh/.julia/packages/HomotopyContinuation/mJDHb/src/model_kit/expression.jl:680\n  System(!Matched::Array{HomotopyContinuation.ModelKit.Expression,1}, !Matched::Array{HomotopyContinuation.ModelKit.Variable,1}, !Matched::Array{HomotopyContinuation.ModelKit.Variable,1}) at /home/hoanganh/.julia/packages/HomotopyContinuation/mJDHb/src/model_kit/expression.jl:669",
      "",
      "Stacktrace:",
      " [1] top-level scope at In[3]:16"
     ]
    }
   ],
   "source": [
    "using HomotopyContinuation\n",
    "\n",
    "@var x_new[1:3] y_new[1:3] d_new[1:3] w_new[1:3]\n",
    "\n",
    "h_new=[-x_new[1]*d_new[1] + y_new[1],                \n",
    " -x_new[2]*d_new[2] + y_new[2],                \n",
    " -x_new[3]*d_new[3] + y_new[3],                      \n",
    " x_new[1] + x_new[2] + x_new[3] - 1,            \n",
    " d_new[1] - 1,          \n",
    " d_new[2] - 1,                        \n",
    " d_new[3] - 1,                       \n",
    " d_new[1] + d_new[2] + d_new[3] - 3,\n",
    "-w_new[1]^2 - x_new[1] + y_new[3],\n",
    "-w_new[2]^2 - x_new[2] + y_new[1],\n",
    "-w_new[3]^2 - x_new[3] + y_new[2]]\n",
    "\n",
    "result = solve(System(h_new))"
   ]
  },
  {
   "cell_type": "code",
   "execution_count": 47,
   "metadata": {},
   "outputs": [],
   "source": [
    "#=k=2 # relaxation order\n",
    "s=500 # sparsity order\n",
    "\n",
    "a=zeros(Float64,9)\n",
    "# get information from the input data f,gi,hj\n",
    "n,m,l,lmon_g,supp_g,coe_g,lmon_h,supp_h,coe_h,lmon_f,supp_f,coe_f,dg,dh=InterRelax.get_info(z,sum((z-a).^2),g,h,sparse=false);\n",
    "\n",
    "# get an approximate optimal value and an approximate optimal solution of the polynomial optimization problem\n",
    "val,opt_sol=InterRelax.RelaxDense(n,m,l,\n",
    "                                lmon_g,supp_g,coe_g, # information of the inequality constraints\n",
    "                                  lmon_h,supp_h,coe_h, # information of the equality constraints\n",
    "                                  lmon_f,supp_f,coe_f, # information of the objective polynomial\n",
    "                                  dg,dh,k,s,\n",
    "                                  solver=\"Mosek\", # solver for the semidefinite program\n",
    "                                  comp_opt_sol=true) # to get an approximate optimal solution\n",
    "h=[h;sum((a-z).^2)-val]=#"
   ]
  },
  {
   "cell_type": "code",
   "execution_count": null,
   "metadata": {},
   "outputs": [],
   "source": []
  },
  {
   "cell_type": "code",
   "execution_count": 48,
   "metadata": {},
   "outputs": [],
   "source": [
    "#=a_vec=Vector{Vector{Float64}}(undef,9)\n",
    "val_vec=Vector{Float64}(undef,9)\n",
    "\n",
    "for j=1:9\n",
    "    println(\"Sphere \", j)\n",
    "    a_vec[j]=a\n",
    "    a_vec[j][j]=j\n",
    "    # get information from the input data f,gi,hj\n",
    "    n,m,l,lmon_g,supp_g,coe_g,lmon_h,supp_h,coe_h,lmon_f,supp_f,coe_f,dg,dh=InterRelax.get_info(z,sum((z-a_vec[j]).^2),g,h,sparse=false);\n",
    "\n",
    "    # get an approximate optimal value and an approximate optimal solution of the polynomial optimization problem\n",
    "    val_vec[j],opt_sol=InterRelax.RelaxDense(n,m,l,\n",
    "                                          lmon_g,supp_g,coe_g, # information of the inequality constraints\n",
    "                                      lmon_h,supp_h,coe_h, # information of the equality constraints\n",
    "                                      lmon_f,supp_f,coe_f, # information of the objective polynomial\n",
    "                                      dg,dh,k,s,\n",
    "                                      solver=\"Mosek\", # solver for the semidefinite program\n",
    "                                      comp_opt_sol=true) # to get an approximate optimal solution\n",
    "    h=[h;sum((a_vec[j]-z).^2)-val_vec[j]]\n",
    "    println()\n",
    "    println(\"--------------\")\n",
    "    println()\n",
    "end=#"
   ]
  },
  {
   "cell_type": "code",
   "execution_count": null,
   "metadata": {},
   "outputs": [],
   "source": []
  },
  {
   "cell_type": "code",
   "execution_count": null,
   "metadata": {},
   "outputs": [],
   "source": []
  }
 ],
 "metadata": {
  "kernelspec": {
   "display_name": "Julia 1.3.0",
   "language": "julia",
   "name": "julia-1.3"
  },
  "language_info": {
   "file_extension": ".jl",
   "mimetype": "application/julia",
   "name": "julia",
   "version": "1.3.0"
  }
 },
 "nbformat": 4,
 "nbformat_minor": 2
}
