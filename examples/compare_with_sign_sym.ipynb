{
 "cells": [
  {
   "cell_type": "code",
   "execution_count": 1,
   "metadata": {},
   "outputs": [
    {
     "name": "stdout",
     "output_type": "stream",
     "text": [
      "***Problem setting***\n",
      "Number of variables: n=100\n",
      "Number of inequality constraints: m=1\n",
      "Number of equality constraints: l=0\n"
     ]
    }
   ],
   "source": [
    "using DynamicPolynomials\n",
    "\n",
    "println(\"***Problem setting***\")\n",
    "\n",
    "n=100\n",
    "\n",
    "println(\"Number of variables: n=\",n)\n",
    "\n",
    "@polyvar x[1:n]# variables\n",
    "\n",
    "#f=sum((-1)^i*x[i]*x[i+1]*x[i+2] for i=1:n-2)+(-1)^(n-1)*x[n-1]*x[n]*x[1]+(-1)^n*x[n]*x[1]*x[2]+0.0\n",
    "\n",
    "a=ones(Float64,n)/n\n",
    "\n",
    "f=-sum((x-a).^2)\n",
    "\n",
    "g=[1.0-sum(x)]#; n-sum(x)]\n",
    "\n",
    "m=length(g)\n",
    "println(\"Number of inequality constraints: m=\",m)\n",
    "\n",
    "l=0\n",
    "\n",
    "h=Vector{Polynomial{true,Float64}}(undef,l)\n",
    "\n",
    "l=length(h)\n",
    "println(\"Number of equality constraints: l=\",l)"
   ]
  },
  {
   "cell_type": "code",
   "execution_count": 10,
   "metadata": {
    "scrolled": true
   },
   "outputs": [
    {
     "name": "stdout",
     "output_type": "stream",
     "text": [
      "Relaxation order: k=0\n",
      "Sparsity order: s=5\n",
      "**Interrupted relaxation based on Polya's Positivstellensatz**\n",
      "Relaxation order: k=0\n",
      "Factor width upper bound: s=5\n",
      "Maximal matrix size:5\n",
      "Problem\n",
      "  Name                   :                 \n",
      "  Objective sense        : max             \n",
      "  Type                   : CONIC (conic optimization problem)\n",
      "  Constraints            : 5151            \n",
      "  Cones                  : 0               \n",
      "  Scalar variables       : 5152            \n",
      "  Matrix variables       : 97              \n",
      "  Integer variables      : 0               \n",
      "\n",
      "Optimizer started.\n",
      "Presolve started.\n",
      "Linear dependency checker started.\n",
      "Linear dependency checker terminated.\n",
      "Eliminator started.\n",
      "Freed constraints in eliminator : 0\n",
      "Eliminator terminated.\n",
      "Eliminator - tries                  : 1                 time                   : 0.00            \n",
      "Lin. dep.  - tries                  : 1                 time                   : 0.00            \n",
      "Lin. dep.  - number                 : 0               \n",
      "Presolve terminated. Time: 0.01    \n",
      "Problem\n",
      "  Name                   :                 \n",
      "  Objective sense        : max             \n",
      "  Type                   : CONIC (conic optimization problem)\n",
      "  Constraints            : 5151            \n",
      "  Cones                  : 0               \n",
      "  Scalar variables       : 5152            \n",
      "  Matrix variables       : 97              \n",
      "  Integer variables      : 0               \n",
      "\n",
      "Optimizer  - threads                : 4               \n",
      "Optimizer  - solved problem         : the primal      \n",
      "Optimizer  - Constraints            : 591\n",
      "Optimizer  - Cones                  : 1\n",
      "Optimizer  - Scalar variables       : 593               conic                  : 2               \n",
      "Optimizer  - Semi-definite variables: 97                scalarized             : 1455            \n",
      "Factor     - setup time             : 0.00              dense det. time        : 0.00            \n",
      "Factor     - ML order time          : 0.00              GP order time          : 0.00            \n",
      "Factor     - nonzeros before factor : 1.33e+04          after factor           : 3.07e+04        \n",
      "Factor     - dense dim.             : 0                 flops                  : 1.96e+06        \n",
      "ITE PFEAS    DFEAS    GFEAS    PRSTATUS   POBJ              DOBJ              MU       TIME  \n",
      "0   6.0e+00  1.0e+00  1.0e+00  0.00e+00   0.000000000e+00   0.000000000e+00   1.0e+00  0.01  \n",
      "1   4.2e+00  7.0e-01  4.8e+00  -8.27e+00  -7.817562210e+00  -5.213239510e+01  7.0e-01  0.02  \n",
      "2   2.8e+00  4.6e-01  1.8e+01  -6.20e+00  -2.652711563e+02  -1.722363994e+03  4.6e-01  0.03  \n",
      "3   3.9e-01  6.6e-02  1.9e+00  -3.67e+00  -1.045085001e+02  -9.763475284e+02  6.6e-02  0.03  \n",
      "4   5.0e-02  8.3e-03  5.3e-02  8.42e-01   -5.629775137e+01  -9.730854537e+01  8.3e-03  0.04  \n",
      "5   2.5e-02  4.2e-03  3.9e-03  2.88e+00   -2.017092627e+01  -2.097793749e+01  4.2e-03  0.04  \n",
      "6   1.6e-02  2.7e-03  2.5e-03  9.21e+00   -2.586736293e+00  -3.442074488e+00  2.7e-03  0.05  \n",
      "7   3.3e-03  5.5e-04  8.5e-05  2.02e+00   -1.261460904e+00  -1.285289222e+00  5.5e-04  0.06  \n",
      "8   9.7e-05  1.6e-05  2.3e-07  1.54e+00   -9.960443419e-01  -9.962267817e-01  1.6e-05  0.06  \n",
      "9   1.7e-10  2.8e-11  4.9e-16  1.01e+00   -9.900000105e-01  -9.900000107e-01  2.8e-11  0.07  \n",
      "Optimizer terminated. Time: 0.07    \n",
      "\n",
      "Termination status = OPTIMAL\n",
      "Primal status = FEASIBLE_POINT\n",
      "Optimal value = -0.9900000104697688\n",
      " 27.579246 seconds (43.12 M allocations: 32.934 GiB, 19.25% gc time)\n"
     ]
    },
    {
     "name": "stderr",
     "output_type": "stream",
     "text": [
      "WARNING: replacing module InterRelax.\n"
     ]
    },
    {
     "data": {
      "text/plain": [
       "(-0.9900000104697688, Float64[])"
      ]
     },
     "execution_count": 10,
     "metadata": {},
     "output_type": "execute_result"
    }
   ],
   "source": [
    "include(\"../src/InterRelax.jl\")\n",
    "using .InterRelax\n",
    "\n",
    "k=0\n",
    "s=5\n",
    "\n",
    "n,m,l,lmon_g,supp_g,coe_g,lmon_h,supp_h,coe_h,lmon_f,supp_f,coe_f,dg,dh=InterRelax.get_info(x,f,g,h,sparse=false);\n",
    "\n",
    "println(\"Relaxation order: k=\",k)\n",
    "println(\"Sparsity order: s=\",s)\n",
    "\n",
    "@time opt_val1=InterRelax.RelaxDense(n,m,l,lmon_g,supp_g,coe_g,lmon_h,supp_h,coe_h,\n",
    "    lmon_f,supp_f,coe_f,dg,dh,k,s,solver=\"Mosek\")"
   ]
  },
  {
   "cell_type": "code",
   "execution_count": 11,
   "metadata": {},
   "outputs": [
    {
     "name": "stdout",
     "output_type": "stream",
     "text": [
      "***************************TSSOS***************************\n",
      "TSSOS is launching...\n",
      "Starting to compute the block structure...\n",
      "------------------------------------------------------\n",
      "The sizes of PSD blocks:\n",
      "[101, 1]\n",
      "[1, 5050]\n",
      "------------------------------------------------------\n",
      "Obtained the block structure in 34.87081917 seconds. The maximal size of blocks is 101.\n",
      "Assembling the SDP...\n",
      "There are 5151 affine constraints.\n",
      "SDP assembling time: 0.072797523 seconds.\n",
      "Solving the SDP...\n",
      "Problem\n",
      "  Name                   :                 \n",
      "  Objective sense        : max             \n",
      "  Type                   : CONIC (conic optimization problem)\n",
      "  Constraints            : 5151            \n",
      "  Cones                  : 0               \n",
      "  Scalar variables       : 5152            \n",
      "  Matrix variables       : 1               \n",
      "  Integer variables      : 0               \n",
      "\n",
      "Optimizer started.\n",
      "Presolve started.\n",
      "Linear dependency checker started.\n",
      "Linear dependency checker terminated.\n",
      "Eliminator started.\n",
      "Freed constraints in eliminator : 0\n",
      "Eliminator terminated.\n",
      "Eliminator - tries                  : 1                 time                   : 0.00            \n",
      "Lin. dep.  - tries                  : 1                 time                   : 0.00            \n",
      "Lin. dep.  - number                 : 0               \n",
      "Presolve terminated. Time: 0.00    \n",
      "Problem\n",
      "  Name                   :                 \n",
      "  Objective sense        : max             \n",
      "  Type                   : CONIC (conic optimization problem)\n",
      "  Constraints            : 5151            \n",
      "  Cones                  : 0               \n",
      "  Scalar variables       : 5152            \n",
      "  Matrix variables       : 1               \n",
      "  Integer variables      : 0               \n",
      "\n",
      "Optimizer  - threads                : 4               \n",
      "Optimizer  - solved problem         : the primal      \n",
      "Optimizer  - Constraints            : 5151\n",
      "Optimizer  - Cones                  : 1\n",
      "Optimizer  - Scalar variables       : 5153              conic                  : 2               \n",
      "Optimizer  - Semi-definite variables: 1                 scalarized             : 5151            \n",
      "Factor     - setup time             : 2.26              dense det. time        : 0.00            \n",
      "Factor     - ML order time          : 1.49              GP order time          : 0.00            \n",
      "Factor     - nonzeros before factor : 1.33e+07          after factor           : 1.33e+07        \n",
      "Factor     - dense dim.             : 0                 flops                  : 4.57e+10        \n",
      "ITE PFEAS    DFEAS    GFEAS    PRSTATUS   POBJ              DOBJ              MU       TIME  \n",
      "0   2.0e+00  1.0e+00  1.0e+00  0.00e+00   0.000000000e+00   0.000000000e+00   1.0e+00  2.28  \n",
      "1   5.7e-01  2.9e-01  3.3e+00  -1.93e+00  -4.555106758e+01  -1.765213026e+02  2.9e-01  3.85  \n",
      "2   3.5e-02  1.8e-02  1.7e-01  -2.31e+00  -4.214425509e+01  -1.378435269e+02  1.8e-02  5.11  \n",
      "3   5.0e-03  2.5e-03  1.5e-03  1.18e+00   -1.168872441e+01  -1.203749834e+01  2.5e-03  6.59  \n",
      "4   1.2e-03  6.0e-04  2.7e-04  3.66e+00   -1.861568490e+00  -2.052249664e+00  6.0e-04  7.87  \n",
      "5   4.0e-05  2.0e-05  1.3e-06  1.95e+00   -1.008760420e+00  -1.012548407e+00  2.0e-05  9.15  \n",
      "6   1.4e-09  3.3e-10  2.4e-13  1.03e+00   -9.900002899e-01  -9.900008133e-01  3.3e-10  10.46 \n",
      "7   7.2e-12  4.4e-13  7.0e-21  1.00e+00   -9.900000000e-01  -9.900000000e-01  3.4e-15  11.97 \n",
      "Optimizer terminated. Time: 11.98   \n",
      "\n",
      "SDP solving time: 12.004762218 seconds.\n",
      "optimum = -0.9899999999974991\n",
      " 47.128117 seconds (214.16 M allocations: 38.215 GiB, 9.04% gc time)\n"
     ]
    }
   ],
   "source": [
    "using TSSOS\n",
    "\n",
    "k=2\n",
    "pop=[[f(x=>x.^2)];[g[j](x=>x.^2) for j in 1:m]]#;[h[j](x=>x.^2) for j in 1:l]]\n",
    "@time begin\n",
    "    opt,sol,data=TSSOS.tssos_first(pop,x,k,numeq=l,TS=\"block\",solver=\"Mosek\");\n",
    "    #opt,sol,data =TSSOS.tssos_higher!(data, TS=\"block\")\n",
    "end;"
   ]
  },
  {
   "cell_type": "code",
   "execution_count": null,
   "metadata": {},
   "outputs": [],
   "source": []
  },
  {
   "cell_type": "code",
   "execution_count": null,
   "metadata": {},
   "outputs": [],
   "source": []
  }
 ],
 "metadata": {
  "kernelspec": {
   "display_name": "Julia 1.3.0",
   "language": "julia",
   "name": "julia-1.3"
  },
  "language_info": {
   "file_extension": ".jl",
   "mimetype": "application/julia",
   "name": "julia",
   "version": "1.3.0"
  }
 },
 "nbformat": 4,
 "nbformat_minor": 2
}
