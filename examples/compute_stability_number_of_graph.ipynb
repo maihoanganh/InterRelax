{
 "cells": [
  {
   "cell_type": "code",
   "execution_count": 24,
   "metadata": {},
   "outputs": [
    {
     "name": "stdout",
     "output_type": "stream",
     "text": [
      "***Problem setting***\n",
      "Number of variables: n=23\n",
      "Number of inequality constraints: m=0\n",
      "Number of equality constraints: l=1\n"
     ]
    }
   ],
   "source": [
    "using DynamicPolynomials, SparseArrays, MatrixMarket\n",
    "\n",
    "println(\"***Problem setting***\")\n",
    "\n",
    "data=\"/home/hoanganh/Desktop/math-topics/InterruptedRelax/codes/dataPOP2\" # path of data \n",
    "A = MatrixMarket.mmread(data*\"/GD02_a.mtx\")\n",
    "\n",
    "n=size(A,1)\n",
    "for i in 1:n\n",
    "    A[i,i]=1\n",
    "end\n",
    "@polyvar x[1:n]# variables\n",
    "\n",
    "println(\"Number of variables: n=\",n)\n",
    "\n",
    "f=sum(A[i,j]*x[i]*x[j] for i=1:n for j=1:n)*1.0\n",
    "\n",
    "            \n",
    "g=Vector{Polynomial{true,Float64}}([])\n",
    "#type of coefficients of each polynomial must be float\n",
    "\n",
    "m=length(g)\n",
    "println(\"Number of inequality constraints: m=\",m)        \n",
    "\n",
    "# unit sphere constraint\n",
    "h=[1.0-sum(x)] #type of coefficients of each polynomial must be float\n",
    "\n",
    "l=length(h)\n",
    "\n",
    "println(\"Number of equality constraints: l=\",l)"
   ]
  },
  {
   "cell_type": "code",
   "execution_count": 26,
   "metadata": {},
   "outputs": [
    {
     "name": "stdout",
     "output_type": "stream",
     "text": [
      "**Interrupted relaxation based on Putinar-Vasilescu's Positivstellensatz**\n",
      "Relaxation order: k=0\n",
      "Sparsity order: s=25\n",
      "Maximal matrix size:24\n",
      "Problem\n",
      "  Name                   :                 \n",
      "  Objective sense        : max             \n",
      "  Type                   : CONIC (conic optimization problem)\n",
      "  Constraints            : 300             \n",
      "  Cones                  : 0               \n",
      "  Scalar variables       : 301             \n",
      "  Matrix variables       : 1               \n",
      "  Integer variables      : 0               \n",
      "\n",
      "Optimizer started.\n",
      "Presolve started.\n",
      "Linear dependency checker started.\n",
      "Linear dependency checker terminated.\n",
      "Eliminator started.\n",
      "Freed constraints in eliminator : 0\n",
      "Eliminator terminated.\n",
      "Eliminator - tries                  : 1                 time                   : 0.00            \n",
      "Lin. dep.  - tries                  : 1                 time                   : 0.00            \n",
      "Lin. dep.  - number                 : 0               \n",
      "Presolve terminated. Time: 0.00    \n",
      "Problem\n",
      "  Name                   :                 \n",
      "  Objective sense        : max             \n",
      "  Type                   : CONIC (conic optimization problem)\n",
      "  Constraints            : 300             \n",
      "  Cones                  : 0               \n",
      "  Scalar variables       : 301             \n",
      "  Matrix variables       : 1               \n",
      "  Integer variables      : 0               \n",
      "\n",
      "Optimizer  - threads                : 4               \n",
      "Optimizer  - solved problem         : the primal      \n",
      "Optimizer  - Constraints            : 300\n",
      "Optimizer  - Cones                  : 1\n",
      "Optimizer  - Scalar variables       : 302               conic                  : 26              \n",
      "Optimizer  - Semi-definite variables: 1                 scalarized             : 300             \n",
      "Factor     - setup time             : 0.00              dense det. time        : 0.00            \n",
      "Factor     - ML order time          : 0.00              GP order time          : 0.00            \n",
      "Factor     - nonzeros before factor : 4.54e+04          after factor           : 4.54e+04        \n",
      "Factor     - dense dim.             : 2                 flops                  : 9.47e+06        \n",
      "ITE PFEAS    DFEAS    GFEAS    PRSTATUS   POBJ              DOBJ              MU       TIME  \n",
      "0   2.0e+00  1.0e+00  1.0e+00  0.00e+00   0.000000000e+00   0.000000000e+00   1.0e+00  0.00  \n",
      "1   9.7e-01  4.9e-01  4.9e-01  -3.83e-01  -1.420068731e+00  -1.703789742e+00  4.9e-01  0.00  \n",
      "2   1.2e-01  5.9e-02  1.5e-02  1.58e-01   -2.210685384e+00  -2.168764615e+00  5.9e-02  0.01  \n",
      "3   2.5e-02  1.2e-02  5.4e-04  2.54e+00   -2.395382881e-01  -2.329308994e-01  1.2e-02  0.01  \n",
      "4   3.1e-03  1.6e-03  3.0e-05  2.84e+00   6.291973394e-02   6.297852401e-02   1.6e-03  0.01  \n",
      "5   1.1e-03  5.6e-04  5.4e-06  1.22e+00   7.379561912e-02   7.384465548e-02   5.6e-04  0.01  \n",
      "6   1.9e-04  9.4e-05  2.7e-07  1.05e+00   7.624071802e-02   7.625544984e-02   9.4e-05  0.01  \n",
      "7   1.1e-05  5.5e-06  3.3e-09  1.01e+00   7.688508708e-02   7.688609436e-02   5.5e-06  0.02  \n",
      "8   4.4e-07  2.2e-07  2.4e-11  1.00e+00   7.692163993e-02   7.692168060e-02   2.2e-07  0.02  \n",
      "9   1.6e-08  7.8e-09  1.6e-13  1.00e+00   7.692302328e-02   7.692302475e-02   7.8e-09  0.02  \n",
      "Optimizer terminated. Time: 0.02    \n",
      "\n",
      "Termination status = OPTIMAL\n",
      "Optimal value = 0.07692302328134365\n",
      "  0.988742 seconds (2.16 M allocations: 140.158 MiB, 2.85% gc time)\n"
     ]
    },
    {
     "name": "stderr",
     "output_type": "stream",
     "text": [
      "WARNING: replacing module InterRelax.\n"
     ]
    },
    {
     "data": {
      "text/plain": [
       "(0.07692302328134365, Float64[])"
      ]
     },
     "execution_count": 26,
     "metadata": {},
     "output_type": "execute_result"
    }
   ],
   "source": [
    "include(\"../src/InterRelax.jl\")\n",
    "using .InterRelax\n",
    "\n",
    "n,m,l,lmon_g,supp_g,coe_g,lmon_h,supp_h,coe_h,lmon_f,supp_f,coe_f,dg,dh=InterRelax.get_info(x,f,g,h,sparse=false);\n",
    "\n",
    "\n",
    "k=0\n",
    "s=25\n",
    "\n",
    "@time opt_val1,opt_sol=InterRelax.RelaxDense(n,m,l,lmon_g,supp_g,coe_g,lmon_h,supp_h,coe_h,\n",
    "    lmon_f,supp_f,coe_f,dg,dh,k,s,solver=\"Mosek\",comp_opt_sol=false)"
   ]
  },
  {
   "cell_type": "code",
   "execution_count": 27,
   "metadata": {},
   "outputs": [
    {
     "data": {
      "text/plain": [
       "13.000009065459246"
      ]
     },
     "execution_count": 27,
     "metadata": {},
     "output_type": "execute_result"
    }
   ],
   "source": [
    "1/opt_val1"
   ]
  },
  {
   "cell_type": "code",
   "execution_count": null,
   "metadata": {},
   "outputs": [],
   "source": []
  },
  {
   "cell_type": "code",
   "execution_count": 28,
   "metadata": {
    "scrolled": true
   },
   "outputs": [
    {
     "name": "stdout",
     "output_type": "stream",
     "text": [
      "**Semidefinite relaxation based on Putinar's Positivstellensatz**\n",
      "Relaxation order: k=2\n",
      "Maximal matrix size: 300\n",
      "************************TSSOS************************\n",
      "TSSOS is launching...\n",
      "------------------------------------------------------\n",
      "The clique sizes of varibles:\n",
      "[23]\n",
      "[1]\n",
      "------------------------------------------------------\n",
      "Assembling the SDP...\n",
      "There are 17550 affine constraints.\n",
      "SDP assembling time: 0.059431515 seconds.\n",
      "Solving the SDP...\n",
      "Problem\n",
      "  Name                   :                 \n",
      "  Objective sense        : max             \n",
      "  Type                   : CONIC (conic optimization problem)\n",
      "  Constraints            : 17550           \n",
      "  Cones                  : 0               \n",
      "  Scalar variables       : 301             \n",
      "  Matrix variables       : 24              \n",
      "  Integer variables      : 0               \n",
      "\n",
      "Optimizer started.\n",
      "Presolve started.\n",
      "Linear dependency checker started.\n",
      "Linear dependency checker terminated.\n",
      "Eliminator started.\n",
      "Freed constraints in eliminator : 0\n",
      "Eliminator terminated.\n",
      "Eliminator - tries                  : 1                 time                   : 0.00            \n",
      "Lin. dep.  - tries                  : 1                 time                   : 0.00            \n",
      "Lin. dep.  - number                 : 0               \n",
      "Presolve terminated. Time: 0.00    \n",
      "Problem\n",
      "  Name                   :                 \n",
      "  Objective sense        : max             \n",
      "  Type                   : CONIC (conic optimization problem)\n",
      "  Constraints            : 17550           \n",
      "  Cones                  : 0               \n",
      "  Scalar variables       : 301             \n",
      "  Matrix variables       : 24              \n",
      "  Integer variables      : 0               \n",
      "\n",
      "Optimizer  - threads                : 4               \n",
      "Optimizer  - solved problem         : the primal      \n",
      "Optimizer  - Constraints            : 17550\n",
      "Optimizer  - Cones                  : 1\n",
      "Optimizer  - Scalar variables       : 302               conic                  : 302             \n",
      "Optimizer  - Semi-definite variables: 24                scalarized             : 52050           \n",
      "Factor     - setup time             : 24.37             dense det. time        : 0.00            \n",
      "Factor     - ML order time          : 18.00             GP order time          : 0.00            \n",
      "Factor     - nonzeros before factor : 1.54e+08          after factor           : 1.54e+08        \n",
      "Factor     - dense dim.             : 2                 flops                  : 1.81e+12        \n",
      "ITE PFEAS    DFEAS    GFEAS    PRSTATUS   POBJ              DOBJ              MU       TIME  \n",
      "0   1.0e+00  1.0e+00  1.0e+00  0.00e+00   0.000000000e+00   0.000000000e+00   1.0e+00  24.41 \n",
      "1   8.3e-01  8.3e-01  5.6e-01  1.63e-01   -2.302307568e-01  -9.422890567e-03  8.3e-01  47.92 \n",
      "2   2.5e-01  2.5e-01  1.1e-01  1.10e-01   -9.664449573e-01  -9.050573116e-01  2.5e-01  72.55 \n",
      "3   2.6e-02  2.6e-02  2.2e-03  1.17e+00   -2.499200302e-01  -2.426751086e-01  2.6e-02  100.14\n",
      "4   2.2e-03  2.2e-03  4.2e-05  1.17e+00   2.870072012e-02   2.946885850e-02   2.2e-03  130.61\n",
      "5   2.6e-04  2.6e-04  2.3e-06  8.41e-01   6.794407319e-02   6.801915691e-02   2.6e-04  161.96\n",
      "6   9.9e-05  9.9e-05  5.7e-07  6.86e-01   7.366624727e-02   7.369681317e-02   9.9e-05  190.17\n",
      "7   1.5e-05  1.5e-05  3.6e-08  7.91e-01   7.646058925e-02   7.646498217e-02   1.5e-05  217.49\n",
      "8   6.5e-06  6.5e-06  1.1e-08  9.46e-01   7.665573165e-02   7.665747533e-02   6.5e-06  243.88\n",
      "9   9.0e-07  9.0e-07  6.6e-10  9.53e-01   7.680403787e-02   7.680418147e-02   9.0e-07  270.25\n",
      "10  1.3e-07  1.3e-07  3.8e-11  9.74e-01   7.681905424e-02   7.681907485e-02   1.3e-07  298.48\n",
      "11  1.5e-09  1.4e-09  2.8e-14  9.98e-01   7.682243936e-02   7.682244008e-02   1.4e-09  326.93\n",
      "Optimizer terminated. Time: 326.97  \n",
      "\n",
      "SDP solving time: 327.100476616 seconds.\n",
      "optimum = 0.0768224393560183\n",
      "327.185895 seconds (2.56 M allocations: 241.183 MiB, 0.01% gc time)\n"
     ]
    },
    {
     "name": "stderr",
     "output_type": "stream",
     "text": [
      "WARNING: replacing module InterRelax.\n"
     ]
    }
   ],
   "source": [
    "using SparseArrays\n",
    "\n",
    "include(\"../src/InterRelax.jl\")\n",
    "using .InterRelax\n",
    "\n",
    "n,m,l,lmon_g,supp_g,coe_g,lmon_h,supp_h,coe_h,lmon_f,supp_f,coe_f,dg,dh=InterRelax.get_info(x,f,g,h,sparse=true);\n",
    "\n",
    "\n",
    "k=2\n",
    "\n",
    "opt=InterRelax.TSSOS_Dense(n,m,l,lmon_g,supp_g,coe_g,lmon_h,supp_h,coe_h,lmon_f,supp_f,coe_f,k);"
   ]
  },
  {
   "cell_type": "code",
   "execution_count": 29,
   "metadata": {},
   "outputs": [
    {
     "data": {
      "text/plain": [
       "13.017030029021846"
      ]
     },
     "execution_count": 29,
     "metadata": {},
     "output_type": "execute_result"
    }
   ],
   "source": [
    "1/opt"
   ]
  },
  {
   "cell_type": "code",
   "execution_count": 30,
   "metadata": {
    "scrolled": true
   },
   "outputs": [
    {
     "name": "stdout",
     "output_type": "stream",
     "text": [
      "Maximal matrix size: 300\n",
      "************************TSSOS************************\n",
      "TSSOS is launching...\n",
      "------------------------------------------------------\n",
      "The clique sizes of varibles:\n",
      "[23]\n",
      "[1]\n",
      "------------------------------------------------------\n",
      "Assembling the SDP...\n",
      "There are 17550 affine constraints.\n",
      "SDP assembling time: 0.062577589 seconds.\n",
      "Solving the SDP...\n",
      "Problem\n",
      "  Name                   :                 \n",
      "  Objective sense        : max             \n",
      "  Type                   : CONIC (conic optimization problem)\n",
      "  Constraints            : 17550           \n",
      "  Cones                  : 0               \n",
      "  Scalar variables       : 301             \n",
      "  Matrix variables       : 24              \n",
      "  Integer variables      : 0               \n",
      "\n",
      "Optimizer started.\n",
      "Presolve started.\n",
      "Linear dependency checker started.\n",
      "Linear dependency checker terminated.\n",
      "Eliminator started.\n",
      "Freed constraints in eliminator : 0\n",
      "Eliminator terminated.\n",
      "Eliminator - tries                  : 1                 time                   : 0.00            \n",
      "Lin. dep.  - tries                  : 1                 time                   : 0.00            \n",
      "Lin. dep.  - number                 : 0               \n",
      "Presolve terminated. Time: 0.00    \n",
      "Problem\n",
      "  Name                   :                 \n",
      "  Objective sense        : max             \n",
      "  Type                   : CONIC (conic optimization problem)\n",
      "  Constraints            : 17550           \n",
      "  Cones                  : 0               \n",
      "  Scalar variables       : 301             \n",
      "  Matrix variables       : 24              \n",
      "  Integer variables      : 0               \n",
      "\n",
      "Optimizer  - threads                : 4               \n",
      "Optimizer  - solved problem         : the primal      \n",
      "Optimizer  - Constraints            : 17550\n",
      "Optimizer  - Cones                  : 1\n",
      "Optimizer  - Scalar variables       : 302               conic                  : 302             \n",
      "Optimizer  - Semi-definite variables: 24                scalarized             : 52050           \n",
      "Factor     - setup time             : 32.68             dense det. time        : 0.00            \n",
      "Factor     - ML order time          : 25.58             GP order time          : 0.00            \n",
      "Factor     - nonzeros before factor : 1.54e+08          after factor           : 1.54e+08        \n",
      "Factor     - dense dim.             : 2                 flops                  : 1.81e+12        \n",
      "ITE PFEAS    DFEAS    GFEAS    PRSTATUS   POBJ              DOBJ              MU       TIME  \n",
      "0   1.0e+00  1.0e+00  1.0e+00  0.00e+00   0.000000000e+00   0.000000000e+00   1.0e+00  32.73 \n",
      "1   8.3e-01  8.3e-01  5.6e-01  1.63e-01   -2.302307568e-01  -9.422890567e-03  8.3e-01  57.37 \n",
      "2   2.5e-01  2.5e-01  1.1e-01  1.10e-01   -9.664449573e-01  -9.050573116e-01  2.5e-01  83.15 \n",
      "3   2.6e-02  2.6e-02  2.2e-03  1.17e+00   -2.499200302e-01  -2.426751086e-01  2.6e-02  111.55\n",
      "4   2.2e-03  2.2e-03  4.2e-05  1.17e+00   2.870072012e-02   2.946885850e-02   2.2e-03  140.04\n",
      "5   2.6e-04  2.6e-04  2.3e-06  8.41e-01   6.794407319e-02   6.801915691e-02   2.6e-04  168.53\n"
     ]
    },
    {
     "name": "stderr",
     "output_type": "stream",
     "text": [
      "WARNING: replacing module InterRelax.\n",
      "WARNING: Force throwing a SIGINT\n"
     ]
    },
    {
     "ename": "InterruptException",
     "evalue": "InterruptException:",
     "output_type": "error",
     "traceback": [
      "InterruptException:",
      ""
     ]
    }
   ],
   "source": [
    "using SparseArrays\n",
    "\n",
    "include(\"../src/InterRelax.jl\")\n",
    "using .InterRelax\n",
    "\n",
    "n,m,l,lmon_g,supp_g,coe_g,lmon_h,supp_h,coe_h,lmon_f,supp_f,coe_f,dg,dh=InterRelax.get_info(x,f,g,h,sparse=true);\n",
    "\n",
    "using TSSOS\n",
    "\n",
    "k=2\n",
    "\n",
    "println(\"Maximal matrix size: \",binomial(n+k,k))\n",
    "\n",
    "vars,pop=InterRelax.get_POP(n,m,l,lmon_g,supp_g,coe_g,lmon_h,supp_h,coe_h,lmon_f,supp_f,coe_f)\n",
    "\n",
    "@time opt,sol,data=TSSOS.cs_tssos_first(pop,vars,k,numeq=l,CS=false,TS=false,solver=\"Mosek\");"
   ]
  },
  {
   "cell_type": "code",
   "execution_count": 31,
   "metadata": {},
   "outputs": [
    {
     "data": {
      "text/plain": [
       "13.017030029021846"
      ]
     },
     "execution_count": 31,
     "metadata": {},
     "output_type": "execute_result"
    }
   ],
   "source": [
    "1/opt"
   ]
  },
  {
   "cell_type": "code",
   "execution_count": null,
   "metadata": {},
   "outputs": [],
   "source": []
  }
 ],
 "metadata": {
  "kernelspec": {
   "display_name": "Julia 1.3.0",
   "language": "julia",
   "name": "julia-1.3"
  },
  "language_info": {
   "file_extension": ".jl",
   "mimetype": "application/julia",
   "name": "julia",
   "version": "1.3.0"
  }
 },
 "nbformat": 4,
 "nbformat_minor": 2
}
