{
 "cells": [
  {
   "cell_type": "code",
   "execution_count": 32,
   "metadata": {},
   "outputs": [
    {
     "name": "stdout",
     "output_type": "stream",
     "text": [
      "***Problem setting***\n",
      "Number of variables: n=120\n",
      "Number of inequality constraints: m=0\n",
      "Number of equality constraints: l=1\n"
     ]
    }
   ],
   "source": [
    "using DynamicPolynomials, SparseArrays, MatrixMarket\n",
    "\n",
    "println(\"***Problem setting***\")\n",
    "\n",
    "data=\"/home/hoanganh/Desktop/math-topics/InterruptedRelax/codes/dataPOP2\" # path of data \n",
    "A = MatrixMarket.mmread(data*\"/johnson16-2-4.mtx\")\n",
    "\n",
    "n=size(A,1)\n",
    "for i in 1:n\n",
    "    A[i,i]=1\n",
    "end\n",
    "@polyvar x[1:n]# variables\n",
    "\n",
    "println(\"Number of variables: n=\",n)\n",
    "\n",
    "f=sum(A[i,j]*x[i]*x[j] for i=1:n for j=1:n)*1.0\n",
    "\n",
    "            \n",
    "g=Vector{Polynomial{true,Float64}}([])\n",
    "#type of coefficients of each polynomial must be float\n",
    "\n",
    "m=length(g)\n",
    "println(\"Number of inequality constraints: m=\",m)        \n",
    "\n",
    "# unit sphere constraint\n",
    "h=[1.0-sum(x)] #type of coefficients of each polynomial must be float\n",
    "\n",
    "l=length(h)\n",
    "\n",
    "println(\"Number of equality constraints: l=\",l)"
   ]
  },
  {
   "cell_type": "code",
   "execution_count": 35,
   "metadata": {},
   "outputs": [
    {
     "name": "stdout",
     "output_type": "stream",
     "text": [
      "**Interrupted relaxation based on Handelman's Positivstellensatz**\n",
      "Relaxation order: k=2\n",
      "Sparsity order: s=122\n"
     ]
    },
    {
     "name": "stderr",
     "output_type": "stream",
     "text": [
      "WARNING: replacing module InterRelax.\n"
     ]
    },
    {
     "name": "stdout",
     "output_type": "stream",
     "text": [
      "Maximal matrix size:121\n",
      "Problem\n",
      "  Name                   :                 \n",
      "  Objective sense        : max             \n",
      "  Type                   : CONIC (conic optimization problem)\n",
      "  Constraints            : 7381            \n",
      "  Cones                  : 0               \n",
      "  Scalar variables       : 7504            \n",
      "  Matrix variables       : 1               \n",
      "  Integer variables      : 0               \n",
      "\n",
      "Optimizer started.\n",
      "Presolve started.\n",
      "Linear dependency checker started.\n",
      "Linear dependency checker terminated.\n",
      "Eliminator started.\n",
      "Freed constraints in eliminator : 0\n",
      "Eliminator terminated.\n",
      "Eliminator - tries                  : 1                 time                   : 0.00            \n",
      "Lin. dep.  - tries                  : 1                 time                   : 0.00            \n",
      "Lin. dep.  - number                 : 0               \n",
      "Presolve terminated. Time: 0.01    \n",
      "Problem\n",
      "  Name                   :                 \n",
      "  Objective sense        : max             \n",
      "  Type                   : CONIC (conic optimization problem)\n",
      "  Constraints            : 7381            \n",
      "  Cones                  : 0               \n",
      "  Scalar variables       : 7504            \n",
      "  Matrix variables       : 1               \n",
      "  Integer variables      : 0               \n",
      "\n",
      "Optimizer  - threads                : 4               \n",
      "Optimizer  - solved problem         : the primal      \n",
      "Optimizer  - Constraints            : 7381\n",
      "Optimizer  - Cones                  : 1\n",
      "Optimizer  - Scalar variables       : 7384              conic                  : 123             \n",
      "Optimizer  - Semi-definite variables: 1                 scalarized             : 7381            \n",
      "Factor     - setup time             : 5.55              dense det. time        : 0.00            \n",
      "Factor     - ML order time          : 3.79              GP order time          : 0.00            \n",
      "Factor     - nonzeros before factor : 2.73e+07          after factor           : 2.73e+07        \n",
      "Factor     - dense dim.             : 3                 flops                  : 1.34e+11        \n",
      "ITE PFEAS    DFEAS    GFEAS    PRSTATUS   POBJ              DOBJ              MU       TIME  \n",
      "0   1.0e+00  1.0e+00  1.0e+00  0.00e+00   0.000000000e+00   0.000000000e+00   1.0e+00  5.57  \n",
      "1   8.4e-01  8.4e-01  9.0e-01  -1.05e+00  -1.503862146e+00  -1.668553462e+00  8.4e-01  9.46  \n",
      "2   3.5e-01  3.5e-01  5.2e-01  -1.02e+00  -1.206830934e+01  -1.348510194e+01  3.5e-01  13.49 \n",
      "3   7.9e-03  7.9e-03  1.2e-02  -5.21e-01  -3.277329730e+01  -3.494461908e+01  7.9e-03  17.05 \n",
      "4   3.5e-03  3.5e-03  3.2e-03  3.83e+00   -4.446394681e+00  -5.246415957e+00  3.5e-03  20.43 \n",
      "5   6.5e-04  6.5e-04  1.3e-04  3.37e+00   -3.611709500e-01  -4.003215904e-01  6.5e-04  23.68 \n",
      "6   2.0e-05  2.0e-05  2.1e-07  1.93e+00   6.289988392e-02   6.280433843e-02   2.0e-05  27.04 \n",
      "7   2.5e-10  5.9e-11  7.2e-17  1.01e+00   6.666661123e-02   6.666661125e-02   5.9e-11  30.68 \n",
      "Optimizer terminated. Time: 30.71   \n",
      "\n",
      "Termination status = OPTIMAL\n",
      "Optimal value = 0.06666661122542658\n",
      " 78.939906 seconds (86.04 M allocations: 84.295 GiB, 13.20% gc time)\n"
     ]
    }
   ],
   "source": [
    "include(\"../src/InterRelax.jl\")\n",
    "using .InterRelax\n",
    "\n",
    "n,m,l,lmon_g,supp_g,coe_g,lmon_h,supp_h,coe_h,lmon_f,supp_f,coe_f,dg,dh=InterRelax.get_info(x,f,g,h,sparse=false);\n",
    "# data=\"/home/hoanganh/Desktop/math-topics/InterruptedRelax/codes/dataPOP2\" # path of data\n",
    "# include(data*\"/densePOPvar$(n)nineq$(m)neq$(l).jl\");\n",
    "\n",
    "k=2\n",
    "s=122\n",
    "\n",
    "@time opt_val1=InterRelax.RelaxDense_without_multiplier(n,m,l,lmon_g,supp_g,coe_g,lmon_h,supp_h,coe_h,\n",
    "    lmon_f,supp_f,coe_f,dg,dh,k,s,solver=\"Mosek\");"
   ]
  },
  {
   "cell_type": "code",
   "execution_count": 36,
   "metadata": {},
   "outputs": [
    {
     "data": {
      "text/plain": [
       "15.000012474289393"
      ]
     },
     "execution_count": 36,
     "metadata": {},
     "output_type": "execute_result"
    }
   ],
   "source": [
    "1/opt_val1"
   ]
  },
  {
   "cell_type": "code",
   "execution_count": null,
   "metadata": {},
   "outputs": [],
   "source": []
  },
  {
   "cell_type": "code",
   "execution_count": 4,
   "metadata": {},
   "outputs": [
    {
     "name": "stdout",
     "output_type": "stream",
     "text": [
      "**Interrupted relaxation based on Putinar-Vasilescu's Positivstellensatz**\n",
      "Relaxation order: k=1\n",
      "Sparsity order: s=15\n"
     ]
    },
    {
     "name": "stderr",
     "output_type": "stream",
     "text": [
      "WARNING: replacing module InterRelax.\n"
     ]
    },
    {
     "name": "stdout",
     "output_type": "stream",
     "text": [
      "Maximal matrix size:15\n",
      "Problem\n",
      "  Name                   :                 \n",
      "  Objective sense        : max             \n",
      "  Type                   : CONIC (conic optimization problem)\n",
      "  Constraints            : 2600            \n",
      "  Cones                  : 0               \n",
      "  Scalar variables       : 2325            \n",
      "  Matrix variables       : 240             \n",
      "  Integer variables      : 0               \n",
      "\n",
      "Optimizer started.\n",
      "Presolve started.\n",
      "Linear dependency checker started.\n",
      "Linear dependency checker terminated.\n",
      "Eliminator started.\n",
      "Freed constraints in eliminator : 0\n",
      "Eliminator terminated.\n",
      "Eliminator - tries                  : 1                 time                   : 0.00            \n",
      "Lin. dep.  - tries                  : 1                 time                   : 0.00            \n",
      "Lin. dep.  - number                 : 0               \n",
      "Presolve terminated. Time: 0.00    \n",
      "GP based matrix reordering started.\n",
      "GP based matrix reordering terminated.\n",
      "Problem\n",
      "  Name                   :                 \n",
      "  Objective sense        : max             \n",
      "  Type                   : CONIC (conic optimization problem)\n",
      "  Constraints            : 2600            \n",
      "  Cones                  : 0               \n",
      "  Scalar variables       : 2325            \n",
      "  Matrix variables       : 240             \n",
      "  Integer variables      : 0               \n",
      "\n",
      "Optimizer  - threads                : 4               \n",
      "Optimizer  - solved problem         : the primal      \n",
      "Optimizer  - Constraints            : 2600\n",
      "Optimizer  - Cones                  : 1\n",
      "Optimizer  - Scalar variables       : 2326              conic                  : 302             \n",
      "Optimizer  - Semi-definite variables: 240               scalarized             : 28800           \n",
      "Factor     - setup time             : 0.45              dense det. time        : 0.03            \n",
      "Factor     - ML order time          : 0.05              GP order time          : 0.26            \n",
      "Factor     - nonzeros before factor : 5.19e+05          after factor           : 2.87e+06        \n",
      "Factor     - dense dim.             : 2                 flops                  : 4.09e+09        \n",
      "Factor     - GP saved nzs           : 7.67e+04          GP saved flops         : 3.26e+08        \n",
      "ITE PFEAS    DFEAS    GFEAS    PRSTATUS   POBJ              DOBJ              MU       TIME  \n",
      "0   9.0e+00  1.0e+00  1.0e+00  0.00e+00   0.000000000e+00   0.000000000e+00   1.0e+00  0.48  \n",
      "1   7.2e+00  8.0e-01  6.6e-01  9.69e-01   -2.850684614e-01  -2.250970778e-01  8.0e-01  1.13  \n",
      "2   2.0e+00  2.3e-01  4.0e-02  1.27e+00   -9.246362514e-01  -8.672250228e-01  2.3e-01  1.84  \n",
      "3   3.7e-01  4.1e-02  2.0e-03  1.66e+00   -4.504162657e-01  -4.421690931e-01  4.1e-02  2.50  \n",
      "4   7.4e-02  8.3e-03  1.2e-04  1.41e+00   -3.451892831e-02  -3.310722251e-02  8.3e-03  3.16  \n",
      "5   4.8e-02  5.3e-03  5.8e-05  1.58e+00   1.420682910e-02   1.496915903e-02   5.3e-03  3.71  \n",
      "6   2.0e-02  2.2e-03  1.3e-05  1.58e+00   5.505169297e-02   5.529896969e-02   2.2e-03  4.26  \n",
      "7   3.3e-03  3.7e-04  4.2e-07  1.60e+00   7.466574673e-02   7.469571478e-02   3.7e-04  4.91  \n",
      "8   1.8e-03  2.0e-04  1.9e-07  1.28e+00   7.569556505e-02   7.571110102e-02   2.0e-04  5.48  \n",
      "9   3.1e-04  3.4e-05  1.5e-08  1.14e+00   7.671537500e-02   7.671779700e-02   3.4e-05  6.12  \n",
      "10  5.3e-05  5.9e-06  1.1e-09  1.01e+00   7.688689090e-02   7.688731196e-02   5.9e-06  6.75  \n",
      "11  8.2e-06  9.1e-07  6.9e-11  9.84e-01   7.691757539e-02   7.691764090e-02   9.1e-07  7.34  \n",
      "12  2.3e-07  2.5e-08  3.1e-13  1.00e+00   7.692292414e-02   7.692292594e-02   2.5e-08  8.07  \n",
      "Optimizer terminated. Time: 8.07    \n",
      "\n",
      "Termination status = OPTIMAL\n",
      "Optimal value = 0.076922924143531\n",
      " 16.339283 seconds (21.32 M allocations: 3.197 GiB, 4.39% gc time)\n"
     ]
    },
    {
     "data": {
      "text/plain": [
       "(0.076922924143531, Float64[])"
      ]
     },
     "execution_count": 4,
     "metadata": {},
     "output_type": "execute_result"
    }
   ],
   "source": [
    "include(\"../src/InterRelax.jl\")\n",
    "using .InterRelax\n",
    "\n",
    "n,m,l,lmon_g,supp_g,coe_g,lmon_h,supp_h,coe_h,lmon_f,supp_f,coe_f,dg,dh=InterRelax.get_info(x,f,g,h,sparse=false);\n",
    "\n",
    "\n",
    "k=1\n",
    "s=15\n",
    "\n",
    "@time opt_val1,opt_sol=InterRelax.RelaxDense(n,m,l,lmon_g,supp_g,coe_g,lmon_h,supp_h,coe_h,\n",
    "    lmon_f,supp_f,coe_f,dg,dh,k,s,solver=\"Mosek\",comp_opt_sol=false)"
   ]
  },
  {
   "cell_type": "code",
   "execution_count": 5,
   "metadata": {},
   "outputs": [
    {
     "data": {
      "text/plain": [
       "13.000025819794542"
      ]
     },
     "execution_count": 5,
     "metadata": {},
     "output_type": "execute_result"
    }
   ],
   "source": [
    "1/opt_val1"
   ]
  },
  {
   "cell_type": "code",
   "execution_count": null,
   "metadata": {},
   "outputs": [],
   "source": []
  },
  {
   "cell_type": "code",
   "execution_count": 28,
   "metadata": {
    "scrolled": true
   },
   "outputs": [
    {
     "name": "stdout",
     "output_type": "stream",
     "text": [
      "**Semidefinite relaxation based on Putinar's Positivstellensatz**\n",
      "Relaxation order: k=2\n",
      "Maximal matrix size: 300\n",
      "************************TSSOS************************\n",
      "TSSOS is launching...\n",
      "------------------------------------------------------\n",
      "The clique sizes of varibles:\n",
      "[23]\n",
      "[1]\n",
      "------------------------------------------------------\n",
      "Assembling the SDP...\n",
      "There are 17550 affine constraints.\n",
      "SDP assembling time: 0.059431515 seconds.\n",
      "Solving the SDP...\n",
      "Problem\n",
      "  Name                   :                 \n",
      "  Objective sense        : max             \n",
      "  Type                   : CONIC (conic optimization problem)\n",
      "  Constraints            : 17550           \n",
      "  Cones                  : 0               \n",
      "  Scalar variables       : 301             \n",
      "  Matrix variables       : 24              \n",
      "  Integer variables      : 0               \n",
      "\n",
      "Optimizer started.\n",
      "Presolve started.\n",
      "Linear dependency checker started.\n",
      "Linear dependency checker terminated.\n",
      "Eliminator started.\n",
      "Freed constraints in eliminator : 0\n",
      "Eliminator terminated.\n",
      "Eliminator - tries                  : 1                 time                   : 0.00            \n",
      "Lin. dep.  - tries                  : 1                 time                   : 0.00            \n",
      "Lin. dep.  - number                 : 0               \n",
      "Presolve terminated. Time: 0.00    \n",
      "Problem\n",
      "  Name                   :                 \n",
      "  Objective sense        : max             \n",
      "  Type                   : CONIC (conic optimization problem)\n",
      "  Constraints            : 17550           \n",
      "  Cones                  : 0               \n",
      "  Scalar variables       : 301             \n",
      "  Matrix variables       : 24              \n",
      "  Integer variables      : 0               \n",
      "\n",
      "Optimizer  - threads                : 4               \n",
      "Optimizer  - solved problem         : the primal      \n",
      "Optimizer  - Constraints            : 17550\n",
      "Optimizer  - Cones                  : 1\n",
      "Optimizer  - Scalar variables       : 302               conic                  : 302             \n",
      "Optimizer  - Semi-definite variables: 24                scalarized             : 52050           \n",
      "Factor     - setup time             : 24.37             dense det. time        : 0.00            \n",
      "Factor     - ML order time          : 18.00             GP order time          : 0.00            \n",
      "Factor     - nonzeros before factor : 1.54e+08          after factor           : 1.54e+08        \n",
      "Factor     - dense dim.             : 2                 flops                  : 1.81e+12        \n",
      "ITE PFEAS    DFEAS    GFEAS    PRSTATUS   POBJ              DOBJ              MU       TIME  \n",
      "0   1.0e+00  1.0e+00  1.0e+00  0.00e+00   0.000000000e+00   0.000000000e+00   1.0e+00  24.41 \n",
      "1   8.3e-01  8.3e-01  5.6e-01  1.63e-01   -2.302307568e-01  -9.422890567e-03  8.3e-01  47.92 \n",
      "2   2.5e-01  2.5e-01  1.1e-01  1.10e-01   -9.664449573e-01  -9.050573116e-01  2.5e-01  72.55 \n",
      "3   2.6e-02  2.6e-02  2.2e-03  1.17e+00   -2.499200302e-01  -2.426751086e-01  2.6e-02  100.14\n",
      "4   2.2e-03  2.2e-03  4.2e-05  1.17e+00   2.870072012e-02   2.946885850e-02   2.2e-03  130.61\n",
      "5   2.6e-04  2.6e-04  2.3e-06  8.41e-01   6.794407319e-02   6.801915691e-02   2.6e-04  161.96\n",
      "6   9.9e-05  9.9e-05  5.7e-07  6.86e-01   7.366624727e-02   7.369681317e-02   9.9e-05  190.17\n",
      "7   1.5e-05  1.5e-05  3.6e-08  7.91e-01   7.646058925e-02   7.646498217e-02   1.5e-05  217.49\n",
      "8   6.5e-06  6.5e-06  1.1e-08  9.46e-01   7.665573165e-02   7.665747533e-02   6.5e-06  243.88\n",
      "9   9.0e-07  9.0e-07  6.6e-10  9.53e-01   7.680403787e-02   7.680418147e-02   9.0e-07  270.25\n",
      "10  1.3e-07  1.3e-07  3.8e-11  9.74e-01   7.681905424e-02   7.681907485e-02   1.3e-07  298.48\n",
      "11  1.5e-09  1.4e-09  2.8e-14  9.98e-01   7.682243936e-02   7.682244008e-02   1.4e-09  326.93\n",
      "Optimizer terminated. Time: 326.97  \n",
      "\n",
      "SDP solving time: 327.100476616 seconds.\n",
      "optimum = 0.0768224393560183\n",
      "327.185895 seconds (2.56 M allocations: 241.183 MiB, 0.01% gc time)\n"
     ]
    },
    {
     "name": "stderr",
     "output_type": "stream",
     "text": [
      "WARNING: replacing module InterRelax.\n"
     ]
    }
   ],
   "source": [
    "using SparseArrays\n",
    "\n",
    "include(\"../src/InterRelax.jl\")\n",
    "using .InterRelax\n",
    "\n",
    "n,m,l,lmon_g,supp_g,coe_g,lmon_h,supp_h,coe_h,lmon_f,supp_f,coe_f,dg,dh=InterRelax.get_info(x,f,g,h,sparse=true);\n",
    "\n",
    "\n",
    "k=2\n",
    "\n",
    "opt=InterRelax.TSSOS_Dense(n,m,l,lmon_g,supp_g,coe_g,lmon_h,supp_h,coe_h,lmon_f,supp_f,coe_f,k);"
   ]
  },
  {
   "cell_type": "code",
   "execution_count": 29,
   "metadata": {},
   "outputs": [
    {
     "data": {
      "text/plain": [
       "13.017030029021846"
      ]
     },
     "execution_count": 29,
     "metadata": {},
     "output_type": "execute_result"
    }
   ],
   "source": [
    "1/opt"
   ]
  },
  {
   "cell_type": "code",
   "execution_count": 30,
   "metadata": {
    "scrolled": true
   },
   "outputs": [
    {
     "name": "stdout",
     "output_type": "stream",
     "text": [
      "Maximal matrix size: 300\n",
      "************************TSSOS************************\n",
      "TSSOS is launching...\n",
      "------------------------------------------------------\n",
      "The clique sizes of varibles:\n",
      "[23]\n",
      "[1]\n",
      "------------------------------------------------------\n",
      "Assembling the SDP...\n",
      "There are 17550 affine constraints.\n",
      "SDP assembling time: 0.062577589 seconds.\n",
      "Solving the SDP...\n",
      "Problem\n",
      "  Name                   :                 \n",
      "  Objective sense        : max             \n",
      "  Type                   : CONIC (conic optimization problem)\n",
      "  Constraints            : 17550           \n",
      "  Cones                  : 0               \n",
      "  Scalar variables       : 301             \n",
      "  Matrix variables       : 24              \n",
      "  Integer variables      : 0               \n",
      "\n",
      "Optimizer started.\n",
      "Presolve started.\n",
      "Linear dependency checker started.\n",
      "Linear dependency checker terminated.\n",
      "Eliminator started.\n",
      "Freed constraints in eliminator : 0\n",
      "Eliminator terminated.\n",
      "Eliminator - tries                  : 1                 time                   : 0.00            \n",
      "Lin. dep.  - tries                  : 1                 time                   : 0.00            \n",
      "Lin. dep.  - number                 : 0               \n",
      "Presolve terminated. Time: 0.00    \n",
      "Problem\n",
      "  Name                   :                 \n",
      "  Objective sense        : max             \n",
      "  Type                   : CONIC (conic optimization problem)\n",
      "  Constraints            : 17550           \n",
      "  Cones                  : 0               \n",
      "  Scalar variables       : 301             \n",
      "  Matrix variables       : 24              \n",
      "  Integer variables      : 0               \n",
      "\n",
      "Optimizer  - threads                : 4               \n",
      "Optimizer  - solved problem         : the primal      \n",
      "Optimizer  - Constraints            : 17550\n",
      "Optimizer  - Cones                  : 1\n",
      "Optimizer  - Scalar variables       : 302               conic                  : 302             \n",
      "Optimizer  - Semi-definite variables: 24                scalarized             : 52050           \n",
      "Factor     - setup time             : 32.68             dense det. time        : 0.00            \n",
      "Factor     - ML order time          : 25.58             GP order time          : 0.00            \n",
      "Factor     - nonzeros before factor : 1.54e+08          after factor           : 1.54e+08        \n",
      "Factor     - dense dim.             : 2                 flops                  : 1.81e+12        \n",
      "ITE PFEAS    DFEAS    GFEAS    PRSTATUS   POBJ              DOBJ              MU       TIME  \n",
      "0   1.0e+00  1.0e+00  1.0e+00  0.00e+00   0.000000000e+00   0.000000000e+00   1.0e+00  32.73 \n",
      "1   8.3e-01  8.3e-01  5.6e-01  1.63e-01   -2.302307568e-01  -9.422890567e-03  8.3e-01  57.37 \n",
      "2   2.5e-01  2.5e-01  1.1e-01  1.10e-01   -9.664449573e-01  -9.050573116e-01  2.5e-01  83.15 \n",
      "3   2.6e-02  2.6e-02  2.2e-03  1.17e+00   -2.499200302e-01  -2.426751086e-01  2.6e-02  111.55\n",
      "4   2.2e-03  2.2e-03  4.2e-05  1.17e+00   2.870072012e-02   2.946885850e-02   2.2e-03  140.04\n",
      "5   2.6e-04  2.6e-04  2.3e-06  8.41e-01   6.794407319e-02   6.801915691e-02   2.6e-04  168.53\n"
     ]
    },
    {
     "name": "stderr",
     "output_type": "stream",
     "text": [
      "WARNING: replacing module InterRelax.\n",
      "WARNING: Force throwing a SIGINT\n"
     ]
    },
    {
     "ename": "InterruptException",
     "evalue": "InterruptException:",
     "output_type": "error",
     "traceback": [
      "InterruptException:",
      ""
     ]
    }
   ],
   "source": [
    "using SparseArrays\n",
    "\n",
    "include(\"../src/InterRelax.jl\")\n",
    "using .InterRelax\n",
    "\n",
    "n,m,l,lmon_g,supp_g,coe_g,lmon_h,supp_h,coe_h,lmon_f,supp_f,coe_f,dg,dh=InterRelax.get_info(x,f,g,h,sparse=true);\n",
    "\n",
    "using TSSOS\n",
    "\n",
    "k=2\n",
    "\n",
    "println(\"Maximal matrix size: \",binomial(n+k,k))\n",
    "\n",
    "vars,pop=InterRelax.get_POP(n,m,l,lmon_g,supp_g,coe_g,lmon_h,supp_h,coe_h,lmon_f,supp_f,coe_f)\n",
    "\n",
    "@time opt,sol,data=TSSOS.cs_tssos_first(pop,vars,k,numeq=l,CS=false,TS=false,solver=\"Mosek\");"
   ]
  },
  {
   "cell_type": "code",
   "execution_count": 31,
   "metadata": {},
   "outputs": [
    {
     "data": {
      "text/plain": [
       "13.017030029021846"
      ]
     },
     "execution_count": 31,
     "metadata": {},
     "output_type": "execute_result"
    }
   ],
   "source": [
    "1/opt"
   ]
  },
  {
   "cell_type": "code",
   "execution_count": null,
   "metadata": {},
   "outputs": [],
   "source": []
  }
 ],
 "metadata": {
  "kernelspec": {
   "display_name": "Julia 1.3.0",
   "language": "julia",
   "name": "julia-1.3"
  },
  "language_info": {
   "file_extension": ".jl",
   "mimetype": "application/julia",
   "name": "julia",
   "version": "1.3.0"
  }
 },
 "nbformat": 4,
 "nbformat_minor": 2
}
