{
 "cells": [
  {
   "cell_type": "code",
   "execution_count": 11,
   "metadata": {},
   "outputs": [
    {
     "name": "stdout",
     "output_type": "stream",
     "text": [
      "***Problem setting***\n",
      "Number of variables: n=23\n",
      "Number of inequality constraints: m=0\n",
      "Number of equality constraints: l=1\n"
     ]
    }
   ],
   "source": [
    "using DynamicPolynomials, SparseArrays, MatrixMarket\n",
    "\n",
    "println(\"***Problem setting***\")\n",
    "\n",
    "data=\"/home/hoanganh/Desktop/math-topics/InterruptedRelax/codes/dataPOP2\" # path of data \n",
    "A = MatrixMarket.mmread(data*\"/GD02_a.mtx\")\n",
    "\n",
    "n=size(A,1)\n",
    "for i in 1:n\n",
    "    A[i,i]=1\n",
    "end\n",
    "@polyvar x[1:n]# variables\n",
    "\n",
    "println(\"Number of variables: n=\",n)\n",
    "\n",
    "f=sum(A[i,j]*x[i]*x[j] for i=1:n for j=1:n)*1.0\n",
    "\n",
    "            \n",
    "g=Vector{Polynomial{true,Float64}}([])\n",
    "#type of coefficients of each polynomial must be float\n",
    "\n",
    "m=length(g)\n",
    "println(\"Number of inequality constraints: m=\",m)        \n",
    "\n",
    "# unit sphere constraint\n",
    "h=[1.0-sum(x)] #type of coefficients of each polynomial must be float\n",
    "\n",
    "l=length(h)\n",
    "\n",
    "println(\"Number of equality constraints: l=\",l)"
   ]
  },
  {
   "cell_type": "code",
   "execution_count": 12,
   "metadata": {},
   "outputs": [
    {
     "name": "stdout",
     "output_type": "stream",
     "text": [
      "**Interrupted relaxation based on Putinar-Vasilescu's Positivstellensatz**\n",
      "Relaxation order: k=0\n",
      "Sparsity order: s=25\n"
     ]
    },
    {
     "name": "stderr",
     "output_type": "stream",
     "text": [
      "WARNING: replacing module InterRelax.\n"
     ]
    },
    {
     "name": "stdout",
     "output_type": "stream",
     "text": [
      "Maximal matrix size:24\n",
      "Problem\n",
      "  Name                   :                 \n",
      "  Objective sense        : max             \n",
      "  Type                   : CONIC (conic optimization problem)\n",
      "  Constraints            : 300             \n",
      "  Cones                  : 0               \n",
      "  Scalar variables       : 301             \n",
      "  Matrix variables       : 1               \n",
      "  Integer variables      : 0               \n",
      "\n",
      "Optimizer started.\n",
      "Presolve started.\n",
      "Linear dependency checker started.\n",
      "Linear dependency checker terminated.\n",
      "Eliminator started.\n",
      "Freed constraints in eliminator : 0\n",
      "Eliminator terminated.\n",
      "Eliminator - tries                  : 1                 time                   : 0.00            \n",
      "Lin. dep.  - tries                  : 1                 time                   : 0.00            \n",
      "Lin. dep.  - number                 : 0               \n",
      "Presolve terminated. Time: 0.00    \n",
      "Problem\n",
      "  Name                   :                 \n",
      "  Objective sense        : max             \n",
      "  Type                   : CONIC (conic optimization problem)\n",
      "  Constraints            : 300             \n",
      "  Cones                  : 0               \n",
      "  Scalar variables       : 301             \n",
      "  Matrix variables       : 1               \n",
      "  Integer variables      : 0               \n",
      "\n",
      "Optimizer  - threads                : 4               \n",
      "Optimizer  - solved problem         : the primal      \n",
      "Optimizer  - Constraints            : 300\n",
      "Optimizer  - Cones                  : 1\n",
      "Optimizer  - Scalar variables       : 302               conic                  : 26              \n",
      "Optimizer  - Semi-definite variables: 1                 scalarized             : 300             \n",
      "Factor     - setup time             : 0.00              dense det. time        : 0.00            \n",
      "Factor     - ML order time          : 0.00              GP order time          : 0.00            \n",
      "Factor     - nonzeros before factor : 4.54e+04          after factor           : 4.54e+04        \n",
      "Factor     - dense dim.             : 2                 flops                  : 9.47e+06        \n",
      "ITE PFEAS    DFEAS    GFEAS    PRSTATUS   POBJ              DOBJ              MU       TIME  \n",
      "0   2.0e+00  1.0e+00  1.0e+00  0.00e+00   0.000000000e+00   0.000000000e+00   1.0e+00  0.00  \n",
      "1   9.7e-01  4.9e-01  4.9e-01  -3.83e-01  -1.420068731e+00  -1.703789742e+00  4.9e-01  0.01  \n",
      "2   1.2e-01  5.9e-02  1.5e-02  1.58e-01   -2.210685384e+00  -2.168764615e+00  5.9e-02  0.01  \n",
      "3   2.5e-02  1.2e-02  5.4e-04  2.54e+00   -2.395382881e-01  -2.329308994e-01  1.2e-02  0.02  \n",
      "4   3.1e-03  1.6e-03  3.0e-05  2.84e+00   6.291973394e-02   6.297852401e-02   1.6e-03  0.02  \n",
      "5   1.1e-03  5.6e-04  5.4e-06  1.22e+00   7.379561912e-02   7.384465548e-02   5.6e-04  0.02  \n",
      "6   1.9e-04  9.4e-05  2.7e-07  1.05e+00   7.624071802e-02   7.625544984e-02   9.4e-05  0.03  \n",
      "7   1.1e-05  5.5e-06  3.3e-09  1.01e+00   7.688508708e-02   7.688609436e-02   5.5e-06  0.03  \n",
      "8   4.4e-07  2.2e-07  2.4e-11  1.00e+00   7.692163993e-02   7.692168060e-02   2.2e-07  0.04  \n",
      "9   1.6e-08  7.8e-09  1.6e-13  1.00e+00   7.692302328e-02   7.692302475e-02   7.8e-09  0.04  \n",
      "Optimizer terminated. Time: 0.04    \n",
      "\n",
      "Termination status = OPTIMAL\n",
      "Optimal value = 0.07692302328134365\n",
      "  1.765998 seconds (2.15 M allocations: 139.787 MiB, 6.18% gc time)\n"
     ]
    },
    {
     "data": {
      "text/plain": [
       "(0.07692302328134365, Float64[])"
      ]
     },
     "execution_count": 12,
     "metadata": {},
     "output_type": "execute_result"
    }
   ],
   "source": [
    "include(\"../src/InterRelax.jl\")\n",
    "using .InterRelax\n",
    "\n",
    "n,m,l,lmon_g,supp_g,coe_g,lmon_h,supp_h,coe_h,lmon_f,supp_f,coe_f,dg,dh=InterRelax.get_info(x,f,g,h,sparse=false);\n",
    "\n",
    "\n",
    "k=0\n",
    "s=25\n",
    "\n",
    "@time opt_val1,opt_sol=InterRelax.RelaxDense(n,m,l,lmon_g,supp_g,coe_g,lmon_h,supp_h,coe_h,\n",
    "    lmon_f,supp_f,coe_f,dg,dh,k,s,solver=\"Mosek\",comp_opt_sol=false)"
   ]
  },
  {
   "cell_type": "code",
   "execution_count": 13,
   "metadata": {},
   "outputs": [
    {
     "data": {
      "text/plain": [
       "13.000009065459246"
      ]
     },
     "execution_count": 13,
     "metadata": {},
     "output_type": "execute_result"
    }
   ],
   "source": [
    "1/opt_val1"
   ]
  },
  {
   "cell_type": "code",
   "execution_count": null,
   "metadata": {},
   "outputs": [],
   "source": []
  },
  {
   "cell_type": "code",
   "execution_count": 14,
   "metadata": {
    "scrolled": true
   },
   "outputs": [
    {
     "name": "stdout",
     "output_type": "stream",
     "text": [
      "**Semidefinite relaxation based on Putinar's Positivstellensatz**\n",
      "Relaxation order: k=2\n",
      "Maximal matrix size: 300\n"
     ]
    },
    {
     "name": "stderr",
     "output_type": "stream",
     "text": [
      "WARNING: replacing module InterRelax.\n"
     ]
    },
    {
     "name": "stdout",
     "output_type": "stream",
     "text": [
      "************************TSSOS************************\n",
      "TSSOS is launching...\n",
      "------------------------------------------------------\n",
      "The clique sizes of varibles:\n",
      "[23]\n",
      "[1]\n",
      "------------------------------------------------------\n",
      "Assembling the SDP...\n",
      "There are 17550 affine constraints.\n",
      "SDP assembling time: 0.104642148 seconds.\n",
      "Solving the SDP...\n",
      "Problem\n",
      "  Name                   :                 \n",
      "  Objective sense        : max             \n",
      "  Type                   : CONIC (conic optimization problem)\n",
      "  Constraints            : 17550           \n",
      "  Cones                  : 0               \n",
      "  Scalar variables       : 301             \n",
      "  Matrix variables       : 24              \n",
      "  Integer variables      : 0               \n",
      "\n",
      "Optimizer started.\n",
      "Presolve started.\n",
      "Linear dependency checker started.\n",
      "Linear dependency checker terminated.\n",
      "Eliminator started.\n",
      "Freed constraints in eliminator : 0\n",
      "Eliminator terminated.\n",
      "Eliminator - tries                  : 1                 time                   : 0.00            \n",
      "Lin. dep.  - tries                  : 1                 time                   : 0.00            \n",
      "Lin. dep.  - number                 : 0               \n",
      "Presolve terminated. Time: 0.01    \n",
      "Problem\n",
      "  Name                   :                 \n",
      "  Objective sense        : max             \n",
      "  Type                   : CONIC (conic optimization problem)\n",
      "  Constraints            : 17550           \n",
      "  Cones                  : 0               \n",
      "  Scalar variables       : 301             \n",
      "  Matrix variables       : 24              \n",
      "  Integer variables      : 0               \n",
      "\n",
      "Optimizer  - threads                : 4               \n",
      "Optimizer  - solved problem         : the primal      \n",
      "Optimizer  - Constraints            : 17550\n",
      "Optimizer  - Cones                  : 1\n",
      "Optimizer  - Scalar variables       : 302               conic                  : 302             \n",
      "Optimizer  - Semi-definite variables: 24                scalarized             : 52050           \n",
      "Factor     - setup time             : 40.95             dense det. time        : 0.00            \n",
      "Factor     - ML order time          : 29.44             GP order time          : 0.00            \n",
      "Factor     - nonzeros before factor : 1.54e+08          after factor           : 1.54e+08        \n",
      "Factor     - dense dim.             : 2                 flops                  : 1.81e+12        \n",
      "ITE PFEAS    DFEAS    GFEAS    PRSTATUS   POBJ              DOBJ              MU       TIME  \n",
      "0   1.0e+00  1.0e+00  1.0e+00  0.00e+00   0.000000000e+00   0.000000000e+00   1.0e+00  41.04 \n",
      "1   8.3e-01  8.3e-01  5.6e-01  1.63e-01   -2.302307568e-01  -9.422890567e-03  8.3e-01  77.52 \n",
      "2   2.5e-01  2.5e-01  1.1e-01  1.10e-01   -9.664449573e-01  -9.050573116e-01  2.5e-01  113.77\n",
      "3   2.6e-02  2.6e-02  2.2e-03  1.17e+00   -2.499200302e-01  -2.426751086e-01  2.6e-02  158.02\n",
      "4   2.2e-03  2.2e-03  4.2e-05  1.17e+00   2.870072012e-02   2.946885850e-02   2.2e-03  196.91\n",
      "5   2.6e-04  2.6e-04  2.3e-06  8.41e-01   6.794407319e-02   6.801915691e-02   2.6e-04  236.42\n",
      "6   9.9e-05  9.9e-05  5.7e-07  6.86e-01   7.366624727e-02   7.369681317e-02   9.9e-05  275.33\n",
      "7   1.5e-05  1.5e-05  3.6e-08  7.91e-01   7.646058925e-02   7.646498217e-02   1.5e-05  315.21\n",
      "8   6.5e-06  6.5e-06  1.1e-08  9.46e-01   7.665573165e-02   7.665747533e-02   6.5e-06  349.27\n",
      "9   9.0e-07  9.0e-07  6.6e-10  9.53e-01   7.680403787e-02   7.680418147e-02   9.0e-07  386.12\n",
      "10  1.3e-07  1.3e-07  3.8e-11  9.74e-01   7.681905424e-02   7.681907485e-02   1.3e-07  421.55\n",
      "11  1.5e-09  1.4e-09  2.8e-14  9.98e-01   7.682243936e-02   7.682244008e-02   1.4e-09  459.39\n",
      "Optimizer terminated. Time: 459.47  \n",
      "\n",
      "SDP solving time: 459.706457364 seconds.\n",
      "optimum = 0.0768224393560183\n",
      "461.562730 seconds (4.64 M allocations: 347.563 MiB, 0.03% gc time)\n"
     ]
    }
   ],
   "source": [
    "using SparseArrays\n",
    "\n",
    "include(\"../src/InterRelax.jl\")\n",
    "using .InterRelax\n",
    "\n",
    "n,m,l,lmon_g,supp_g,coe_g,lmon_h,supp_h,coe_h,lmon_f,supp_f,coe_f,dg,dh=InterRelax.get_info(x,f,g,h,sparse=true);\n",
    "\n",
    "\n",
    "k=2\n",
    "\n",
    "opt=InterRelax.TSSOS_Dense(n,m,l,lmon_g,supp_g,coe_g,lmon_h,supp_h,coe_h,lmon_f,supp_f,coe_f,k);"
   ]
  },
  {
   "cell_type": "code",
   "execution_count": 15,
   "metadata": {},
   "outputs": [
    {
     "data": {
      "text/plain": [
       "13.017030029021846"
      ]
     },
     "execution_count": 15,
     "metadata": {},
     "output_type": "execute_result"
    }
   ],
   "source": [
    "1/opt"
   ]
  },
  {
   "cell_type": "code",
   "execution_count": 16,
   "metadata": {
    "scrolled": true
   },
   "outputs": [
    {
     "name": "stdout",
     "output_type": "stream",
     "text": [
      "Maximal matrix size: 300\n",
      "************************TSSOS************************"
     ]
    },
    {
     "name": "stderr",
     "output_type": "stream",
     "text": [
      "WARNING: replacing module InterRelax.\n"
     ]
    },
    {
     "name": "stdout",
     "output_type": "stream",
     "text": [
      "\n",
      "TSSOS is launching...\n",
      "------------------------------------------------------\n",
      "The clique sizes of varibles:\n",
      "[23]\n",
      "[1]\n",
      "------------------------------------------------------\n",
      "Starting to compute the block structure...\n",
      "Obtained the block structure in 0.016436909 seconds. The maximal size of blocks is 106.\n",
      "Assembling the SDP...\n",
      "There are 5624 affine constraints.\n",
      "SDP assembling time: 0.058570026 seconds.\n",
      "Solving the SDP...\n",
      "Problem\n",
      "  Name                   :                 \n",
      "  Objective sense        : max             \n",
      "  Type                   : CONIC (conic optimization problem)\n",
      "  Constraints            : 5624            \n",
      "  Cones                  : 0               \n",
      "  Scalar variables       : 883             \n",
      "  Matrix variables       : 25              \n",
      "  Integer variables      : 0               \n",
      "\n",
      "Optimizer started.\n",
      "Presolve started.\n",
      "Linear dependency checker started.\n",
      "Linear dependency checker terminated.\n",
      "Eliminator started.\n",
      "Freed constraints in eliminator : 82\n",
      "Eliminator terminated.\n",
      "Eliminator - tries                  : 1                 time                   : 0.00            \n",
      "Lin. dep.  - tries                  : 1                 time                   : 0.01            \n",
      "Lin. dep.  - number                 : 739             \n",
      "Presolve terminated. Time: 0.01    \n",
      "Problem\n",
      "  Name                   :                 \n",
      "  Objective sense        : max             \n",
      "  Type                   : CONIC (conic optimization problem)\n",
      "  Constraints            : 5624            \n",
      "  Cones                  : 0               \n",
      "  Scalar variables       : 883             \n",
      "  Matrix variables       : 25              \n",
      "  Integer variables      : 0               \n",
      "\n",
      "Optimizer  - threads                : 4               \n",
      "Optimizer  - solved problem         : the primal      \n",
      "Optimizer  - Constraints            : 4803\n",
      "Optimizer  - Cones                  : 1\n",
      "Optimizer  - Scalar variables       : 802               conic                  : 220             \n",
      "Optimizer  - Semi-definite variables: 25                scalarized             : 6843            \n",
      "Factor     - setup time             : 1.99              dense det. time        : 0.00            \n",
      "Factor     - ML order time          : 1.12              GP order time          : 0.00            \n",
      "Factor     - nonzeros before factor : 1.10e+07          after factor           : 1.11e+07        \n",
      "Factor     - dense dim.             : 2                 flops                  : 3.47e+10        \n",
      "ITE PFEAS    DFEAS    GFEAS    PRSTATUS   POBJ              DOBJ              MU       TIME  \n",
      "0   2.0e+00  1.0e+00  1.0e+00  0.00e+00   0.000000000e+00   0.000000000e+00   1.0e+00  2.02  \n",
      "1   1.8e+00  9.1e-01  6.8e-01  8.74e-01   -1.175075718e-01  7.547446500e-02   9.1e-01  3.13  \n",
      "2   3.4e-01  1.7e-01  3.7e-02  5.65e-01   -1.211215828e+00  -1.132123177e+00  1.7e-01  4.17  \n",
      "3   3.7e-02  1.9e-02  6.4e-04  1.63e+00   -2.638628853e-01  -2.579377159e-01  1.9e-02  5.32  \n",
      "4   5.3e-03  2.7e-03  3.8e-05  1.28e+00   -3.028599193e-02  -2.962358728e-02  2.7e-03  6.49  \n",
      "5   3.9e-03  1.9e-03  2.6e-05  5.71e-01   -2.006910112e-02  -1.954385497e-02  1.9e-03  7.58  \n",
      "6   1.3e-03  6.3e-04  4.3e-06  1.05e+00   3.233257529e-03   3.396166352e-03   6.3e-04  8.64  \n",
      "7   2.1e-04  1.1e-04  3.5e-07  9.98e-01   1.078630760e-02   1.081162079e-02   1.1e-04  9.80  \n",
      "8   1.5e-04  7.3e-05  2.1e-07  8.57e-01   1.088109261e-02   1.089887949e-02   7.3e-05  10.81 \n",
      "9   3.5e-05  1.7e-05  2.7e-08  9.26e-01   1.126595124e-02   1.127025819e-02   1.7e-05  11.94 \n",
      "10  7.6e-06  3.8e-06  3.4e-09  7.78e-01   1.115712336e-02   1.115811010e-02   3.8e-06  13.11 \n",
      "11  1.9e-06  9.5e-07  5.5e-10  6.78e-01   1.105965126e-02   1.105989569e-02   9.5e-07  14.20 \n",
      "12  3.0e-07  1.5e-07  5.5e-11  5.76e-01   1.097792976e-02   1.097794229e-02   1.5e-07  15.36 \n",
      "13  9.3e-08  4.9e-08  1.3e-11  4.40e-01   1.094620260e-02   1.094619414e-02   4.9e-08  16.42 \n",
      "14  1.7e-08  7.7e-09  1.4e-12  4.06e-01   1.091727845e-02   1.091726131e-02   7.6e-09  17.59 \n",
      "15  1.0e-08  4.8e-09  8.2e-13  1.84e-01   1.091188987e-02   1.091186988e-02   4.5e-09  18.69 \n",
      "16  4.6e-09  2.0e-09  2.2e-13  5.65e-01   1.090321163e-02   1.090320037e-02   1.7e-09  19.77 \n",
      "17  5.7e-09  1.8e-09  2.0e-13  4.35e-01   1.090267118e-02   1.090266013e-02   1.5e-09  20.89 \n",
      "18  6.4e-09  1.6e-09  1.8e-13  4.45e-01   1.090210475e-02   1.090209394e-02   1.4e-09  21.95 \n",
      "19  6.7e-09  1.6e-09  1.8e-13  4.30e-01   1.090203880e-02   1.090202802e-02   1.4e-09  23.06 \n",
      "20  6.8e-09  1.6e-09  1.7e-13  4.32e-01   1.090197071e-02   1.090195996e-02   1.4e-09  24.16 \n",
      "21  6.8e-09  1.6e-09  1.7e-13  4.27e-01   1.090196861e-02   1.090195786e-02   1.4e-09  25.26 \n",
      "22  6.7e-09  1.6e-09  1.7e-13  4.24e-01   1.090193797e-02   1.090192724e-02   1.4e-09  26.36 \n",
      "23  6.7e-09  1.6e-09  1.7e-13  2.03e-01   1.090193735e-02   1.090192661e-02   1.4e-09  27.46 \n",
      "24  6.7e-09  1.6e-09  1.7e-13  4.17e-01   1.090193321e-02   1.090192248e-02   1.4e-09  28.54 \n",
      "25  6.7e-09  1.6e-09  1.7e-13  4.16e-01   1.090193321e-02   1.090192248e-02   1.4e-09  29.63 \n",
      "26  6.7e-09  1.6e-09  1.7e-13  4.23e-01   1.090193321e-02   1.090192248e-02   1.4e-09  30.76 \n",
      "Optimizer terminated. Time: 31.93   \n",
      "\n",
      "SDP solving time: 31.971869553 seconds.\n",
      "termination status: SLOW_PROGRESS\n",
      "solution status: FEASIBLE_POINT\n",
      "optimum = 0.010901933210608884\n",
      " 32.111171 seconds (915.84 k allocations: 80.522 MiB, 0.11% gc time)\n"
     ]
    }
   ],
   "source": [
    "using SparseArrays\n",
    "\n",
    "include(\"../src/InterRelax.jl\")\n",
    "using .InterRelax\n",
    "\n",
    "n,m,l,lmon_g,supp_g,coe_g,lmon_h,supp_h,coe_h,lmon_f,supp_f,coe_f,dg,dh=InterRelax.get_info(x,f,g,h,sparse=true);\n",
    "\n",
    "using TSSOS\n",
    "\n",
    "k=2\n",
    "\n",
    "println(\"Maximal matrix size: \",binomial(n+k,k))\n",
    "\n",
    "vars,pop=InterRelax.get_POP(n,m,l,lmon_g,supp_g,coe_g,lmon_h,supp_h,coe_h,lmon_f,supp_f,coe_f)\n",
    "\n",
    "@time opt,sol,data=TSSOS.cs_tssos_first(pop,vars,k,numeq=l,CS=false,TS=\"block\",solver=\"Mosek\");"
   ]
  },
  {
   "cell_type": "code",
   "execution_count": 17,
   "metadata": {},
   "outputs": [
    {
     "data": {
      "text/plain": [
       "91.72685070450446"
      ]
     },
     "execution_count": 17,
     "metadata": {},
     "output_type": "execute_result"
    }
   ],
   "source": [
    "1/opt"
   ]
  },
  {
   "cell_type": "code",
   "execution_count": null,
   "metadata": {},
   "outputs": [],
   "source": []
  }
 ],
 "metadata": {
  "kernelspec": {
   "display_name": "Julia 1.3.0",
   "language": "julia",
   "name": "julia-1.3"
  },
  "language_info": {
   "file_extension": ".jl",
   "mimetype": "application/julia",
   "name": "julia",
   "version": "1.3.0"
  }
 },
 "nbformat": 4,
 "nbformat_minor": 2
}
