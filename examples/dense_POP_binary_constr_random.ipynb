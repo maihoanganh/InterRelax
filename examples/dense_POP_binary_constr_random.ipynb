{
 "cells": [
  {
   "cell_type": "code",
   "execution_count": 5,
   "metadata": {},
   "outputs": [
    {
     "name": "stdout",
     "output_type": "stream",
     "text": [
      "***Problem setting***\n",
      "Number of variable: n=5\n",
      "Number of inequality constraints: m=0\n",
      "Number of equality constraints: l=5\n"
     ]
    }
   ],
   "source": [
    "using DynamicPolynomials, SparseArrays\n",
    "println(\"***Problem setting***\")\n",
    "\n",
    "n=5\n",
    "println(\"Number of variable: n=\",n)\n",
    "\n",
    "@polyvar x[1:n]# variables\n",
    "\n",
    "v=reverse(monomials(x,0:2))\n",
    "c=2*rand(Float64,length(v)).-1\n",
    "#include(\"./vec_binary_var$(n).jl\")\n",
    "f=c'*v\n",
    "\n",
    "\n",
    "m=0\n",
    "g=Vector{Polynomial{true,Float64}}(undef,m)\n",
    "m=length(g)\n",
    "println(\"Number of inequality constraints: m=\",m)\n",
    "\n",
    "h=[x[j]*(1.0-x[j]) for j=1:n]\n",
    "\n",
    "l=length(h)\n",
    "println(\"Number of equality constraints: l=\",l)"
   ]
  },
  {
   "cell_type": "code",
   "execution_count": null,
   "metadata": {},
   "outputs": [],
   "source": []
  },
  {
   "cell_type": "code",
   "execution_count": 3,
   "metadata": {
    "scrolled": true
   },
   "outputs": [
    {
     "name": "stdout",
     "output_type": "stream",
     "text": [
      "**Interrupted relaxation based on Putinar-Vasilescu's Positivstellensatz**\n",
      "Relaxation order: k=1\n",
      "Sparsity order: s=7\n"
     ]
    },
    {
     "name": "stderr",
     "output_type": "stream",
     "text": [
      "WARNING: replacing module InterRelax.\n"
     ]
    },
    {
     "name": "stdout",
     "output_type": "stream",
     "text": [
      "Maximal matrix size:6\n",
      "Problem\n",
      "  Name                   :                 \n",
      "  Objective sense        : max             \n",
      "  Type                   : CONIC (conic optimization problem)\n",
      "  Constraints            : 56              \n",
      "  Cones                  : 0               \n",
      "  Scalar variables       : 51              \n",
      "  Matrix variables       : 6               \n",
      "  Integer variables      : 0               \n",
      "\n",
      "Optimizer started.\n",
      "Presolve started.\n",
      "Linear dependency checker started.\n",
      "Linear dependency checker terminated.\n",
      "Eliminator started.\n",
      "Freed constraints in eliminator : 0\n",
      "Eliminator terminated.\n",
      "Eliminator started.\n",
      "Freed constraints in eliminator : 0\n",
      "Eliminator terminated.\n",
      "Eliminator - tries                  : 2                 time                   : 0.00            \n",
      "Lin. dep.  - tries                  : 1                 time                   : 0.00            \n",
      "Lin. dep.  - number                 : 0               \n",
      "Presolve terminated. Time: 0.00    \n",
      "Problem\n",
      "  Name                   :                 \n",
      "  Objective sense        : max             \n",
      "  Type                   : CONIC (conic optimization problem)\n",
      "  Constraints            : 56              \n",
      "  Cones                  : 0               \n",
      "  Scalar variables       : 51              \n",
      "  Matrix variables       : 6               \n",
      "  Integer variables      : 0               \n",
      "\n",
      "Optimizer  - threads                : 4               \n",
      "Optimizer  - solved problem         : the primal      \n",
      "Optimizer  - Constraints            : 56\n",
      "Optimizer  - Cones                  : 1\n",
      "Optimizer  - Scalar variables       : 52                conic                  : 32              \n",
      "Optimizer  - Semi-definite variables: 6                 scalarized             : 126             \n",
      "Factor     - setup time             : 0.00              dense det. time        : 0.00            \n",
      "Factor     - ML order time          : 0.00              GP order time          : 0.00            \n",
      "Factor     - nonzeros before factor : 1496              after factor           : 1596            \n",
      "Factor     - dense dim.             : 0                 flops                  : 7.30e+04        \n",
      "ITE PFEAS    DFEAS    GFEAS    PRSTATUS   POBJ              DOBJ              MU       TIME  \n",
      "0   2.5e+00  1.0e+00  1.0e+00  0.00e+00   0.000000000e+00   0.000000000e+00   1.0e+00  0.00  \n",
      "1   1.4e+00  5.4e-01  7.1e-01  -1.05e+00  -1.098759639e+00  -1.901263115e+00  5.4e-01  0.00  \n",
      "2   5.1e-01  2.0e-01  1.2e-01  -1.65e-03  -4.462015393e+00  -4.430875598e+00  2.0e-01  0.00  \n",
      "3   1.0e-01  4.1e-02  5.5e-03  1.18e+00   -4.088797148e+00  -4.050153409e+00  4.1e-02  0.00  \n",
      "4   2.5e-02  9.8e-03  8.5e-04  1.29e+00   -3.667942598e+00  -3.663178814e+00  9.8e-03  0.00  \n",
      "5   2.7e-03  1.1e-03  4.0e-05  1.05e+00   -3.584615623e+00  -3.584736573e+00  1.1e-03  0.00  \n",
      "6   1.8e-04  6.9e-05  6.7e-07  1.01e+00   -3.578915544e+00  -3.578923245e+00  6.9e-05  0.00  \n",
      "7   1.8e-05  7.0e-06  2.1e-08  9.99e-01   -3.578507046e+00  -3.578507859e+00  7.0e-06  0.00  \n",
      "8   1.3e-06  5.2e-07  4.3e-10  9.98e-01   -3.578454022e+00  -3.578454087e+00  5.2e-07  0.00  \n",
      "9   5.5e-08  2.2e-08  3.8e-12  9.99e-01   -3.578449072e+00  -3.578449074e+00  2.2e-08  0.00  \n",
      "10  1.0e-09  4.7e-10  9.0e-15  1.00e+00   -3.578448827e+00  -3.578448827e+00  3.9e-10  0.00  \n",
      "Optimizer terminated. Time: 0.00    \n",
      "\n",
      "Termination status = OPTIMAL\n",
      "Optimal value = -3.578448826692478\n",
      "  1.050836 seconds (2.01 M allocations: 100.450 MiB, 2.17% gc time)\n"
     ]
    }
   ],
   "source": [
    "include(\"../src/InterRelax.jl\")\n",
    "using .InterRelax\n",
    "\n",
    "n,m,l,lmon_g,supp_g,coe_g,lmon_h,supp_h,coe_h,lmon_f,supp_f,coe_f,dg,dh=InterRelax.get_info(x,f,g,h,sparse=false);\n",
    "\n",
    "k=1\n",
    "s=7\n",
    "\n",
    "@time opt_val1,opt_sol=InterRelax.RelaxDense(n,m,l,lmon_g,supp_g,coe_g,lmon_h,supp_h,coe_h,\n",
    "    lmon_f,supp_f,coe_f,dg,dh,k,s,solver=\"Mosek\",comp_opt_sol=false);"
   ]
  },
  {
   "cell_type": "code",
   "execution_count": null,
   "metadata": {},
   "outputs": [],
   "source": []
  },
  {
   "cell_type": "code",
   "execution_count": 4,
   "metadata": {
    "scrolled": true
   },
   "outputs": [
    {
     "name": "stdout",
     "output_type": "stream",
     "text": [
      "**Semidefinite relaxation based on Putinar's Positivstellensatz**\n",
      "Relaxation order: k=1\n",
      "Maximal matrix size: 6\n"
     ]
    },
    {
     "name": "stderr",
     "output_type": "stream",
     "text": [
      "WARNING: replacing module InterRelax.\n"
     ]
    },
    {
     "name": "stdout",
     "output_type": "stream",
     "text": [
      "************************TSSOS************************\n",
      "TSSOS is launching...\n",
      "------------------------------------------------------\n",
      "The clique sizes of varibles:\n",
      "[5]\n",
      "[1]\n",
      "------------------------------------------------------\n",
      "Assembling the SDP...\n",
      "There are 21 affine constraints.\n",
      "SDP assembling time: 0.006580038 seconds.\n",
      "Solving the SDP...\n",
      "Problem\n",
      "  Name                   :                 \n",
      "  Objective sense        : max             \n",
      "  Type                   : CONIC (conic optimization problem)\n",
      "  Constraints            : 21              \n",
      "  Cones                  : 0               \n",
      "  Scalar variables       : 11              \n",
      "  Matrix variables       : 1               \n",
      "  Integer variables      : 0               \n",
      "\n",
      "Optimizer started.\n",
      "Presolve started.\n",
      "Linear dependency checker started.\n",
      "Linear dependency checker terminated.\n",
      "Eliminator started.\n",
      "Freed constraints in eliminator : 0\n",
      "Eliminator terminated.\n",
      "Eliminator started.\n",
      "Freed constraints in eliminator : 0\n",
      "Eliminator terminated.\n",
      "Eliminator - tries                  : 2                 time                   : 0.00            \n",
      "Lin. dep.  - tries                  : 1                 time                   : 0.00            \n",
      "Lin. dep.  - number                 : 0               \n",
      "Presolve terminated. Time: 0.00    \n",
      "Problem\n",
      "  Name                   :                 \n",
      "  Objective sense        : max             \n",
      "  Type                   : CONIC (conic optimization problem)\n",
      "  Constraints            : 21              \n",
      "  Cones                  : 0               \n",
      "  Scalar variables       : 11              \n",
      "  Matrix variables       : 1               \n",
      "  Integer variables      : 0               \n",
      "\n",
      "Optimizer  - threads                : 4               \n",
      "Optimizer  - solved problem         : the primal      \n",
      "Optimizer  - Constraints            : 21\n",
      "Optimizer  - Cones                  : 1\n",
      "Optimizer  - Scalar variables       : 12                conic                  : 7               \n",
      "Optimizer  - Semi-definite variables: 1                 scalarized             : 21              \n",
      "Factor     - setup time             : 0.00              dense det. time        : 0.00            \n",
      "Factor     - ML order time          : 0.00              GP order time          : 0.00            \n",
      "Factor     - nonzeros before factor : 231               after factor           : 231             \n",
      "Factor     - dense dim.             : 0                 flops                  : 5.25e+03        \n",
      "ITE PFEAS    DFEAS    GFEAS    PRSTATUS   POBJ              DOBJ              MU       TIME  \n",
      "0   1.6e+00  1.0e+00  1.0e+00  0.00e+00   0.000000000e+00   0.000000000e+00   1.0e+00  0.00  \n",
      "1   6.9e-01  4.2e-01  5.0e-01  -7.80e-01  -1.122359711e+00  -1.776668776e+00  4.2e-01  0.00  \n",
      "2   2.0e-01  1.2e-01  7.9e-02  4.08e-01   -3.343462700e+00  -3.534049241e+00  1.2e-01  0.00  \n",
      "3   2.8e-02  1.7e-02  3.4e-03  1.01e+00   -3.506770791e+00  -3.514586215e+00  1.7e-02  0.00  \n",
      "4   4.7e-03  2.9e-03  2.6e-04  9.47e-01   -3.553299145e+00  -3.555611646e+00  2.9e-03  0.00  \n",
      "5   5.3e-04  3.2e-04  1.1e-05  9.61e-01   -3.575730479e+00  -3.576202676e+00  3.2e-04  0.00  \n",
      "6   1.7e-05  1.0e-05  6.4e-08  9.95e-01   -3.578368078e+00  -3.578383714e+00  1.0e-05  0.00  \n",
      "7   9.5e-07  5.8e-07  8.3e-10  1.00e+00   -3.578445856e+00  -3.578446717e+00  5.8e-07  0.00  \n",
      "8   9.8e-08  5.9e-08  2.8e-11  1.00e+00   -3.578448624e+00  -3.578448713e+00  5.9e-08  0.00  \n",
      "9   5.8e-09  3.6e-09  4.0e-13  1.00e+00   -3.578448813e+00  -3.578448818e+00  3.5e-09  0.00  \n",
      "Optimizer terminated. Time: 0.00    \n",
      "\n",
      "SDP solving time: 0.003290686 seconds.\n",
      "optimum = -3.5784488130404117\n",
      "  2.334437 seconds (4.52 M allocations: 226.157 MiB, 6.66% gc time)\n",
      " 10.070505 seconds (28.20 M allocations: 1.387 GiB, 6.43% gc time)\n"
     ]
    }
   ],
   "source": [
    "using SparseArrays\n",
    "\n",
    "include(\"../src/InterRelax.jl\")\n",
    "using .InterRelax\n",
    "\n",
    "n,m,l,lmon_g,supp_g,coe_g,lmon_h,supp_h,coe_h,lmon_f,supp_f,coe_f,dg,dh=InterRelax.get_info(x,f,g,h,sparse=true);\n",
    "k=1\n",
    "@time opt=InterRelax.TSSOS_Dense(n,m,l,lmon_g,supp_g,coe_g,lmon_h,supp_h,coe_h,lmon_f,supp_f,coe_f,k);"
   ]
  },
  {
   "cell_type": "code",
   "execution_count": null,
   "metadata": {},
   "outputs": [],
   "source": []
  },
  {
   "cell_type": "code",
   "execution_count": 27,
   "metadata": {},
   "outputs": [
    {
     "name": "stderr",
     "output_type": "stream",
     "text": [
      "WARNING: replacing module InterruptedRelax.\n"
     ]
    }
   ],
   "source": [
    "include(\"../src/InterRelax.jl\")\n",
    "using .InterRelax\n",
    "\n",
    "InterRelax.save_info_vec_binary(n,c)"
   ]
  },
  {
   "cell_type": "code",
   "execution_count": null,
   "metadata": {},
   "outputs": [],
   "source": []
  }
 ],
 "metadata": {
  "kernelspec": {
   "display_name": "Julia 1.3.0",
   "language": "julia",
   "name": "julia-1.3"
  },
  "language_info": {
   "file_extension": ".jl",
   "mimetype": "application/julia",
   "name": "julia",
   "version": "1.3.0"
  }
 },
 "nbformat": 4,
 "nbformat_minor": 2
}
