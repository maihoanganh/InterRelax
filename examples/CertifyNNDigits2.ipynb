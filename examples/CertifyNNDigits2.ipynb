{
 "cells": [
  {
   "cell_type": "code",
   "execution_count": 1,
   "metadata": {},
   "outputs": [
    {
     "data": {
      "text/plain": [
       "10"
      ]
     },
     "execution_count": 1,
     "metadata": {},
     "output_type": "execute_result"
    }
   ],
   "source": [
    "using MAT\n",
    "using DynamicPolynomials, LinearAlgebra, SparseArrays\n",
    "\n",
    "data=\"/home/hoanganh/Desktop/math-topics/InterruptedRelax/codes/dataPOP2\" # path of data\n",
    "D = matread(data*\"/WeightsDigits2.mat\");\n",
    "W1 = D[\"W1\"]; W2 = D[\"W2\"]; c = D[\"c\"]; x_bar=D[\"x_bar\"]; y_bar=D[\"y_bar\"]\n",
    "eps = 0.1;\n",
    "\n",
    "m1=size(W1,2)\n",
    "m2=size(W2,2)\n",
    "m3=size(W2,1)"
   ]
  },
  {
   "cell_type": "code",
   "execution_count": 2,
   "metadata": {},
   "outputs": [
    {
     "data": {
      "text/plain": [
       "9"
      ]
     },
     "execution_count": 2,
     "metadata": {},
     "output_type": "execute_result"
    }
   ],
   "source": [
    "y_bar+1"
   ]
  },
  {
   "cell_type": "code",
   "execution_count": null,
   "metadata": {},
   "outputs": [],
   "source": []
  },
  {
   "cell_type": "code",
   "execution_count": 3,
   "metadata": {},
   "outputs": [
    {
     "name": "stdout",
     "output_type": "stream",
     "text": [
      "***Problem setting***\n",
      "Number of variables: n=84\n",
      "Number of inequality constraints: m=84\n",
      "Number of equality constraints: l=20\n"
     ]
    }
   ],
   "source": [
    "@polyvar x1[1:m1] x2[1:m2] x3[1:m3]# variables\n",
    "\n",
    "\n",
    "f=(c[y_bar+1,:]-c[1,:])'*x3\n",
    "\n",
    "g=Vector{Polynomial{true,Float64}}([])\n",
    "h=Vector{Polynomial{true,Float64}}([])\n",
    "\n",
    "pol=1.0*x1[1]\n",
    "\n",
    "for j in 1:m2\n",
    "    pol=x2[j]-sum(W1[j,r]*x1[r] for r=1:m1)\n",
    "    append!(g,[pol])\n",
    "    append!(h,[x2[j]*pol])\n",
    "end\n",
    "for j in 1:m3\n",
    "    pol=x3[j]-sum(W2[j,r]*x2[r] for r=1:m2)\n",
    "    append!(g,[pol])\n",
    "    append!(h,[x3[j]*pol])\n",
    "end\n",
    "\n",
    "for t in 1:m1\n",
    "    append!(g,[-x1[t]+x_bar[1,t]+eps])\n",
    "end\n",
    "\n",
    "m=length(g)\n",
    "l=length(h)\n",
    "\n",
    "f=f([x1;x2;x3]=>[x1+x_bar[1,:]-eps*ones(Float64,m1);x2;x3])\n",
    "\n",
    "for j in 1:m\n",
    "    g[j]=g[j]([x1;x2;x3]=>[x1+x_bar[1,:]-eps*ones(Float64,m1);x2;x3])\n",
    "end\n",
    "\n",
    "for j in 1:l\n",
    "    h[j]=h[j]([x1;x2;x3]=>[x1+x_bar[1,:]-eps*ones(Float64,m1);x2;x3])\n",
    "end\n",
    "\n",
    "\n",
    "x=[x1;x2;x3]; n=length(x)\n",
    "println(\"***Problem setting***\")\n",
    "println(\"Number of variables: n=\",n)\n",
    "println(\"Number of inequality constraints: m=\",m)\n",
    "println(\"Number of equality constraints: l=\",l)"
   ]
  },
  {
   "cell_type": "code",
   "execution_count": 4,
   "metadata": {},
   "outputs": [
    {
     "name": "stdout",
     "output_type": "stream",
     "text": [
      "**Interrupted relaxation based on Handelman's Positivstellensatz**\n",
      "Relaxation order: k=2\n",
      "Sparsity order: s=75\n",
      "------------------------------------------------------\n",
      "The clique sizes of varibles:\n",
      "[74, 11]\n",
      "[1, 10]\n",
      "------------------------------------------------------\n",
      "  Number of cliques: p=11\n",
      "  Largest clique size: u=74\n",
      " Maximal matrix size:75\n",
      "Problem\n",
      "  Name                   :                 \n",
      "  Objective sense        : max             \n",
      "  Type                   : CONIC (conic optimization problem)\n",
      "  Constraints            : 2970            \n",
      "  Cones                  : 0               \n",
      "  Scalar variables       : 9416            \n",
      "  Matrix variables       : 11              \n",
      "  Integer variables      : 0               \n",
      "\n",
      "Optimizer started.\n",
      "Presolve started.\n",
      "Linear dependency checker started.\n",
      "Linear dependency checker terminated.\n",
      "Eliminator started.\n",
      "Freed constraints in eliminator : 0\n",
      "Eliminator terminated.\n",
      "Eliminator - tries                  : 1                 time                   : 0.00            \n",
      "Lin. dep.  - tries                  : 1                 time                   : 0.00            \n",
      "Lin. dep.  - number                 : 0               \n",
      "Presolve terminated. Time: 0.01    \n",
      "Problem\n",
      "  Name                   :                 \n",
      "  Objective sense        : max             \n",
      "  Type                   : CONIC (conic optimization problem)\n",
      "  Constraints            : 2970            \n",
      "  Cones                  : 0               \n",
      "  Scalar variables       : 9416            \n",
      "  Matrix variables       : 11              \n",
      "  Integer variables      : 0               \n",
      "\n",
      "Optimizer  - threads                : 4               \n",
      "Optimizer  - solved problem         : the primal      \n",
      "Optimizer  - Constraints            : 2970\n",
      "Optimizer  - Cones                  : 1\n",
      "Optimizer  - Scalar variables       : 6767              conic                  : 86              \n",
      "Optimizer  - Semi-definite variables: 11                scalarized             : 3630            \n",
      "Factor     - setup time             : 0.41              dense det. time        : 0.00            \n",
      "Factor     - ML order time          : 0.21              GP order time          : 0.00            \n",
      "Factor     - nonzeros before factor : 4.11e+06          after factor           : 4.11e+06        \n",
      "Factor     - dense dim.             : 13                flops                  : 7.85e+09        \n",
      "ITE PFEAS    DFEAS    GFEAS    PRSTATUS   POBJ              DOBJ              MU       TIME  \n",
      "0   1.1e+01  1.0e+00  1.0e+00  0.00e+00   0.000000000e+00   0.000000000e+00   1.0e+00  0.44  \n",
      "1   6.4e+00  5.8e-01  7.1e-01  -5.20e-03  4.997455993e-01   -1.697643452e-03  5.8e-01  0.66  \n",
      "2   3.0e+00  2.8e-01  4.7e-01  -8.63e-01  1.976187054e+00   -8.828719117e-03  2.8e-01  0.89  \n",
      "3   2.0e+00  1.8e-01  3.9e-01  -9.18e-01  3.356860838e+00   -3.234195059e-02  1.8e-01  1.10  \n",
      "4   1.5e+00  1.3e-01  3.0e-01  -1.23e+00  4.035893861e+00   -2.502797593e-02  1.3e-01  1.31  \n",
      "5   8.8e-01  8.0e-02  2.4e-01  -1.09e+00  7.934045066e+00   -5.757872022e-02  8.0e-02  1.52  \n",
      "6   2.3e-01  2.1e-02  1.3e-01  -1.07e+00  3.855721194e+01   -1.570090415e-01  2.1e-02  1.75  \n",
      "7   4.3e-02  3.9e-03  5.8e-02  -1.01e+00  2.183364868e+02   -6.769739126e-01  3.9e-03  2.03  \n",
      "8   7.4e-03  6.8e-04  2.4e-02  -9.85e-01  1.208399161e+03   -2.068308986e+00  6.8e-04  2.29  \n",
      "9   6.1e-04  5.5e-05  5.3e-03  -9.15e-01  9.281309426e+03   -9.256707700e-01  5.5e-05  2.52  \n",
      "10  6.3e-05  5.8e-06  4.3e-04  -1.84e-01  5.483559967e+03   -7.258917890e-01  5.8e-06  2.77  \n",
      "11  5.6e-06  5.1e-07  1.3e-05  7.10e-01   6.091577574e+02   -3.107349571e-01  5.1e-07  3.03  \n",
      "12  2.6e-06  2.4e-07  3.3e-06  1.35e+00   1.911293762e+02   -1.643787755e-01  2.4e-07  3.24  \n",
      "13  5.0e-07  4.6e-08  3.3e-07  1.08e+00   5.224073145e+01   -7.416208679e-02  4.6e-08  3.53  \n",
      "14  8.2e-08  7.5e-09  2.4e-08  8.80e-01   1.037661227e+01   -2.982530804e-02  7.5e-09  3.77  \n",
      "15  4.8e-08  4.4e-09  1.2e-08  8.06e-01   7.218504422e+00   -2.360448313e-02  4.4e-09  3.99  \n",
      "16  7.1e-09  6.4e-10  5.6e-10  1.11e+00   7.369710227e-01   -8.928845844e-03  6.4e-10  4.23  \n",
      "17  6.2e-09  5.7e-10  4.9e-10  5.83e-01   7.442283475e-01   -8.609180641e-03  5.7e-10  4.44  \n",
      "18  1.1e-09  1.0e-10  4.2e-11  8.19e-01   1.679114878e-01   -3.649530583e-03  1.0e-10  4.69  \n",
      "19  9.8e-10  8.9e-11  3.6e-11  8.83e-01   1.592066473e-01   -3.457353295e-03  8.9e-11  4.91  \n",
      "20  3.6e-10  3.2e-11  7.4e-12  1.10e+00   4.999320988e-02   -1.660284515e-03  3.2e-11  5.11  \n",
      "21  3.3e-11  3.0e-12  1.8e-13  1.11e+00   2.925278833e-03   -7.522829529e-04  3.0e-12  5.36  \n",
      "22  2.4e-11  2.2e-12  1.3e-13  7.20e-01   2.738594126e-03   -6.537637455e-04  2.2e-12  5.56  \n",
      "23  4.0e-12  3.6e-13  7.3e-15  1.05e+00   1.638447741e-04   -2.564952481e-04  3.6e-13  5.80  \n",
      "24  2.1e-12  1.8e-13  3.1e-15  8.13e-01   1.215312008e-04   -1.796058581e-04  1.8e-13  6.05  \n",
      "25  7.0e-13  5.8e-14  5.4e-16  1.11e+00   -3.639989511e-06  -9.279482684e-05  5.8e-14  6.30  \n",
      "26  7.0e-13  5.8e-14  9.5e-16  7.49e+00   1.358417385e-04   -1.349153827e-04  5.7e-14  6.50  \n",
      "27  4.0e-13  3.2e-14  4.2e-16  1.01e+00   7.983458135e-05   -8.690918993e-05  3.2e-14  6.70  \n",
      "28  1.1e-13  8.5e-15  6.0e-17  9.99e-01   4.500577418e-06   -4.566143913e-05  8.5e-15  6.94  \n",
      "29  2.9e-14  2.3e-15  8.6e-18  1.00e+00   -1.047513388e-05  -2.453914433e-05  2.3e-15  7.20  \n",
      "30  2.5e-14  1.3e-15  1.1e-18  1.00e+00   -9.131324837e-06  -1.278242314e-05  5.7e-16  7.45  \n",
      "31  1.1e-14  8.9e-16  2.6e-19  1.00e+00   -6.661566564e-06  -8.085631469e-06  2.2e-16  7.70  \n",
      "32  8.7e-15  1.8e-15  4.0e-20  1.00e+00   -4.004090643e-06  -4.416318397e-06  6.2e-17  7.95  \n",
      "33  2.2e-13  4.4e-15  9.5e-21  1.03e+00   -2.896260967e-06  -3.054087604e-06  2.4e-17  8.15  \n",
      "34  6.8e-14  1.8e-15  1.6e-21  1.03e+00   -1.857254444e-06  -1.906078867e-06  7.2e-18  8.41  \n",
      "35  1.1e-13  3.6e-15  7.3e-22  1.00e+00   -1.491860847e-06  -1.520775469e-06  4.3e-18  8.62  \n",
      "36  2.2e-13  2.7e-15  1.8e-22  1.00e+00   -1.067810988e-06  -1.079183292e-06  1.7e-18  8.84  \n",
      "37  1.7e-13  1.8e-15  1.2e-22  1.00e+00   -9.432727165e-07  -9.519696076e-07  1.3e-18  9.04  \n",
      "Optimizer terminated. Time: 9.04    \n",
      "\n",
      "Termination status = OPTIMAL\n",
      "Optimal value = -9.432727164886283e-7\n",
      " 43.450632 seconds (105.22 M allocations: 8.539 GiB, 4.98% gc time)\n"
     ]
    }
   ],
   "source": [
    "using SparseArrays\n",
    "\n",
    "include(\"../src/InterRelax.jl\")\n",
    "using .InterRelax\n",
    "\n",
    "n,m,l,lmon_g,supp_g,coe_g,lmon_h,supp_h,coe_h,lmon_f,supp_f,coe_f,dg,dh=InterRelax.get_info(x,f,g,h,sparse=true);\n",
    "#data=\"/home/hoanganh/Desktop/math-topics/InterruptedRelax/codes/dataPOP2\" # path of data\n",
    "#include(data*\"/sparsePOPcliq$(u)nineq$(m)neq$(l).jl\")\n",
    "\n",
    "k=2\n",
    "s=75\n",
    "L=100*ones(Float64,74)\n",
    "\n",
    "@time opt_val1,opt_sol=InterRelax.RelaxSparse_without_multiplier(n,m,l,lmon_g,supp_g,coe_g,lmon_h,supp_h,coe_h,\n",
    "    lmon_f,supp_f,coe_f,dg,dh,s,k,L,\n",
    "    assign=\"min\",alg=\"MD\",minimize=true,solver=\"Mosek\",comp_opt_sol=false);"
   ]
  },
  {
   "cell_type": "code",
   "execution_count": 6,
   "metadata": {
    "scrolled": true
   },
   "outputs": [
    {
     "name": "stdout",
     "output_type": "stream",
     "text": [
      "**Interrupted relaxation based on Putinar-Vasilescu's Positivstellensatz**\n",
      "Relaxation order: k=1\n",
      "Sparsity order: s=76\n",
      "Sparsity order: d=2\n",
      "------------------------------------------------------\n",
      "The clique sizes of varibles:\n",
      "[74, 11]\n",
      "[1, 10]\n",
      "------------------------------------------------------\n",
      "  Number of cliques: p="
     ]
    },
    {
     "name": "stderr",
     "output_type": "stream",
     "text": [
      "WARNING: replacing module InterRelax.\n"
     ]
    },
    {
     "name": "stdout",
     "output_type": "stream",
     "text": [
      "11\n",
      "  Largest clique size: u=74\n"
     ]
    },
    {
     "ename": "InterruptException",
     "evalue": "InterruptException:",
     "output_type": "error",
     "traceback": [
      "InterruptException:",
      "",
      "Stacktrace:",
      " [1] materialize at ./boot.jl:404 [inlined]",
      " [2] broadcast_preserving_zero_d at ./broadcast.jl:808 [inlined]",
      " [3] -(::Array{UInt16,1}, ::Array{UInt16,1}) at ./arraymath.jl:39",
      " [4] #RelaxSparse_with_multiplier#22(::String, ::String, ::Bool, ::String, ::Int64, ::Bool, ::typeof(Main.InterRelax.RelaxSparse_with_multiplier), ::Int64, ::Int64, ::Int64, ::Array{UInt64,1}, ::Array{SparseMatrixCSC{UInt64,Ti} where Ti<:Integer,1}, ::Array{Array{Float64,1},1}, ::Array{UInt64,1}, ::Array{SparseMatrixCSC{UInt64,Ti} where Ti<:Integer,1}, ::Array{Array{Float64,1},1}, ::Int64, ::SparseMatrixCSC{UInt64,Int64}, ::Array{Float64,1}, ::Array{Int64,1}, ::Array{Int64,1}, ::Int64, ::Int64, ::Int64) at /home/hoanganh/Desktop/math-topics/LiftingEvenSymmetry/codes/LiftingEvenSymmetry/src/SolveRelaxSparse.jl:181",
      " [5] #RelaxSparse_with_multiplier at ./none:0 [inlined]",
      " [6] #RelaxSparse#21(::String, ::String, ::Bool, ::String, ::Int64, ::Bool, ::typeof(Main.InterRelax.RelaxSparse), ::Int64, ::Int64, ::Int64, ::Array{UInt64,1}, ::Array{SparseMatrixCSC{UInt64,Ti} where Ti<:Integer,1}, ::Array{Array{Float64,1},1}, ::Array{UInt64,1}, ::Array{SparseMatrixCSC{UInt64,Ti} where Ti<:Integer,1}, ::Array{Array{Float64,1},1}, ::Int64, ::SparseMatrixCSC{UInt64,Int64}, ::Array{Float64,1}, ::Array{Int64,1}, ::Array{Int64,1}, ::Int64, ::Int64, ::Int64) at /home/hoanganh/Desktop/math-topics/LiftingEvenSymmetry/codes/LiftingEvenSymmetry/src/SolveRelaxSparse.jl:9",
      " [7] (::Main.InterRelax.var\"#kw##RelaxSparse\")(::NamedTuple{(:assign, :alg, :minimize, :solver, :comp_opt_sol),Tuple{String,String,Bool,String,Bool}}, ::typeof(Main.InterRelax.RelaxSparse), ::Int64, ::Int64, ::Int64, ::Array{UInt64,1}, ::Array{SparseMatrixCSC{UInt64,Ti} where Ti<:Integer,1}, ::Array{Array{Float64,1},1}, ::Array{UInt64,1}, ::Array{SparseMatrixCSC{UInt64,Ti} where Ti<:Integer,1}, ::Array{Array{Float64,1},1}, ::Int64, ::SparseMatrixCSC{UInt64,Int64}, ::Array{Float64,1}, ::Array{Int64,1}, ::Array{Int64,1}, ::Int64, ::Int64, ::Int64) at ./none:0",
      " [8] top-level scope at util.jl:155",
      " [9] top-level scope at In[6]:12"
     ]
    }
   ],
   "source": [
    "using SparseArrays\n",
    "\n",
    "include(\"../src/InterRelax.jl\")\n",
    "using .InterRelax\n",
    "\n",
    "n,m,l,lmon_g,supp_g,coe_g,lmon_h,supp_h,coe_h,lmon_f,supp_f,coe_f,dg,dh=InterRelax.get_info(x,f,g,h,sparse=true);\n",
    "\n",
    "\n",
    "k=1\n",
    "s=76\n",
    "d=Int64(maximum([sum(supp_f[:,i]) for i in 1:lmon_f]))+1\n",
    "\n",
    "@time opt_val1,opt_sol=InterRelax.RelaxSparse(n,m,l,lmon_g,supp_g,coe_g,lmon_h,supp_h,coe_h,lmon_f,supp_f,coe_f,dg,dh,k,s,d,assign=\"min\",alg=\"MD\",minimize=true,solver=\"Mosek\",comp_opt_sol=false);"
   ]
  },
  {
   "cell_type": "code",
   "execution_count": null,
   "metadata": {},
   "outputs": [],
   "source": []
  },
  {
   "cell_type": "code",
   "execution_count": 39,
   "metadata": {
    "scrolled": true
   },
   "outputs": [
    {
     "name": "stdout",
     "output_type": "stream",
     "text": [
      "**Interrupted relaxation based on Putinar-Vasilescu's Positivstellensatz**\n",
      "Relaxation order: k=1\n",
      "Sparsity order: s=76\n",
      "Sparsity order: d=2\n",
      "------------------------------------------------------\n",
      "The clique sizes of varibles:\n",
      "[74, 11]\n",
      "[1, 10]\n",
      "------------------------------------------------------\n",
      "  Number of cliques: p=11\n",
      "  Largest clique size: u=74\n",
      " Maximal matrix size:75\n",
      "Problem\n",
      "  Name                   :                 \n",
      "  Objective sense        : max             \n",
      "  Type                   : CONIC (conic optimization problem)\n",
      "  Constraints            : 79760           \n",
      "  Cones                  : 0               \n",
      "  Scalar variables       : 280236          \n",
      "  Matrix variables       : 279             \n",
      "  Integer variables      : 0               \n",
      "\n",
      "Optimizer started.\n",
      "Presolve started.\n",
      "Linear dependency checker started.\n",
      "Linear dependency checker terminated.\n",
      "Eliminator started.\n",
      "Freed constraints in eliminator : 0\n",
      "Eliminator terminated.\n",
      "Eliminator - tries                  : 1                 time                   : 0.00            \n",
      "Lin. dep.  - tries                  : 1                 time                   : 0.03            \n",
      "Lin. dep.  - number                 : 0               \n",
      "Presolve terminated. Time: 0.39    \n",
      "Problem\n",
      "  Name                   :                 \n",
      "  Objective sense        : max             \n",
      "  Type                   : CONIC (conic optimization problem)\n",
      "  Constraints            : 79760           \n",
      "  Cones                  : 0               \n",
      "  Scalar variables       : 280236          \n",
      "  Matrix variables       : 279             \n",
      "  Integer variables      : 0               \n",
      "\n",
      "Optimizer  - threads                : 4               \n",
      "Optimizer  - solved problem         : the primal      \n",
      "Optimizer  - Constraints            : 76855\n",
      "Optimizer  - Cones                  : 1\n",
      "Optimizer  - Scalar variables       : 276482            conic                  : 1597            \n",
      "Optimizer  - Semi-definite variables: 279               scalarized             : 434790          \n",
      "Factor     - setup time             : 750.21            dense det. time        : 0.00            \n",
      "Factor     - ML order time          : 311.72            GP order time          : 0.00            \n",
      "Factor     - nonzeros before factor : 2.68e+09          after factor           : 2.91e+09        \n",
      "Factor     - dense dim.             : 2                 flops                  : 1.48e+14        \n",
      "ITE PFEAS    DFEAS    GFEAS    PRSTATUS   POBJ              DOBJ              MU       TIME  \n",
      "0   3.3e+00  1.0e+00  1.0e+00  0.00e+00   0.000000000e+00   0.000000000e+00   1.0e+00  752.85\n",
      "MOSEK error 1051: Out of space.\n",
      "Optimizer terminated. Time: 760.32  \n",
      "\n"
     ]
    },
    {
     "name": "stderr",
     "output_type": "stream",
     "text": [
      "WARNING: replacing module InterRelax.\n"
     ]
    },
    {
     "ename": "Mosek.MosekError",
     "evalue": "Mosek.MosekError(1051, \"Out of space.\")",
     "output_type": "error",
     "traceback": [
      "Mosek.MosekError(1051, \"Out of space.\")",
      "",
      "Stacktrace:",
      " [1] optimize(::Mosek.Task) at /home/hoanganh/.julia/packages/Mosek/Ue6iA/src/msk_functions.jl:5509",
      " [2] optimize!(::MosekTools.MosekModel) at /home/hoanganh/.julia/packages/MosekTools/sppJY/src/MosekTools.jl:272",
      " [3] optimize!(::MathOptInterface.Bridges.LazyBridgeOptimizer{MosekTools.MosekModel}) at /home/hoanganh/.julia/packages/MathOptInterface/YDdD3/src/Bridges/bridge_optimizer.jl:319",
      " [4] optimize!(::MathOptInterface.Utilities.CachingOptimizer{MathOptInterface.AbstractOptimizer,MathOptInterface.Utilities.UniversalFallback{MathOptInterface.Utilities.GenericModel{Float64,MathOptInterface.Utilities.ModelFunctionConstraints{Float64}}}}) at /home/hoanganh/.julia/packages/MathOptInterface/YDdD3/src/Utilities/cachingoptimizer.jl:252",
      " [5] #optimize!#126(::Bool, ::Bool, ::Base.Iterators.Pairs{Union{},Union{},Tuple{},NamedTuple{(),Tuple{}}}, ::typeof(JuMP.optimize!), ::JuMP.Model, ::Nothing) at /home/hoanganh/.julia/packages/JuMP/klrjG/src/optimizer_interface.jl:185"
     ]
    }
   ],
   "source": [
    "using SparseArrays\n",
    "\n",
    "include(\"../src/InterRelax.jl\")\n",
    "using .InterRelax\n",
    "\n",
    "n,m,l,lmon_g,supp_g,coe_g,lmon_h,supp_h,coe_h,lmon_f,supp_f,coe_f,dg,dh=InterRelax.get_info(x,f,g,h,sparse=true);\n",
    "\n",
    "\n",
    "k=1\n",
    "s=76\n",
    "d=Int64(maximum([sum(supp_f[:,i]) for i in 1:lmon_f]))+1\n",
    "\n",
    "@time opt_val1,opt_sol=InterRelax.RelaxSparse(n,m,l,lmon_g,supp_g,coe_g,lmon_h,supp_h,coe_h,lmon_f,supp_f,coe_f,dg,dh,k,s,d,assign=\"min\",alg=\"MD\",minimize=true,solver=\"Mosek\",comp_opt_sol=false);"
   ]
  },
  {
   "cell_type": "code",
   "execution_count": null,
   "metadata": {},
   "outputs": [],
   "source": []
  },
  {
   "cell_type": "code",
   "execution_count": 74,
   "metadata": {
    "scrolled": true
   },
   "outputs": [
    {
     "name": "stdout",
     "output_type": "stream",
     "text": [
      "************************TSSOS************************\n",
      "TSSOS is launching...\n",
      "------------------------------------------------------\n",
      "The clique sizes of varibles:\n",
      "[11]\n",
      "[74]\n",
      "------------------------------------------------------\n",
      "Obtained the variable cliques in 0.001097885 seconds. The maximal size of cliques is 11.\n",
      "Assembling the SDP...\n",
      "There are 954 affine constraints.\n",
      "SDP assembling time: 0.004445411 seconds.\n",
      "Solving the SDP...\n",
      "Problem\n",
      "  Name                   :                 \n",
      "  Objective sense        : max             \n",
      "  Type                   : CONIC (conic optimization problem)\n",
      "  Constraints            : 954             \n",
      "  Cones                  : 0               \n",
      "  Scalar variables       : 189             \n",
      "  Matrix variables       : 74              \n",
      "  Integer variables      : 0               \n",
      "\n",
      "Optimizer started.\n",
      "Presolve started.\n",
      "Linear dependency checker started.\n",
      "Linear dependency checker terminated.\n",
      "Eliminator started.\n",
      "Freed constraints in eliminator : 0\n",
      "Eliminator terminated.\n",
      "Eliminator - tries                  : 1                 time                   : 0.00            \n",
      "Lin. dep.  - tries                  : 1                 time                   : 0.00            \n",
      "Lin. dep.  - number                 : 0               \n",
      "Presolve terminated. Time: 0.00    \n",
      "Problem\n",
      "  Name                   :                 \n",
      "  Objective sense        : max             \n",
      "  Type                   : CONIC (conic optimization problem)\n",
      "  Constraints            : 954             \n",
      "  Cones                  : 0               \n",
      "  Scalar variables       : 189             \n",
      "  Matrix variables       : 74              \n",
      "  Integer variables      : 0               \n",
      "\n",
      "Optimizer  - threads                : 4               \n",
      "Optimizer  - solved problem         : the primal      \n",
      "Optimizer  - Constraints            : 954\n",
      "Optimizer  - Cones                  : 1\n",
      "Optimizer  - Scalar variables       : 190               conic                  : 22              \n",
      "Optimizer  - Semi-definite variables: 74                scalarized             : 5772            \n",
      "Factor     - setup time             : 0.01              dense det. time        : 0.00            \n",
      "Factor     - ML order time          : 0.00              GP order time          : 0.00            \n",
      "Factor     - nonzeros before factor : 8.95e+04          after factor           : 2.45e+05        \n",
      "Factor     - dense dim.             : 2                 flops                  : 8.78e+07        \n",
      "ITE PFEAS    DFEAS    GFEAS    PRSTATUS   POBJ              DOBJ              MU       TIME  \n",
      "0   7.4e+01  1.0e+00  1.0e+00  0.00e+00   0.000000000e+00   0.000000000e+00   1.0e+00  0.01  \n",
      "1   1.1e+01  1.5e-01  3.5e-01  -1.65e+00  1.098714342e+00   -3.661843379e+00  1.5e-01  0.03  \n",
      "2   8.0e+00  1.1e-01  2.9e-01  -9.05e-01  2.311400447e+00   -4.091169451e+00  1.1e-01  0.04  \n",
      "3   3.1e+00  4.2e-02  1.6e-01  -8.50e-01  7.239317829e+00   -6.259946214e+00  4.2e-02  0.05  \n",
      "4   1.3e+00  1.8e-02  5.2e-02  -2.53e-01  3.087303894e-02   -8.386497336e+00  1.8e-02  0.07  \n",
      "5   1.6e-01  2.2e-03  1.7e-03  4.44e-01   -9.907436852e+00  -1.052903555e+01  2.2e-03  0.08  \n"
     ]
    },
    {
     "name": "stderr",
     "output_type": "stream",
     "text": [
      "WARNING: replacing module InterRelax.\n"
     ]
    },
    {
     "name": "stdout",
     "output_type": "stream",
     "text": [
      "6   2.7e-02  3.6e-04  1.4e-04  1.11e+00   -1.557781850e+01  -1.571156607e+01  3.6e-04  0.11  \n",
      "7   6.5e-03  8.8e-05  2.7e-05  5.30e-01   -2.550741363e+01  -2.559725031e+01  8.8e-05  0.13  \n",
      "8   2.1e-03  2.9e-05  9.2e-06  -2.43e-02  -4.135802399e+01  -4.146018032e+01  2.9e-05  0.14  \n",
      "9   6.1e-04  8.2e-06  3.1e-06  -2.04e-01  -6.599472751e+01  -6.613341605e+01  8.2e-06  0.16  \n",
      "10  2.2e-04  2.9e-06  1.4e-06  -2.81e-01  -9.987760482e+01  -1.000926084e+02  2.9e-06  0.17  \n",
      "11  5.1e-05  6.9e-07  3.6e-07  -6.28e-02  -1.493975219e+02  -1.496620646e+02  6.9e-07  0.19  \n",
      "12  1.5e-05  2.1e-07  1.5e-07  -3.78e-01  -2.485833813e+02  -2.491155059e+02  2.1e-07  0.21  \n",
      "13  3.6e-06  4.9e-08  3.9e-08  -1.25e-02  -3.641011689e+02  -3.647254921e+02  4.9e-08  0.23  \n",
      "14  8.2e-07  1.1e-08  1.1e-08  -3.28e-01  -6.156921249e+02  -6.168475948e+02  1.1e-08  0.25  \n",
      "15  2.1e-07  2.3e-09  3.1e-09  -3.74e-01  -1.009327718e+03  -1.011258293e+03  2.3e-09  0.27  \n",
      "16  5.2e-08  5.8e-10  1.0e-09  -3.59e-01  -1.609271141e+03  -1.612365719e+03  5.7e-10  0.29  \n",
      "17  4.7e-08  4.0e-10  7.5e-10  -3.03e-01  -1.843894702e+03  -1.847470906e+03  4.0e-10  0.32  \n",
      "18  4.7e-08  4.0e-10  7.5e-10  -2.84e-01  -1.843894702e+03  -1.847470906e+03  4.0e-10  0.36  \n",
      "19  4.7e-08  4.0e-10  7.5e-10  -2.84e-01  -1.843894702e+03  -1.847470906e+03  4.0e-10  0.39  \n",
      "Optimizer terminated. Time: 0.44    \n",
      "\n",
      "SDP solving time: 0.452411261 seconds.\n",
      "termination status: SLOW_PROGRESS\n",
      "solution status: UNKNOWN_RESULT_STATUS\n",
      "optimum = -1843.8947018155534\n",
      "  0.467063 seconds (448.36 k allocations: 46.071 MiB)\n"
     ]
    }
   ],
   "source": [
    "using SparseArrays, TSSOS\n",
    "\n",
    "include(\"../src/InterRelax.jl\")\n",
    "using .InterRelax\n",
    "\n",
    "n,m,l,lmon_g,supp_g,coe_g,lmon_h,supp_h,coe_h,lmon_f,supp_f,coe_f,dg,dh=InterRelax.get_info(x,f,g,h,sparse=true);\n",
    "\n",
    "k=1\n",
    "\n",
    "vars,pop=InterRelax.get_POP(n,m,l,lmon_g,supp_g,coe_g,lmon_h,supp_h,coe_h,lmon_f,supp_f,coe_f)\n",
    "@time opt,sol,data=TSSOS.cs_tssos_first(pop,vars,k,numeq=l,CS=\"MD\",TS=false,solver=\"Mosek\");"
   ]
  },
  {
   "cell_type": "code",
   "execution_count": 28,
   "metadata": {},
   "outputs": [
    {
     "data": {
      "text/plain": [
       "12"
      ]
     },
     "execution_count": 28,
     "metadata": {},
     "output_type": "execute_result"
    }
   ],
   "source": [
    "binomial(11+1,1)"
   ]
  },
  {
   "cell_type": "code",
   "execution_count": 20,
   "metadata": {},
   "outputs": [
    {
     "name": "stdout",
     "output_type": "stream",
     "text": [
      "************************TSSOS************************\n",
      "TSSOS is launching...\n",
      "------------------------------------------------------\n",
      "The clique sizes of varibles:\n",
      "[74, 11]\n",
      "[1, 10]\n",
      "------------------------------------------------------\n",
      "Obtained the variable cliques in 0.002665221 seconds. The maximal size of cliques is 74.\n"
     ]
    },
    {
     "name": "stderr",
     "output_type": "stream",
     "text": [
      "WARNING: replacing module InterRelax.\n"
     ]
    },
    {
     "name": "stdout",
     "output_type": "stream",
     "text": [
      "Assembling the SDP...\n",
      "There are 1430065 affine constraints.\n",
      "SDP assembling time: 19.855059978 seconds.\n",
      "Solving the SDP...\n",
      "Problem\n",
      "  Name                   :                 \n",
      "  Objective sense        : max             \n",
      "  Type                   : CONIC (conic optimization problem)\n",
      "  Constraints            : 1430065         \n",
      "  Cones                  : 0               \n",
      "  Scalar variables       : 29281           \n",
      "  Matrix variables       : 179             \n",
      "  Integer variables      : 0               \n",
      "\n",
      "Optimizer started.\n",
      "Presolve started.\n",
      "Linear dependency checker started.\n",
      "Linear dependency checker terminated.\n",
      "Eliminator started.\n",
      "Freed constraints in eliminator : 0\n",
      "Eliminator terminated.\n",
      "Eliminator - tries                  : 1                 time                   : 0.00            \n",
      "Lin. dep.  - tries                  : 1                 time                   : 0.22            \n",
      "Lin. dep.  - number                 : 0               \n",
      "Presolve terminated. Time: 0.74    \n",
      "MOSEK error 1051: Out of space.\n",
      "Optimizer terminated. Time: 20.99   \n",
      "\n"
     ]
    },
    {
     "ename": "Mosek.MosekError",
     "evalue": "Mosek.MosekError(1051, \"Out of space.\")",
     "output_type": "error",
     "traceback": [
      "Mosek.MosekError(1051, \"Out of space.\")",
      "",
      "Stacktrace:",
      " [1] optimize(::Mosek.Task) at /home/hoanganh/.julia/packages/Mosek/Ue6iA/src/msk_functions.jl:5509",
      " [2] optimize!(::MosekTools.MosekModel) at /home/hoanganh/.julia/packages/MosekTools/sppJY/src/MosekTools.jl:272",
      " [3] optimize!(::MathOptInterface.Bridges.LazyBridgeOptimizer{MosekTools.MosekModel}) at /home/hoanganh/.julia/packages/MathOptInterface/YDdD3/src/Bridges/bridge_optimizer.jl:319",
      " [4] optimize!(::MathOptInterface.Utilities.CachingOptimizer{MathOptInterface.AbstractOptimizer,MathOptInterface.Utilities.UniversalFallback{MathOptInterface.Utilities.GenericModel{Float64,MathOptInterface.Utilities.ModelFunctionConstraints{Float64}}}}) at /home/hoanganh/.julia/packages/MathOptInterface/YDdD3/src/Utilities/cachingoptimizer.jl:252",
      " [5] #optimize!#126(::Bool, ::Bool, ::Base.Iterators.Pairs{Union{},Union{},Tuple{},NamedTuple{(),Tuple{}}}, ::typeof(JuMP.optimize!), ::JuMP.Model, ::Nothing) at /home/hoanganh/.julia/packages/JuMP/klrjG/src/optimizer_interface.jl:185",
      " [6] optimize! at /home/hoanganh/.julia/packages/JuMP/klrjG/src/optimizer_interface.jl:157 [inlined] (repeats 2 times)",
      " [7] macro expansion at /home/hoanganh/.julia/packages/TSSOS/yRxCz/src/nblockmix.jl:392 [inlined]",
      " [8] macro expansion at ./util.jl:212 [inlined]",
      " [9] #blockcpop_mix#88(::Int64, ::Int64, ::Bool, ::Bool, ::String, ::Bool, ::Bool, ::Bool, ::Bool, ::Bool, ::Bool, ::typeof(TSSOS.blockcpop_mix), ::Int64, ::Int64, ::Array{Array{Array{UInt16,1},1},1}, ::Array{Array{Float64,1},1}, ::Array{Array{Array{Array{UInt16,1},1},1},1}, ::Array{Array{UInt16,1},1}, ::Int64, ::Array{Int64,1}, ::Array{Array{UInt32,1},1}, ::Array{UInt32,1}, ::Array{Array{Array{Array{UInt16,1},1},1},1}, ::Array{Array{UInt16,1},1}, ::Array{Array{Array{UInt16,1},1},1}) at /home/hoanganh/.julia/packages/TSSOS/yRxCz/src/nblockmix.jl:391",
      " [10] (::TSSOS.var\"#kw##blockcpop_mix\")(::NamedTuple{(:numeq, :nb, :QUIET, :TS, :solver, :tune, :solve, :solution, :MomentOne, :Mommat),Tuple{Int64,Int64,Bool,Bool,String,Bool,Bool,Bool,Bool,Bool}}, ::typeof(TSSOS.blockcpop_mix), ::Int64, ::Int64, ::Array{Array{Array{UInt16,1},1},1}, ::Array{Array{Float64,1},1}, ::Array{Array{Array{Array{UInt16,1},1},1},1}, ::Array{Array{UInt16,1},1}, ::Int64, ::Array{Int64,1}, ::Array{Array{UInt32,1},1}, ::Array{UInt32,1}, ::Array{Array{Array{Array{UInt16,1},1},1},1}, ::Array{Array{UInt16,1},1}, ::Array{Array{Array{UInt16,1},1},1}) at ./none:0",
      " [11] #cs_tssos_first#84(::Int64, ::Int64, ::Int64, ::String, ::Bool, ::String, ::Bool, ::Bool, ::Int64, ::Bool, ::String, ::Bool, ::Bool, ::Bool, ::Bool, ::Bool, ::Float64, ::typeof(cs_tssos_first), ::Array{Array{Array{UInt16,1},1},1}, ::Array{Array{Float64,1},1}, ::Int64, ::Int64) at /home/hoanganh/.julia/packages/TSSOS/yRxCz/src/nblockmix.jl:118",
      " [12] #cs_tssos_first at ./none:0 [inlined]",
      " [13] #cs_tssos_first#81 at /home/hoanganh/.julia/packages/TSSOS/yRxCz/src/nblockmix.jl:47 [inlined]",
      " [14] (::TSSOS.var\"#kw##cs_tssos_first\")(::NamedTuple{(:numeq, :CS, :TS, :solver),Tuple{Int64,String,Bool,String}}, ::typeof(cs_tssos_first), ::Array{Polynomial{true,Float64},1}, ::Array{PolyVar{true},1}, ::Int64) at ./none:0",
      " [15] top-level scope at util.jl:155",
      " [16] top-level scope at In[20]:11"
     ]
    }
   ],
   "source": [
    "using SparseArrays, TSSOS\n",
    "\n",
    "include(\"../src/InterRelax.jl\")\n",
    "using .InterRelax\n",
    "\n",
    "n,m,l,lmon_g,supp_g,coe_g,lmon_h,supp_h,coe_h,lmon_f,supp_f,coe_f,dg,dh=InterRelax.get_info(x,f,g,h,sparse=true);\n",
    "\n",
    "k=2\n",
    "\n",
    "vars,pop=InterRelax.get_POP(n,m,l,lmon_g,supp_g,coe_g,lmon_h,supp_h,coe_h,lmon_f,supp_f,coe_f)\n",
    "@time opt,sol,data=TSSOS.cs_tssos_first(pop,vars,k,numeq=l,CS=\"MD\",TS=false,solver=\"Mosek\");"
   ]
  },
  {
   "cell_type": "code",
   "execution_count": 22,
   "metadata": {},
   "outputs": [
    {
     "data": {
      "text/plain": [
       "2850"
      ]
     },
     "execution_count": 22,
     "metadata": {},
     "output_type": "execute_result"
    }
   ],
   "source": [
    "binomial(74+2,2)"
   ]
  },
  {
   "cell_type": "code",
   "execution_count": null,
   "metadata": {},
   "outputs": [],
   "source": []
  }
 ],
 "metadata": {
  "kernelspec": {
   "display_name": "Julia 1.3.0",
   "language": "julia",
   "name": "julia-1.3"
  },
  "language_info": {
   "file_extension": ".jl",
   "mimetype": "application/julia",
   "name": "julia",
   "version": "1.3.0"
  }
 },
 "nbformat": 4,
 "nbformat_minor": 2
}
