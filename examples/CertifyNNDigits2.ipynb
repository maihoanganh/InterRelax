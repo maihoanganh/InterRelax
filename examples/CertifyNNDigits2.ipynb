{
 "cells": [
  {
   "cell_type": "code",
   "execution_count": 1,
   "metadata": {},
   "outputs": [
    {
     "data": {
      "text/plain": [
       "10"
      ]
     },
     "execution_count": 1,
     "metadata": {},
     "output_type": "execute_result"
    }
   ],
   "source": [
    "using MAT\n",
    "using DynamicPolynomials, LinearAlgebra, SparseArrays\n",
    "\n",
    "data=\"/home/hoanganh/Desktop/math-topics/InterruptedRelax/codes/dataPOP2\" # path of data\n",
    "D = matread(data*\"/WeightsDigits2.mat\");\n",
    "W1 = D[\"W1\"]; W2 = D[\"W2\"]; c = D[\"c\"]; x_bar=D[\"x_bar\"]; y_bar=D[\"y_bar\"]\n",
    "eps = 0.1;\n",
    "\n",
    "m1=size(W1,2)\n",
    "m2=size(W2,2)\n",
    "m3=size(W2,1)"
   ]
  },
  {
   "cell_type": "code",
   "execution_count": 2,
   "metadata": {},
   "outputs": [
    {
     "data": {
      "text/plain": [
       "9"
      ]
     },
     "execution_count": 2,
     "metadata": {},
     "output_type": "execute_result"
    }
   ],
   "source": [
    "y_bar+1"
   ]
  },
  {
   "cell_type": "code",
   "execution_count": 71,
   "metadata": {},
   "outputs": [
    {
     "name": "stdout",
     "output_type": "stream",
     "text": [
      "***Problem setting***\n",
      "Number of variables: n=84\n",
      "Number of inequality constraints: m=84\n",
      "Number of equality constraints: l=20\n"
     ]
    }
   ],
   "source": [
    "@polyvar x1[1:m1] x2[1:m2] x3[1:m3]# variables\n",
    "\n",
    "\n",
    "f=(c[y_bar+1,:]-c[10,:])'*x3\n",
    "\n",
    "g=Vector{Polynomial{true,Float64}}([])\n",
    "h=Vector{Polynomial{true,Float64}}([])\n",
    "\n",
    "pol=1.0*x1[1]\n",
    "\n",
    "for j in 1:m2\n",
    "    pol=x2[j]-sum(W1[j,r]*x1[r] for r=1:m1)\n",
    "    append!(g,[pol])\n",
    "    append!(h,[x2[j]*pol])\n",
    "end\n",
    "for j in 1:m3\n",
    "    pol=x3[j]-sum(W2[j,r]*x2[r] for r=1:m2)\n",
    "    append!(g,[pol])\n",
    "    append!(h,[x3[j]*pol])\n",
    "end\n",
    "\n",
    "for t in 1:m1\n",
    "    append!(g,[-x1[t]+x_bar[1,t]+eps])\n",
    "end\n",
    "\n",
    "m=length(g)\n",
    "l=length(h)\n",
    "\n",
    "f=f([x1;x2;x3]=>[x1+x_bar[1,:]-eps*ones(Float64,m1);x2;x3])\n",
    "\n",
    "for j in 1:m\n",
    "    g[j]=g[j]([x1;x2;x3]=>[x1+x_bar[1,:]-eps*ones(Float64,m1);x2;x3])\n",
    "end\n",
    "\n",
    "for j in 1:l\n",
    "    h[j]=h[j]([x1;x2;x3]=>[x1+x_bar[1,:]-eps*ones(Float64,m1);x2;x3])\n",
    "end\n",
    "\n",
    "\n",
    "x=[x1;x2;x3]; n=length(x)\n",
    "println(\"***Problem setting***\")\n",
    "println(\"Number of variables: n=\",n)\n",
    "println(\"Number of inequality constraints: m=\",m)\n",
    "println(\"Number of equality constraints: l=\",l)"
   ]
  },
  {
   "cell_type": "code",
   "execution_count": 72,
   "metadata": {
    "scrolled": true
   },
   "outputs": [
    {
     "name": "stdout",
     "output_type": "stream",
     "text": [
      "**Interrupted relaxation based on Putinar-Vasilescu's Positivstellensatz**\n",
      "Relaxation order: k=0\n",
      "Sparsity order: s=76\n",
      "Sparsity order: d=2\n",
      "------------------------------------------------------\n",
      "The clique sizes of varibles:\n",
      "[74, 11]\n",
      "[1, 10]\n",
      "------------------------------------------------------\n",
      "  Number of cliques: p="
     ]
    },
    {
     "name": "stderr",
     "output_type": "stream",
     "text": [
      "WARNING: replacing module InterRelax.\n"
     ]
    },
    {
     "name": "stdout",
     "output_type": "stream",
     "text": [
      "11\n",
      "  Largest clique size: u=74\n",
      " Maximal matrix size:75\n",
      "Problem\n",
      "  Name                   :                 \n",
      "  Objective sense        : max             \n",
      "  Type                   : CONIC (conic optimization problem)\n",
      "  Constraints            : 2970            \n",
      "  Cones                  : 0               \n",
      "  Scalar variables       : 9126            \n",
      "  Matrix variables       : 11              \n",
      "  Integer variables      : 0               \n",
      "\n",
      "Optimizer started.\n",
      "Presolve started.\n",
      "Linear dependency checker started.\n",
      "Linear dependency checker terminated.\n",
      "Eliminator started.\n",
      "Freed constraints in eliminator : 0\n",
      "Eliminator terminated.\n",
      "Eliminator - tries                  : 1                 time                   : 0.00            \n",
      "Lin. dep.  - tries                  : 1                 time                   : 0.00            \n",
      "Lin. dep.  - number                 : 0               \n",
      "Presolve terminated. Time: 0.01    \n",
      "Problem\n",
      "  Name                   :                 \n",
      "  Objective sense        : max             \n",
      "  Type                   : CONIC (conic optimization problem)\n",
      "  Constraints            : 2970            \n",
      "  Cones                  : 0               \n",
      "  Scalar variables       : 9126            \n",
      "  Matrix variables       : 11              \n",
      "  Integer variables      : 0               \n",
      "\n",
      "Optimizer  - threads                : 4               \n",
      "Optimizer  - solved problem         : the primal      \n",
      "Optimizer  - Constraints            : 2970\n",
      "Optimizer  - Cones                  : 1\n",
      "Optimizer  - Scalar variables       : 8557              conic                  : 22              \n",
      "Optimizer  - Semi-definite variables: 11                scalarized             : 3630            \n",
      "Factor     - setup time             : 0.41              dense det. time        : 0.00            \n",
      "Factor     - ML order time          : 0.22              GP order time          : 0.00            \n",
      "Factor     - nonzeros before factor : 4.07e+06          after factor           : 4.07e+06        \n",
      "Factor     - dense dim.             : 2                 flops                  : 7.76e+09        \n",
      "ITE PFEAS    DFEAS    GFEAS    PRSTATUS   POBJ              DOBJ              MU       TIME  \n",
      "0   1.1e+01  1.0e+00  1.0e+00  0.00e+00   0.000000000e+00   0.000000000e+00   1.0e+00  0.42  \n",
      "1   9.1e+00  8.3e-01  8.7e-01  -1.65e+00  1.697460723e-02   -1.783883770e-01  8.3e-01  0.65  \n",
      "2   5.3e+00  4.8e-01  6.3e-01  -1.12e+00  8.404746682e-01   -4.140191725e-02  4.8e-01  0.89  \n",
      "3   1.2e+00  1.0e-01  3.1e-01  -1.09e+00  7.819173004e+00   1.736802355e-01   1.0e-01  1.18  \n",
      "4   2.3e-01  2.1e-02  1.2e-01  -9.78e-01  3.229290686e+01   -6.084766918e-01  2.1e-02  1.47  \n",
      "5   7.9e-02  7.2e-03  2.8e-02  -3.73e-01  1.383787691e+01   -6.379633536e-01  7.2e-03  1.74  \n",
      "6   5.8e-02  5.3e-03  1.7e-02  8.47e-01   1.005330804e+01   -5.787088994e-01  5.3e-03  1.99  \n",
      "7   3.1e-02  2.9e-03  5.5e-03  1.13e+00   3.205980162e+00   -4.538074874e-01  2.9e-03  2.24  \n",
      "8   2.2e-02  2.0e-03  2.8e-03  1.52e+00   1.548820985e+00   -3.572778835e-01  2.0e-03  2.47  \n",
      "9   9.2e-03  8.4e-04  6.7e-04  1.48e+00   3.933064669e-01   -2.344875726e-01  8.4e-04  2.69  \n",
      "10  1.4e-03  1.2e-04  2.8e-05  1.40e+00   -6.598037252e-02  -1.140545074e-01  1.2e-04  2.94  \n",
      "11  7.9e-05  7.2e-06  3.7e-07  1.18e+00   -4.852981229e-02  -5.113714491e-02  7.2e-06  3.21  \n",
      "12  9.7e-06  8.8e-07  1.6e-08  1.01e+00   -2.161451815e-02  -2.193193146e-02  8.8e-07  3.48  \n",
      "13  3.5e-06  3.2e-07  3.5e-09  9.95e-01   -1.202326510e-02  -1.213756780e-02  3.2e-07  3.71  \n",
      "14  5.9e-07  5.4e-08  2.4e-10  9.85e-01   -5.852930484e-03  -5.872304175e-03  5.4e-08  3.98  \n",
      "15  5.5e-07  5.0e-08  2.2e-10  9.16e-01   -5.605792121e-03  -5.624098446e-03  5.0e-08  4.22  \n",
      "16  2.8e-07  2.6e-08  8.2e-11  9.66e-01   -3.699152099e-03  -3.708728606e-03  2.6e-08  4.43  \n",
      "17  6.4e-08  5.8e-09  9.2e-12  9.71e-01   -2.201320847e-03  -2.203667768e-03  5.8e-09  4.69  \n",
      "18  1.7e-08  1.6e-09  1.4e-12  9.22e-01   -1.245596349e-03  -1.246326461e-03  1.6e-09  4.94  \n",
      "19  6.3e-09  5.7e-10  3.2e-13  8.74e-01   -7.717070491e-04  -7.719977363e-04  5.7e-10  5.18  \n",
      "20  4.0e-09  3.6e-10  1.7e-13  7.92e-01   -6.184327946e-04  -6.186426557e-04  3.6e-10  5.40  \n",
      "21  6.3e-10  5.7e-11  1.4e-14  8.05e-01   -3.089599712e-04  -3.090211532e-04  6.0e-11  5.67  \n",
      "22  2.5e-10  2.2e-11  4.0e-15  7.50e-01   -2.063286679e-04  -2.063595708e-04  2.4e-11  5.98  \n",
      "23  1.8e-10  1.7e-11  2.5e-15  1.05e+00   -1.735423122e-04  -1.735649479e-04  1.8e-11  6.23  \n",
      "24  1.1e-10  7.2e-12  7.3e-16  1.03e+00   -1.157175119e-04  -1.157274698e-04  8.2e-12  6.46  \n",
      "Optimizer terminated. Time: 6.46    \n",
      "\n",
      "Termination status = OPTIMAL\n",
      "Optimal value = -0.00011571751194794784\n",
      " 13.502534 seconds (23.18 M allocations: 4.029 GiB, 2.64% gc time)\n"
     ]
    }
   ],
   "source": [
    "using SparseArrays\n",
    "\n",
    "include(\"../src/InterRelax.jl\")\n",
    "using .InterRelax\n",
    "\n",
    "n,m,l,lmon_g,supp_g,coe_g,lmon_h,supp_h,coe_h,lmon_f,supp_f,coe_f,dg,dh=InterRelax.get_info(x,f,g,h,sparse=true);\n",
    "\n",
    "\n",
    "k=0\n",
    "s=76\n",
    "d=Int64(maximum([sum(supp_f[:,i]) for i in 1:lmon_f]))+1\n",
    "\n",
    "@time opt_val1,opt_sol=InterRelax.RelaxSparse(n,m,l,lmon_g,supp_g,coe_g,lmon_h,supp_h,coe_h,lmon_f,supp_f,coe_f,dg,dh,k,s,d,assign=\"min\",alg=\"MD\",minimize=true,solver=\"Mosek\",comp_opt_sol=false);"
   ]
  },
  {
   "cell_type": "code",
   "execution_count": null,
   "metadata": {},
   "outputs": [],
   "source": []
  },
  {
   "cell_type": "code",
   "execution_count": 73,
   "metadata": {
    "scrolled": true
   },
   "outputs": [
    {
     "name": "stdout",
     "output_type": "stream",
     "text": [
      "**Interrupted relaxation based on Putinar-Vasilescu's Positivstellensatz**\n",
      "Relaxation order: k=0\n",
      "Sparsity order: s=50\n",
      "Sparsity order: d=2\n",
      "------------------------------------------------------\n",
      "The clique sizes of varibles:\n",
      "[74, 11]\n",
      "[1, 10]\n",
      "------------------------------------------------------\n",
      "  Number of cliques: p="
     ]
    },
    {
     "name": "stderr",
     "output_type": "stream",
     "text": [
      "WARNING: replacing module InterRelax.\n"
     ]
    },
    {
     "name": "stdout",
     "output_type": "stream",
     "text": [
      "11\n",
      "  Largest clique size: u=74\n",
      " Maximal matrix size:50\n",
      "Problem\n",
      "  Name                   :                 \n",
      "  Objective sense        : max             \n",
      "  Type                   : CONIC (conic optimization problem)\n",
      "  Constraints            : 2970            \n",
      "  Cones                  : 0               \n",
      "  Scalar variables       : 9126            \n",
      "  Matrix variables       : 36              \n",
      "  Integer variables      : 0               \n",
      "\n",
      "Optimizer started.\n",
      "Presolve started.\n",
      "Linear dependency checker started.\n",
      "Linear dependency checker terminated.\n",
      "Eliminator started.\n",
      "Freed constraints in eliminator : 0\n",
      "Eliminator terminated.\n",
      "Eliminator - tries                  : 1                 time                   : 0.00            \n",
      "Lin. dep.  - tries                  : 1                 time                   : 0.00            \n",
      "Lin. dep.  - number                 : 0               \n",
      "Presolve terminated. Time: 0.01    \n",
      "Problem\n",
      "  Name                   :                 \n",
      "  Objective sense        : max             \n",
      "  Type                   : CONIC (conic optimization problem)\n",
      "  Constraints            : 2970            \n",
      "  Cones                  : 0               \n",
      "  Scalar variables       : 9126            \n",
      "  Matrix variables       : 36              \n",
      "  Integer variables      : 0               \n",
      "\n",
      "Optimizer  - threads                : 4               \n",
      "Optimizer  - solved problem         : the primal      \n",
      "Optimizer  - Constraints            : 2970\n",
      "Optimizer  - Cones                  : 1\n",
      "Optimizer  - Scalar variables       : 8557              conic                  : 22              \n",
      "Optimizer  - Semi-definite variables: 36                scalarized             : 33930           \n",
      "Factor     - setup time             : 0.32              dense det. time        : 0.00            \n",
      "Factor     - ML order time          : 0.05              GP order time          : 0.00            \n",
      "Factor     - nonzeros before factor : 2.44e+06          after factor           : 3.75e+06        \n",
      "Factor     - dense dim.             : 2                 flops                  : 6.83e+09        \n",
      "ITE PFEAS    DFEAS    GFEAS    PRSTATUS   POBJ              DOBJ              MU       TIME  \n",
      "0   2.6e+01  1.0e+00  1.0e+00  0.00e+00   0.000000000e+00   0.000000000e+00   1.0e+00  0.36  \n",
      "1   1.6e+01  6.2e-01  9.0e-01  -1.65e+00  7.481943223e-01   -3.068283672e-01  6.2e-01  1.19  \n",
      "2   3.3e+00  1.3e-01  3.6e-01  -9.54e-01  7.923878320e+00   5.755737147e-01   1.3e-01  2.12  \n",
      "3   7.6e-01  2.9e-02  1.6e-01  -9.84e-01  2.744523784e+01   -2.800605727e-01  2.9e-02  3.04  \n",
      "4   2.7e-01  1.1e-02  5.9e-02  -5.63e-01  3.051772890e+01   -4.611930776e-01  1.1e-02  3.90  \n",
      "5   2.3e-01  8.8e-03  4.3e-02  6.91e-01   2.246876324e+01   -4.739525471e-01  8.8e-03  4.73  \n",
      "6   1.2e-01  4.5e-03  1.3e-02  8.24e-01   7.972778346e+00   -4.683381692e-01  4.5e-03  5.60  \n",
      "7   7.0e-02  2.7e-03  5.2e-03  1.17e+00   3.154083721e+00   -3.911085583e-01  2.7e-03  6.42  \n",
      "8   5.2e-02  2.0e-03  3.0e-03  1.45e+00   1.815328969e+00   -3.288363845e-01  2.0e-03  7.40  \n",
      "9   3.9e-02  1.5e-03  1.8e-03  1.48e+00   1.084843194e+00   -2.753560160e-01  1.5e-03  8.39  \n",
      "10  1.1e-02  4.1e-04  1.9e-04  1.48e+00   3.665670326e-02   -1.671415760e-01  4.1e-04  9.38  \n",
      "11  8.5e-04  3.3e-05  3.1e-06  1.39e+00   -6.948159455e-02  -7.794372728e-02  3.3e-05  10.55 \n",
      "12  3.9e-04  1.5e-05  9.8e-07  1.08e+00   -4.699535651e-02  -5.097532644e-02  1.5e-05  11.43 \n",
      "13  4.6e-05  1.8e-06  4.0e-08  1.03e+00   -2.514490884e-02  -2.563340332e-02  1.8e-06  12.39 \n",
      "14  7.8e-06  3.0e-07  2.9e-09  1.00e+00   -1.252780083e-02  -1.261264141e-02  3.0e-07  13.45 \n",
      "15  3.1e-06  1.2e-07  7.2e-10  9.90e-01   -7.485812955e-03  -7.519680483e-03  1.2e-07  14.28 \n",
      "16  1.2e-06  4.5e-08  1.7e-10  9.71e-01   -4.552160019e-03  -4.565224558e-03  4.5e-08  15.16 \n",
      "17  2.3e-07  8.7e-09  1.5e-11  9.67e-01   -2.575402439e-03  -2.578110812e-03  8.7e-09  16.28 \n",
      "18  9.8e-08  3.8e-09  4.3e-12  9.25e-01   -1.639399122e-03  -1.640610113e-03  3.8e-09  17.22 \n",
      "19  5.5e-08  2.1e-09  1.9e-12  8.78e-01   -1.224748366e-03  -1.225477886e-03  2.1e-09  18.08 \n",
      "20  3.6e-08  1.4e-09  1.0e-12  8.66e-01   -1.007722552e-03  -1.008237968e-03  1.4e-09  18.91 \n",
      "21  5.4e-09  2.1e-10  7.0e-14  8.67e-01   -4.894898618e-04  -4.896019160e-04  2.1e-10  19.88 \n",
      "22  1.9e-09  7.2e-11  1.5e-14  9.25e-01   -3.040135250e-04  -3.040521735e-04  7.0e-11  20.70 \n",
      "23  1.4e-09  5.3e-11  9.2e-15  9.46e-01   -2.499054537e-04  -2.499341628e-04  5.4e-11  21.49 \n",
      "24  4.7e-10  1.8e-11  2.1e-15  1.20e+00   -1.521397887e-04  -1.521528661e-04  2.3e-11  22.32 \n",
      "25  3.2e-10  1.2e-11  1.2e-15  1.17e+00   -1.177236238e-04  -1.177326035e-04  1.8e-11  23.10 \n",
      "Optimizer terminated. Time: 23.11   \n",
      "\n",
      "Termination status = OPTIMAL\n",
      "Optimal value = -0.00011772362381999708\n",
      " 29.939487 seconds (25.66 M allocations: 4.275 GiB, 1.03% gc time)\n"
     ]
    }
   ],
   "source": [
    "using SparseArrays\n",
    "\n",
    "include(\"../src/InterRelax.jl\")\n",
    "using .InterRelax\n",
    "\n",
    "n,m,l,lmon_g,supp_g,coe_g,lmon_h,supp_h,coe_h,lmon_f,supp_f,coe_f,dg,dh=InterRelax.get_info(x,f,g,h,sparse=true);\n",
    "\n",
    "\n",
    "k=0\n",
    "s=50\n",
    "d=Int64(maximum([sum(supp_f[:,i]) for i in 1:lmon_f]))+1\n",
    "\n",
    "@time opt_val1,opt_sol=InterRelax.RelaxSparse(n,m,l,lmon_g,supp_g,coe_g,lmon_h,supp_h,coe_h,lmon_f,supp_f,coe_f,dg,dh,k,s,d,assign=\"min\",alg=\"MD\",minimize=true,solver=\"Mosek\",comp_opt_sol=false);"
   ]
  },
  {
   "cell_type": "code",
   "execution_count": null,
   "metadata": {},
   "outputs": [],
   "source": []
  },
  {
   "cell_type": "code",
   "execution_count": 74,
   "metadata": {
    "scrolled": true
   },
   "outputs": [
    {
     "name": "stdout",
     "output_type": "stream",
     "text": [
      "************************TSSOS************************\n",
      "TSSOS is launching...\n",
      "------------------------------------------------------\n",
      "The clique sizes of varibles:\n",
      "[11]\n",
      "[74]\n",
      "------------------------------------------------------\n",
      "Obtained the variable cliques in 0.001097885 seconds. The maximal size of cliques is 11.\n",
      "Assembling the SDP...\n",
      "There are 954 affine constraints.\n",
      "SDP assembling time: 0.004445411 seconds.\n",
      "Solving the SDP...\n",
      "Problem\n",
      "  Name                   :                 \n",
      "  Objective sense        : max             \n",
      "  Type                   : CONIC (conic optimization problem)\n",
      "  Constraints            : 954             \n",
      "  Cones                  : 0               \n",
      "  Scalar variables       : 189             \n",
      "  Matrix variables       : 74              \n",
      "  Integer variables      : 0               \n",
      "\n",
      "Optimizer started.\n",
      "Presolve started.\n",
      "Linear dependency checker started.\n",
      "Linear dependency checker terminated.\n",
      "Eliminator started.\n",
      "Freed constraints in eliminator : 0\n",
      "Eliminator terminated.\n",
      "Eliminator - tries                  : 1                 time                   : 0.00            \n",
      "Lin. dep.  - tries                  : 1                 time                   : 0.00            \n",
      "Lin. dep.  - number                 : 0               \n",
      "Presolve terminated. Time: 0.00    \n",
      "Problem\n",
      "  Name                   :                 \n",
      "  Objective sense        : max             \n",
      "  Type                   : CONIC (conic optimization problem)\n",
      "  Constraints            : 954             \n",
      "  Cones                  : 0               \n",
      "  Scalar variables       : 189             \n",
      "  Matrix variables       : 74              \n",
      "  Integer variables      : 0               \n",
      "\n",
      "Optimizer  - threads                : 4               \n",
      "Optimizer  - solved problem         : the primal      \n",
      "Optimizer  - Constraints            : 954\n",
      "Optimizer  - Cones                  : 1\n",
      "Optimizer  - Scalar variables       : 190               conic                  : 22              \n",
      "Optimizer  - Semi-definite variables: 74                scalarized             : 5772            \n",
      "Factor     - setup time             : 0.01              dense det. time        : 0.00            \n",
      "Factor     - ML order time          : 0.00              GP order time          : 0.00            \n",
      "Factor     - nonzeros before factor : 8.95e+04          after factor           : 2.45e+05        \n",
      "Factor     - dense dim.             : 2                 flops                  : 8.78e+07        \n",
      "ITE PFEAS    DFEAS    GFEAS    PRSTATUS   POBJ              DOBJ              MU       TIME  \n",
      "0   7.4e+01  1.0e+00  1.0e+00  0.00e+00   0.000000000e+00   0.000000000e+00   1.0e+00  0.01  \n",
      "1   1.1e+01  1.5e-01  3.5e-01  -1.65e+00  1.098714342e+00   -3.661843379e+00  1.5e-01  0.03  \n",
      "2   8.0e+00  1.1e-01  2.9e-01  -9.05e-01  2.311400447e+00   -4.091169451e+00  1.1e-01  0.04  \n",
      "3   3.1e+00  4.2e-02  1.6e-01  -8.50e-01  7.239317829e+00   -6.259946214e+00  4.2e-02  0.05  \n",
      "4   1.3e+00  1.8e-02  5.2e-02  -2.53e-01  3.087303894e-02   -8.386497336e+00  1.8e-02  0.07  \n",
      "5   1.6e-01  2.2e-03  1.7e-03  4.44e-01   -9.907436852e+00  -1.052903555e+01  2.2e-03  0.08  \n"
     ]
    },
    {
     "name": "stderr",
     "output_type": "stream",
     "text": [
      "WARNING: replacing module InterRelax.\n"
     ]
    },
    {
     "name": "stdout",
     "output_type": "stream",
     "text": [
      "6   2.7e-02  3.6e-04  1.4e-04  1.11e+00   -1.557781850e+01  -1.571156607e+01  3.6e-04  0.11  \n",
      "7   6.5e-03  8.8e-05  2.7e-05  5.30e-01   -2.550741363e+01  -2.559725031e+01  8.8e-05  0.13  \n",
      "8   2.1e-03  2.9e-05  9.2e-06  -2.43e-02  -4.135802399e+01  -4.146018032e+01  2.9e-05  0.14  \n",
      "9   6.1e-04  8.2e-06  3.1e-06  -2.04e-01  -6.599472751e+01  -6.613341605e+01  8.2e-06  0.16  \n",
      "10  2.2e-04  2.9e-06  1.4e-06  -2.81e-01  -9.987760482e+01  -1.000926084e+02  2.9e-06  0.17  \n",
      "11  5.1e-05  6.9e-07  3.6e-07  -6.28e-02  -1.493975219e+02  -1.496620646e+02  6.9e-07  0.19  \n",
      "12  1.5e-05  2.1e-07  1.5e-07  -3.78e-01  -2.485833813e+02  -2.491155059e+02  2.1e-07  0.21  \n",
      "13  3.6e-06  4.9e-08  3.9e-08  -1.25e-02  -3.641011689e+02  -3.647254921e+02  4.9e-08  0.23  \n",
      "14  8.2e-07  1.1e-08  1.1e-08  -3.28e-01  -6.156921249e+02  -6.168475948e+02  1.1e-08  0.25  \n",
      "15  2.1e-07  2.3e-09  3.1e-09  -3.74e-01  -1.009327718e+03  -1.011258293e+03  2.3e-09  0.27  \n",
      "16  5.2e-08  5.8e-10  1.0e-09  -3.59e-01  -1.609271141e+03  -1.612365719e+03  5.7e-10  0.29  \n",
      "17  4.7e-08  4.0e-10  7.5e-10  -3.03e-01  -1.843894702e+03  -1.847470906e+03  4.0e-10  0.32  \n",
      "18  4.7e-08  4.0e-10  7.5e-10  -2.84e-01  -1.843894702e+03  -1.847470906e+03  4.0e-10  0.36  \n",
      "19  4.7e-08  4.0e-10  7.5e-10  -2.84e-01  -1.843894702e+03  -1.847470906e+03  4.0e-10  0.39  \n",
      "Optimizer terminated. Time: 0.44    \n",
      "\n",
      "SDP solving time: 0.452411261 seconds.\n",
      "termination status: SLOW_PROGRESS\n",
      "solution status: UNKNOWN_RESULT_STATUS\n",
      "optimum = -1843.8947018155534\n",
      "  0.467063 seconds (448.36 k allocations: 46.071 MiB)\n"
     ]
    }
   ],
   "source": [
    "using SparseArrays, TSSOS\n",
    "\n",
    "include(\"../src/InterRelax.jl\")\n",
    "using .InterRelax\n",
    "\n",
    "n,m,l,lmon_g,supp_g,coe_g,lmon_h,supp_h,coe_h,lmon_f,supp_f,coe_f,dg,dh=InterRelax.get_info(x,f,g,h,sparse=true);\n",
    "\n",
    "k=1\n",
    "\n",
    "vars,pop=InterRelax.get_POP(n,m,l,lmon_g,supp_g,coe_g,lmon_h,supp_h,coe_h,lmon_f,supp_f,coe_f)\n",
    "@time opt,sol,data=TSSOS.cs_tssos_first(pop,vars,k,numeq=l,CS=\"MD\",TS=false,solver=\"Mosek\");"
   ]
  },
  {
   "cell_type": "code",
   "execution_count": 28,
   "metadata": {},
   "outputs": [
    {
     "data": {
      "text/plain": [
       "12"
      ]
     },
     "execution_count": 28,
     "metadata": {},
     "output_type": "execute_result"
    }
   ],
   "source": [
    "binomial(11+1,1)"
   ]
  },
  {
   "cell_type": "code",
   "execution_count": 20,
   "metadata": {},
   "outputs": [
    {
     "name": "stdout",
     "output_type": "stream",
     "text": [
      "************************TSSOS************************\n",
      "TSSOS is launching...\n",
      "------------------------------------------------------\n",
      "The clique sizes of varibles:\n",
      "[74, 11]\n",
      "[1, 10]\n",
      "------------------------------------------------------\n",
      "Obtained the variable cliques in 0.002665221 seconds. The maximal size of cliques is 74.\n"
     ]
    },
    {
     "name": "stderr",
     "output_type": "stream",
     "text": [
      "WARNING: replacing module InterRelax.\n"
     ]
    },
    {
     "name": "stdout",
     "output_type": "stream",
     "text": [
      "Assembling the SDP...\n",
      "There are 1430065 affine constraints.\n",
      "SDP assembling time: 19.855059978 seconds.\n",
      "Solving the SDP...\n",
      "Problem\n",
      "  Name                   :                 \n",
      "  Objective sense        : max             \n",
      "  Type                   : CONIC (conic optimization problem)\n",
      "  Constraints            : 1430065         \n",
      "  Cones                  : 0               \n",
      "  Scalar variables       : 29281           \n",
      "  Matrix variables       : 179             \n",
      "  Integer variables      : 0               \n",
      "\n",
      "Optimizer started.\n",
      "Presolve started.\n",
      "Linear dependency checker started.\n",
      "Linear dependency checker terminated.\n",
      "Eliminator started.\n",
      "Freed constraints in eliminator : 0\n",
      "Eliminator terminated.\n",
      "Eliminator - tries                  : 1                 time                   : 0.00            \n",
      "Lin. dep.  - tries                  : 1                 time                   : 0.22            \n",
      "Lin. dep.  - number                 : 0               \n",
      "Presolve terminated. Time: 0.74    \n",
      "MOSEK error 1051: Out of space.\n",
      "Optimizer terminated. Time: 20.99   \n",
      "\n"
     ]
    },
    {
     "ename": "Mosek.MosekError",
     "evalue": "Mosek.MosekError(1051, \"Out of space.\")",
     "output_type": "error",
     "traceback": [
      "Mosek.MosekError(1051, \"Out of space.\")",
      "",
      "Stacktrace:",
      " [1] optimize(::Mosek.Task) at /home/hoanganh/.julia/packages/Mosek/Ue6iA/src/msk_functions.jl:5509",
      " [2] optimize!(::MosekTools.MosekModel) at /home/hoanganh/.julia/packages/MosekTools/sppJY/src/MosekTools.jl:272",
      " [3] optimize!(::MathOptInterface.Bridges.LazyBridgeOptimizer{MosekTools.MosekModel}) at /home/hoanganh/.julia/packages/MathOptInterface/YDdD3/src/Bridges/bridge_optimizer.jl:319",
      " [4] optimize!(::MathOptInterface.Utilities.CachingOptimizer{MathOptInterface.AbstractOptimizer,MathOptInterface.Utilities.UniversalFallback{MathOptInterface.Utilities.GenericModel{Float64,MathOptInterface.Utilities.ModelFunctionConstraints{Float64}}}}) at /home/hoanganh/.julia/packages/MathOptInterface/YDdD3/src/Utilities/cachingoptimizer.jl:252",
      " [5] #optimize!#126(::Bool, ::Bool, ::Base.Iterators.Pairs{Union{},Union{},Tuple{},NamedTuple{(),Tuple{}}}, ::typeof(JuMP.optimize!), ::JuMP.Model, ::Nothing) at /home/hoanganh/.julia/packages/JuMP/klrjG/src/optimizer_interface.jl:185",
      " [6] optimize! at /home/hoanganh/.julia/packages/JuMP/klrjG/src/optimizer_interface.jl:157 [inlined] (repeats 2 times)",
      " [7] macro expansion at /home/hoanganh/.julia/packages/TSSOS/yRxCz/src/nblockmix.jl:392 [inlined]",
      " [8] macro expansion at ./util.jl:212 [inlined]",
      " [9] #blockcpop_mix#88(::Int64, ::Int64, ::Bool, ::Bool, ::String, ::Bool, ::Bool, ::Bool, ::Bool, ::Bool, ::Bool, ::typeof(TSSOS.blockcpop_mix), ::Int64, ::Int64, ::Array{Array{Array{UInt16,1},1},1}, ::Array{Array{Float64,1},1}, ::Array{Array{Array{Array{UInt16,1},1},1},1}, ::Array{Array{UInt16,1},1}, ::Int64, ::Array{Int64,1}, ::Array{Array{UInt32,1},1}, ::Array{UInt32,1}, ::Array{Array{Array{Array{UInt16,1},1},1},1}, ::Array{Array{UInt16,1},1}, ::Array{Array{Array{UInt16,1},1},1}) at /home/hoanganh/.julia/packages/TSSOS/yRxCz/src/nblockmix.jl:391",
      " [10] (::TSSOS.var\"#kw##blockcpop_mix\")(::NamedTuple{(:numeq, :nb, :QUIET, :TS, :solver, :tune, :solve, :solution, :MomentOne, :Mommat),Tuple{Int64,Int64,Bool,Bool,String,Bool,Bool,Bool,Bool,Bool}}, ::typeof(TSSOS.blockcpop_mix), ::Int64, ::Int64, ::Array{Array{Array{UInt16,1},1},1}, ::Array{Array{Float64,1},1}, ::Array{Array{Array{Array{UInt16,1},1},1},1}, ::Array{Array{UInt16,1},1}, ::Int64, ::Array{Int64,1}, ::Array{Array{UInt32,1},1}, ::Array{UInt32,1}, ::Array{Array{Array{Array{UInt16,1},1},1},1}, ::Array{Array{UInt16,1},1}, ::Array{Array{Array{UInt16,1},1},1}) at ./none:0",
      " [11] #cs_tssos_first#84(::Int64, ::Int64, ::Int64, ::String, ::Bool, ::String, ::Bool, ::Bool, ::Int64, ::Bool, ::String, ::Bool, ::Bool, ::Bool, ::Bool, ::Bool, ::Float64, ::typeof(cs_tssos_first), ::Array{Array{Array{UInt16,1},1},1}, ::Array{Array{Float64,1},1}, ::Int64, ::Int64) at /home/hoanganh/.julia/packages/TSSOS/yRxCz/src/nblockmix.jl:118",
      " [12] #cs_tssos_first at ./none:0 [inlined]",
      " [13] #cs_tssos_first#81 at /home/hoanganh/.julia/packages/TSSOS/yRxCz/src/nblockmix.jl:47 [inlined]",
      " [14] (::TSSOS.var\"#kw##cs_tssos_first\")(::NamedTuple{(:numeq, :CS, :TS, :solver),Tuple{Int64,String,Bool,String}}, ::typeof(cs_tssos_first), ::Array{Polynomial{true,Float64},1}, ::Array{PolyVar{true},1}, ::Int64) at ./none:0",
      " [15] top-level scope at util.jl:155",
      " [16] top-level scope at In[20]:11"
     ]
    }
   ],
   "source": [
    "using SparseArrays, TSSOS\n",
    "\n",
    "include(\"../src/InterRelax.jl\")\n",
    "using .InterRelax\n",
    "\n",
    "n,m,l,lmon_g,supp_g,coe_g,lmon_h,supp_h,coe_h,lmon_f,supp_f,coe_f,dg,dh=InterRelax.get_info(x,f,g,h,sparse=true);\n",
    "\n",
    "k=2\n",
    "\n",
    "vars,pop=InterRelax.get_POP(n,m,l,lmon_g,supp_g,coe_g,lmon_h,supp_h,coe_h,lmon_f,supp_f,coe_f)\n",
    "@time opt,sol,data=TSSOS.cs_tssos_first(pop,vars,k,numeq=l,CS=\"MD\",TS=false,solver=\"Mosek\");"
   ]
  },
  {
   "cell_type": "code",
   "execution_count": 22,
   "metadata": {},
   "outputs": [
    {
     "data": {
      "text/plain": [
       "2850"
      ]
     },
     "execution_count": 22,
     "metadata": {},
     "output_type": "execute_result"
    }
   ],
   "source": [
    "binomial(74+2,2)"
   ]
  },
  {
   "cell_type": "code",
   "execution_count": null,
   "metadata": {},
   "outputs": [],
   "source": []
  }
 ],
 "metadata": {
  "kernelspec": {
   "display_name": "Julia 1.3.0",
   "language": "julia",
   "name": "julia-1.3"
  },
  "language_info": {
   "file_extension": ".jl",
   "mimetype": "application/julia",
   "name": "julia",
   "version": "1.3.0"
  }
 },
 "nbformat": 4,
 "nbformat_minor": 2
}
