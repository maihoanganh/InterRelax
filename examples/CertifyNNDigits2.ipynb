{
 "cells": [
  {
   "cell_type": "code",
   "execution_count": 52,
   "metadata": {},
   "outputs": [
    {
     "data": {
      "text/plain": [
       "50"
      ]
     },
     "execution_count": 52,
     "metadata": {},
     "output_type": "execute_result"
    }
   ],
   "source": [
    "using MAT\n",
    "using DynamicPolynomials, LinearAlgebra, SparseArrays\n",
    "\n",
    "data=\"/home/hoanganh/Desktop/math-topics/InterruptedRelax/codes/dataPOP2\" # path of data\n",
    "D = matread(data*\"/WeightsDigits4.mat\");\n",
    "W1 = D[\"W1\"]; W2 = D[\"W2\"]; c = D[\"c\"]; x_bar=D[\"x_bar\"]; y_bar=D[\"y_bar\"]\n",
    "eps = 0.1;\n",
    "\n",
    "m1=size(W1,2)\n",
    "m2=size(W2,2)\n",
    "m3=size(W2,1)"
   ]
  },
  {
   "cell_type": "code",
   "execution_count": 53,
   "metadata": {},
   "outputs": [
    {
     "data": {
      "text/plain": [
       "5"
      ]
     },
     "execution_count": 53,
     "metadata": {},
     "output_type": "execute_result"
    }
   ],
   "source": [
    "y_bar+1"
   ]
  },
  {
   "cell_type": "code",
   "execution_count": 54,
   "metadata": {},
   "outputs": [
    {
     "data": {
      "text/plain": [
       "(10, 50)"
      ]
     },
     "execution_count": 54,
     "metadata": {},
     "output_type": "execute_result"
    }
   ],
   "source": [
    "size(c)"
   ]
  },
  {
   "cell_type": "code",
   "execution_count": 55,
   "metadata": {},
   "outputs": [
    {
     "name": "stdout",
     "output_type": "stream",
     "text": [
      "***Problem setting***\n",
      "Number of variables: n=214\n",
      "Number of inequality constraints: m=214\n",
      "Number of equality constraints: l=150\n"
     ]
    }
   ],
   "source": [
    "@polyvar x1[1:m1] x2[1:m2] x3[1:m3]# variables\n",
    "\n",
    "\n",
    "f=(c[y_bar+1,:]-c[10,:])'*x3\n",
    "\n",
    "g=Vector{Polynomial{true,Float64}}([])\n",
    "h=Vector{Polynomial{true,Float64}}([])\n",
    "\n",
    "pol=1.0*x1[1]\n",
    "\n",
    "for j in 1:m2\n",
    "    pol=x2[j]-sum(W1[j,r]*x1[r] for r=1:m1)\n",
    "    append!(g,[pol])\n",
    "    append!(h,[x2[j]*pol])\n",
    "end\n",
    "for j in 1:m3\n",
    "    pol=x3[j]-sum(W2[j,r]*x2[r] for r=1:m2)\n",
    "    append!(g,[pol])\n",
    "    append!(h,[x3[j]*pol])\n",
    "end\n",
    "\n",
    "for t in 1:m1\n",
    "    append!(g,[-x1[t]+x_bar[1,t]+eps])\n",
    "end\n",
    "\n",
    "m=length(g)\n",
    "l=length(h)\n",
    "\n",
    "f=f([x1;x2;x3]=>[x1+x_bar[1,:]-eps*ones(Float64,m1);x2;x3])\n",
    "\n",
    "for j in 1:m\n",
    "    g[j]=g[j]([x1;x2;x3]=>[x1+x_bar[1,:]-eps*ones(Float64,m1);x2;x3])\n",
    "end\n",
    "\n",
    "for j in 1:l\n",
    "    h[j]=h[j]([x1;x2;x3]=>[x1+x_bar[1,:]-eps*ones(Float64,m1);x2;x3])\n",
    "end\n",
    "\n",
    "\n",
    "x=[x1;x2;x3]; n=length(x)\n",
    "println(\"***Problem setting***\")\n",
    "println(\"Number of variables: n=\",n)\n",
    "println(\"Number of inequality constraints: m=\",m)\n",
    "println(\"Number of equality constraints: l=\",l)"
   ]
  },
  {
   "cell_type": "code",
   "execution_count": null,
   "metadata": {},
   "outputs": [],
   "source": []
  },
  {
   "cell_type": "code",
   "execution_count": 56,
   "metadata": {},
   "outputs": [
    {
     "name": "stdout",
     "output_type": "stream",
     "text": [
      "**Interrupted relaxation based on Putinar-Vasilescu's Positivstellensatz**\n",
      "Relaxation order: k=0\n",
      "Sparsity order: s=166\n",
      "Sparsity order: d=2\n",
      "------------------------------------------------------\n",
      "The clique sizes of varibles:\n",
      "[164, 101]\n",
      "[1, 50]\n",
      "------------------------------------------------------\n",
      "  Number of cliques: p=51\n",
      "  Largest clique size: u=164\n"
     ]
    },
    {
     "name": "stderr",
     "output_type": "stream",
     "text": [
      "WARNING: replacing module InterRelax.\n"
     ]
    },
    {
     "ename": "InterruptException",
     "evalue": "InterruptException:",
     "output_type": "error",
     "traceback": [
      "InterruptException:",
      "",
      "Stacktrace:",
      " [1] Array at ./boot.jl:404 [inlined]",
      " [2] Array at ./boot.jl:413 [inlined]",
      " [3] similar at ./array.jl:334 [inlined]",
      " [4] similar at ./abstractarray.jl:627 [inlined]",
      " [5] _unsafe_getindex(::IndexLinear, ::Array{UInt16,2}, ::Base.Slice{Base.OneTo{Int64}}, ::Int64) at ./multidimensional.jl:682",
      " [6] _getindex at ./multidimensional.jl:670 [inlined]",
      " [7] getindex at ./abstractarray.jl:981 [inlined]",
      " [8] #RelaxSparse_without_multiplier1#49(::Array{Float64,1}, ::String, ::String, ::Bool, ::String, ::Int64, ::Bool, ::typeof(Main.InterRelax.RelaxSparse_without_multiplier1), ::Int64, ::Int64, ::Int64, ::Array{UInt64,1}, ::Array{SparseMatrixCSC{UInt64,Ti} where Ti<:Integer,1}, ::Array{Array{Float64,1},1}, ::Array{UInt64,1}, ::Array{SparseMatrixCSC{UInt64,Ti} where Ti<:Integer,1}, ::Array{Array{Float64,1},1}, ::Int64, ::SparseMatrixCSC{UInt64,Int64}, ::Array{Float64,1}, ::Array{Int64,1}, ::Array{Int64,1}, ::Int64, ::Int64) at /home/hoanganh/Desktop/math-topics/InterruptedRelax/codes/InterruptedRelax/src/SolveRelaxSparse_without_multiplier.jl:192",
      " [9] #RelaxSparse_without_multiplier1 at ./none:0 [inlined]",
      " [10] #RelaxSparse#21 at /home/hoanganh/Desktop/math-topics/InterruptedRelax/codes/InterruptedRelax/src/SolveRelaxSparse.jl:11 [inlined]",
      " [11] (::Main.InterRelax.var\"#kw##RelaxSparse\")(::NamedTuple{(:assign, :alg, :minimize, :solver, :comp_opt_sol),Tuple{String,String,Bool,String,Bool}}, ::typeof(Main.InterRelax.RelaxSparse), ::Int64, ::Int64, ::Int64, ::Array{UInt64,1}, ::Array{SparseMatrixCSC{UInt64,Ti} where Ti<:Integer,1}, ::Array{Array{Float64,1},1}, ::Array{UInt64,1}, ::Array{SparseMatrixCSC{UInt64,Ti} where Ti<:Integer,1}, ::Array{Array{Float64,1},1}, ::Int64, ::SparseMatrixCSC{UInt64,Int64}, ::Array{Float64,1}, ::Array{Int64,1}, ::Array{Int64,1}, ::Int64, ::Int64, ::Int64) at ./none:0",
      " [12] top-level scope at util.jl:155",
      " [13] top-level scope at In[56]:12"
     ]
    }
   ],
   "source": [
    "using SparseArrays\n",
    "\n",
    "include(\"../src/InterRelax.jl\")\n",
    "using .InterRelax\n",
    "\n",
    "n,m,l,lmon_g,supp_g,coe_g,lmon_h,supp_h,coe_h,lmon_f,supp_f,coe_f,dg,dh=InterRelax.get_info(x,f,g,h,sparse=true);\n",
    "\n",
    "\n",
    "k=0\n",
    "s=166\n",
    "d=Int64(maximum([sum(supp_f[:,i]) for i in 1:lmon_f]))+1\n",
    "\n",
    "@time opt_val1,opt_sol=InterRelax.RelaxSparse(n,m,l,lmon_g,supp_g,coe_g,lmon_h,supp_h,coe_h,lmon_f,supp_f,coe_f,dg,dh,k,s,d,assign=\"min\",alg=\"MD\",minimize=true,solver=\"Mosek\",comp_opt_sol=false);"
   ]
  },
  {
   "cell_type": "code",
   "execution_count": null,
   "metadata": {},
   "outputs": [],
   "source": []
  },
  {
   "cell_type": "code",
   "execution_count": 57,
   "metadata": {
    "scrolled": true
   },
   "outputs": [
    {
     "name": "stderr",
     "output_type": "stream",
     "text": [
      "WARNING: replacing module InterRelax.\n"
     ]
    },
    {
     "ename": "LoadError",
     "evalue": "LoadError: InterruptException:\nin expression starting at /home/hoanganh/Desktop/math-topics/InterruptedRelax/codes/InterruptedRelax/src/SolveRelaxDense.jl:0",
     "output_type": "error",
     "traceback": [
      "LoadError: InterruptException:\nin expression starting at /home/hoanganh/Desktop/math-topics/InterruptedRelax/codes/InterruptedRelax/src/SolveRelaxDense.jl:0",
      "",
      "Stacktrace:",
      " [1] include at ./boot.jl:328 [inlined]",
      " [2] include_relative(::Module, ::String) at ./loading.jl:1105",
      " [3] include at ./Base.jl:31 [inlined]",
      " [4] include(::String) at /home/hoanganh/Desktop/math-topics/InterruptedRelax/codes/InterruptedRelax/src/InterRelax.jl:1",
      " [5] top-level scope at /home/hoanganh/Desktop/math-topics/InterruptedRelax/codes/InterruptedRelax/src/InterRelax.jl:29",
      " [6] include at ./boot.jl:328 [inlined]",
      " [7] include_relative(::Module, ::String) at ./loading.jl:1105",
      " [8] include(::Module, ::String) at ./Base.jl:31",
      " [9] include(::String) at ./client.jl:424",
      " [10] top-level scope at In[57]:2"
     ]
    }
   ],
   "source": [
    "using SparseArrays\n",
    "\n",
    "include(\"../src/InterRelax.jl\")\n",
    "using .InterRelax\n",
    "\n",
    "n,m,l,lmon_g,supp_g,coe_g,lmon_h,supp_h,coe_h,lmon_f,supp_f,coe_f,dg,dh=InterRelax.get_info(x,f,g,h,sparse=true);\n",
    "#data=\"/home/hoanganh/Desktop/math-topics/InterruptedRelax/codes/dataPOP2\" # path of data\n",
    "#include(data*\"/sparsePOPcliq$(u)nineq$(m)neq$(l).jl\")\n",
    "\n",
    "k=1\n",
    "s=76\n",
    "L=100*ones(Float64,74)\n",
    "\n",
    "@time opt_val1,opt_sol=InterRelax.RelaxSparse_without_multiplier(n,m,l,lmon_g,supp_g,coe_g,lmon_h,supp_h,coe_h,\n",
    "    lmon_f,supp_f,coe_f,dg,dh,s,k,L=L,\n",
    "    assign=\"min\",alg=\"MD\",minimize=true,solver=\"Mosek\",comp_opt_sol=false);"
   ]
  },
  {
   "cell_type": "code",
   "execution_count": null,
   "metadata": {},
   "outputs": [],
   "source": []
  },
  {
   "cell_type": "code",
   "execution_count": null,
   "metadata": {},
   "outputs": [],
   "source": []
  },
  {
   "cell_type": "code",
   "execution_count": null,
   "metadata": {
    "scrolled": true
   },
   "outputs": [],
   "source": []
  },
  {
   "cell_type": "code",
   "execution_count": null,
   "metadata": {},
   "outputs": [],
   "source": []
  },
  {
   "cell_type": "code",
   "execution_count": 58,
   "metadata": {
    "scrolled": true
   },
   "outputs": [
    {
     "name": "stderr",
     "output_type": "stream",
     "text": [
      "WARNING: replacing module InterRelax.\n"
     ]
    },
    {
     "ename": "LoadError",
     "evalue": "LoadError: InterruptException:\nin expression starting at /home/hoanganh/Desktop/math-topics/InterruptedRelax/codes/InterruptedRelax/src/SolveRelaxDense_without_multiplier.jl:2",
     "output_type": "error",
     "traceback": [
      "LoadError: InterruptException:\nin expression starting at /home/hoanganh/Desktop/math-topics/InterruptedRelax/codes/InterruptedRelax/src/SolveRelaxDense_without_multiplier.jl:2",
      "",
      "Stacktrace:",
      " [1] include at ./boot.jl:328 [inlined]",
      " [2] include_relative(::Module, ::String) at ./loading.jl:1105",
      " [3] include at ./Base.jl:31 [inlined]",
      " [4] include(::String) at /home/hoanganh/Desktop/math-topics/InterruptedRelax/codes/InterruptedRelax/src/InterRelax.jl:1",
      " [5] top-level scope at /home/hoanganh/Desktop/math-topics/InterruptedRelax/codes/InterruptedRelax/src/InterRelax.jl:31",
      " [6] include at ./boot.jl:328 [inlined]",
      " [7] include_relative(::Module, ::String) at ./loading.jl:1105",
      " [8] include(::Module, ::String) at ./Base.jl:31",
      " [9] include(::String) at ./client.jl:424",
      " [10] top-level scope at In[58]:2"
     ]
    }
   ],
   "source": [
    "using SparseArrays\n",
    "\n",
    "include(\"../src/InterRelax.jl\")\n",
    "using .InterRelax\n",
    "\n",
    "n,m,l,lmon_g,supp_g,coe_g,lmon_h,supp_h,coe_h,lmon_f,supp_f,coe_f,dg,dh=InterRelax.get_info(x,f,g,h,sparse=true);\n",
    "\n",
    "\n",
    "k=1\n",
    "s=76\n",
    "d=Int64(maximum([sum(supp_f[:,i]) for i in 1:lmon_f]))+1\n",
    "\n",
    "@time opt_val1,opt_sol=InterRelax.RelaxSparse(n,m,l,lmon_g,supp_g,coe_g,lmon_h,supp_h,coe_h,lmon_f,supp_f,coe_f,dg,dh,k,s,d,assign=\"min\",alg=\"MD\",minimize=true,solver=\"Mosek\",comp_opt_sol=false);"
   ]
  },
  {
   "cell_type": "code",
   "execution_count": null,
   "metadata": {},
   "outputs": [],
   "source": []
  },
  {
   "cell_type": "code",
   "execution_count": 59,
   "metadata": {
    "scrolled": true
   },
   "outputs": [
    {
     "name": "stdout",
     "output_type": "stream",
     "text": [
      "26  2.6e-10  9.4e-13  4.7e-12  -2.68e-01  -2.341557941e+04  -2.344136433e+04  9.3e-13  2073.83\n",
      "Optimizer terminated. Time: 2095.50 \n",
      "\n",
      "SDP solving time: 2096.521307138 seconds.\n",
      "termination status: INTERRUPTED\n",
      "solution status: UNKNOWN_RESULT_STATUS\n",
      "optimum = -23415.579411484905\n",
      "2100.727045 seconds (33.45 M allocations: 5.366 GiB, 0.03% gc time)\n"
     ]
    },
    {
     "name": "stderr",
     "output_type": "stream",
     "text": [
      "WARNING: replacing module InterRelax.\n"
     ]
    }
   ],
   "source": [
    "using SparseArrays, TSSOS\n",
    "\n",
    "include(\"../src/InterRelax.jl\")\n",
    "using .InterRelax\n",
    "\n",
    "n,m,l,lmon_g,supp_g,coe_g,lmon_h,supp_h,coe_h,lmon_f,supp_f,coe_f,dg,dh=InterRelax.get_info(x,f,g,h,sparse=true);\n",
    "\n",
    "k=1\n",
    "\n",
    "vars,pop=InterRelax.get_POP(n,m,l,lmon_g,supp_g,coe_g,lmon_h,supp_h,coe_h,lmon_f,supp_f,coe_f)\n",
    "@time opt,sol,data=TSSOS.cs_tssos_first(pop,vars,k,numeq=l,CS=\"MD\",TS=false,solver=\"Mosek\");"
   ]
  },
  {
   "cell_type": "code",
   "execution_count": 60,
   "metadata": {},
   "outputs": [
    {
     "data": {
      "text/plain": [
       "12"
      ]
     },
     "execution_count": 60,
     "metadata": {},
     "output_type": "execute_result"
    }
   ],
   "source": [
    "binomial(11+1,1)"
   ]
  },
  {
   "cell_type": "code",
   "execution_count": 61,
   "metadata": {},
   "outputs": [
    {
     "name": "stderr",
     "output_type": "stream",
     "text": [
      "WARNING: replacing module InterRelax.\n"
     ]
    },
    {
     "ename": "LoadError",
     "evalue": "LoadError: InterruptException:\nin expression starting at /home/hoanganh/Desktop/math-topics/InterruptedRelax/codes/InterruptedRelax/src/SolveRelaxDense_without_multiplier.jl:0",
     "output_type": "error",
     "traceback": [
      "LoadError: InterruptException:\nin expression starting at /home/hoanganh/Desktop/math-topics/InterruptedRelax/codes/InterruptedRelax/src/SolveRelaxDense_without_multiplier.jl:0",
      "",
      "Stacktrace:",
      " [1] include at ./boot.jl:328 [inlined]",
      " [2] include_relative(::Module, ::String) at ./loading.jl:1105",
      " [3] include at ./Base.jl:31 [inlined]",
      " [4] include(::String) at /home/hoanganh/Desktop/math-topics/InterruptedRelax/codes/InterruptedRelax/src/InterRelax.jl:1",
      " [5] top-level scope at /home/hoanganh/Desktop/math-topics/InterruptedRelax/codes/InterruptedRelax/src/InterRelax.jl:31",
      " [6] include at ./boot.jl:328 [inlined]",
      " [7] include_relative(::Module, ::String) at ./loading.jl:1105",
      " [8] include(::Module, ::String) at ./Base.jl:31",
      " [9] include(::String) at ./client.jl:424",
      " [10] top-level scope at In[61]:2"
     ]
    }
   ],
   "source": [
    "using SparseArrays, TSSOS\n",
    "\n",
    "include(\"../src/InterRelax.jl\")\n",
    "using .InterRelax\n",
    "\n",
    "n,m,l,lmon_g,supp_g,coe_g,lmon_h,supp_h,coe_h,lmon_f,supp_f,coe_f,dg,dh=InterRelax.get_info(x,f,g,h,sparse=true);\n",
    "\n",
    "k=2\n",
    "\n",
    "vars,pop=InterRelax.get_POP(n,m,l,lmon_g,supp_g,coe_g,lmon_h,supp_h,coe_h,lmon_f,supp_f,coe_f)\n",
    "@time opt,sol,data=TSSOS.cs_tssos_first(pop,vars,k,numeq=l,CS=\"MD\",TS=false,solver=\"Mosek\");"
   ]
  },
  {
   "cell_type": "code",
   "execution_count": 62,
   "metadata": {},
   "outputs": [
    {
     "data": {
      "text/plain": [
       "2850"
      ]
     },
     "execution_count": 62,
     "metadata": {},
     "output_type": "execute_result"
    }
   ],
   "source": [
    "binomial(74+2,2)"
   ]
  },
  {
   "cell_type": "code",
   "execution_count": null,
   "metadata": {},
   "outputs": [],
   "source": []
  }
 ],
 "metadata": {
  "kernelspec": {
   "display_name": "Julia 1.3.0",
   "language": "julia",
   "name": "julia-1.3"
  },
  "language_info": {
   "file_extension": ".jl",
   "mimetype": "application/julia",
   "name": "julia",
   "version": "1.3.0"
  }
 },
 "nbformat": 4,
 "nbformat_minor": 2
}
