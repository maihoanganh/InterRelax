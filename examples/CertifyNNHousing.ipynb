{
 "cells": [
  {
   "cell_type": "code",
   "execution_count": 99,
   "metadata": {},
   "outputs": [
    {
     "data": {
      "text/plain": [
       "5"
      ]
     },
     "execution_count": 99,
     "metadata": {},
     "output_type": "execute_result"
    }
   ],
   "source": [
    "using MAT\n",
    "using DynamicPolynomials, LinearAlgebra, SparseArrays\n",
    "\n",
    "data=\"/home/hoanganh/Desktop/math-topics/InterruptedRelax/codes/dataPOP2\" # path of data\n",
    "D = matread(data*\"/WeightsHousing3.mat\");\n",
    "W1 = D[\"W1\"]; W2 = D[\"W2\"]; c = D[\"c\"]; x_bar=D[\"x_bar\"]; y_bar=D[\"y_bar\"]\n",
    "eps = 0.1;\n",
    "\n",
    "m1=size(W1,2)\n",
    "m2=size(W2,2)\n",
    "m3=size(W2,1)"
   ]
  },
  {
   "cell_type": "code",
   "execution_count": 100,
   "metadata": {},
   "outputs": [
    {
     "data": {
      "text/plain": [
       "1"
      ]
     },
     "execution_count": 100,
     "metadata": {},
     "output_type": "execute_result"
    }
   ],
   "source": [
    "y_bar"
   ]
  },
  {
   "cell_type": "code",
   "execution_count": null,
   "metadata": {},
   "outputs": [],
   "source": []
  },
  {
   "cell_type": "code",
   "execution_count": 114,
   "metadata": {},
   "outputs": [
    {
     "name": "stdout",
     "output_type": "stream",
     "text": [
      "***Problem setting***\n",
      "Number of variables: n=25\n",
      "Number of inequality constraints: m=25\n",
      "Number of equality constraints: l=12\n"
     ]
    }
   ],
   "source": [
    "@polyvar x1[1:m1] x2[1:m2] x3[1:m3]# variables\n",
    "f=(c[y_bar+1,:]-c[3,:])'*x3\n",
    "g=Vector{Polynomial{true,Float64}}([])\n",
    "h=Vector{Polynomial{true,Float64}}([])\n",
    "\n",
    "pol=1.0*x1[1]\n",
    "\n",
    "for j in 1:m2\n",
    "    pol=x2[j]-sum(W1[j,r]*x1[r] for r=1:m1)\n",
    "    append!(g,[pol])\n",
    "    append!(h,[x2[j]*pol])\n",
    "end\n",
    "for j in 1:m3\n",
    "    pol=x3[j]-sum(W2[j,r]*x2[r] for r=1:m2)\n",
    "    append!(g,[pol])\n",
    "    append!(h,[x3[j]*pol])\n",
    "end\n",
    "\n",
    "for t in 1:m1\n",
    "    append!(g,[-x1[t]+x_bar[1,t]+eps])\n",
    "end\n",
    "\n",
    "m=length(g)\n",
    "l=length(h)\n",
    "\n",
    "f=f([x1;x2;x3]=>[x1+x_bar[1,:]-eps*ones(Float64,m1);x2;x3])\n",
    "\n",
    "for j in 1:m\n",
    "    g[j]=g[j]([x1;x2;x3]=>[x1+x_bar[1,:]-eps*ones(Float64,m1);x2;x3])\n",
    "end\n",
    "\n",
    "for j in 1:l\n",
    "    h[j]=h[j]([x1;x2;x3]=>[x1+x_bar[1,:]-eps*ones(Float64,m1);x2;x3])\n",
    "end\n",
    "x=[x1;x2;x3]; n=length(x)\n",
    "println(\"***Problem setting***\")\n",
    "println(\"Number of variables: n=\",n)\n",
    "println(\"Number of inequality constraints: m=\",m)\n",
    "println(\"Number of equality constraints: l=\",l)"
   ]
  },
  {
   "cell_type": "code",
   "execution_count": 118,
   "metadata": {
    "scrolled": true
   },
   "outputs": [
    {
     "name": "stdout",
     "output_type": "stream",
     "text": [
      "**Interrupted relaxation based on Handelman's Positivstellensatz**\n",
      "Relaxation order: k=3\n",
      "Sparsity order: s=22\n",
      "------------------------------------------------------\n",
      "The clique sizes of varibles:\n",
      "[20, 8]\n",
      "[1, 5]\n",
      "------------------------------------------------------\n",
      "  Number of cliques: p=6\n",
      "  Largest clique size: u=20\n",
      " Maximal matrix size:21\n",
      "Problem\n",
      "  Name                   :                 \n",
      "  Objective sense        : max             \n",
      "  Type                   : CONIC (conic optimization problem)\n",
      "  Constraints            : 1996            \n",
      "  Cones                  : 0               \n",
      "  Scalar variables       : 7275            \n",
      "  Matrix variables       : 97              \n",
      "  Integer variables      : 0               \n",
      "\n",
      "Optimizer started.\n",
      "Presolve started.\n",
      "Linear dependency checker started.\n",
      "Linear dependency checker terminated.\n",
      "Eliminator started.\n",
      "Freed constraints in eliminator : 0\n",
      "Eliminator terminated.\n",
      "Eliminator - tries                  : 1                 time                   : 0.00            \n",
      "Lin. dep.  - tries                  : 1                 time                   : 0.00            \n",
      "Lin. dep.  - number                 : 0               \n",
      "Presolve terminated. Time: 0.01    \n",
      "Problem\n",
      "  Name                   :                 \n",
      "  Objective sense        : max             \n",
      "  Type                   : CONIC (conic optimization problem)\n",
      "  Constraints            : 1996            \n",
      "  Cones                  : 0               \n",
      "  Scalar variables       : 7275            \n",
      "  Matrix variables       : 97              \n",
      "  Integer variables      : 0               \n",
      "\n",
      "Optimizer  - threads                : 4               \n",
      "Optimizer  - solved problem         : the primal      \n",
      "Optimizer  - Constraints            : 1996\n",
      "Optimizer  - Cones                  : 1\n",
      "Optimizer  - Scalar variables       : 6816              conic                  : 194             \n",
      "Optimizer  - Semi-definite variables: 97                scalarized             : 12177           \n",
      "Factor     - setup time             : 0.22              dense det. time        : 0.00            \n",
      "Factor     - ML order time          : 0.07              GP order time          : 0.00            \n",
      "Factor     - nonzeros before factor : 1.62e+06          after factor           : 1.64e+06        \n",
      "Factor     - dense dim.             : 23                flops                  : 2.02e+09        \n",
      "ITE PFEAS    DFEAS    GFEAS    PRSTATUS   POBJ              DOBJ              MU       TIME  \n",
      "0   3.2e+00  1.0e+00  1.0e+00  0.00e+00   0.000000000e+00   0.000000000e+00   1.0e+00  0.27  \n",
      "1   2.0e+00  6.3e-01  7.3e-01  -8.55e-06  3.748601406e-01   -1.019110056e-05  6.3e-01  0.99  \n",
      "2   1.3e+00  4.0e-01  5.9e-01  -9.52e-01  1.219435732e+00   -3.814277950e-05  4.0e-01  1.66  \n",
      "3   3.0e-01  9.4e-02  2.9e-01  -9.55e-01  8.212542256e+00   -1.285479720e-04  9.4e-02  2.33  \n",
      "4   1.9e-01  6.0e-02  2.3e-01  -1.01e+00  1.359229418e+01   -1.686664728e-04  6.0e-02  3.00  \n",
      "5   2.9e-02  9.1e-03  8.9e-02  -1.00e+00  9.484423721e+01   -5.196378287e-04  9.1e-03  3.80  \n",
      "6   1.2e-02  3.8e-03  5.8e-02  -1.00e+00  2.298649975e+02   -9.915035317e-04  3.8e-03  4.50  \n",
      "7   2.3e-03  7.1e-04  2.5e-02  -9.96e-01  1.186927746e+03   -5.998205164e-03  7.1e-04  5.31  \n",
      "8   5.7e-04  1.8e-04  1.1e-02  -9.56e-01  4.082600416e+03   -7.206511780e-03  1.8e-04  6.13  \n",
      "9   2.6e-04  8.2e-05  6.5e-03  -7.26e-01  6.365439150e+03   -1.032448258e-02  8.2e-05  6.77  \n",
      "10  1.1e-04  3.5e-05  2.9e-03  -3.94e-01  6.777913040e+03   -4.150245221e-03  3.5e-05  7.37  \n",
      "11  3.8e-05  1.2e-05  7.5e-04  1.16e-01   4.059988119e+03   -1.939725343e-03  1.2e-05  8.00  \n",
      "12  2.0e-05  6.1e-06  3.1e-04  5.71e-01   2.610905083e+03   -1.253827157e-03  6.1e-06  8.60  \n",
      "13  2.8e-06  8.7e-07  1.4e-05  8.46e-01   2.620849589e+02   -1.773193719e-04  8.7e-07  9.27  \n",
      "14  4.8e-07  1.5e-07  7.0e-07  1.24e+00   2.204182828e+01   -1.959334537e-05  1.5e-07  9.93  \n",
      "15  1.8e-07  5.6e-08  1.5e-07  1.26e+00   7.719811243e+00   -6.924554642e-06  5.5e-08  10.60 \n",
      "16  9.5e-08  3.1e-08  6.2e-08  9.86e-01   4.377771498e+00   -3.943134487e-06  2.8e-08  11.19 \n",
      "17  3.1e-08  9.0e-09  1.0e-08  9.60e-01   1.395615249e+00   -1.382059819e-06  7.9e-09  11.79 \n",
      "18  9.9e-09  8.0e-08  1.7e-09  1.00e+00   4.378007544e-01   -5.077493486e-07  2.3e-09  12.39 \n",
      "19  3.3e-09  6.7e-07  3.4e-10  1.00e+00   1.551167182e-01   -2.371507312e-07  7.8e-10  13.06 \n",
      "20  6.5e-10  1.0e-06  2.9e-11  1.00e+00   3.003768042e-02   -9.290206031e-08  1.5e-10  13.78 \n",
      "21  5.1e-10  1.2e-06  1.5e-11  1.00e+00   1.959808568e-02   -7.112623333e-08  9.8e-11  17.57 \n",
      "22  1.5e-10  2.4e-06  1.9e-12  1.00e+00   4.860661526e-03   -3.563658240e-08  2.4e-11  18.91 \n",
      "23  6.3e-11  1.4e-05  1.5e-13  1.00e+00   9.313452513e-04   -1.651809729e-08  4.5e-12  19.65 \n",
      "24  3.0e-11  4.9e-05  2.3e-14  1.00e+00   2.626238365e-04   -7.930514555e-09  1.3e-12  20.39 \n",
      "25  3.0e-11  4.9e-05  2.3e-14  1.00e+00   2.626238365e-04   -7.930514555e-09  1.3e-12  21.21 \n",
      "26  3.0e-11  4.0e-05  2.2e-14  1.00e+00   2.567941740e-04   -7.829618374e-09  1.2e-12  21.94 \n",
      "27  3.0e-11  4.3e-05  2.2e-14  1.00e+00   2.560768075e-04   -7.817028333e-09  1.2e-12  22.63 \n",
      "28  3.0e-11  4.3e-05  2.2e-14  1.00e+00   2.560544356e-04   -7.816635021e-09  1.2e-12  23.33 \n",
      "29  3.0e-11  4.3e-05  2.2e-14  1.00e+00   2.560544356e-04   -7.816635021e-09  1.2e-12  24.05 \n",
      "Optimizer terminated. Time: 24.83   \n",
      "\n",
      "Termination status = SLOW_PROGRESS\n",
      "Optimal value = 0.0002560544356193965\n",
      " 31.933484 seconds (25.86 M allocations: 2.539 GiB, 1.93% gc time)\n"
     ]
    },
    {
     "name": "stderr",
     "output_type": "stream",
     "text": [
      "WARNING: replacing module InterRelax.\n"
     ]
    }
   ],
   "source": [
    "using SparseArrays\n",
    "\n",
    "include(\"../src/InterRelax.jl\")\n",
    "using .InterRelax\n",
    "\n",
    "n,m,l,lmon_g,supp_g,coe_g,lmon_h,supp_h,coe_h,lmon_f,supp_f,coe_f,dg,dh=InterRelax.get_info(x,f,g,h,sparse=true);\n",
    "#data=\"/home/hoanganh/Desktop/math-topics/InterruptedRelax/codes/dataPOP2\" # path of data\n",
    "#include(data*\"/sparsePOPcliq$(u)nineq$(m)neq$(l).jl\")\n",
    "\n",
    "k=3\n",
    "s=22\n",
    "L=100*ones(Float64,100)\n",
    "\n",
    "@time opt_val1,opt_sol=InterRelax.RelaxSparse_without_multiplier(n,m,l,lmon_g,supp_g,coe_g,lmon_h,supp_h,coe_h,lmon_f,supp_f,coe_f,dg,dh,s,k,assign=\"min\",alg=\"MD\",minimize=true,solver=\"Mosek\",comp_opt_sol=false,L=L);"
   ]
  },
  {
   "cell_type": "code",
   "execution_count": null,
   "metadata": {},
   "outputs": [],
   "source": []
  },
  {
   "cell_type": "code",
   "execution_count": 119,
   "metadata": {
    "scrolled": true
   },
   "outputs": [
    {
     "name": "stdout",
     "output_type": "stream",
     "text": [
      "**Interrupted relaxation based on Putinar-Vasilescu's Positivstellensatz**\n",
      "Relaxation order: k=1\n",
      "Sparsity order: s=22\n",
      "Sparsity order: d=2\n",
      "------------------------------------------------------\n",
      "The clique sizes of varibles:\n",
      "[20, 8]\n",
      "[1, 5]\n",
      "------------------------------------------------------\n",
      "  Number of cliques: p=6\n",
      "  Largest clique size: u=20\n",
      " Maximal matrix size:21\n",
      "Problem\n",
      "  Name                   :                 \n",
      "  Objective sense        : max             \n",
      "  Type                   : CONIC (conic optimization problem)\n",
      "  Constraints            : 2872            \n",
      "  Cones                  : 0               \n",
      "  Scalar variables       : 6779            \n",
      "  Matrix variables       : 91              \n",
      "  Integer variables      : 0               \n",
      "\n",
      "Optimizer started.\n",
      "Presolve started.\n",
      "Linear dependency checker started.\n",
      "Linear dependency checker terminated.\n",
      "Eliminator started.\n",
      "Freed constraints in eliminator : 0\n",
      "Eliminator terminated.\n",
      "Eliminator - tries                  : 1                 time                   : 0.00            \n",
      "Lin. dep.  - tries                  : 1                 time                   : 0.00            \n",
      "Lin. dep.  - number                 : 0               \n",
      "Presolve terminated. Time: 0.01    \n",
      "Problem\n",
      "  Name                   :                 \n",
      "  Objective sense        : max             \n",
      "  Type                   : CONIC (conic optimization problem)\n",
      "  Constraints            : 2872            \n",
      "  Cones                  : 0               \n",
      "  Scalar variables       : 6779            \n",
      "  Matrix variables       : 91              \n",
      "  Integer variables      : 0               \n",
      "\n",
      "Optimizer  - threads                : 4               \n",
      "Optimizer  - solved problem         : the primal      \n",
      "Optimizer  - Constraints            : 2631\n",
      "Optimizer  - Cones                  : 1\n",
      "Optimizer  - Scalar variables       : 6359              conic                  : 409             \n",
      "Optimizer  - Semi-definite variables: 91                scalarized             : 11721           \n",
      "Factor     - setup time             : 0.19              dense det. time        : 0.00            \n",
      "Factor     - ML order time          : 0.05              GP order time          : 0.00            \n",
      "Factor     - nonzeros before factor : 1.64e+06          after factor           : 2.19e+06        \n",
      "Factor     - dense dim.             : 2                 flops                  : 2.44e+09        \n",
      "ITE PFEAS    DFEAS    GFEAS    PRSTATUS   POBJ              DOBJ              MU       TIME  \n",
      "0   2.4e+00  1.0e+00  1.0e+00  0.00e+00   0.000000000e+00   0.000000000e+00   1.0e+00  0.23  \n",
      "1   2.1e+00  8.8e-01  9.3e-01  1.35e+00   1.075132996e-02   -1.260261497e-01  8.8e-01  0.81  \n",
      "2   1.7e+00  7.1e-01  8.8e-01  -4.01e-01  3.949752560e-01   -6.828002513e-02  7.1e-01  1.40  \n",
      "3   8.7e-01  3.7e-01  5.6e-01  -6.92e-01  1.292484748e+00   -3.236119524e-02  3.7e-01  2.00  \n",
      "4   2.9e-01  1.2e-01  3.2e-01  -9.40e-01  5.586576745e+00   -3.570362153e-02  1.2e-01  2.61  \n",
      "5   7.0e-02  3.0e-02  1.5e-01  -9.83e-01  2.502798480e+01   -1.408120662e-01  3.0e-02  3.22  \n",
      "6   2.9e-02  1.2e-02  9.2e-02  -9.46e-01  5.697875120e+01   -2.579513467e-01  1.2e-02  3.81  \n",
      "7   3.3e-03  1.4e-03  2.0e-02  -8.26e-01  1.954040250e+02   -6.930299343e-02  1.4e-03  4.47  \n",
      "8   1.2e-03  5.3e-04  3.3e-03  5.17e-01   3.857722453e+01   -3.290132322e-02  5.3e-04  5.06  \n",
      "9   2.4e-04  1.0e-04  1.3e-04  1.94e+00   1.445593112e+00   -4.761971639e-03  1.0e-04  5.72  \n",
      "10  3.6e-05  1.5e-05  7.4e-06  1.54e+00   2.339428136e-01   -7.151130630e-04  1.5e-05  6.35  \n",
      "11  4.7e-06  2.0e-06  2.8e-07  1.20e+00   1.910051488e-02   -8.552413848e-05  2.0e-06  7.00  \n",
      "12  2.4e-06  4.5e-07  2.4e-08  1.15e+00   2.703784416e-03   -1.683182883e-05  4.4e-07  7.61  \n",
      "13  8.4e-07  1.5e-07  3.6e-09  1.51e+00   5.244641552e-04   -4.414178721e-06  1.5e-07  8.31  \n",
      "14  3.4e-07  4.1e-08  4.9e-10  9.79e-01   1.435181310e-04   -1.180041678e-06  4.0e-08  8.94  \n",
      "15  1.3e-07  1.4e-08  9.4e-11  1.00e+00   4.861071084e-05   -4.245207957e-07  1.3e-08  9.58  \n",
      "16  4.9e-08  1.3e-08  1.6e-11  1.00e+00   1.524696022e-05   -1.699079828e-07  4.0e-09  10.20 \n",
      "17  1.3e-08  7.9e-09  2.7e-12  1.00e+00   4.516980033e-06   -7.956189943e-08  1.2e-09  10.82 \n",
      "18  9.5e-09  6.6e-09  2.1e-12  1.00e+00   3.799223798e-06   -6.955223097e-08  9.9e-10  11.46 \n",
      "19  9.5e-09  6.6e-09  2.1e-12  1.00e+00   3.799223798e-06   -6.955223097e-08  9.9e-10  12.12 \n",
      "20  8.8e-09  8.4e-09  1.8e-12  1.00e+00   3.470532115e-06   -6.481106820e-08  9.1e-10  12.76 \n",
      "21  8.3e-09  1.1e-08  1.3e-12  1.00e+00   2.852382314e-06   -5.575352698e-08  7.5e-10  13.39 \n",
      "22  4.8e-09  1.3e-08  1.8e-13  1.00e+00   7.341845513e-07   -2.342174021e-08  1.9e-10  13.97 \n",
      "23  1.4e-09  1.1e-07  2.9e-14  1.00e+00   2.151797390e-07   -1.082216555e-08  5.8e-11  14.55 \n",
      "24  7.5e-10  4.8e-06  5.1e-15  1.00e+00   6.568557939e-08   -5.446683084e-09  1.8e-11  15.18 \n",
      "25  2.6e-10  5.7e-06  1.1e-15  1.00e+00   2.269443840e-08   -3.090777087e-09  6.6e-12  15.81 \n",
      "26  3.1e-10  5.6e-06  1.1e-15  1.00e+00   2.241388898e-08   -3.068739240e-09  6.6e-12  16.46 \n",
      "27  2.8e-10  3.3e-06  5.4e-16  1.00e+00   1.355365148e-08   -2.371755317e-09  4.1e-12  17.11 \n",
      "28  2.6e-10  2.4e-06  4.7e-16  1.00e+00   1.218540854e-08   -2.247115498e-09  3.7e-12  20.79 \n",
      "29  3.6e-10  2.4e-06  4.4e-16  1.00e+00   1.156251872e-08   -2.188626326e-09  3.5e-12  21.54 \n",
      "30  3.8e-10  2.5e-06  4.3e-16  1.00e+00   1.141393360e-08   -2.174469052e-09  3.5e-12  22.20 \n",
      "31  3.9e-10  2.4e-06  4.3e-16  1.00e+00   1.137720700e-08   -2.170956966e-09  3.5e-12  22.91 \n",
      "32  3.9e-10  2.4e-06  4.3e-16  1.00e+00   1.135890289e-08   -2.169204290e-09  3.5e-12  23.65 \n",
      "33  3.9e-10  2.4e-06  4.3e-16  1.00e+00   1.135890289e-08   -2.169204290e-09  3.5e-12  24.36 \n",
      "Optimizer terminated. Time: 25.08   \n",
      "\n",
      "Termination status = SLOW_PROGRESS\n",
      "Optimal value = 1.1358902859970321e-8\n",
      " 32.632119 seconds (16.27 M allocations: 1.508 GiB, 1.17% gc time)\n"
     ]
    },
    {
     "name": "stderr",
     "output_type": "stream",
     "text": [
      "WARNING: replacing module InterRelax.\n"
     ]
    }
   ],
   "source": [
    "using SparseArrays\n",
    "\n",
    "include(\"../src/InterRelax.jl\")\n",
    "using .InterRelax\n",
    "\n",
    "n,m,l,lmon_g,supp_g,coe_g,lmon_h,supp_h,coe_h,lmon_f,supp_f,coe_f,dg,dh=InterRelax.get_info(x,f,g,h,sparse=true);\n",
    "\n",
    "\n",
    "k=1\n",
    "s=22\n",
    "d=Int64(maximum([sum(supp_f[:,i]) for i in 1:lmon_f]))+1\n",
    "\n",
    "@time opt_val1,opt_sol=InterRelax.RelaxSparse(n,m,l,lmon_g,supp_g,coe_g,lmon_h,supp_h,coe_h,lmon_f,supp_f,coe_f,dg,dh,k,s,d,assign=\"min\",alg=\"MD\",minimize=true,solver=\"Mosek\",comp_opt_sol=false);"
   ]
  },
  {
   "cell_type": "code",
   "execution_count": null,
   "metadata": {},
   "outputs": [],
   "source": []
  },
  {
   "cell_type": "code",
   "execution_count": null,
   "metadata": {},
   "outputs": [],
   "source": []
  },
  {
   "cell_type": "code",
   "execution_count": 120,
   "metadata": {
    "scrolled": true
   },
   "outputs": [
    {
     "name": "stdout",
     "output_type": "stream",
     "text": [
      "************************TSSOS************************\n",
      "TSSOS is launching...\n",
      "------------------------------------------------------\n",
      "The clique sizes of varibles:\n",
      "[20, 8]\n",
      "[1, 5]\n",
      "------------------------------------------------------\n",
      "Obtained the variable cliques in 0.000444495 seconds. The maximal size of cliques is 20.\n",
      "Assembling the SDP...\n",
      "There are 11451 affine constraints.\n",
      "SDP assembling time: 0.115760504 seconds.\n",
      "Solving the SDP...\n",
      "Problem\n",
      "  Name                   :                 \n",
      "  Objective sense        : max             \n",
      "  Type                   : CONIC (conic optimization problem)\n",
      "  Constraints            : 11451           \n",
      "  Cones                  : 0               \n",
      "  Scalar variables       : 1843            \n",
      "  Matrix variables       : 56              \n",
      "  Integer variables      : 0               \n",
      "\n",
      "Optimizer started.\n",
      "Presolve started.\n",
      "Linear dependency checker started.\n",
      "Linear dependency checker terminated.\n",
      "Eliminator started.\n",
      "Freed constraints in eliminator : 0\n",
      "Eliminator terminated.\n",
      "Eliminator - tries                  : 1                 time                   : 0.00            \n",
      "Lin. dep.  - tries                  : 1                 time                   : 0.00            \n",
      "Lin. dep.  - number                 : 0               \n",
      "Presolve terminated. Time: 0.01    \n",
      "Problem\n",
      "  Name                   :                 \n",
      "  Objective sense        : max             \n",
      "  Type                   : CONIC (conic optimization problem)\n",
      "  Constraints            : 11451           \n",
      "  Cones                  : 0               \n",
      "  Scalar variables       : 1843            \n",
      "  Matrix variables       : 56              \n",
      "  Integer variables      : 0               \n",
      "\n",
      "Optimizer  - threads                : 4               \n",
      "Optimizer  - solved problem         : the primal      \n",
      "Optimizer  - Constraints            : 11451\n",
      "Optimizer  - Cones                  : 1\n",
      "Optimizer  - Scalar variables       : 1844              conic                  : 1844            \n",
      "Optimizer  - Semi-definite variables: 56                scalarized             : 41661           \n",
      "Factor     - setup time             : 8.07              dense det. time        : 0.00            \n",
      "Factor     - ML order time          : 1.80              GP order time          : 0.00            \n",
      "Factor     - nonzeros before factor : 5.68e+07          after factor           : 5.68e+07        \n",
      "Factor     - dense dim.             : 2                 flops                  : 4.02e+11        \n",
      "ITE PFEAS    DFEAS    GFEAS    PRSTATUS   POBJ              DOBJ              MU       TIME  \n",
      "0   6.0e+00  1.0e+00  1.0e+00  0.00e+00   0.000000000e+00   0.000000000e+00   1.0e+00  8.14  \n",
      "1   5.1e+00  8.5e-01  8.9e-01  -1.89e-01  1.016011776e-01   -2.735899811e-03  8.5e-01  22.79 \n",
      "2   2.8e+00  4.7e-01  6.9e-01  -8.61e-01  1.077526807e+00   4.930768716e-03   4.7e-01  37.16 \n",
      "3   3.3e-01  5.5e-02  2.2e-01  -8.89e-01  1.429782816e+01   -2.337159277e-02  5.5e-02  51.93 \n",
      "4   8.2e-02  1.4e-02  1.0e-01  -9.70e-01  5.688969304e+01   -7.693133764e-02  1.4e-02  67.37 \n",
      "5   4.0e-02  6.6e-03  7.2e-02  -9.94e-01  1.171111813e+02   -9.108581439e-02  6.6e-03  82.64 \n",
      "6   6.5e-03  1.1e-03  2.8e-02  -9.97e-01  6.812826318e+02   -1.341480783e-01  1.1e-03  96.73 \n",
      "7   9.0e-04  1.5e-04  1.0e-02  -9.99e-01  4.794179527e+03   -1.344462594e-01  1.5e-04  110.42\n",
      "8   1.7e-04  2.8e-05  4.4e-03  -9.99e-01  2.494200251e+04   -8.389580823e-02  2.8e-05  124.20\n",
      "9   6.4e-05  1.1e-05  2.7e-03  -9.76e-01  6.209551072e+04   -3.064378655e-02  1.1e-05  138.86\n",
      "10  1.0e-05  1.7e-06  9.7e-04  -9.37e-01  3.067715377e+05   2.176284630e-01   1.7e-06  153.66\n",
      "11  4.0e-06  6.7e-07  4.6e-04  -6.59e-01  4.763362884e+05   2.166417945e-01   6.7e-07  167.07\n",
      "12  6.8e-07  1.1e-07  7.7e-05  -2.70e-01  4.698772658e+05   1.613729583e-01   1.1e-07  181.04\n",
      "13  6.0e-07  9.9e-08  6.4e-05  5.59e-01   4.194800615e+05   1.476748312e-01   9.9e-08  195.41\n",
      "14  3.4e-07  5.7e-08  2.8e-05  6.08e-01   2.474104991e+05   9.845470220e-02   5.7e-08  209.04\n",
      "15  2.2e-07  3.6e-08  1.4e-05  7.58e-01   1.598508506e+05   6.897335568e-02   3.6e-08  222.85\n",
      "16  4.5e-08  5.9e-09  9.3e-07  8.41e-01   2.550159910e+04   1.830062671e-02   5.9e-09  237.06\n",
      "17  1.9e-08  2.7e-09  2.8e-07  9.73e-01   1.179874345e+04   8.264775851e-03   2.6e-09  288.13\n",
      "18  8.2e-09  2.6e-09  8.3e-08  9.87e-01   5.318070917e+03   3.542664108e-03   1.1e-09  303.23\n",
      "19  7.6e-09  2.7e-09  7.4e-08  9.95e-01   4.922818442e+03   3.271369768e-03   1.0e-09  329.86\n",
      "20  7.4e-09  2.6e-09  6.9e-08  9.95e-01   4.723616364e+03   3.135377363e-03   1.0e-09  344.24\n",
      "21  7.4e-09  2.6e-09  6.9e-08  9.95e-01   4.723616364e+03   3.135377363e-03   1.0e-09  360.41\n",
      "22  7.1e-09  2.6e-09  6.9e-08  9.95e-01   4.717430308e+03   3.130614360e-03   1.0e-09  373.53\n",
      "23  7.0e-09  2.6e-09  6.9e-08  9.95e-01   4.715884471e+03   3.129424087e-03   1.0e-09  387.88\n",
      "24  7.0e-09  2.6e-09  6.9e-08  9.95e-01   4.715884471e+03   3.129424087e-03   1.0e-09  401.26\n",
      "Optimizer terminated. Time: 414.94  \n",
      "\n",
      "SDP solving time: 415.245240232 seconds.\n",
      "termination status: SLOW_PROGRESS\n",
      "solution status: UNKNOWN_RESULT_STATUS\n",
      "optimum = 4715.884470786913\n",
      "415.494200 seconds (3.35 M allocations: 314.038 MiB, 0.04% gc time)\n"
     ]
    },
    {
     "name": "stderr",
     "output_type": "stream",
     "text": [
      "WARNING: replacing module InterRelax.\n"
     ]
    }
   ],
   "source": [
    "using SparseArrays, TSSOS\n",
    "\n",
    "include(\"../src/InterRelax.jl\")\n",
    "using .InterRelax\n",
    "\n",
    "n,m,l,lmon_g,supp_g,coe_g,lmon_h,supp_h,coe_h,lmon_f,supp_f,coe_f,dg,dh=InterRelax.get_info(x,f,g,h,sparse=true);\n",
    "\n",
    "k=2\n",
    "\n",
    "vars,pop=InterRelax.get_POP(n,m,l,lmon_g,supp_g,coe_g,lmon_h,supp_h,coe_h,lmon_f,supp_f,coe_f)\n",
    "@time opt,sol,data=TSSOS.cs_tssos_first(pop,vars,k,numeq=l,CS=\"MD\",TS=false,solver=\"Mosek\");"
   ]
  },
  {
   "cell_type": "code",
   "execution_count": 105,
   "metadata": {},
   "outputs": [
    {
     "data": {
      "text/plain": [
       "231"
      ]
     },
     "execution_count": 105,
     "metadata": {},
     "output_type": "execute_result"
    }
   ],
   "source": [
    "binomial(20+2,2)"
   ]
  },
  {
   "cell_type": "code",
   "execution_count": 117,
   "metadata": {},
   "outputs": [
    {
     "name": "stdout",
     "output_type": "stream",
     "text": [
      "************************TSSOS************************\n",
      "TSSOS is launching...\n",
      "------------------------------------------------------\n",
      "The clique sizes of varibles:\n",
      "[8]\n",
      "[18]\n",
      "------------------------------------------------------\n",
      "Obtained the variable cliques in 0.000388977 seconds. The maximal size of cliques is 8.\n",
      "Assembling the SDP...\n",
      "There are 198 affine constraints.\n",
      "SDP assembling time: 0.001123181 seconds.\n",
      "Solving the SDP...\n",
      "Problem\n",
      "  Name                   :                 \n",
      "  Objective sense        : max             \n",
      "  Type                   : CONIC (conic optimization problem)\n",
      "  Constraints            : 198             \n",
      "  Cones                  : 0               \n",
      "  Scalar variables       : 63              \n",
      "  Matrix variables       : 18              \n",
      "  Integer variables      : 0               \n",
      "\n",
      "Optimizer started.\n",
      "Presolve started.\n",
      "Linear dependency checker started.\n",
      "Linear dependency checker terminated.\n",
      "Eliminator started.\n",
      "Freed constraints in eliminator : 0\n",
      "Eliminator terminated.\n",
      "Eliminator - tries                  : 1                 time                   : 0.00            \n",
      "Lin. dep.  - tries                  : 1                 time                   : 0.00            \n",
      "Lin. dep.  - number                 : 0               \n",
      "Presolve terminated. Time: 0.00    \n",
      "Problem\n",
      "  Name                   :                 \n",
      "  Objective sense        : max             \n",
      "  Type                   : CONIC (conic optimization problem)\n",
      "  Constraints            : 198             \n",
      "  Cones                  : 0               \n",
      "  Scalar variables       : 63              \n",
      "  Matrix variables       : 18              \n",
      "  Integer variables      : 0               \n",
      "\n",
      "Optimizer  - threads                : 4               \n",
      "Optimizer  - solved problem         : the primal      \n",
      "Optimizer  - Constraints            : 198\n",
      "Optimizer  - Cones                  : 1\n",
      "Optimizer  - Scalar variables       : 64                conic                  : 14              \n",
      "Optimizer  - Semi-definite variables: 18                scalarized             : 810             \n",
      "Factor     - setup time             : 0.00              dense det. time        : 0.00            \n",
      "Factor     - ML order time          : 0.00              GP order time          : 0.00            \n",
      "Factor     - nonzeros before factor : 1.55e+04          after factor           : 1.68e+04        \n",
      "Factor     - dense dim.             : 0                 flops                  : 2.00e+06        \n",
      "ITE PFEAS    DFEAS    GFEAS    PRSTATUS   POBJ              DOBJ              MU       TIME  \n",
      "0   1.8e+01  1.0e+00  1.0e+00  0.00e+00   0.000000000e+00   0.000000000e+00   1.0e+00  0.00  \n",
      "1   4.3e+00  2.4e-01  4.3e-01  -1.91e-01  2.051615379e+00   -1.581198737e-01  2.4e-01  0.01  \n",
      "2   5.7e-01  3.2e-02  1.5e-01  -8.96e-01  2.014195657e+01   -2.110239697e-01  3.2e-02  0.01  \n",
      "3   9.2e-02  5.1e-03  5.7e-02  -9.85e-01  1.240877816e+02   -7.583912640e-01  5.1e-03  0.01  \n",
      "4   1.5e-02  8.3e-04  2.0e-02  -9.14e-01  5.746211142e+02   -2.248900396e+00  8.3e-04  0.02  \n",
      "5   3.3e-03  1.8e-04  6.1e-03  -6.26e-01  1.118552292e+03   -4.076719604e+00  1.8e-04  0.02  \n",
      "6   6.0e-04  3.3e-05  4.3e-04  2.27e-01   1.645425221e+02   -4.278040434e+00  3.3e-05  0.02  \n",
      "7   4.2e-05  2.3e-06  5.2e-06  1.42e+00   1.391251015e+00   -3.577047519e+00  2.3e-06  0.02  \n",
      "8   6.0e-06  3.3e-07  2.9e-07  1.04e+00   -3.816928150e+00  -4.546093010e+00  3.3e-07  0.03  \n",
      "9   8.7e-07  4.8e-08  2.5e-08  9.01e-01   -9.562171773e+00  -9.834800134e+00  4.8e-08  0.03  \n",
      "10  4.2e-07  2.0e-08  1.2e-08  1.34e-01   -1.866972684e+01  -1.902659004e+01  2.0e-08  0.03  \n",
      "11  2.1e-07  1.0e-08  6.0e-09  2.16e-01   -2.746164495e+01  -2.781106891e+01  1.0e-08  0.04  \n",
      "12  1.6e-07  6.3e-09  4.3e-09  -5.59e-01  -3.543015477e+01  -3.589614843e+01  5.8e-09  0.04  \n",
      "13  5.7e-08  2.8e-09  1.7e-09  2.79e-01   -4.508489194e+01  -4.546010455e+01  2.6e-09  0.04  \n",
      "14  2.6e-08  1.0e-09  7.6e-10  -2.44e-01  -6.746875448e+01  -6.798920484e+01  9.6e-10  0.05  \n",
      "15  2.1e-08  6.0e-10  4.0e-10  7.01e-01   -7.483301164e+01  -7.527581717e+01  5.5e-10  0.05  \n",
      "16  2.1e-08  5.6e-10  3.7e-10  5.56e-01   -7.581021713e+01  -7.624185469e+01  5.1e-10  0.06  \n",
      "17  2.0e-08  5.4e-10  3.5e-10  5.39e-01   -7.629731597e+01  -7.672304670e+01  4.9e-10  0.06  \n",
      "18  2.0e-08  5.3e-10  3.5e-10  5.34e-01   -7.632743084e+01  -7.675278367e+01  4.9e-10  0.07  \n",
      "19  2.0e-08  5.3e-10  3.5e-10  5.33e-01   -7.633495817e+01  -7.676021635e+01  4.9e-10  0.07  \n",
      "20  2.0e-08  5.3e-10  3.5e-10  5.33e-01   -7.633684070e+01  -7.676207523e+01  4.9e-10  0.08  \n",
      "21  2.0e-08  5.3e-10  3.5e-10  5.33e-01   -7.633684070e+01  -7.676207523e+01  4.9e-10  0.09  \n",
      "22  2.0e-08  5.3e-10  3.5e-10  5.33e-01   -7.633684070e+01  -7.676207523e+01  4.9e-10  0.10  \n",
      "Optimizer terminated. Time: 0.11    \n",
      "\n",
      "SDP solving time: 0.11087191 seconds.\n",
      "termination status: SLOW_PROGRESS\n",
      "solution status: UNKNOWN_RESULT_STATUS\n",
      "optimum = -76.336840703371\n",
      "  0.115390 seconds (52.60 k allocations: 5.994 MiB)\n"
     ]
    },
    {
     "name": "stderr",
     "output_type": "stream",
     "text": [
      "WARNING: replacing module InterRelax.\n"
     ]
    }
   ],
   "source": [
    "using SparseArrays, TSSOS\n",
    "\n",
    "include(\"../src/InterRelax.jl\")\n",
    "using .InterRelax\n",
    "\n",
    "n,m,l,lmon_g,supp_g,coe_g,lmon_h,supp_h,coe_h,lmon_f,supp_f,coe_f,dg,dh=InterRelax.get_info(x,f,g,h,sparse=true);\n",
    "\n",
    "k=1\n",
    "\n",
    "vars,pop=InterRelax.get_POP(n,m,l,lmon_g,supp_g,coe_g,lmon_h,supp_h,coe_h,lmon_f,supp_f,coe_f)\n",
    "@time opt,sol,data=TSSOS.cs_tssos_first(pop,vars,k,numeq=l,CS=\"MD\",TS=false,solver=\"Mosek\");"
   ]
  },
  {
   "cell_type": "code",
   "execution_count": 107,
   "metadata": {},
   "outputs": [
    {
     "data": {
      "text/plain": [
       "21"
      ]
     },
     "execution_count": 107,
     "metadata": {},
     "output_type": "execute_result"
    }
   ],
   "source": [
    "binomial(20+1,1)"
   ]
  },
  {
   "cell_type": "code",
   "execution_count": null,
   "metadata": {},
   "outputs": [],
   "source": []
  }
 ],
 "metadata": {
  "kernelspec": {
   "display_name": "Julia 1.3.0",
   "language": "julia",
   "name": "julia-1.3"
  },
  "language_info": {
   "file_extension": ".jl",
   "mimetype": "application/julia",
   "name": "julia",
   "version": "1.3.0"
  }
 },
 "nbformat": 4,
 "nbformat_minor": 2
}
