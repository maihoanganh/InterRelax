{
 "cells": [
  {
   "cell_type": "code",
   "execution_count": 9,
   "metadata": {},
   "outputs": [
    {
     "name": "stdout",
     "output_type": "stream",
     "text": [
      "***Problem setting***\n",
      "Number of variables: n=120\n",
      "Number of inequality constraints: m=1\n",
      "Number of equality constraints: l=1\n"
     ]
    }
   ],
   "source": [
    "using DynamicPolynomials, SparseArrays, MatrixMarket\n",
    "\n",
    "println(\"***Problem setting***\")\n",
    "\n",
    "data=\"/home/hoanganh/Desktop/math-topics/InterruptedRelax/codes/dataPOP2\" # path of data \n",
    "A = MatrixMarket.mmread(data*\"/johnson16-2-4.mtx\")\n",
    "\n",
    "n=size(A,1)\n",
    "for i in 1:n\n",
    "    A[i,i]=1\n",
    "end\n",
    "@polyvar x[1:n]# variables\n",
    "\n",
    "println(\"Number of variables: n=\",n)\n",
    "\n",
    "f=sum(A[i,j]*x[i]*x[j] for i=1:n for j=1:n)*1.0\n",
    "\n",
    "            \n",
    "g=[1.0-sum(x.^2)]\n",
    "#type of coefficients of each polynomial must be float\n",
    "\n",
    "m=length(g)\n",
    "println(\"Number of inequality constraints: m=\",m)        \n",
    "\n",
    "# unit sphere constraint\n",
    "h=[1.0-sum(x)] #type of coefficients of each polynomial must be float\n",
    "\n",
    "l=length(h)\n",
    "\n",
    "println(\"Number of equality constraints: l=\",l)"
   ]
  },
  {
   "cell_type": "code",
   "execution_count": 18,
   "metadata": {},
   "outputs": [
    {
     "name": "stdout",
     "output_type": "stream",
     "text": [
      "**Interrupted relaxation based on Handelman's Positivstellensatz**\n",
      "Relaxation order: k=2\n",
      "Sparsity order: s=122\n"
     ]
    },
    {
     "name": "stderr",
     "output_type": "stream",
     "text": [
      "WARNING: replacing module InterRelax.\n"
     ]
    },
    {
     "name": "stdout",
     "output_type": "stream",
     "text": [
      "Maximal matrix size:121\n",
      "Problem\n",
      "  Name                   :                 \n",
      "  Objective sense        : max             \n",
      "  Type                   : CONIC (conic optimization problem)\n",
      "  Constraints            : 7381            \n",
      "  Cones                  : 0               \n",
      "  Scalar variables       : 7505            \n",
      "  Matrix variables       : 1               \n",
      "  Integer variables      : 0               \n",
      "\n",
      "Optimizer started.\n",
      "Presolve started.\n",
      "Linear dependency checker started.\n",
      "Linear dependency checker terminated.\n",
      "Eliminator started.\n",
      "Freed constraints in eliminator : 0\n",
      "Eliminator terminated.\n",
      "Eliminator - tries                  : 1                 time                   : 0.00            \n",
      "Lin. dep.  - tries                  : 1                 time                   : 0.00            \n",
      "Lin. dep.  - number                 : 0               \n",
      "Presolve terminated. Time: 0.01    \n",
      "Problem\n",
      "  Name                   :                 \n",
      "  Objective sense        : max             \n",
      "  Type                   : CONIC (conic optimization problem)\n",
      "  Constraints            : 7381            \n",
      "  Cones                  : 0               \n",
      "  Scalar variables       : 7505            \n",
      "  Matrix variables       : 1               \n",
      "  Integer variables      : 0               \n",
      "\n",
      "Optimizer  - threads                : 4               \n",
      "Optimizer  - solved problem         : the primal      \n",
      "Optimizer  - Constraints            : 7381\n",
      "Optimizer  - Cones                  : 1\n",
      "Optimizer  - Scalar variables       : 7385              conic                  : 123             \n",
      "Optimizer  - Semi-definite variables: 1                 scalarized             : 7381            \n",
      "Factor     - setup time             : 5.19              dense det. time        : 0.00            \n",
      "Factor     - ML order time          : 3.50              GP order time          : 0.00            \n",
      "Factor     - nonzeros before factor : 2.73e+07          after factor           : 2.73e+07        \n",
      "Factor     - dense dim.             : 3                 flops                  : 1.34e+11        \n",
      "ITE PFEAS    DFEAS    GFEAS    PRSTATUS   POBJ              DOBJ              MU       TIME  \n",
      "0   1.0e+00  1.0e+00  1.0e+00  0.00e+00   0.000000000e+00   0.000000000e+00   1.0e+00  5.22  \n",
      "1   8.0e-01  8.0e-01  8.7e-01  -8.80e-01  -1.489781079e+00  -1.681829286e+00  8.0e-01  8.57  \n",
      "2   4.8e-01  4.8e-01  6.2e-01  -8.45e-01  -6.346591507e+00  -7.131436328e+00  4.8e-01  11.58 \n",
      "3   1.3e-01  1.3e-01  2.4e-01  -7.81e-01  -2.932785000e+01  -3.193234645e+01  1.3e-01  14.60 \n",
      "4   5.0e-03  5.0e-03  1.0e-03  2.01e+00   -1.023199274e+01  -1.026298334e+01  5.0e-03  17.70 \n",
      "5   8.7e-04  8.7e-04  4.1e-05  2.08e+00   -1.163454757e+00  -1.164923286e+00  8.7e-04  20.91 \n",
      "6   1.9e-04  1.9e-04  4.6e-06  3.06e+00   -6.340222910e-03  -6.870351219e-03  1.9e-04  23.98 \n",
      "7   1.3e-08  1.3e-08  1.3e-12  1.06e+00   6.665502723e-02   6.665502202e-02   1.3e-08  27.71 \n",
      "Optimizer terminated. Time: 27.73   \n",
      "\n",
      "Termination status = OPTIMAL\n",
      "Optimal value = 0.06665502722920508\n",
      " 74.255868 seconds (86.05 M allocations: 84.298 GiB, 13.34% gc time)\n"
     ]
    }
   ],
   "source": [
    "include(\"../src/InterRelax.jl\")\n",
    "using .InterRelax\n",
    "\n",
    "n,m,l,lmon_g,supp_g,coe_g,lmon_h,supp_h,coe_h,lmon_f,supp_f,coe_f,dg,dh=InterRelax.get_info(x,f,g,h,sparse=false);\n",
    "# data=\"/home/hoanganh/Desktop/math-topics/InterruptedRelax/codes/dataPOP2\" # path of data\n",
    "# include(data*\"/densePOPvar$(n)nineq$(m)neq$(l).jl\");\n",
    "\n",
    "k=2\n",
    "s=122\n",
    "\n",
    "@time opt_val1=InterRelax.RelaxDense_without_multiplier(n,m,l,lmon_g,supp_g,coe_g,lmon_h,supp_h,coe_h,\n",
    "    lmon_f,supp_f,coe_f,dg,dh,k,s,solver=\"Mosek\");"
   ]
  },
  {
   "cell_type": "code",
   "execution_count": 19,
   "metadata": {},
   "outputs": [
    {
     "data": {
      "text/plain": [
       "15.002619330741902"
      ]
     },
     "execution_count": 19,
     "metadata": {},
     "output_type": "execute_result"
    }
   ],
   "source": [
    "1/opt_val1"
   ]
  },
  {
   "cell_type": "code",
   "execution_count": null,
   "metadata": {},
   "outputs": [],
   "source": []
  },
  {
   "cell_type": "code",
   "execution_count": 21,
   "metadata": {},
   "outputs": [
    {
     "name": "stdout",
     "output_type": "stream",
     "text": [
      "**Interrupted relaxation based on Putinar-Vasilescu's Positivstellensatz**\n",
      "Relaxation order: k=0\n",
      "Sparsity order: s=122\n"
     ]
    },
    {
     "name": "stderr",
     "output_type": "stream",
     "text": [
      "WARNING: replacing module InterRelax.\n"
     ]
    },
    {
     "name": "stdout",
     "output_type": "stream",
     "text": [
      "Maximal matrix size:121\n",
      "Problem\n",
      "  Name                   :                 \n",
      "  Objective sense        : max             \n",
      "  Type                   : CONIC (conic optimization problem)\n",
      "  Constraints            : 7381            \n",
      "  Cones                  : 0               \n",
      "  Scalar variables       : 7383            \n",
      "  Matrix variables       : 1               \n",
      "  Integer variables      : 0               \n",
      "\n",
      "Optimizer started.\n",
      "Presolve started.\n",
      "Linear dependency checker started.\n",
      "Linear dependency checker terminated.\n",
      "Eliminator started.\n",
      "Freed constraints in eliminator : 0\n",
      "Eliminator terminated.\n",
      "Eliminator - tries                  : 1                 time                   : 0.00            \n",
      "Lin. dep.  - tries                  : 1                 time                   : 0.00            \n",
      "Lin. dep.  - number                 : 0               \n",
      "Presolve terminated. Time: 0.01    \n",
      "Problem\n",
      "  Name                   :                 \n",
      "  Objective sense        : max             \n",
      "  Type                   : CONIC (conic optimization problem)\n",
      "  Constraints            : 7381            \n",
      "  Cones                  : 0               \n",
      "  Scalar variables       : 7383            \n",
      "  Matrix variables       : 1               \n",
      "  Integer variables      : 0               \n",
      "\n",
      "Optimizer  - threads                : 4               \n",
      "Optimizer  - solved problem         : the primal      \n",
      "Optimizer  - Constraints            : 7381\n",
      "Optimizer  - Cones                  : 1\n",
      "Optimizer  - Scalar variables       : 7384              conic                  : 123             \n",
      "Optimizer  - Semi-definite variables: 1                 scalarized             : 7381            \n",
      "Factor     - setup time             : 5.16              dense det. time        : 0.00            \n",
      "Factor     - ML order time          : 3.45              GP order time          : 0.00            \n",
      "Factor     - nonzeros before factor : 2.73e+07          after factor           : 2.73e+07        \n",
      "Factor     - dense dim.             : 2                 flops                  : 1.34e+11        \n",
      "ITE PFEAS    DFEAS    GFEAS    PRSTATUS   POBJ              DOBJ              MU       TIME  \n",
      "0   2.0e+00  1.0e+00  1.0e+00  0.00e+00   0.000000000e+00   0.000000000e+00   1.0e+00  5.19  \n",
      "1   1.3e+00  6.5e-01  7.9e-01  -9.44e-01  -1.508252012e+00  -2.004325061e+00  6.5e-01  8.75  \n",
      "2   7.2e-03  3.6e-03  2.4e-02  -9.61e-01  -1.347596953e+02  -1.781298606e+02  3.6e-03  12.51 \n",
      "3   2.6e-03  1.3e-03  1.9e-03  2.73e+00   -2.032376350e+01  -2.260694521e+01  1.3e-03  15.85 \n",
      "4   2.1e-04  1.1e-04  2.3e-05  1.82e+00   -1.993092781e+00  -2.039106582e+00  1.1e-04  19.25 \n",
      "5   7.0e-05  3.5e-05  4.8e-06  4.21e+00   -1.219465324e-01  -1.407676802e-01  3.5e-05  22.60 \n",
      "6   1.4e-07  7.1e-08  2.3e-10  1.21e+00   6.581244230e-02   6.580190415e-02   7.1e-08  26.22 \n",
      "7   1.0e-09  3.2e-15  1.0e-21  1.00e+00   6.666666665e-02   6.666666665e-02   4.6e-15  29.50 \n",
      "Optimizer terminated. Time: 29.52   \n",
      "\n",
      "Termination status = OPTIMAL\n",
      "Optimal value = 0.06666666664703225\n",
      " 81.302783 seconds (85.44 M allocations: 83.740 GiB, 12.14% gc time)\n"
     ]
    },
    {
     "data": {
      "text/plain": [
       "(0.06666666664703225, Float64[])"
      ]
     },
     "execution_count": 21,
     "metadata": {},
     "output_type": "execute_result"
    }
   ],
   "source": [
    "include(\"../src/InterRelax.jl\")\n",
    "using .InterRelax\n",
    "\n",
    "n,m,l,lmon_g,supp_g,coe_g,lmon_h,supp_h,coe_h,lmon_f,supp_f,coe_f,dg,dh=InterRelax.get_info(x,f,g,h,sparse=false);\n",
    "\n",
    "\n",
    "k=0\n",
    "s=122\n",
    "\n",
    "@time opt_val1,opt_sol=InterRelax.RelaxDense(n,m,l,lmon_g,supp_g,coe_g,lmon_h,supp_h,coe_h,\n",
    "    lmon_f,supp_f,coe_f,dg,dh,k,s,solver=\"Mosek\",comp_opt_sol=false)"
   ]
  },
  {
   "cell_type": "code",
   "execution_count": 22,
   "metadata": {},
   "outputs": [
    {
     "data": {
      "text/plain": [
       "15.000000004417744"
      ]
     },
     "execution_count": 22,
     "metadata": {},
     "output_type": "execute_result"
    }
   ],
   "source": [
    "1/opt_val1"
   ]
  },
  {
   "cell_type": "code",
   "execution_count": null,
   "metadata": {},
   "outputs": [],
   "source": []
  },
  {
   "cell_type": "code",
   "execution_count": 32,
   "metadata": {
    "scrolled": true
   },
   "outputs": [
    {
     "name": "stdout",
     "output_type": "stream",
     "text": [
      "**Semidefinite relaxation based on Putinar's Positivstellensatz**\n",
      "Relaxation order: k=1\n",
      "Maximal matrix size: 121\n",
      "************************TSSOS************************\n",
      "TSSOS is launching...\n",
      "------------------------------------------------------\n",
      "The clique sizes of varibles:\n",
      "[120]\n",
      "[1]\n",
      "------------------------------------------------------\n",
      "Assembling the SDP...\n",
      "There are 7381 affine constraints.\n",
      "SDP assembling time: 0.016831664 seconds.\n",
      "Solving the SDP...\n",
      "Problem\n",
      "  Name                   :                 \n",
      "  Objective sense        : max             \n",
      "  Type                   : CONIC (conic optimization problem)\n",
      "  Constraints            : 7381            \n",
      "  Cones                  : 0               \n",
      "  Scalar variables       : 123             \n",
      "  Matrix variables       : 1               \n",
      "  Integer variables      : 0               \n",
      "\n",
      "Optimizer started.\n",
      "Presolve started.\n",
      "Linear dependency checker started.\n",
      "Linear dependency checker terminated.\n",
      "Eliminator started.\n",
      "Freed constraints in eliminator : 0\n",
      "Eliminator terminated.\n",
      "Eliminator - tries                  : 1                 time                   : 0.00            \n",
      "Lin. dep.  - tries                  : 1                 time                   : 0.00            \n",
      "Lin. dep.  - number                 : 0               \n",
      "Presolve terminated. Time: 0.00    \n",
      "Problem\n",
      "  Name                   :                 \n",
      "  Objective sense        : max             \n",
      "  Type                   : CONIC (conic optimization problem)\n",
      "  Constraints            : 7381            \n",
      "  Cones                  : 0               \n",
      "  Scalar variables       : 123             \n",
      "  Matrix variables       : 1               \n",
      "  Integer variables      : 0               \n",
      "\n",
      "Optimizer  - threads                : 4               \n",
      "Optimizer  - solved problem         : the primal      \n",
      "Optimizer  - Constraints            : 7381\n",
      "Optimizer  - Cones                  : 1\n",
      "Optimizer  - Scalar variables       : 124               conic                  : 3               \n",
      "Optimizer  - Semi-definite variables: 1                 scalarized             : 7381            \n",
      "Factor     - setup time             : 6.00              dense det. time        : 0.00            \n",
      "Factor     - ML order time          : 4.26              GP order time          : 0.00            \n",
      "Factor     - nonzeros before factor : 2.72e+07          after factor           : 2.72e+07        \n",
      "Factor     - dense dim.             : 0                 flops                  : 1.34e+11        \n",
      "ITE PFEAS    DFEAS    GFEAS    PRSTATUS   POBJ              DOBJ              MU       TIME  \n",
      "0   2.0e+00  1.0e+00  1.0e+00  0.00e+00   0.000000000e+00   0.000000000e+00   1.0e+00  6.01  \n",
      "1   3.2e-01  1.6e-01  4.0e-01  -9.99e-01  -1.953840629e+01  -2.475166331e+01  1.6e-01  9.47  \n",
      "2   1.8e-02  8.8e-03  4.7e-02  -9.49e-01  -1.129025465e+02  -1.408271902e+02  8.8e-03  13.01 \n",
      "3   2.4e-03  1.2e-03  8.7e-04  1.75e+00   -3.235665784e+01  -3.288477450e+01  1.2e-03  16.07 \n",
      "4   4.7e-04  2.4e-04  9.9e-05  3.17e+00   -1.200304112e+01  -1.217796320e+01  2.4e-04  19.38 \n",
      "5   3.8e-08  1.9e-08  2.8e-12  1.09e+00   -1.113352346e+01  -1.113352336e+01  1.9e-08  23.00 \n",
      "6   1.0e-11  3.1e-13  4.4e-17  1.00e+00   -1.113333334e+01  -1.113333334e+01  3.1e-13  26.21 \n",
      "Optimizer terminated. Time: 26.22   \n",
      "\n",
      "SDP solving time: 26.381374778 seconds.\n",
      "optimum = -11.133333336490475\n",
      " 26.445988 seconds (631.98 k allocations: 84.341 MiB, 0.49% gc time)\n"
     ]
    },
    {
     "name": "stderr",
     "output_type": "stream",
     "text": [
      "WARNING: replacing module InterRelax.\n"
     ]
    }
   ],
   "source": [
    "using SparseArrays\n",
    "\n",
    "include(\"../src/InterRelax.jl\")\n",
    "using .InterRelax\n",
    "\n",
    "n,m,l,lmon_g,supp_g,coe_g,lmon_h,supp_h,coe_h,lmon_f,supp_f,coe_f,dg,dh=InterRelax.get_info(x,f,g,h,sparse=true);\n",
    "\n",
    "\n",
    "k=1\n",
    "\n",
    "opt=InterRelax.TSSOS_Dense(n,m,l,lmon_g,supp_g,coe_g,lmon_h,supp_h,coe_h,lmon_f,supp_f,coe_f,k);"
   ]
  },
  {
   "cell_type": "code",
   "execution_count": 33,
   "metadata": {},
   "outputs": [
    {
     "data": {
      "text/plain": [
       "-0.08982035925596626"
      ]
     },
     "execution_count": 33,
     "metadata": {},
     "output_type": "execute_result"
    }
   ],
   "source": [
    "1/opt"
   ]
  },
  {
   "cell_type": "code",
   "execution_count": null,
   "metadata": {},
   "outputs": [],
   "source": []
  },
  {
   "cell_type": "code",
   "execution_count": null,
   "metadata": {},
   "outputs": [],
   "source": []
  },
  {
   "cell_type": "code",
   "execution_count": 23,
   "metadata": {
    "scrolled": true
   },
   "outputs": [
    {
     "name": "stdout",
     "output_type": "stream",
     "text": [
      "Maximal matrix size: 300\n",
      "************************TSSOS************************"
     ]
    },
    {
     "name": "stderr",
     "output_type": "stream",
     "text": [
      "WARNING: replacing module InterRelax.\n"
     ]
    },
    {
     "name": "stdout",
     "output_type": "stream",
     "text": [
      "\n",
      "TSSOS is launching...\n",
      "------------------------------------------------------\n",
      "The clique sizes of varibles:\n",
      "[23]\n",
      "[1]\n",
      "------------------------------------------------------\n",
      "Assembling the SDP...\n",
      "There are 17550 affine constraints.\n",
      "SDP assembling time: 0.387775922 seconds.\n",
      "Solving the SDP...\n",
      "Problem\n",
      "  Name                   :                 \n",
      "  Objective sense        : max             \n",
      "  Type                   : CONIC (conic optimization problem)\n",
      "  Constraints            : 17550           \n",
      "  Cones                  : 0               \n",
      "  Scalar variables       : 301             \n",
      "  Matrix variables       : 25              \n",
      "  Integer variables      : 0               \n",
      "\n",
      "Optimizer started.\n",
      "Presolve started.\n",
      "Linear dependency checker started.\n",
      "Linear dependency checker terminated.\n",
      "Eliminator started.\n",
      "Freed constraints in eliminator : 0\n",
      "Eliminator terminated.\n",
      "Eliminator - tries                  : 1                 time                   : 0.00            \n",
      "Lin. dep.  - tries                  : 1                 time                   : 0.00            \n",
      "Lin. dep.  - number                 : 0               \n",
      "Presolve terminated. Time: 0.01    \n"
     ]
    },
    {
     "name": "stderr",
     "output_type": "stream",
     "text": [
      "WARNING: Force throwing a SIGINT\n"
     ]
    },
    {
     "ename": "InterruptException",
     "evalue": "InterruptException:",
     "output_type": "error",
     "traceback": [
      "InterruptException:",
      "",
      "Stacktrace:",
      " [1] macro expansion at /home/hoanganh/.julia/packages/Mosek/Ue6iA/src/Mosek.jl:30 [inlined]",
      " [2] #370 at /home/hoanganh/.julia/packages/Mosek/Ue6iA/src/msk_functions.jl:5505 [inlined]",
      " [3] disable_sigint at ./c.jl:446 [inlined]",
      " [4] optimize(::Mosek.Task) at /home/hoanganh/.julia/packages/Mosek/Ue6iA/src/msk_functions.jl:5504",
      " [5] optimize!(::MosekTools.MosekModel) at /home/hoanganh/.julia/packages/MosekTools/sppJY/src/MosekTools.jl:272",
      " [6] optimize!(::MathOptInterface.Bridges.LazyBridgeOptimizer{MosekTools.MosekModel}) at /home/hoanganh/.julia/packages/MathOptInterface/YDdD3/src/Bridges/bridge_optimizer.jl:319",
      " [7] optimize!(::MathOptInterface.Utilities.CachingOptimizer{MathOptInterface.AbstractOptimizer,MathOptInterface.Utilities.UniversalFallback{MathOptInterface.Utilities.GenericModel{Float64,MathOptInterface.Utilities.ModelFunctionConstraints{Float64}}}}) at /home/hoanganh/.julia/packages/MathOptInterface/YDdD3/src/Utilities/cachingoptimizer.jl:252",
      " [8] #optimize!#126(::Bool, ::Bool, ::Base.Iterators.Pairs{Union{},Union{},Tuple{},NamedTuple{(),Tuple{}}}, ::typeof(JuMP.optimize!), ::JuMP.Model, ::Nothing) at /home/hoanganh/.julia/packages/JuMP/klrjG/src/optimizer_interface.jl:185",
      " [9] optimize! at /home/hoanganh/.julia/packages/JuMP/klrjG/src/optimizer_interface.jl:157 [inlined] (repeats 2 times)",
      " [10] macro expansion at /home/hoanganh/.julia/packages/TSSOS/yRxCz/src/nblockmix.jl:392 [inlined]",
      " [11] macro expansion at ./util.jl:212 [inlined]",
      " [12] #blockcpop_mix#88(::Int64, ::Int64, ::Bool, ::Bool, ::String, ::Bool, ::Bool, ::Bool, ::Bool, ::Bool, ::Bool, ::typeof(TSSOS.blockcpop_mix), ::Int64, ::Int64, ::Array{Array{Array{UInt16,1},1},1}, ::Array{Array{Float64,1},1}, ::Array{Array{Array{Array{UInt16,1},1},1},1}, ::Array{Array{UInt16,1},1}, ::Int64, ::Array{Int64,1}, ::Array{Array{UInt32,1},1}, ::Array{UInt32,1}, ::Array{Array{Array{Array{UInt16,1},1},1},1}, ::Array{Array{UInt16,1},1}, ::Array{Array{Array{UInt16,1},1},1}) at /home/hoanganh/.julia/packages/TSSOS/yRxCz/src/nblockmix.jl:391",
      " [13] (::TSSOS.var\"#kw##blockcpop_mix\")(::NamedTuple{(:numeq, :nb, :QUIET, :TS, :solver, :tune, :solve, :solution, :MomentOne, :Mommat),Tuple{Int64,Int64,Bool,Bool,String,Bool,Bool,Bool,Bool,Bool}}, ::typeof(TSSOS.blockcpop_mix), ::Int64, ::Int64, ::Array{Array{Array{UInt16,1},1},1}, ::Array{Array{Float64,1},1}, ::Array{Array{Array{Array{UInt16,1},1},1},1}, ::Array{Array{UInt16,1},1}, ::Int64, ::Array{Int64,1}, ::Array{Array{UInt32,1},1}, ::Array{UInt32,1}, ::Array{Array{Array{Array{UInt16,1},1},1},1}, ::Array{Array{UInt16,1},1}, ::Array{Array{Array{UInt16,1},1},1}) at ./none:0",
      " [14] #cs_tssos_first#84(::Int64, ::Int64, ::Int64, ::Bool, ::Bool, ::String, ::Bool, ::Bool, ::Int64, ::Bool, ::String, ::Bool, ::Bool, ::Bool, ::Bool, ::Bool, ::Float64, ::typeof(cs_tssos_first), ::Array{Array{Array{UInt16,1},1},1}, ::Array{Array{Float64,1},1}, ::Int64, ::Int64) at /home/hoanganh/.julia/packages/TSSOS/yRxCz/src/nblockmix.jl:118",
      " [15] #cs_tssos_first at ./none:0 [inlined]",
      " [16] #cs_tssos_first#81 at /home/hoanganh/.julia/packages/TSSOS/yRxCz/src/nblockmix.jl:47 [inlined]",
      " [17] (::TSSOS.var\"#kw##cs_tssos_first\")(::NamedTuple{(:numeq, :CS, :TS, :solver),Tuple{Int64,Bool,Bool,String}}, ::typeof(cs_tssos_first), ::Array{Polynomial{true,Float64},1}, ::Array{PolyVar{true},1}, ::Int64) at ./none:0",
      " [18] top-level scope at util.jl:155",
      " [19] top-level scope at In[23]:15"
     ]
    }
   ],
   "source": [
    "using SparseArrays\n",
    "\n",
    "include(\"../src/InterRelax.jl\")\n",
    "using .InterRelax\n",
    "\n",
    "n,m,l,lmon_g,supp_g,coe_g,lmon_h,supp_h,coe_h,lmon_f,supp_f,coe_f,dg,dh=InterRelax.get_info(x,f,g,h,sparse=true);\n",
    "\n",
    "using TSSOS\n",
    "\n",
    "k=2\n",
    "\n",
    "println(\"Maximal matrix size: \",binomial(n+k,k))\n",
    "\n",
    "vars,pop=InterRelax.get_POP(n,m,l,lmon_g,supp_g,coe_g,lmon_h,supp_h,coe_h,lmon_f,supp_f,coe_f)\n",
    "\n",
    "@time opt,sol,data=TSSOS.cs_tssos_first(pop,vars,k,numeq=l,CS=false,TS=false,solver=\"Mosek\");"
   ]
  },
  {
   "cell_type": "code",
   "execution_count": 31,
   "metadata": {},
   "outputs": [
    {
     "data": {
      "text/plain": [
       "-0.6289652432943494"
      ]
     },
     "execution_count": 31,
     "metadata": {},
     "output_type": "execute_result"
    }
   ],
   "source": [
    "1/opt"
   ]
  },
  {
   "cell_type": "code",
   "execution_count": null,
   "metadata": {},
   "outputs": [],
   "source": []
  }
 ],
 "metadata": {
  "kernelspec": {
   "display_name": "Julia 1.3.0",
   "language": "julia",
   "name": "julia-1.3"
  },
  "language_info": {
   "file_extension": ".jl",
   "mimetype": "application/julia",
   "name": "julia",
   "version": "1.3.0"
  }
 },
 "nbformat": 4,
 "nbformat_minor": 2
}
