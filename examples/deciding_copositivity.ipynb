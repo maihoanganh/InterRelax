{
 "cells": [
  {
   "cell_type": "code",
   "execution_count": 54,
   "metadata": {},
   "outputs": [
    {
     "name": "stdout",
     "output_type": "stream",
     "text": [
      "***Problem setting***\n",
      "Number of variables: n=10\n",
      "====================\n",
      "Number of inequality constraints: m=0\n",
      "====================\n",
      "Number of equality constraints: l=1\n",
      "====================\n"
     ]
    }
   ],
   "source": [
    "using DynamicPolynomials\n",
    "\n",
    "println(\"***Problem setting***\")\n",
    "\n",
    "n=10\n",
    "\n",
    "println(\"Number of variables: n=\",n)\n",
    "println(\"====================\")\n",
    "\n",
    "@polyvar x[1:n]# variables\n",
    "\n",
    "# random quadratic objective function f\n",
    "\n",
    "\n",
    "A=2*rand(Float64,n,n).-1\n",
    "A+=A'\n",
    "A=0.5*A\n",
    "\n",
    "\n",
    "#include(\"./mat_copositivity_size$(n).jl\")\n",
    "\n",
    "\n",
    "f=sum(A[i,j]*x[i]*x[j] for i=1:n for j=1:n)\n",
    "\n",
    "            \n",
    "g=Vector{Polynomial{true,Float64}}([])\n",
    "#type of coefficients of each polynomial must be float\n",
    "\n",
    "m=length(g)\n",
    "println(\"Number of inequality constraints: m=\",m)\n",
    "println(\"====================\")            \n",
    "\n",
    "# unit sphere constraint\n",
    "h=[1.0-sum(x)] #type of coefficients of each polynomial must be float\n",
    "\n",
    "l=length(h)\n",
    "\n",
    "println(\"Number of equality constraints: l=\",l)\n",
    "println(\"====================\")"
   ]
  },
  {
   "cell_type": "code",
   "execution_count": 63,
   "metadata": {},
   "outputs": [
    {
     "name": "stdout",
     "output_type": "stream",
     "text": [
      "Relaxation order: k=0\n",
      "Block size: s=8\n"
     ]
    },
    {
     "name": "stderr",
     "output_type": "stream",
     "text": [
      "WARNING: replacing module InterruptedRelax.\n"
     ]
    },
    {
     "name": "stdout",
     "output_type": "stream",
     "text": [
      "Maximal matrix size:8\n",
      "Problem\n",
      "  Name                   :                 \n",
      "  Objective sense        : max             \n",
      "  Type                   : CONIC (conic optimization problem)\n",
      "  Constraints            : 66              \n",
      "  Cones                  : 0               \n",
      "  Scalar variables       : 67              \n",
      "  Matrix variables       : 4               \n",
      "  Integer variables      : 0               \n",
      "\n",
      "Optimizer started.\n",
      "Presolve started.\n",
      "Linear dependency checker started.\n",
      "Linear dependency checker terminated.\n",
      "Eliminator started.\n",
      "Freed constraints in eliminator : 5\n",
      "Eliminator terminated.\n",
      "Eliminator - tries                  : 1                 time                   : 0.00            \n",
      "Lin. dep.  - tries                  : 1                 time                   : 0.00            \n",
      "Lin. dep.  - number                 : 0               \n",
      "Presolve terminated. Time: 0.00    \n",
      "Problem\n",
      "  Name                   :                 \n",
      "  Objective sense        : max             \n",
      "  Type                   : CONIC (conic optimization problem)\n",
      "  Constraints            : 66              \n",
      "  Cones                  : 0               \n",
      "  Scalar variables       : 67              \n",
      "  Matrix variables       : 4               \n",
      "  Integer variables      : 0               \n",
      "\n",
      "Optimizer  - threads                : 4               \n",
      "Optimizer  - solved problem         : the primal      \n",
      "Optimizer  - Constraints            : 61\n",
      "Optimizer  - Cones                  : 1\n",
      "Optimizer  - Scalar variables       : 63                conic                  : 8               \n",
      "Optimizer  - Semi-definite variables: 4                 scalarized             : 144             \n",
      "Factor     - setup time             : 0.00              dense det. time        : 0.00            \n",
      "Factor     - ML order time          : 0.00              GP order time          : 0.00            \n",
      "Factor     - nonzeros before factor : 1840              after factor           : 1864            \n",
      "Factor     - dense dim.             : 0                 flops                  : 1.01e+05        \n",
      "ITE PFEAS    DFEAS    GFEAS    PRSTATUS   POBJ              DOBJ              MU       TIME  \n",
      "0   4.9e+00  1.0e+00  1.0e+00  0.00e+00   0.000000000e+00   0.000000000e+00   1.0e+00  0.00  \n",
      "1   2.2e+00  4.5e-01  5.0e-01  -5.91e-01  -1.889714574e+00  -2.385943946e+00  4.5e-01  0.00  \n",
      "2   6.3e-01  1.3e-01  8.2e-02  2.47e-01   -3.286214529e+00  -3.439677559e+00  1.3e-01  0.00  \n",
      "3   2.1e-01  4.2e-02  8.5e-03  1.96e+00   -1.340462340e+00  -1.332169293e+00  4.2e-02  0.00  \n",
      "4   5.9e-02  1.2e-02  1.2e-03  1.74e+00   -9.413559348e-01  -9.416805964e-01  1.2e-02  0.00  \n",
      "5   5.0e-03  1.0e-03  3.3e-05  1.05e+00   -9.454508573e-01  -9.456390239e-01  1.0e-03  0.00  \n",
      "6   4.7e-04  9.5e-05  9.1e-07  9.98e-01   -9.487418288e-01  -9.487509639e-01  9.5e-05  0.00  \n",
      "7   1.5e-06  3.1e-07  1.7e-10  1.00e+00   -9.486298561e-01  -9.486298860e-01  3.1e-07  0.00  \n",
      "8   2.1e-08  4.2e-09  2.7e-13  1.00e+00   -9.486290981e-01  -9.486290985e-01  4.2e-09  0.00  \n",
      "Optimizer terminated. Time: 0.00    \n",
      "\n",
      "Termination status = OPTIMAL\n",
      "Optimal value = -0.9486290981085987\n",
      "Dimension of the null space of Gram matrix = 2\n",
      "------------------------------------\n",
      "atom 1:\n",
      "####################################\n",
      "It is an approximate optimal solution!\n",
      "####################################\n",
      "------------------------------------\n",
      "atom 2:\n",
      "####################################\n",
      "It is an approximate optimal solution!\n",
      "####################################\n",
      "  1.136738 seconds (2.19 M allocations: 116.495 MiB)\n"
     ]
    }
   ],
   "source": [
    "include(\"../src/InterruptedRelax.jl\")\n",
    "using .InterruptedRelax\n",
    "\n",
    "n,m,l,lmon_g,supp_g,coe_g,lmon_h,supp_h,coe_h,lmon_f,supp_f,coe_f,dg,dh=InterruptedRelax.get_info(x,f,g,h,sparse=false);\n",
    "\n",
    "\n",
    "k=0\n",
    "\n",
    "println(\"Relaxation order: k=\",k)\n",
    "\n",
    "s=8\n",
    "\n",
    "println(\"Block size: s=\",s)\n",
    "\n",
    "@time opt_val1,opt_sol=InterruptedRelax.RelaxDense(n,m,l,lmon_g,supp_g,coe_g,lmon_h,supp_h,coe_h,\n",
    "    lmon_f,supp_f,coe_f,dg,dh,k,s,solver=\"Mosek\",comp_opt_sol=true);"
   ]
  },
  {
   "cell_type": "code",
   "execution_count": 64,
   "metadata": {},
   "outputs": [
    {
     "name": "stdout",
     "output_type": "stream",
     "text": [
      "Relaxation order: k=0\n",
      "Block size: s=4\n"
     ]
    },
    {
     "name": "stderr",
     "output_type": "stream",
     "text": [
      "WARNING: replacing module InterruptedRelax.\n"
     ]
    },
    {
     "name": "stdout",
     "output_type": "stream",
     "text": [
      "Maximal matrix size:4\n",
      "Problem\n",
      "  Name                   :                 \n",
      "  Objective sense        : max             \n",
      "  Type                   : CONIC (conic optimization problem)\n",
      "  Constraints            : 66              \n",
      "  Cones                  : 0               \n",
      "  Scalar variables       : 67              \n",
      "  Matrix variables       : 8               \n",
      "  Integer variables      : 0               \n",
      "\n",
      "Optimizer started.\n",
      "Presolve started.\n",
      "Linear dependency checker started.\n",
      "Linear dependency checker terminated.\n",
      "Eliminator started.\n",
      "Freed constraints in eliminator : 10\n",
      "Eliminator terminated.\n",
      "Eliminator - tries                  : 1                 time                   : 0.00            \n",
      "Lin. dep.  - tries                  : 1                 time                   : 0.00            \n",
      "Lin. dep.  - number                 : 0               \n",
      "Presolve terminated. Time: 0.00    \n",
      "Problem\n",
      "  Name                   :                 \n",
      "  Objective sense        : max             \n",
      "  Type                   : CONIC (conic optimization problem)\n",
      "  Constraints            : 66              \n",
      "  Cones                  : 0               \n",
      "  Scalar variables       : 67              \n",
      "  Matrix variables       : 8               \n",
      "  Integer variables      : 0               \n",
      "\n",
      "Optimizer  - threads                : 4               \n",
      "Optimizer  - solved problem         : the primal      \n",
      "Optimizer  - Constraints            : 56\n",
      "Optimizer  - Cones                  : 1\n",
      "Optimizer  - Scalar variables       : 58                conic                  : 3               \n",
      "Optimizer  - Semi-definite variables: 8                 scalarized             : 80              \n",
      "Factor     - setup time             : 0.00              dense det. time        : 0.00            \n",
      "Factor     - ML order time          : 0.00              GP order time          : 0.00            \n",
      "Factor     - nonzeros before factor : 1319              after factor           : 1548            \n",
      "Factor     - dense dim.             : 0                 flops                  : 6.40e+04        \n",
      "ITE PFEAS    DFEAS    GFEAS    PRSTATUS   POBJ              DOBJ              MU       TIME  \n",
      "0   4.9e+00  1.0e+00  1.0e+00  0.00e+00   0.000000000e+00   0.000000000e+00   1.0e+00  0.00  \n",
      "1   2.5e+00  5.1e-01  6.7e-01  -9.68e-01  -1.990717701e+00  -2.815330468e+00  5.1e-01  0.00  \n",
      "2   8.5e-01  1.7e-01  7.3e-02  1.07e-01   -3.356432258e+00  -3.235578844e+00  1.7e-01  0.00  \n",
      "3   3.4e-01  7.0e-02  1.5e-02  2.38e+00   -1.315546222e+00  -1.295496129e+00  7.0e-02  0.00  \n",
      "4   8.7e-02  1.8e-02  2.0e-03  1.74e+00   -9.306172107e-01  -9.312023504e-01  1.8e-02  0.00  \n",
      "5   2.4e-02  4.8e-03  2.9e-04  1.05e+00   -9.512657872e-01  -9.514453440e-01  4.8e-03  0.00  \n",
      "6   2.7e-03  5.4e-04  1.1e-05  1.03e+00   -9.475017990e-01  -9.475097080e-01  5.4e-04  0.00  \n",
      "7   6.3e-06  1.3e-06  9.4e-10  1.01e+00   -9.486342608e-01  -9.486338804e-01  1.3e-06  0.00  \n",
      "8   9.4e-08  1.9e-08  1.7e-12  1.00e+00   -9.486291801e-01  -9.486291744e-01  1.9e-08  0.00  \n",
      "9   1.4e-09  2.7e-10  2.9e-15  1.00e+00   -9.486290860e-01  -9.486290859e-01  2.7e-10  0.00  \n",
      "Optimizer terminated. Time: 0.00    \n",
      "\n",
      "Termination status = OPTIMAL\n",
      "Optimal value = -0.9486290860145838\n",
      "Dimension of the null space of Gram matrix = 3\n",
      "  1.024657 seconds (1.93 M allocations: 103.649 MiB, 4.89% gc time)\n"
     ]
    }
   ],
   "source": [
    "include(\"../src/InterruptedRelax.jl\")\n",
    "using .InterruptedRelax\n",
    "\n",
    "n,m,l,lmon_g,supp_g,coe_g,lmon_h,supp_h,coe_h,lmon_f,supp_f,coe_f,dg,dh=InterruptedRelax.get_info(x,f,g,h,sparse=false);\n",
    "\n",
    "\n",
    "k=0\n",
    "\n",
    "println(\"Relaxation order: k=\",k)\n",
    "\n",
    "s=4\n",
    "\n",
    "println(\"Block size: s=\",s)\n",
    "\n",
    "@time opt_val1,opt_sol=InterruptedRelax.RelaxDense(n,m,l,lmon_g,supp_g,coe_g,lmon_h,supp_h,coe_h,\n",
    "    lmon_f,supp_f,coe_f,dg,dh,k,s,solver=\"Mosek\",comp_opt_sol=true);"
   ]
  },
  {
   "cell_type": "code",
   "execution_count": null,
   "metadata": {},
   "outputs": [],
   "source": []
  },
  {
   "cell_type": "code",
   "execution_count": 57,
   "metadata": {
    "scrolled": true
   },
   "outputs": [
    {
     "name": "stdout",
     "output_type": "stream",
     "text": [
      "Maximal matrix size: 11\n",
      "************************TSSOS************************"
     ]
    },
    {
     "name": "stderr",
     "output_type": "stream",
     "text": [
      "WARNING: replacing module InterruptedRelax.\n"
     ]
    },
    {
     "name": "stdout",
     "output_type": "stream",
     "text": [
      "\n",
      "TSSOS is launching...\n",
      "------------------------------------------------------\n",
      "The clique sizes of varibles:\n",
      "[10]\n",
      "[1]\n",
      "------------------------------------------------------\n",
      "Assembling the SDP...\n",
      "There are 66 affine constraints.\n",
      "SDP assembling time: 0.000127143 seconds.\n",
      "Solving the SDP...\n",
      "Problem\n",
      "  Name                   :                 \n",
      "  Objective sense        : max             \n",
      "  Type                   : CONIC (conic optimization problem)\n",
      "  Constraints            : 66              \n",
      "  Cones                  : 0               \n",
      "  Scalar variables       : 12              \n",
      "  Matrix variables       : 1               \n",
      "  Integer variables      : 0               \n",
      "\n",
      "Optimizer started.\n",
      "Presolve started.\n",
      "Linear dependency checker started.\n",
      "Linear dependency checker terminated.\n",
      "Eliminator started.\n",
      "Freed constraints in eliminator : 0\n",
      "Eliminator terminated.\n",
      "Eliminator - tries                  : 1                 time                   : 0.00            \n",
      "Lin. dep.  - tries                  : 1                 time                   : 0.00            \n",
      "Lin. dep.  - number                 : 0               \n",
      "Presolve terminated. Time: 0.00    \n",
      "Problem\n",
      "  Name                   :                 \n",
      "  Objective sense        : max             \n",
      "  Type                   : CONIC (conic optimization problem)\n",
      "  Constraints            : 66              \n",
      "  Cones                  : 0               \n",
      "  Scalar variables       : 12              \n",
      "  Matrix variables       : 1               \n",
      "  Integer variables      : 0               \n",
      "\n",
      "Optimizer  - threads                : 4               \n",
      "Optimizer  - solved problem         : the primal      \n",
      "Optimizer  - Constraints            : 66\n",
      "Optimizer  - Cones                  : 1\n",
      "Optimizer  - Scalar variables       : 13                conic                  : 3               \n",
      "Optimizer  - Semi-definite variables: 1                 scalarized             : 66              \n",
      "Factor     - setup time             : 0.00              dense det. time        : 0.00            \n",
      "Factor     - ML order time          : 0.00              GP order time          : 0.00            \n",
      "Factor     - nonzeros before factor : 2211              after factor           : 2211            \n",
      "Factor     - dense dim.             : 0                 flops                  : 1.14e+05        \n",
      "ITE PFEAS    DFEAS    GFEAS    PRSTATUS   POBJ              DOBJ              MU       TIME  \n",
      "0   1.9e+00  1.0e+00  1.0e+00  0.00e+00   0.000000000e+00   0.000000000e+00   1.0e+00  0.00  \n",
      "1   7.7e-01  3.9e-01  6.0e-01  -9.09e-01  -2.049422157e+00  -3.410138138e+00  3.9e-01  0.00  \n",
      "2   4.2e-02  2.2e-02  1.4e-01  -9.22e-01  -7.142709957e+01  -1.133128289e+02  2.2e-02  0.00  \n",
      "3   8.1e-04  4.2e-04  2.0e-02  -1.00e+00  -3.787363369e+03  -6.093054756e+03  4.2e-04  0.00  \n",
      "4   1.9e-05  9.6e-06  3.1e-03  -1.00e+00  -1.622402812e+05  -2.636208770e+05  9.6e-06  0.00  \n",
      "5   2.0e-07  1.0e-07  3.2e-04  -1.00e+00  -1.548471242e+07  -2.525564460e+07  1.0e-07  0.00  \n",
      "6   7.9e-10  4.1e-10  2.0e-05  -1.00e+00  -3.872987415e+09  -6.324349337e+09  4.1e-10  0.00  \n",
      "7   1.2e-12  6.0e-13  7.8e-07  -1.00e+00  -2.616533694e+12  -4.274096303e+12  6.0e-13  0.00  \n",
      "Optimizer terminated. Time: 0.00    \n",
      "\n",
      "SDP solving time: 0.00377163 seconds.\n",
      "termination status: INFEASIBLE\n",
      "solution status: NO_SOLUTION\n",
      "optimum = -1.458767871160444\n",
      "  0.004871 seconds (10.35 k allocations: 1.056 MiB)\n"
     ]
    }
   ],
   "source": [
    "using SparseArrays\n",
    "\n",
    "include(\"../src/InterruptedRelax.jl\")\n",
    "using .InterruptedRelax\n",
    "\n",
    "n,m,l,lmon_g,supp_g,coe_g,lmon_h,supp_h,coe_h,lmon_f,supp_f,coe_f,dg,dh=InterruptedRelax.get_info(x,f,g,h,sparse=true);\n",
    "\n",
    "using TSSOS\n",
    "\n",
    "k=1\n",
    "\n",
    "println(\"Maximal matrix size: \",binomial(n+k,k))\n",
    "\n",
    "vars,pop=InterruptedRelax.get_POP(n,m,l,lmon_g,supp_g,coe_g,lmon_h,supp_h,coe_h,lmon_f,supp_f,coe_f)\n",
    "\n",
    "@time opt,sol,data=TSSOS.cs_tssos_first(pop,vars,k,numeq=l,CS=false,TS=false,solver=\"Mosek\");"
   ]
  },
  {
   "cell_type": "code",
   "execution_count": null,
   "metadata": {},
   "outputs": [],
   "source": []
  },
  {
   "cell_type": "code",
   "execution_count": 58,
   "metadata": {
    "scrolled": true
   },
   "outputs": [
    {
     "name": "stdout",
     "output_type": "stream",
     "text": [
      "Maximal matrix size: 66\n",
      "************************TSSOS************************"
     ]
    },
    {
     "name": "stderr",
     "output_type": "stream",
     "text": [
      "WARNING: replacing module InterruptedRelax.\n"
     ]
    },
    {
     "name": "stdout",
     "output_type": "stream",
     "text": [
      "\n",
      "TSSOS is launching...\n",
      "------------------------------------------------------\n",
      "The clique sizes of varibles:\n",
      "[10]\n",
      "[1]\n",
      "------------------------------------------------------\n",
      "Assembling the SDP...\n",
      "There are 1001 affine constraints.\n",
      "SDP assembling time: 0.002760649 seconds.\n",
      "Solving the SDP...\n",
      "Problem\n",
      "  Name                   :                 \n",
      "  Objective sense        : max             \n",
      "  Type                   : CONIC (conic optimization problem)\n",
      "  Constraints            : 1001            \n",
      "  Cones                  : 0               \n",
      "  Scalar variables       : 67              \n",
      "  Matrix variables       : 11              \n",
      "  Integer variables      : 0               \n",
      "\n",
      "Optimizer started.\n",
      "Presolve started.\n",
      "Linear dependency checker started.\n",
      "Linear dependency checker terminated.\n",
      "Eliminator started.\n",
      "Freed constraints in eliminator : 0\n",
      "Eliminator terminated.\n",
      "Eliminator - tries                  : 1                 time                   : 0.00            \n",
      "Lin. dep.  - tries                  : 1                 time                   : 0.00            \n",
      "Lin. dep.  - number                 : 0               \n",
      "Presolve terminated. Time: 0.00    \n",
      "Problem\n",
      "  Name                   :                 \n",
      "  Objective sense        : max             \n",
      "  Type                   : CONIC (conic optimization problem)\n",
      "  Constraints            : 1001            \n",
      "  Cones                  : 0               \n",
      "  Scalar variables       : 67              \n",
      "  Matrix variables       : 11              \n",
      "  Integer variables      : 0               \n",
      "\n",
      "Optimizer  - threads                : 4               \n",
      "Optimizer  - solved problem         : the primal      \n",
      "Optimizer  - Constraints            : 1001\n",
      "Optimizer  - Cones                  : 1\n",
      "Optimizer  - Scalar variables       : 68                conic                  : 68              \n",
      "Optimizer  - Semi-definite variables: 11                scalarized             : 2871            \n",
      "Factor     - setup time             : 0.03              dense det. time        : 0.00            \n",
      "Factor     - ML order time          : 0.01              GP order time          : 0.00            \n",
      "Factor     - nonzeros before factor : 5.02e+05          after factor           : 5.02e+05        \n",
      "Factor     - dense dim.             : 2                 flops                  : 3.47e+08        \n",
      "ITE PFEAS    DFEAS    GFEAS    PRSTATUS   POBJ              DOBJ              MU       TIME  \n",
      "0   1.0e+00  1.0e+00  1.0e+00  0.00e+00   0.000000000e+00   0.000000000e+00   1.0e+00  0.03  \n",
      "1   6.5e-01  6.5e-01  6.0e-01  -3.60e-01  -8.344958454e-01  -9.178828920e-01  6.5e-01  0.06  \n",
      "2   5.3e-02  5.3e-02  3.5e-03  2.06e-01   -1.662051598e+00  -1.598874864e+00  5.3e-02  0.09  \n",
      "3   1.4e-02  1.4e-02  6.3e-04  1.03e+00   -9.423524234e-01  -9.326907353e-01  1.4e-02  0.12  \n",
      "4   8.3e-04  8.3e-04  2.0e-05  1.05e+00   -9.448781739e-01  -9.447516482e-01  8.3e-04  0.15  \n",
      "5   2.4e-05  2.4e-05  1.0e-07  9.88e-01   -9.486130482e-01  -9.486105104e-01  2.4e-05  0.17  \n",
      "6   8.9e-09  8.9e-09  5.8e-13  9.98e-01   -9.486290787e-01  -9.486290754e-01  8.9e-09  0.20  \n",
      "Optimizer terminated. Time: 0.20    \n",
      "\n",
      "SDP solving time: 0.209340886 seconds.\n",
      "optimum = -0.9486290787495896\n",
      "  0.214561 seconds (122.04 k allocations: 12.040 MiB)\n"
     ]
    }
   ],
   "source": [
    "using SparseArrays\n",
    "\n",
    "include(\"../src/InterruptedRelax.jl\")\n",
    "using .InterruptedRelax\n",
    "\n",
    "n,m,l,lmon_g,supp_g,coe_g,lmon_h,supp_h,coe_h,lmon_f,supp_f,coe_f,dg,dh=InterruptedRelax.get_info(x,f,g,h,sparse=true);\n",
    "\n",
    "using TSSOS\n",
    "\n",
    "k=2\n",
    "\n",
    "println(\"Maximal matrix size: \",binomial(n+k,k))\n",
    "\n",
    "vars,pop=InterruptedRelax.get_POP(n,m,l,lmon_g,supp_g,coe_g,lmon_h,supp_h,coe_h,lmon_f,supp_f,coe_f)\n",
    "\n",
    "@time opt,sol,data=TSSOS.cs_tssos_first(pop,vars,k,numeq=l,CS=false,TS=false,solver=\"Mosek\");"
   ]
  },
  {
   "cell_type": "code",
   "execution_count": null,
   "metadata": {},
   "outputs": [],
   "source": []
  },
  {
   "cell_type": "code",
   "execution_count": 59,
   "metadata": {},
   "outputs": [
    {
     "name": "stderr",
     "output_type": "stream",
     "text": [
      "WARNING: replacing module InterruptedRelax.\n"
     ]
    }
   ],
   "source": [
    "include(\"../src/InterruptedRelax.jl\")\n",
    "using .InterruptedRelax\n",
    "\n",
    "InterruptedRelax.save_info_mat_copositivity(n,A)"
   ]
  },
  {
   "cell_type": "code",
   "execution_count": null,
   "metadata": {},
   "outputs": [],
   "source": []
  }
 ],
 "metadata": {
  "kernelspec": {
   "display_name": "Julia 1.3.0",
   "language": "julia",
   "name": "julia-1.3"
  },
  "language_info": {
   "file_extension": ".jl",
   "mimetype": "application/julia",
   "name": "julia",
   "version": "1.3.0"
  }
 },
 "nbformat": 4,
 "nbformat_minor": 2
}
