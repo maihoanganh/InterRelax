{
 "cells": [
  {
   "cell_type": "code",
   "execution_count": 1,
   "metadata": {},
   "outputs": [
    {
     "name": "stdout",
     "output_type": "stream",
     "text": [
      "***Problem setting***\n",
      "Number of variables: n=4\n",
      "Number of inequality constraints: m=0\n",
      "Number of equality constraints: l=1\n"
     ]
    }
   ],
   "source": [
    "using DynamicPolynomials, SparseArrays\n",
    "using LinearAlgebra\n",
    "\n",
    "\n",
    "println(\"***Problem setting***\")\n",
    "\n",
    "m=2\n",
    "r=m\n",
    "\n",
    "function getmat(m,r)\n",
    "\n",
    "    A=2*rand(Float64,r,r).-1\n",
    "    B=2*rand(Float64,r,r).-1\n",
    "    C=2*rand(Float64,r,r).-1\n",
    "    D=2*rand(Float64,r,r).-1\n",
    "\n",
    "    M=zeros(Float64,m*r,m*r)\n",
    "\n",
    "    for i in 1:m, j in 1:i\n",
    "        if i==j\n",
    "            M[r*(i-1)+1:i*r,r*(j-1)+1:j*r]=D\n",
    "        else\n",
    "            M[r*(i-1)+1:i*r,r*(j-1)+1:j*r]=C*A^(i-j-1)*B\n",
    "        end\n",
    "    end\n",
    "\n",
    "    return m*r, Symmetric(M'*M)\n",
    "end\n",
    "\n",
    "n,A=getmat(m,r)\n",
    "#data=\"/home/hoanganh/Desktop/math-topics/InterruptedRelax/codes/dataPOP2\" # path of data\n",
    "#n=m^2; include(data*\"/mat_size$(n).jl\")\n",
    "\n",
    "println(\"Number of variables: n=\",n)\n",
    "\n",
    "@polyvar x[1:n]# variables\n",
    "f=sum(-A[i,j]*x[i]*x[j] for i=1:n for j=1:n)\n",
    "\n",
    "g=Vector{Polynomial{true,Float64}}([])\n",
    " #type of coefficients of each polynomial must be float\n",
    "\n",
    "m=length(g)\n",
    "println(\"Number of inequality constraints: m=\",m)\n",
    "\n",
    "h=[1.0-sum(x.^2)]\n",
    "\n",
    "l=length(h)\n",
    "println(\"Number of equality constraints: l=\",l)"
   ]
  },
  {
   "cell_type": "code",
   "execution_count": null,
   "metadata": {},
   "outputs": [],
   "source": []
  },
  {
   "cell_type": "code",
   "execution_count": 5,
   "metadata": {
    "scrolled": true
   },
   "outputs": [
    {
     "name": "stdout",
     "output_type": "stream",
     "text": [
      "**Interrupted relaxation based on Putinar-Vasilescu's Positivstellensatz**\n",
      "Relaxation order: k=0\n",
      "Sparsity order: s=20\n"
     ]
    },
    {
     "name": "stderr",
     "output_type": "stream",
     "text": [
      "WARNING: replacing module InterRelax.\n"
     ]
    },
    {
     "name": "stdout",
     "output_type": "stream",
     "text": [
      "Maximal matrix size:5\n",
      "Problem\n",
      "  Name                   :                 \n",
      "  Objective sense        : max             \n",
      "  Type                   : CONIC (conic optimization problem)\n",
      "  Constraints            : 15              \n",
      "  Cones                  : 0               \n",
      "  Scalar variables       : 12              \n",
      "  Matrix variables       : 1               \n",
      "  Integer variables      : 0               \n",
      "\n",
      "Optimizer started.\n",
      "Presolve started.\n",
      "Linear dependency checker started.\n",
      "Linear dependency checker terminated.\n",
      "Eliminator started.\n",
      "Freed constraints in eliminator : 0\n",
      "Eliminator terminated.\n",
      "Eliminator - tries                  : 1                 time                   : 0.00            \n",
      "Lin. dep.  - tries                  : 1                 time                   : 0.00            \n",
      "Lin. dep.  - number                 : 0               \n",
      "Presolve terminated. Time: 0.00    \n",
      "Problem\n",
      "  Name                   :                 \n",
      "  Objective sense        : max             \n",
      "  Type                   : CONIC (conic optimization problem)\n",
      "  Constraints            : 15              \n",
      "  Cones                  : 0               \n",
      "  Scalar variables       : 12              \n",
      "  Matrix variables       : 1               \n",
      "  Integer variables      : 0               \n",
      "\n",
      "Optimizer  - threads                : 4               \n",
      "Optimizer  - solved problem         : the primal      \n",
      "Optimizer  - Constraints            : 15\n",
      "Optimizer  - Cones                  : 1\n",
      "Optimizer  - Scalar variables       : 13                conic                  : 3               \n",
      "Optimizer  - Semi-definite variables: 1                 scalarized             : 15              \n",
      "Factor     - setup time             : 0.00              dense det. time        : 0.00            \n",
      "Factor     - ML order time          : 0.00              GP order time          : 0.00            \n",
      "Factor     - nonzeros before factor : 120               after factor           : 120             \n",
      "Factor     - dense dim.             : 0                 flops                  : 2.25e+03        \n",
      "ITE PFEAS    DFEAS    GFEAS    PRSTATUS   POBJ              DOBJ              MU       TIME  \n",
      "0   2.0e+00  1.0e+00  1.0e+00  0.00e+00   0.000000000e+00   0.000000000e+00   1.0e+00  0.00  \n",
      "1   9.0e-01  4.6e-01  2.9e-01  -7.99e-02  -8.491429847e-01  -7.580395462e-01  4.6e-01  0.00  \n",
      "2   1.8e-01  9.4e-02  2.3e-02  1.88e+00   -1.132904953e+00  -1.129336925e+00  9.4e-02  0.00  \n",
      "3   3.1e-02  1.6e-02  1.6e-03  1.08e+00   -1.221393999e+00  -1.220519838e+00  1.6e-02  0.00  \n",
      "4   8.8e-03  4.5e-03  2.3e-04  1.04e+00   -1.230166977e+00  -1.229834560e+00  4.5e-03  0.00  \n",
      "5   2.5e-03  1.3e-03  3.3e-05  1.02e+00   -1.230389625e+00  -1.230234399e+00  1.3e-03  0.00  \n",
      "6   6.2e-04  3.2e-04  3.9e-06  1.01e+00   -1.231460974e+00  -1.231411633e+00  3.2e-04  0.00  \n",
      "7   1.4e-04  6.9e-05  3.9e-07  1.01e+00   -1.231427652e+00  -1.231415194e+00  6.9e-05  0.00  \n",
      "8   2.9e-05  1.5e-05  3.7e-08  1.00e+00   -1.231467039e+00  -1.231464267e+00  1.5e-05  0.00  \n",
      "9   7.6e-06  3.9e-06  5.0e-09  1.00e+00   -1.231467886e+00  -1.231467110e+00  3.9e-06  0.00  \n",
      "10  2.1e-06  1.1e-06  7.2e-10  9.97e-01   -1.231469956e+00  -1.231469737e+00  1.1e-06  0.00  \n",
      "11  6.3e-07  3.2e-07  1.2e-10  1.00e+00   -1.231469777e+00  -1.231469708e+00  3.2e-07  0.00  \n",
      "12  1.4e-07  7.3e-08  1.3e-11  9.97e-01   -1.231469986e+00  -1.231469971e+00  7.3e-08  0.00  \n",
      "13  3.4e-08  1.7e-08  1.5e-12  1.00e+00   -1.231469978e+00  -1.231469974e+00  1.7e-08  0.00  \n",
      "Optimizer terminated. Time: 0.00    \n",
      "\n",
      "Termination status = OPTIMAL\n",
      "Optimal value = -1.2314699777124627\n",
      "  1.858708 seconds (1.95 M allocations: 96.954 MiB, 2.20% gc time)\n"
     ]
    },
    {
     "data": {
      "text/plain": [
       "(-1.2314699777124627, Float64[])"
      ]
     },
     "execution_count": 5,
     "metadata": {},
     "output_type": "execute_result"
    }
   ],
   "source": [
    "include(\"../src/InterRelax.jl\")\n",
    "using .InterRelax\n",
    "\n",
    "n,m,l,lmon_g,supp_g,coe_g,lmon_h,supp_h,coe_h,lmon_f,supp_f,coe_f,dg,dh=InterRelax.get_info(x,f,g,h,sparse=false);\n",
    "\n",
    "\n",
    "k=0\n",
    "s=20\n",
    "\n",
    "@time opt_val1,opt_sol=InterRelax.RelaxDense(n,m,l,lmon_g,supp_g,coe_g,lmon_h,supp_h,coe_h,\n",
    "    lmon_f,supp_f,coe_f,dg,dh,k,s,solver=\"Mosek\",comp_opt_sol=false)"
   ]
  },
  {
   "cell_type": "code",
   "execution_count": null,
   "metadata": {
    "scrolled": true
   },
   "outputs": [],
   "source": []
  },
  {
   "cell_type": "code",
   "execution_count": null,
   "metadata": {},
   "outputs": [],
   "source": []
  },
  {
   "cell_type": "code",
   "execution_count": 7,
   "metadata": {},
   "outputs": [
    {
     "name": "stdout",
     "output_type": "stream",
     "text": [
      "**Semidefinite relaxation based on Putinar's Positivstellensatz**\n",
      "Relaxation order: k=1\n",
      "Maximal matrix size: 5\n"
     ]
    },
    {
     "name": "stderr",
     "output_type": "stream",
     "text": [
      "WARNING: replacing module InterRelax.\n"
     ]
    },
    {
     "name": "stdout",
     "output_type": "stream",
     "text": [
      "************************TSSOS************************\n",
      "TSSOS is launching...\n",
      "------------------------------------------------------\n",
      "The clique sizes of varibles:\n",
      "[4]\n",
      "[1]\n",
      "------------------------------------------------------\n",
      "Assembling the SDP...\n",
      "There are 15 affine constraints.\n",
      "SDP assembling time: 6.9456e-5 seconds.\n",
      "Solving the SDP...\n",
      "Problem\n",
      "  Name                   :                 \n",
      "  Objective sense        : max             \n",
      "  Type                   : CONIC (conic optimization problem)\n",
      "  Constraints            : 15              \n",
      "  Cones                  : 0               \n",
      "  Scalar variables       : 6               \n",
      "  Matrix variables       : 1               \n",
      "  Integer variables      : 0               \n",
      "\n",
      "Optimizer started.\n",
      "Presolve started.\n",
      "Linear dependency checker started.\n",
      "Linear dependency checker terminated.\n",
      "Eliminator started.\n",
      "Freed constraints in eliminator : 0\n",
      "Eliminator terminated.\n",
      "Eliminator - tries                  : 1                 time                   : 0.00            \n",
      "Lin. dep.  - tries                  : 1                 time                   : 0.00            \n",
      "Lin. dep.  - number                 : 0               \n",
      "Presolve terminated. Time: 0.00    \n",
      "Problem\n",
      "  Name                   :                 \n",
      "  Objective sense        : max             \n",
      "  Type                   : CONIC (conic optimization problem)\n",
      "  Constraints            : 15              \n",
      "  Cones                  : 0               \n",
      "  Scalar variables       : 6               \n",
      "  Matrix variables       : 1               \n",
      "  Integer variables      : 0               \n",
      "\n",
      "Optimizer  - threads                : 4               \n",
      "Optimizer  - solved problem         : the primal      \n",
      "Optimizer  - Constraints            : 15\n",
      "Optimizer  - Cones                  : 1\n",
      "Optimizer  - Scalar variables       : 7                 conic                  : 3               \n",
      "Optimizer  - Semi-definite variables: 1                 scalarized             : 15              \n",
      "Factor     - setup time             : 0.00              dense det. time        : 0.00            \n",
      "Factor     - ML order time          : 0.00              GP order time          : 0.00            \n",
      "Factor     - nonzeros before factor : 120               after factor           : 120             \n",
      "Factor     - dense dim.             : 0                 flops                  : 2.26e+03        \n",
      "ITE PFEAS    DFEAS    GFEAS    PRSTATUS   POBJ              DOBJ              MU       TIME  \n",
      "0   2.0e+00  1.0e+00  1.0e+00  0.00e+00   0.000000000e+00   0.000000000e+00   1.0e+00  0.00  \n",
      "1   7.3e-01  3.7e-01  2.9e-01  -5.52e-01  -1.103773773e+00  -1.240508603e+00  3.7e-01  0.00  \n",
      "2   1.3e-01  6.7e-02  1.0e-02  1.34e+00   -1.440273611e+00  -1.397842689e+00  6.7e-02  0.00  \n",
      "3   2.7e-02  1.4e-02  9.2e-04  1.16e+00   -1.498875672e+00  -1.490677312e+00  1.4e-02  0.00  \n",
      "4   8.1e-03  4.1e-03  1.8e-04  1.12e+00   -1.499495984e+00  -1.497829811e+00  4.1e-03  0.00  \n",
      "5   2.9e-03  1.5e-03  3.9e-05  1.06e+00   -1.502459257e+00  -1.501982456e+00  1.5e-03  0.00  \n",
      "6   9.8e-04  5.0e-04  8.2e-06  1.05e+00   -1.501588827e+00  -1.501453602e+00  5.0e-04  0.00  \n",
      "7   2.8e-04  1.4e-04  1.3e-06  1.02e+00   -1.502185832e+00  -1.502153975e+00  1.4e-04  0.00  \n",
      "8   6.4e-05  3.2e-05  1.4e-07  1.01e+00   -1.502102749e+00  -1.502096018e+00  3.2e-05  0.00  \n",
      "9   1.5e-05  7.6e-06  1.6e-08  1.00e+00   -1.502127868e+00  -1.502126375e+00  7.6e-06  0.00  \n",
      "10  4.1e-06  2.1e-06  2.3e-09  1.00e+00   -1.502126002e+00  -1.502125614e+00  2.1e-06  0.00  \n",
      "11  1.2e-06  6.2e-07  3.9e-10  1.00e+00   -1.502127614e+00  -1.502127501e+00  6.2e-07  0.00  \n",
      "12  3.6e-07  1.8e-07  6.2e-11  1.00e+00   -1.502127254e+00  -1.502127222e+00  1.8e-07  0.00  \n",
      "13  9.4e-08  4.8e-08  8.3e-12  1.00e+00   -1.502127438e+00  -1.502127429e+00  4.8e-08  0.00  \n",
      "14  2.3e-08  1.2e-08  1.0e-12  1.00e+00   -1.502127414e+00  -1.502127412e+00  1.2e-08  0.00  \n",
      "Optimizer terminated. Time: 0.00    \n",
      "\n",
      "SDP solving time: 0.003652376 seconds.\n",
      "optimum = -1.5021274135027742\n",
      "  0.004585 seconds (5.88 k allocations: 456.141 KiB)\n",
      "  0.229695 seconds (554.89 k allocations: 28.065 MiB, 7.73% gc time)\n"
     ]
    },
    {
     "data": {
      "text/plain": [
       "-1.5021274135027742"
      ]
     },
     "execution_count": 7,
     "metadata": {},
     "output_type": "execute_result"
    }
   ],
   "source": [
    "using SparseArrays\n",
    "\n",
    "include(\"../src/InterRelax.jl\")\n",
    "using .InterRelax\n",
    "\n",
    "n,m,l,lmon_g,supp_g,coe_g,lmon_h,supp_h,coe_h,lmon_f,supp_f,coe_f,dg,dh=InterRelax.get_info(x,f,g,h,sparse=true);\n",
    "\n",
    "using TSSOS\n",
    "\n",
    "k=1\n",
    "@time opt=InterRelax.TSSOS_Dense(n,m,l,lmon_g,supp_g,coe_g,lmon_h,supp_h,coe_h,lmon_f,supp_f,coe_f,k)"
   ]
  },
  {
   "cell_type": "code",
   "execution_count": null,
   "metadata": {},
   "outputs": [],
   "source": []
  },
  {
   "cell_type": "code",
   "execution_count": 108,
   "metadata": {},
   "outputs": [
    {
     "name": "stderr",
     "output_type": "stream",
     "text": [
      "WARNING: replacing module InterruptedRelax.\n"
     ]
    }
   ],
   "source": [
    "include(\"../src/InterRelax.jl\")\n",
    "using .InterRelax\n",
    "\n",
    "InterRelax.save_info_mat(n,A)"
   ]
  },
  {
   "cell_type": "code",
   "execution_count": null,
   "metadata": {},
   "outputs": [],
   "source": []
  }
 ],
 "metadata": {
  "kernelspec": {
   "display_name": "Julia 1.3.0",
   "language": "julia",
   "name": "julia-1.3"
  },
  "language_info": {
   "file_extension": ".jl",
   "mimetype": "application/julia",
   "name": "julia",
   "version": "1.3.0"
  }
 },
 "nbformat": 4,
 "nbformat_minor": 2
}
