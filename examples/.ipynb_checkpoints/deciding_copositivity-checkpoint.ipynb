{
 "cells": [
  {
   "cell_type": "code",
   "execution_count": 8,
   "metadata": {},
   "outputs": [
    {
     "name": "stdout",
     "output_type": "stream",
     "text": [
      "***Problem setting***\n",
      "Number of variables: n=20\n",
      "====================\n",
      "Number of inequality constraints: m=0\n",
      "====================\n",
      "Number of equality constraints: l=1\n",
      "====================\n"
     ]
    }
   ],
   "source": [
    "using DynamicPolynomials\n",
    "\n",
    "println(\"***Problem setting***\")\n",
    "\n",
    "n=20\n",
    "\n",
    "println(\"Number of variables: n=\",n)\n",
    "println(\"====================\")\n",
    "\n",
    "@polyvar x[1:n]# variables\n",
    "\n",
    "# random quadratic objective function f\n",
    "\n",
    "\n",
    "A=2*rand(Float64,n,n).-1\n",
    "A+=A'\n",
    "A=0.5*A\n",
    "\n",
    "\n",
    "#include(\"./mat_copositivity_size$(n).jl\")\n",
    "\n",
    "\n",
    "f=sum(A[i,j]*x[i]*x[j] for i=1:n for j=1:n)\n",
    "\n",
    "            \n",
    "g=Vector{Polynomial{true,Float64}}([])\n",
    "#type of coefficients of each polynomial must be float\n",
    "\n",
    "m=length(g)\n",
    "println(\"Number of inequality constraints: m=\",m)\n",
    "println(\"====================\")            \n",
    "\n",
    "# unit sphere constraint\n",
    "h=[1.0-sum(x)] #type of coefficients of each polynomial must be float\n",
    "\n",
    "l=length(h)\n",
    "\n",
    "println(\"Number of equality constraints: l=\",l)\n",
    "println(\"====================\")"
   ]
  },
  {
   "cell_type": "code",
   "execution_count": 21,
   "metadata": {},
   "outputs": [
    {
     "name": "stdout",
     "output_type": "stream",
     "text": [
      "Relaxation order: k=0\n",
      "Block size: s=20\n"
     ]
    },
    {
     "name": "stderr",
     "output_type": "stream",
     "text": [
      "WARNING: replacing module InterruptedRelax.\n"
     ]
    },
    {
     "name": "stdout",
     "output_type": "stream",
     "text": [
      "Maximal matrix size:20\n",
      "Problem\n",
      "  Name                   :                 \n",
      "  Objective sense        : max             \n",
      "  Type                   : CONIC (conic optimization problem)\n",
      "  Constraints            : 231             \n",
      "  Cones                  : 0               \n",
      "  Scalar variables       : 232             \n",
      "  Matrix variables       : 2               \n",
      "  Integer variables      : 0               \n",
      "\n",
      "Optimizer started.\n",
      "Presolve started.\n",
      "Linear dependency checker started.\n",
      "Linear dependency checker terminated.\n",
      "Eliminator started.\n",
      "Freed constraints in eliminator : 1\n",
      "Eliminator terminated.\n",
      "Eliminator - tries                  : 1                 time                   : 0.00            \n",
      "Lin. dep.  - tries                  : 1                 time                   : 0.00            \n",
      "Lin. dep.  - number                 : 0               \n",
      "Presolve terminated. Time: 0.00    \n",
      "Problem\n",
      "  Name                   :                 \n",
      "  Objective sense        : max             \n",
      "  Type                   : CONIC (conic optimization problem)\n",
      "  Constraints            : 231             \n",
      "  Cones                  : 0               \n",
      "  Scalar variables       : 232             \n",
      "  Matrix variables       : 2               \n",
      "  Integer variables      : 0               \n",
      "\n",
      "Optimizer  - threads                : 4               \n",
      "Optimizer  - solved problem         : the primal      \n",
      "Optimizer  - Constraints            : 230\n",
      "Optimizer  - Cones                  : 1\n",
      "Optimizer  - Scalar variables       : 232               conic                  : 22              \n",
      "Optimizer  - Semi-definite variables: 2                 scalarized             : 420             \n",
      "Factor     - setup time             : 0.00              dense det. time        : 0.00            \n",
      "Factor     - ML order time          : 0.00              GP order time          : 0.00            \n",
      "Factor     - nonzeros before factor : 2.68e+04          after factor           : 2.68e+04        \n",
      "Factor     - dense dim.             : 2                 flops                  : 4.46e+06        \n",
      "ITE PFEAS    DFEAS    GFEAS    PRSTATUS   POBJ              DOBJ              MU       TIME  \n",
      "0   3.0e+00  1.0e+00  1.0e+00  0.00e+00   0.000000000e+00   0.000000000e+00   1.0e+00  0.00  \n",
      "1   1.4e+00  4.5e-01  6.3e-01  -9.39e-01  -2.315526798e+00  -3.303902779e+00  4.5e-01  0.01  \n",
      "2   1.6e-01  5.2e-02  8.1e-02  -5.84e-01  -9.342020068e+00  -1.145639151e+01  5.2e-02  0.01  \n",
      "3   3.1e-02  1.0e-02  2.9e-03  1.97e+00   -2.539686652e+00  -2.590060146e+00  1.0e-02  0.01  \n",
      "4   1.1e-02  3.8e-03  5.0e-04  2.41e+00   -1.063756733e+00  -1.075554379e+00  3.8e-03  0.02  \n",
      "5   2.1e-03  7.1e-04  4.1e-05  1.29e+00   -9.967578665e-01  -9.991396771e-01  7.1e-04  0.02  \n",
      "6   5.2e-05  1.8e-05  1.5e-07  1.02e+00   -9.806237743e-01  -9.806735603e-01  1.8e-05  0.02  \n",
      "7   1.5e-07  5.1e-08  2.3e-11  1.00e+00   -9.802672672e-01  -9.802674116e-01  5.1e-08  0.03  \n",
      "8   5.4e-10  1.8e-10  4.9e-15  1.00e+00   -9.802661071e-01  -9.802661076e-01  1.8e-10  0.03  \n",
      "Optimizer terminated. Time: 0.03    \n",
      "\n",
      "Termination status = OPTIMAL\n",
      "Optimal value = -0.9802661070641226\n",
      "Dimension of the null space of Gram matrix = 2\n",
      "------------------------------------\n",
      "atom 1:\n",
      "####################################\n",
      "It is an approximate optimal solution!\n",
      "####################################\n",
      "------------------------------------\n",
      "atom 2:\n",
      "####################################\n",
      "It is an approximate optimal solution!\n",
      "####################################\n",
      "  1.840004 seconds (2.32 M allocations: 341.849 MiB, 3.81% gc time)\n"
     ]
    }
   ],
   "source": [
    "include(\"../src/InterruptedRelax.jl\")\n",
    "using .InterruptedRelax\n",
    "\n",
    "n,m,l,lmon_g,supp_g,coe_g,lmon_h,supp_h,coe_h,lmon_f,supp_f,coe_f,dg,dh=InterruptedRelax.get_info(x,f,g,h,sparse=false);\n",
    "\n",
    "\n",
    "k=0\n",
    "\n",
    "println(\"Relaxation order: k=\",k)\n",
    "\n",
    "s=20\n",
    "\n",
    "println(\"Block size: s=\",s)\n",
    "\n",
    "@time opt_val1,opt_sol=InterruptedRelax.RelaxDense(n,m,l,lmon_g,supp_g,coe_g,lmon_h,supp_h,coe_h,\n",
    "    lmon_f,supp_f,coe_f,dg,dh,k,s,solver=\"Mosek\",comp_opt_sol=true);"
   ]
  },
  {
   "cell_type": "code",
   "execution_count": null,
   "metadata": {},
   "outputs": [],
   "source": []
  },
  {
   "cell_type": "code",
   "execution_count": 22,
   "metadata": {},
   "outputs": [
    {
     "name": "stdout",
     "output_type": "stream",
     "text": [
      "Relaxation order: k=0\n",
      "Block size: s=10\n"
     ]
    },
    {
     "name": "stderr",
     "output_type": "stream",
     "text": [
      "WARNING: replacing module InterruptedRelax.\n"
     ]
    },
    {
     "name": "stdout",
     "output_type": "stream",
     "text": [
      "Maximal matrix size:10\n",
      "Problem\n",
      "  Name                   :                 \n",
      "  Objective sense        : max             \n",
      "  Type                   : CONIC (conic optimization problem)\n",
      "  Constraints            : 231             \n",
      "  Cones                  : 0               \n",
      "  Scalar variables       : 232             \n",
      "  Matrix variables       : 12              \n",
      "  Integer variables      : 0               \n",
      "\n",
      "Optimizer started.\n",
      "Presolve started.\n",
      "Linear dependency checker started.\n",
      "Linear dependency checker terminated.\n",
      "Eliminator started.\n",
      "Freed constraints in eliminator : 20\n",
      "Eliminator terminated.\n",
      "Eliminator - tries                  : 1                 time                   : 0.00            \n",
      "Lin. dep.  - tries                  : 1                 time                   : 0.00            \n",
      "Lin. dep.  - number                 : 0               \n",
      "Presolve terminated. Time: 0.00    \n",
      "Problem\n",
      "  Name                   :                 \n",
      "  Objective sense        : max             \n",
      "  Type                   : CONIC (conic optimization problem)\n",
      "  Constraints            : 231             \n",
      "  Cones                  : 0               \n",
      "  Scalar variables       : 232             \n",
      "  Matrix variables       : 12              \n",
      "  Integer variables      : 0               \n",
      "\n",
      "Optimizer  - threads                : 4               \n",
      "Optimizer  - solved problem         : the primal      \n",
      "Optimizer  - Constraints            : 211\n",
      "Optimizer  - Cones                  : 1\n",
      "Optimizer  - Scalar variables       : 213               conic                  : 3               \n",
      "Optimizer  - Semi-definite variables: 12                scalarized             : 660             \n",
      "Factor     - setup time             : 0.00              dense det. time        : 0.00            \n",
      "Factor     - ML order time          : 0.00              GP order time          : 0.00            \n",
      "Factor     - nonzeros before factor : 1.91e+04          after factor           : 2.19e+04        \n",
      "Factor     - dense dim.             : 0                 flops                  : 3.17e+06        \n",
      "ITE PFEAS    DFEAS    GFEAS    PRSTATUS   POBJ              DOBJ              MU       TIME  \n",
      "0   1.1e+01  1.0e+00  1.0e+00  0.00e+00   0.000000000e+00   0.000000000e+00   1.0e+00  0.01  \n",
      "1   3.1e+00  2.9e-01  4.2e-01  -8.87e-01  -5.812379980e+00  -7.209450756e+00  2.9e-01  0.01  \n",
      "2   7.6e-01  7.1e-02  2.1e-02  6.32e-01   -4.142736135e+00  -4.085120517e+00  7.1e-02  0.01  \n",
      "3   2.5e-01  2.3e-02  3.0e-03  2.63e+00   -1.416259122e+00  -1.411400757e+00  2.3e-02  0.02  \n",
      "4   1.1e-01  9.9e-03  8.1e-04  1.93e+00   -9.817509689e-01  -9.816679514e-01  9.9e-03  0.02  \n",
      "5   5.1e-02  4.7e-03  2.8e-04  1.14e+00   -1.038765305e+00  -1.038871218e+00  4.7e-03  0.03  \n",
      "6   1.6e-03  1.5e-04  1.6e-06  1.11e+00   -9.818422860e-01  -9.818569498e-01  1.5e-04  0.03  \n",
      "7   1.9e-06  1.8e-07  6.5e-11  1.00e+00   -9.802681508e-01  -9.802681697e-01  1.8e-07  0.03  \n",
      "8   2.1e-09  2.0e-10  2.4e-15  1.00e+00   -9.802661057e-01  -9.802661057e-01  2.0e-10  0.04  \n",
      "Optimizer terminated. Time: 0.04    \n",
      "\n",
      "Termination status = OPTIMAL\n",
      "Optimal value = -0.9802661057125113\n",
      "Dimension of the null space of Gram matrix = 3\n",
      "  1.777105 seconds (2.07 M allocations: 395.041 MiB, 4.78% gc time)\n"
     ]
    }
   ],
   "source": [
    "include(\"../src/InterruptedRelax.jl\")\n",
    "using .InterruptedRelax\n",
    "\n",
    "n,m,l,lmon_g,supp_g,coe_g,lmon_h,supp_h,coe_h,lmon_f,supp_f,coe_f,dg,dh=InterruptedRelax.get_info(x,f,g,h,sparse=false);\n",
    "\n",
    "\n",
    "k=0\n",
    "\n",
    "println(\"Relaxation order: k=\",k)\n",
    "\n",
    "s=10\n",
    "\n",
    "println(\"Block size: s=\",s)\n",
    "\n",
    "@time opt_val1,opt_sol=InterruptedRelax.RelaxDense(n,m,l,lmon_g,supp_g,coe_g,lmon_h,supp_h,coe_h,\n",
    "    lmon_f,supp_f,coe_f,dg,dh,k,s,solver=\"Mosek\",comp_opt_sol=true);"
   ]
  },
  {
   "cell_type": "code",
   "execution_count": null,
   "metadata": {},
   "outputs": [],
   "source": []
  },
  {
   "cell_type": "code",
   "execution_count": 24,
   "metadata": {
    "scrolled": true
   },
   "outputs": [
    {
     "name": "stdout",
     "output_type": "stream",
     "text": [
      "Maximal matrix size: 21\n",
      "************************TSSOS************************"
     ]
    },
    {
     "name": "stderr",
     "output_type": "stream",
     "text": [
      "WARNING: replacing module InterruptedRelax.\n"
     ]
    },
    {
     "name": "stdout",
     "output_type": "stream",
     "text": [
      "\n",
      "TSSOS is launching...\n",
      "------------------------------------------------------\n",
      "The clique sizes of varibles:\n",
      "[20]\n",
      "[1]\n",
      "------------------------------------------------------\n",
      "Assembling the SDP...\n",
      "There are 231 affine constraints.\n",
      "SDP assembling time: 0.000547295 seconds.\n",
      "Solving the SDP...\n",
      "Problem\n",
      "  Name                   :                 \n",
      "  Objective sense        : max             \n",
      "  Type                   : CONIC (conic optimization problem)\n",
      "  Constraints            : 231             \n",
      "  Cones                  : 0               \n",
      "  Scalar variables       : 22              \n",
      "  Matrix variables       : 1               \n",
      "  Integer variables      : 0               \n",
      "\n",
      "Optimizer started.\n",
      "Presolve started.\n",
      "Linear dependency checker started.\n",
      "Linear dependency checker terminated.\n",
      "Eliminator started.\n",
      "Freed constraints in eliminator : 0\n",
      "Eliminator terminated.\n",
      "Eliminator - tries                  : 1                 time                   : 0.00            \n",
      "Lin. dep.  - tries                  : 1                 time                   : 0.00            \n",
      "Lin. dep.  - number                 : 0               \n",
      "Presolve terminated. Time: 0.00    \n",
      "Problem\n",
      "  Name                   :                 \n",
      "  Objective sense        : max             \n",
      "  Type                   : CONIC (conic optimization problem)\n",
      "  Constraints            : 231             \n",
      "  Cones                  : 0               \n",
      "  Scalar variables       : 22              \n",
      "  Matrix variables       : 1               \n",
      "  Integer variables      : 0               \n",
      "\n",
      "Optimizer  - threads                : 4               \n",
      "Optimizer  - solved problem         : the primal      \n",
      "Optimizer  - Constraints            : 231\n",
      "Optimizer  - Cones                  : 1\n",
      "Optimizer  - Scalar variables       : 23                conic                  : 3               \n",
      "Optimizer  - Semi-definite variables: 1                 scalarized             : 231             \n",
      "Factor     - setup time             : 0.00              dense det. time        : 0.00            \n",
      "Factor     - ML order time          : 0.00              GP order time          : 0.00            \n",
      "Factor     - nonzeros before factor : 2.68e+04          after factor           : 2.68e+04        \n",
      "Factor     - dense dim.             : 0                 flops                  : 4.33e+06        \n",
      "ITE PFEAS    DFEAS    GFEAS    PRSTATUS   POBJ              DOBJ              MU       TIME  \n",
      "0   2.0e+00  1.0e+00  1.0e+00  0.00e+00   0.000000000e+00   0.000000000e+00   1.0e+00  0.00  \n",
      "1   2.7e-01  1.3e-01  3.4e-01  -9.96e-01  -1.108915162e+01  -1.675430708e+01  1.3e-01  0.01  \n",
      "2   6.4e-03  3.2e-03  6.0e-02  -1.01e+00  -5.454783374e+02  -8.959293482e+02  3.2e-03  0.01  \n",
      "3   3.3e-06  1.6e-06  1.5e-03  -1.00e+00  -1.193609988e+06  -2.011524350e+06  1.6e-06  0.01  \n",
      "4   4.3e-10  2.2e-10  1.7e-05  -1.00e+00  -8.653246270e+09  -1.462525976e+10  2.2e-10  0.01  \n",
      "5   1.0e-13  5.3e-14  2.0e-07  -1.00e+00  -3.486123575e+13  -5.911116986e+13  5.2e-14  0.02  \n",
      "Optimizer terminated. Time: 0.02    \n",
      "\n",
      "SDP solving time: 0.019496866 seconds.\n",
      "termination status: INFEASIBLE\n",
      "solution status: NO_SOLUTION\n",
      "optimum = -1.4043161986924573\n",
      "  0.022361 seconds (23.88 k allocations: 2.877 MiB)\n"
     ]
    }
   ],
   "source": [
    "using SparseArrays\n",
    "\n",
    "include(\"../src/InterruptedRelax.jl\")\n",
    "using .InterruptedRelax\n",
    "\n",
    "n,m,l,lmon_g,supp_g,coe_g,lmon_h,supp_h,coe_h,lmon_f,supp_f,coe_f,dg,dh=InterruptedRelax.get_info(x,f,g,h,sparse=true);\n",
    "\n",
    "using TSSOS\n",
    "\n",
    "k=1\n",
    "\n",
    "println(\"Maximal matrix size: \",binomial(n+k,k))\n",
    "\n",
    "vars,pop=InterruptedRelax.get_POP(n,m,l,lmon_g,supp_g,coe_g,lmon_h,supp_h,coe_h,lmon_f,supp_f,coe_f)\n",
    "\n",
    "@time opt,sol,data=TSSOS.cs_tssos_first(pop,vars,k,numeq=l,CS=false,TS=false,solver=\"Mosek\");"
   ]
  },
  {
   "cell_type": "code",
   "execution_count": null,
   "metadata": {},
   "outputs": [],
   "source": []
  },
  {
   "cell_type": "code",
   "execution_count": 25,
   "metadata": {
    "scrolled": true
   },
   "outputs": [
    {
     "name": "stdout",
     "output_type": "stream",
     "text": [
      "Maximal matrix size: 231\n",
      "************************TSSOS************************"
     ]
    },
    {
     "name": "stderr",
     "output_type": "stream",
     "text": [
      "WARNING: replacing module InterruptedRelax.\n"
     ]
    },
    {
     "name": "stdout",
     "output_type": "stream",
     "text": [
      "\n",
      "TSSOS is launching...\n",
      "------------------------------------------------------\n",
      "The clique sizes of varibles:\n",
      "[20]\n",
      "[1]\n",
      "------------------------------------------------------\n",
      "Assembling the SDP...\n",
      "There are 10626 affine constraints.\n",
      "SDP assembling time: 0.191199307 seconds.\n",
      "Solving the SDP...\n",
      "Problem\n",
      "  Name                   :                 \n",
      "  Objective sense        : max             \n",
      "  Type                   : CONIC (conic optimization problem)\n",
      "  Constraints            : 10626           \n",
      "  Cones                  : 0               \n",
      "  Scalar variables       : 232             \n",
      "  Matrix variables       : 21              \n",
      "  Integer variables      : 0               \n",
      "\n",
      "Optimizer started.\n",
      "Presolve started.\n",
      "Linear dependency checker started.\n",
      "Linear dependency checker terminated.\n",
      "Eliminator started.\n",
      "Freed constraints in eliminator : 0\n",
      "Eliminator terminated.\n",
      "Eliminator - tries                  : 1                 time                   : 0.00            \n",
      "Lin. dep.  - tries                  : 1                 time                   : 0.00            \n",
      "Lin. dep.  - number                 : 0               \n",
      "Presolve terminated. Time: 0.00    \n",
      "Problem\n",
      "  Name                   :                 \n",
      "  Objective sense        : max             \n",
      "  Type                   : CONIC (conic optimization problem)\n",
      "  Constraints            : 10626           \n",
      "  Cones                  : 0               \n",
      "  Scalar variables       : 232             \n",
      "  Matrix variables       : 21              \n",
      "  Integer variables      : 0               \n",
      "\n",
      "Optimizer  - threads                : 4               \n",
      "Optimizer  - solved problem         : the primal      \n",
      "Optimizer  - Constraints            : 10626\n",
      "Optimizer  - Cones                  : 1\n",
      "Optimizer  - Scalar variables       : 233               conic                  : 233             \n",
      "Optimizer  - Semi-definite variables: 21                scalarized             : 31416           \n",
      "Factor     - setup time             : 13.24             dense det. time        : 0.00            \n",
      "Factor     - ML order time          : 9.10              GP order time          : 0.00            \n",
      "Factor     - nonzeros before factor : 5.65e+07          after factor           : 5.65e+07        \n",
      "Factor     - dense dim.             : 2                 flops                  : 4.02e+11        \n",
      "ITE PFEAS    DFEAS    GFEAS    PRSTATUS   POBJ              DOBJ              MU       TIME  \n",
      "0   1.0e+00  1.0e+00  1.0e+00  0.00e+00   0.000000000e+00   0.000000000e+00   1.0e+00  13.28 \n",
      "1   7.8e-01  7.8e-01  8.4e-01  -8.27e-01  -9.041545473e-01  -1.110976131e+00  7.8e-01  22.99 \n",
      "2   7.5e-02  7.5e-02  9.6e-02  -6.49e-01  -5.399625226e+00  -6.787417279e+00  7.5e-02  32.38 \n",
      "3   1.1e-02  1.1e-02  2.9e-03  1.93e+00   -1.200182128e+00  -1.262717453e+00  1.1e-02  42.53 \n",
      "4   5.0e-03  5.0e-03  7.9e-04  1.01e+00   -9.913862152e-01  -1.010924317e+00  5.0e-03  51.69 \n",
      "5   1.9e-03  1.9e-03  1.6e-04  1.06e+00   -1.005342038e+00  -1.010802562e+00  1.9e-03  60.84 \n",
      "6   1.6e-04  1.6e-04  4.1e-06  1.02e+00   -9.817502154e-01  -9.822259050e-01  1.6e-04  70.14 \n",
      "7   1.0e-06  1.0e-06  1.2e-09  9.97e-01   -9.802697086e-01  -9.802700578e-01  1.0e-06  79.33 \n",
      "8   1.0e-09  1.0e-09  3.8e-14  9.96e-01   -9.802661053e-01  -9.802661058e-01  1.0e-09  89.07 \n",
      "Optimizer terminated. Time: 89.10   \n",
      "\n",
      "SDP solving time: 89.261492043 seconds.\n",
      "optimum = -0.9802661052750152\n",
      " 89.488982 seconds (1.55 M allocations: 140.206 MiB, 0.07% gc time)\n"
     ]
    }
   ],
   "source": [
    "using SparseArrays\n",
    "\n",
    "include(\"../src/InterruptedRelax.jl\")\n",
    "using .InterruptedRelax\n",
    "\n",
    "n,m,l,lmon_g,supp_g,coe_g,lmon_h,supp_h,coe_h,lmon_f,supp_f,coe_f,dg,dh=InterruptedRelax.get_info(x,f,g,h,sparse=true);\n",
    "\n",
    "using TSSOS\n",
    "\n",
    "k=2\n",
    "\n",
    "println(\"Maximal matrix size: \",binomial(n+k,k))\n",
    "\n",
    "vars,pop=InterruptedRelax.get_POP(n,m,l,lmon_g,supp_g,coe_g,lmon_h,supp_h,coe_h,lmon_f,supp_f,coe_f)\n",
    "\n",
    "@time opt,sol,data=TSSOS.cs_tssos_first(pop,vars,k,numeq=l,CS=false,TS=false,solver=\"Mosek\");"
   ]
  },
  {
   "cell_type": "code",
   "execution_count": null,
   "metadata": {},
   "outputs": [],
   "source": []
  },
  {
   "cell_type": "code",
   "execution_count": 26,
   "metadata": {},
   "outputs": [
    {
     "name": "stderr",
     "output_type": "stream",
     "text": [
      "WARNING: replacing module InterruptedRelax.\n"
     ]
    }
   ],
   "source": [
    "include(\"../src/InterruptedRelax.jl\")\n",
    "using .InterruptedRelax\n",
    "\n",
    "InterruptedRelax.save_info_mat_copositivity(n,A)"
   ]
  },
  {
   "cell_type": "code",
   "execution_count": null,
   "metadata": {},
   "outputs": [],
   "source": []
  }
 ],
 "metadata": {
  "kernelspec": {
   "display_name": "Julia 1.3.0",
   "language": "julia",
   "name": "julia-1.3"
  },
  "language_info": {
   "file_extension": ".jl",
   "mimetype": "application/julia",
   "name": "julia",
   "version": "1.3.0"
  }
 },
 "nbformat": 4,
 "nbformat_minor": 2
}
