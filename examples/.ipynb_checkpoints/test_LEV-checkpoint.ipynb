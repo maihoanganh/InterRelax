{
 "cells": [
  {
   "cell_type": "code",
   "execution_count": null,
   "metadata": {},
   "outputs": [],
   "source": [
    "using DynamicPolynomials, SparseArrays\n",
    "println(\"***Problem setting***\")\n",
    "\n",
    "n=3\n",
    "println(\"Number of variables: n=\",n)\n",
    "\n",
    "@polyvar x[1:n]# variables\n",
    "\n",
    "function generate_random_poly(v)\n",
    "    c=2*rand(Float64,length(v)).-1\n",
    "    return c'*v\n",
    "end\n",
    "\n",
    "function generate_sparse_random_poly(v)\n",
    "    c=sprand(Float64,length(v),0.01)\n",
    "    I,V=findnz(c)\n",
    "    V=2*V.-1\n",
    "    return sparsevec(I,V,length(v))'*v\n",
    "end\n",
    "# random quadratic objective function f\n",
    "v=reverse(monomials(x,0:2))\n",
    "f=generate_random_poly(v)\n",
    "\n",
    "\n",
    "# unit sphere constraint\n",
    "m=ceil(Int64, n/5)\n",
    "g=Vector{Polynomial{true,Float64}}(undef,m)\n",
    " #type of coefficients of each polynomial must be float\n",
    "\n",
    "randx=rand(n)# create a feasible solution\n",
    "randx=rand(1)[1]*randx./sum(randx)\n",
    "g[1]=1.0-sum(x)\n",
    "for j in 2:m\n",
    "    g[j]=generate_random_poly(v[2:end])\n",
    "    g[j]+=0.125-g[j](x => randx) #make constraints feasible\n",
    "end\n",
    "\n",
    "\n",
    "\n",
    "m=length(g)\n",
    "println(\"Number of inequality constraints: m=\",m)\n",
    "\n",
    "l=ceil(Int64,n/5)\n",
    "\n",
    "h=Vector{Polynomial{true,Float64}}(undef,l)\n",
    "for j in 1:l\n",
    "    h[j]=generate_random_poly(v[2:end])\n",
    "    h[j]-=h[j](x => randx) #make constraints feasible\n",
    "end\n",
    "\n",
    "#h=[h;1.0-sum(x.^2)]\n",
    "\n",
    "l=length(h)\n",
    "println(\"Number of equality constraints: l=\",l)"
   ]
  },
  {
   "cell_type": "code",
   "execution_count": null,
   "metadata": {},
   "outputs": [],
   "source": [
    "using DynamicPolynomial, MosekTools, JuMP\n",
    "\n",
    "k=2\n",
    "\n",
    "model = SOSModel(with_optimizer(Mosek.Optimizer, QUIET=false))\n",
    "\n",
    "v=reverse(monomials([0.5*(x+e);0.5*(x-e)],0:2))"
   ]
  }
 ],
 "metadata": {
  "kernelspec": {
   "display_name": "Julia 1.3.0",
   "language": "julia",
   "name": "julia-1.3"
  },
  "language_info": {
   "file_extension": ".jl",
   "mimetype": "application/julia",
   "name": "julia",
   "version": "1.3.0"
  }
 },
 "nbformat": 4,
 "nbformat_minor": 2
}
