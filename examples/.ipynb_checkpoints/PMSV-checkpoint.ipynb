{
 "cells": [
  {
   "cell_type": "code",
   "execution_count": 12,
   "metadata": {},
   "outputs": [
    {
     "name": "stdout",
     "output_type": "stream",
     "text": [
      "***Problem setting***\n",
      "Number of variable: n=25\n",
      "====================\n",
      "Number of inequality constraints: m=0\n",
      "====================\n",
      "Number of equality constraints: l=1\n"
     ]
    }
   ],
   "source": [
    "using DynamicPolynomials, SparseArrays\n",
    "using LinearAlgebra\n",
    "\n",
    "\n",
    "println(\"***Problem setting***\")\n",
    "\n",
    "m=5\n",
    "r=m\n",
    "\n",
    "function getmat(m,r)\n",
    "\n",
    "    A=2*rand(Float64,r,r).-1\n",
    "    B=2*rand(Float64,r,r).-1\n",
    "    C=2*rand(Float64,r,r).-1\n",
    "    D=2*rand(Float64,r,r).-1\n",
    "\n",
    "    M=zeros(Float64,m*r,m*r)\n",
    "\n",
    "    for i in 1:m, j in 1:i\n",
    "        if i==j\n",
    "            M[r*(i-1)+1:i*r,r*(j-1)+1:j*r]=D\n",
    "        else\n",
    "            M[r*(i-1)+1:i*r,r*(j-1)+1:j*r]=C*A^(i-j-1)*B\n",
    "        end\n",
    "    end\n",
    "\n",
    "    return m*r, Symmetric(M'*M)\n",
    "end\n",
    "\n",
    "#n,A=getmat(m,r)\n",
    "n=m^2; include(\"./mat_size$(n).jl\")\n",
    "\n",
    "println(\"Number of variable: n=\",n)\n",
    "println(\"====================\")\n",
    "\n",
    "@polyvar x[1:n]# variables\n",
    "f=sum(-A[i,j]*x[i]*x[j] for i=1:n for j=1:n)\n",
    "\n",
    "g=Vector{Polynomial{true,Float64}}([])\n",
    " #type of coefficients of each polynomial must be float\n",
    "\n",
    "m=length(g)\n",
    "println(\"Number of inequality constraints: m=\",m)\n",
    "println(\"====================\")\n",
    "\n",
    "h=[1.0-sum(x.^2)]\n",
    "\n",
    "l=length(h)\n",
    "println(\"Number of equality constraints: l=\",l)"
   ]
  },
  {
   "cell_type": "code",
   "execution_count": null,
   "metadata": {},
   "outputs": [],
   "source": []
  },
  {
   "cell_type": "code",
   "execution_count": 14,
   "metadata": {
    "scrolled": true
   },
   "outputs": [
    {
     "name": "stdout",
     "output_type": "stream",
     "text": [
      "Relaxation order: k=1\n",
      "Block size: s=50\n"
     ]
    },
    {
     "name": "stderr",
     "output_type": "stream",
     "text": [
      "WARNING: replacing module InterruptedRelax.\n"
     ]
    },
    {
     "name": "stdout",
     "output_type": "stream",
     "text": [
      "Maximal matrix size:26\n",
      "Problem\n",
      "  Name                   :                 \n",
      "  Objective sense        : max             \n",
      "  Type                   : CONIC (conic optimization problem)\n",
      "  Constraints            : 3276            \n",
      "  Cones                  : 0               \n",
      "  Scalar variables       : 2627            \n",
      "  Matrix variables       : 26              \n",
      "  Integer variables      : 0               \n",
      "\n",
      "Optimizer started.\n",
      "Presolve started.\n",
      "Linear dependency checker started.\n",
      "Linear dependency checker terminated.\n",
      "Eliminator started.\n",
      "Freed constraints in eliminator : 0\n",
      "Eliminator terminated.\n",
      "Eliminator - tries                  : 1                 time                   : 0.00            \n",
      "Lin. dep.  - tries                  : 1                 time                   : 0.00            \n",
      "Lin. dep.  - number                 : 0               \n",
      "Presolve terminated. Time: 0.00    \n",
      "GP based matrix reordering started.\n",
      "GP based matrix reordering terminated.\n",
      "Problem\n",
      "  Name                   :                 \n",
      "  Objective sense        : max             \n",
      "  Type                   : CONIC (conic optimization problem)\n",
      "  Constraints            : 3276            \n",
      "  Cones                  : 0               \n",
      "  Scalar variables       : 2627            \n",
      "  Matrix variables       : 26              \n",
      "  Integer variables      : 0               \n",
      "\n",
      "Optimizer  - threads                : 4               \n",
      "Optimizer  - solved problem         : the primal      \n",
      "Optimizer  - Constraints            : 3276\n",
      "Optimizer  - Cones                  : 1\n",
      "Optimizer  - Scalar variables       : 2628              conic                  : 28              \n",
      "Optimizer  - Semi-definite variables: 26                scalarized             : 9126            \n",
      "Factor     - setup time             : 0.95              dense det. time        : 0.06            \n",
      "Factor     - ML order time          : 0.16              GP order time          : 0.52            \n",
      "Factor     - nonzeros before factor : 1.50e+06          after factor           : 4.94e+06        \n",
      "Factor     - dense dim.             : 2                 flops                  : 9.80e+09        \n",
      "ITE PFEAS    DFEAS    GFEAS    PRSTATUS   POBJ              DOBJ              MU       TIME  \n",
      "0   1.2e+02  1.0e+00  1.0e+00  0.00e+00   0.000000000e+00   0.000000000e+00   1.0e+00  0.96  \n",
      "1   9.3e+01  7.8e-01  8.8e-01  -9.97e-01  -9.940415846e-01  -1.279137523e+00  7.8e-01  1.37  \n",
      "2   1.3e+01  1.1e-01  3.1e-01  -9.86e-01  -3.725072353e+01  -4.427795768e+01  1.1e-01  1.79  \n",
      "3   1.5e-01  1.2e-03  8.8e-03  -7.71e-01  -3.512309120e+02  -4.003123191e+02  1.2e-03  2.19  \n",
      "4   2.1e-02  1.8e-04  3.6e-05  1.55e+00   -1.594970050e+02  -1.595306779e+02  1.8e-04  2.61  \n",
      "5   1.3e-02  1.1e-04  2.0e-05  1.96e+00   -1.133711624e+02  -1.134022583e+02  1.1e-04  3.02  \n",
      "6   9.8e-03  8.2e-05  1.4e-05  1.56e+00   -1.061027647e+02  -1.061297962e+02  8.2e-05  3.40  \n",
      "7   3.0e-03  2.5e-05  2.8e-06  1.40e+00   -9.458597808e+01  -9.459771923e+01  2.5e-05  3.83  \n",
      "8   1.0e-03  8.6e-06  5.7e-07  1.16e+00   -9.205574213e+01  -9.205999703e+01  8.6e-06  4.22  \n",
      "9   3.5e-04  2.9e-06  1.2e-07  1.05e+00   -9.157965109e+01  -9.158119128e+01  2.9e-06  4.61  \n",
      "10  3.5e-05  3.0e-07  3.8e-09  1.03e+00   -9.131314585e+01  -9.131330089e+01  3.0e-07  5.05  \n",
      "11  1.7e-05  1.4e-07  1.3e-09  1.00e+00   -9.129901059e+01  -9.129908684e+01  1.4e-07  5.45  \n",
      "12  3.0e-06  2.5e-08  9.4e-11  1.01e+00   -9.128412756e+01  -9.128414099e+01  2.5e-08  5.90  \n",
      "13  1.5e-06  1.3e-08  3.4e-11  1.01e+00   -9.128285752e+01  -9.128286442e+01  1.3e-08  6.29  \n",
      "14  2.2e-07  1.9e-09  2.0e-12  1.00e+00   -9.128178686e+01  -9.128178791e+01  1.9e-09  6.75  \n",
      "15  3.6e-08  3.0e-10  1.3e-13  1.00e+00   -9.128161292e+01  -9.128161309e+01  3.0e-10  7.16  \n",
      "Optimizer terminated. Time: 7.16    \n",
      "\n",
      "Termination status = OPTIMAL\n",
      "Optimal value = -91.28161291882756\n",
      "Dimension of the null space of Gram matrix = 20\n",
      " 38.022992 seconds (19.56 M allocations: 5.158 GiB, 1.56% gc time)\n"
     ]
    },
    {
     "data": {
      "text/plain": [
       "(-91.28161291882756, Array{Float64,1}[])"
      ]
     },
     "execution_count": 14,
     "metadata": {},
     "output_type": "execute_result"
    }
   ],
   "source": [
    "include(\"../src/InterruptedRelax.jl\")\n",
    "using .InterruptedRelax\n",
    "\n",
    "n,m,l,lmon_g,supp_g,coe_g,lmon_h,supp_h,coe_h,lmon_f,supp_f,coe_f,dg,dh=InterruptedRelax.get_info(x,f,g,h,sparse=false);\n",
    "\n",
    "\n",
    "k=1\n",
    "\n",
    "println(\"Relaxation order: k=\",k)\n",
    "\n",
    "s=50\n",
    "\n",
    "println(\"Block size: s=\",s)\n",
    "\n",
    "@time opt_val1,opt_sol=InterruptedRelax.RelaxDense(n,m,l,lmon_g,supp_g,coe_g,lmon_h,supp_h,coe_h,\n",
    "    lmon_f,supp_f,coe_f,dg,dh,k,s,solver=\"Mosek\",comp_opt_sol=false)"
   ]
  },
  {
   "cell_type": "code",
   "execution_count": null,
   "metadata": {
    "scrolled": true
   },
   "outputs": [],
   "source": []
  },
  {
   "cell_type": "code",
   "execution_count": null,
   "metadata": {},
   "outputs": [],
   "source": []
  },
  {
   "cell_type": "code",
   "execution_count": 107,
   "metadata": {},
   "outputs": [
    {
     "name": "stdout",
     "output_type": "stream",
     "text": [
      "Maximal matrix size: 50\n",
      "************************TSSOS************************\n",
      "TSSOS is launching...\n",
      "------------------------------------------------------\n",
      "The clique sizes of varibles:\n",
      "[49]\n",
      "[1]\n",
      "------------------------------------------------------\n",
      "Assembling the SDP...\n",
      "There are 1275 affine constraints.\n",
      "SDP assembling time: 0.001674079 seconds.\n",
      "Solving the SDP...\n",
      "Problem\n",
      "  Name                   :                 \n",
      "  Objective sense        : max             \n",
      "  Type                   : CONIC (conic optimization problem)\n",
      "  Constraints            : 1275            \n",
      "  Cones                  : 0               \n",
      "  Scalar variables       : 51              \n",
      "  Matrix variables       : 1               \n",
      "  Integer variables      : 0               \n",
      "\n",
      "Optimizer started.\n",
      "Presolve started.\n",
      "Linear dependency checker started.\n",
      "Linear dependency checker terminated.\n",
      "Eliminator started.\n",
      "Freed constraints in eliminator : 0\n",
      "Eliminator terminated.\n",
      "Eliminator - tries                  : 1                 time                   : 0.00            \n",
      "Lin. dep.  - tries                  : 1                 time                   : 0.00            \n",
      "Lin. dep.  - number                 : 0               \n",
      "Presolve terminated. Time: 0.00    \n",
      "Problem\n",
      "  Name                   :                 \n",
      "  Objective sense        : max             \n",
      "  Type                   : CONIC (conic optimization problem)\n",
      "  Constraints            : 1275            \n",
      "  Cones                  : 0               \n",
      "  Scalar variables       : 51              \n",
      "  Matrix variables       : 1               \n",
      "  Integer variables      : 0               \n",
      "\n",
      "Optimizer  - threads                : 4               \n",
      "Optimizer  - solved problem         : the primal      \n",
      "Optimizer  - Constraints            : 1275\n",
      "Optimizer  - Cones                  : 1\n",
      "Optimizer  - Scalar variables       : 52                conic                  : 3               \n",
      "Optimizer  - Semi-definite variables: 1                 scalarized             : 1275            \n",
      "Factor     - setup time             : 0.03              dense det. time        : 0.00            \n",
      "Factor     - ML order time          : 0.02              GP order time          : 0.00            \n",
      "Factor     - nonzeros before factor : 8.13e+05          after factor           : 8.13e+05        \n",
      "Factor     - dense dim.             : 0                 flops                  : 6.98e+08        \n",
      "ITE PFEAS    DFEAS    GFEAS    PRSTATUS   POBJ              DOBJ              MU       TIME  \n",
      "0   8.4e+02  1.0e+00  1.0e+00  0.00e+00   0.000000000e+00   0.000000000e+00   1.0e+00  0.04  \n",
      "1   4.5e+02  5.4e-01  7.3e-01  -1.00e+00  -5.512865286e+00  -6.355777360e+00  5.4e-01  0.07  \n",
      "2   4.0e+01  4.7e-02  2.1e-01  -1.00e+00  -1.632720769e+02  -1.827170645e+02  4.7e-02  0.11  \n",
      "3   3.1e-01  3.7e-04  1.5e-02  -9.94e-01  -1.485998850e+04  -1.659016187e+04  3.7e-04  0.14  \n",
      "4   3.6e-02  4.3e-05  3.5e-04  1.15e+00   -3.261418617e+03  -3.329957908e+03  4.3e-05  0.18  \n",
      "5   6.5e-03  7.7e-06  1.7e-05  1.32e+00   -2.028665536e+03  -2.033734430e+03  7.7e-06  0.21  \n",
      "6   8.2e-04  9.7e-07  4.6e-07  1.12e+00   -1.807127869e+03  -1.807347625e+03  9.7e-07  0.25  \n",
      "7   5.3e-04  6.3e-07  2.8e-07  1.05e+00   -1.791493476e+03  -1.791687653e+03  6.3e-07  0.27  \n",
      "8   3.0e-04  3.5e-07  1.3e-07  1.01e+00   -1.790066553e+03  -1.790203776e+03  3.5e-07  0.30  \n",
      "9   1.3e-04  1.6e-07  4.4e-08  1.03e+00   -1.780235818e+03  -1.780311189e+03  1.6e-07  0.33  \n",
      "10  1.8e-05  2.1e-08  1.9e-09  1.01e+00   -1.778175012e+03  -1.778183134e+03  2.1e-08  0.36  \n",
      "11  4.8e-06  5.7e-09  2.5e-10  1.01e+00   -1.777661087e+03  -1.777663042e+03  5.7e-09  0.39  \n",
      "12  5.6e-07  6.6e-10  7.9e-12  1.00e+00   -1.777553480e+03  -1.777553621e+03  6.6e-10  0.42  \n",
      "13  3.5e-07  4.2e-10  4.6e-12  1.00e+00   -1.777542158e+03  -1.777542281e+03  4.2e-10  0.45  \n",
      "14  1.9e-07  2.2e-10  2.1e-12  1.00e+00   -1.777541100e+03  -1.777541185e+03  2.2e-10  0.48  \n",
      "15  7.6e-08  9.0e-11  5.9e-13  1.00e+00   -1.777534091e+03  -1.777534135e+03  9.0e-11  0.50  \n",
      "16  9.9e-09  1.2e-11  2.7e-14  1.00e+00   -1.777533138e+03  -1.777533143e+03  1.2e-11  0.53  \n",
      "17  6.6e-09  7.8e-12  1.5e-14  1.00e+00   -1.777532944e+03  -1.777532948e+03  7.8e-12  0.56  \n",
      "Optimizer terminated. Time: 0.56    \n",
      "\n",
      "SDP solving time: 0.563453665 seconds.\n",
      "optimum = -1777.5329439796242\n",
      "  0.568958 seconds (108.86 k allocations: 14.222 MiB)\n"
     ]
    },
    {
     "name": "stderr",
     "output_type": "stream",
     "text": [
      "WARNING: replacing module InterruptedRelax.\n"
     ]
    }
   ],
   "source": [
    "using SparseArrays\n",
    "\n",
    "include(\"../src/InterruptedRelax.jl\")\n",
    "using .InterruptedRelax\n",
    "\n",
    "n,m,l,lmon_g,supp_g,coe_g,lmon_h,supp_h,coe_h,lmon_f,supp_f,coe_f,dg,dh=InterruptedRelax.get_info(x,f,g,h,sparse=true);\n",
    "\n",
    "#InterruptedRelax.save_info_sparsePOP(randx,u,n,m,l,lmon_g,supp_g,coe_g,lmon_h,supp_h,coe_h,lmon_f,supp_f,coe_f,dg,dh)\n",
    "\n",
    "#include(\"./sparsePOP3.jl\")\n",
    "\n",
    "using TSSOS\n",
    "\n",
    "k=1\n",
    "\n",
    "println(\"Maximal matrix size: \",binomial(n+k,k))\n",
    "\n",
    "vars,pop=InterruptedRelax.get_POP(n,m,l,lmon_g,supp_g,coe_g,lmon_h,supp_h,coe_h,lmon_f,supp_f,coe_f)\n",
    "\n",
    "@time opt,sol,data=TSSOS.cs_tssos_first(pop,vars,k,numeq=l,CS=false,TS=false,solver=\"Mosek\");"
   ]
  },
  {
   "cell_type": "code",
   "execution_count": null,
   "metadata": {},
   "outputs": [],
   "source": []
  },
  {
   "cell_type": "code",
   "execution_count": 108,
   "metadata": {},
   "outputs": [
    {
     "name": "stderr",
     "output_type": "stream",
     "text": [
      "WARNING: replacing module InterruptedRelax.\n"
     ]
    }
   ],
   "source": [
    "include(\"../src/InterruptedRelax.jl\")\n",
    "using .InterruptedRelax\n",
    "\n",
    "InterruptedRelax.save_info_mat(n,A)"
   ]
  },
  {
   "cell_type": "code",
   "execution_count": null,
   "metadata": {},
   "outputs": [],
   "source": []
  },
  {
   "cell_type": "code",
   "execution_count": null,
   "metadata": {},
   "outputs": [],
   "source": [
    "# include(\"../src/InterruptedRelax.jl\")\n",
    "# using .InterruptedRelax\n",
    "\n",
    "# n,m,l,lmon_g,supp_g,coe_g,lmon_h,supp_h,coe_h,lmon_f,supp_f,coe_f,dg,dh=InterruptedRelax.get_info(x,f,g,h,sparse=false);\n",
    "\n",
    "\n",
    "# k=2\n",
    "\n",
    "# println(\"Relaxation order: k=\",k)\n",
    "\n",
    "# s=2\n",
    "\n",
    "# println(\"Block size: s=\",s)\n",
    "\n",
    "# @time opt_val1=InterruptedRelax.RelaxDense_without_multiplier(n,m,l,lmon_g,supp_g,coe_g,lmon_h,supp_h,coe_h,\n",
    "#     lmon_f,supp_f,coe_f,dg,dh,k,s,solver=\"Mosek\")"
   ]
  },
  {
   "cell_type": "code",
   "execution_count": null,
   "metadata": {},
   "outputs": [],
   "source": []
  }
 ],
 "metadata": {
  "kernelspec": {
   "display_name": "Julia 1.3.0",
   "language": "julia",
   "name": "julia-1.3"
  },
  "language_info": {
   "file_extension": ".jl",
   "mimetype": "application/julia",
   "name": "julia",
   "version": "1.3.0"
  }
 },
 "nbformat": 4,
 "nbformat_minor": 2
}
