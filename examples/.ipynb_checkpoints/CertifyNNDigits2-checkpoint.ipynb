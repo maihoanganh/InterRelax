{
 "cells": [
  {
   "cell_type": "code",
   "execution_count": 1,
   "metadata": {},
   "outputs": [
    {
     "data": {
      "text/plain": [
       "10"
      ]
     },
     "execution_count": 1,
     "metadata": {},
     "output_type": "execute_result"
    }
   ],
   "source": [
    "using MAT\n",
    "using DynamicPolynomials, LinearAlgebra, SparseArrays\n",
    "\n",
    "data=\"/home/hoanganh/Desktop/math-topics/InterruptedRelax/codes/dataPOP2\" # path of data\n",
    "D = matread(data*\"/WeightsDigits2.mat\");\n",
    "W1 = D[\"W1\"]; W2 = D[\"W2\"]; c = D[\"c\"]; x_bar=D[\"x_bar\"]; y_bar=D[\"y_bar\"]\n",
    "eps = 0.1;\n",
    "\n",
    "m1=size(W1,2)\n",
    "m2=size(W2,2)\n",
    "m3=size(W2,1)"
   ]
  },
  {
   "cell_type": "code",
   "execution_count": 2,
   "metadata": {},
   "outputs": [
    {
     "data": {
      "text/plain": [
       "8"
      ]
     },
     "execution_count": 2,
     "metadata": {},
     "output_type": "execute_result"
    }
   ],
   "source": [
    "y_bar"
   ]
  },
  {
   "cell_type": "code",
   "execution_count": null,
   "metadata": {},
   "outputs": [],
   "source": []
  },
  {
   "cell_type": "code",
   "execution_count": 3,
   "metadata": {},
   "outputs": [
    {
     "name": "stdout",
     "output_type": "stream",
     "text": [
      "***Problem setting***\n",
      "Number of variables: n=84\n",
      "Number of inequality constraints: m=84\n",
      "Number of equality constraints: l=20\n"
     ]
    }
   ],
   "source": [
    "@polyvar x1[1:m1] x2[1:m2] x3[1:m3]# variables\n",
    "\n",
    "\n",
    "f=(c[y_bar+1,:]-c[1,:])'*x3\n",
    "\n",
    "g=Vector{Polynomial{true,Float64}}([])\n",
    "h=Vector{Polynomial{true,Float64}}([])\n",
    "\n",
    "pol=1.0*x1[1]\n",
    "\n",
    "for j in 1:m2\n",
    "    pol=x2[j]-sum(W1[j,r]*x1[r] for r=1:m1)\n",
    "    append!(g,[pol])\n",
    "    append!(h,[x2[j]*pol])\n",
    "end\n",
    "for j in 1:m3\n",
    "    pol=x3[j]-sum(W2[j,r]*x2[r] for r=1:m2)\n",
    "    append!(g,[pol])\n",
    "    append!(h,[x3[j]*pol])\n",
    "end\n",
    "\n",
    "for t in 1:m1\n",
    "    append!(g,[-x1[t]+x_bar[1,t]+eps])\n",
    "end\n",
    "\n",
    "m=length(g)\n",
    "l=length(h)\n",
    "\n",
    "f=f([x1;x2;x3]=>[x1+x_bar[1,:]-eps*ones(Float64,m1);x2;x3])\n",
    "\n",
    "for j in 1:m\n",
    "    g[j]=g[j]([x1;x2;x3]=>[x1+x_bar[1,:]-eps*ones(Float64,m1);x2;x3])\n",
    "end\n",
    "\n",
    "for j in 1:l\n",
    "    h[j]=h[j]([x1;x2;x3]=>[x1+x_bar[1,:]-eps*ones(Float64,m1);x2;x3])\n",
    "end\n",
    "\n",
    "\n",
    "x=[x1;x2;x3]; n=length(x)\n",
    "println(\"***Problem setting***\")\n",
    "println(\"Number of variables: n=\",n)\n",
    "println(\"Number of inequality constraints: m=\",m)\n",
    "println(\"Number of equality constraints: l=\",l)"
   ]
  },
  {
   "cell_type": "code",
   "execution_count": 5,
   "metadata": {
    "scrolled": true
   },
   "outputs": [
    {
     "name": "stdout",
     "output_type": "stream",
     "text": [
      "**Interrupted relaxation based on Putinar-Vasilescu's Positivstellensatz**\n",
      "Relaxation order: k=0\n",
      "Sparsity order: s=76\n",
      "Sparsity order: d=2\n",
      "------------------------------------------------------\n",
      "The clique sizes of varibles:\n",
      "[74, 11]\n",
      "[1, 10]\n",
      "------------------------------------------------------\n",
      "  Number of cliques: p="
     ]
    },
    {
     "name": "stderr",
     "output_type": "stream",
     "text": [
      "WARNING: replacing module InterRelax.\n"
     ]
    },
    {
     "name": "stdout",
     "output_type": "stream",
     "text": [
      "11\n",
      "  Largest clique size: u=74\n",
      " Maximal matrix size:75\n",
      "Problem\n",
      "  Name                   :                 \n",
      "  Objective sense        : max             \n",
      "  Type                   : CONIC (conic optimization problem)\n",
      "  Constraints            : 2970            \n",
      "  Cones                  : 0               \n",
      "  Scalar variables       : 9126            \n",
      "  Matrix variables       : 11              \n",
      "  Integer variables      : 0               \n",
      "\n",
      "Optimizer started.\n",
      "Presolve started.\n",
      "Linear dependency checker started.\n",
      "Linear dependency checker terminated.\n",
      "Eliminator started.\n",
      "Freed constraints in eliminator : 0\n",
      "Eliminator terminated.\n",
      "Eliminator - tries                  : 1                 time                   : 0.00            \n",
      "Lin. dep.  - tries                  : 1                 time                   : 0.00            \n",
      "Lin. dep.  - number                 : 0               \n",
      "Presolve terminated. Time: 0.01    \n",
      "Problem\n",
      "  Name                   :                 \n",
      "  Objective sense        : max             \n",
      "  Type                   : CONIC (conic optimization problem)\n",
      "  Constraints            : 2970            \n",
      "  Cones                  : 0               \n",
      "  Scalar variables       : 9126            \n",
      "  Matrix variables       : 11              \n",
      "  Integer variables      : 0               \n",
      "\n",
      "Optimizer  - threads                : 4               \n",
      "Optimizer  - solved problem         : the primal      \n",
      "Optimizer  - Constraints            : 2970\n",
      "Optimizer  - Cones                  : 1\n",
      "Optimizer  - Scalar variables       : 8557              conic                  : 22              \n",
      "Optimizer  - Semi-definite variables: 11                scalarized             : 3630            \n",
      "Factor     - setup time             : 0.48              dense det. time        : 0.00            \n",
      "Factor     - ML order time          : 0.26              GP order time          : 0.00            \n",
      "Factor     - nonzeros before factor : 4.07e+06          after factor           : 4.07e+06        \n",
      "Factor     - dense dim.             : 2                 flops                  : 7.76e+09        \n",
      "ITE PFEAS    DFEAS    GFEAS    PRSTATUS   POBJ              DOBJ              MU       TIME  \n",
      "0   1.1e+01  1.0e+00  1.0e+00  0.00e+00   0.000000000e+00   0.000000000e+00   1.0e+00  0.49  \n",
      "1   9.1e+00  8.3e-01  8.7e-01  -1.16e+00  4.001224053e-02   -1.153287128e-01  8.3e-01  0.76  \n",
      "2   5.3e+00  4.8e-01  6.4e-01  -1.01e+00  8.778922171e-01   -1.477119830e-03  4.8e-01  1.02  \n",
      "3   1.2e+00  1.0e-01  3.0e-01  -1.02e+00  7.349248200e+00   8.665789694e-02   1.0e-01  1.30  \n",
      "4   2.3e-01  2.1e-02  1.2e-01  -9.60e-01  3.033021651e+01   -3.996237967e-01  2.1e-02  1.63  \n",
      "5   7.9e-02  7.2e-03  2.7e-02  -3.67e-01  1.299999088e+01   -4.203748452e-01  7.2e-03  1.91  \n",
      "6   5.8e-02  5.3e-03  1.7e-02  8.51e-01   9.556317892e+00   -3.804527480e-01  5.3e-03  2.14  \n",
      "7   3.1e-02  2.9e-03  5.4e-03  1.13e+00   3.204504109e+00   -2.976513942e-01  2.9e-03  2.35  \n",
      "8   2.2e-02  2.0e-03  2.7e-03  1.52e+00   1.602033543e+00   -2.344833838e-01  2.0e-03  2.57  \n",
      "9   9.2e-03  8.4e-04  6.7e-04  1.48e+00   4.599736655e-01   -1.543598062e-01  8.4e-04  2.79  \n",
      "10  1.4e-03  1.2e-04  2.8e-05  1.40e+00   -2.951946417e-02  -7.676790008e-02  1.2e-04  3.04  \n",
      "11  8.5e-05  7.7e-06  4.2e-07  1.19e+00   -3.286839938e-02  -3.562460897e-02  7.7e-06  3.30  \n",
      "12  1.0e-05  9.4e-07  1.8e-08  1.01e+00   -1.576616612e-02  -1.610368992e-02  9.4e-07  3.58  \n",
      "13  3.6e-06  3.3e-07  3.7e-09  9.98e-01   -9.137194277e-03  -9.255154875e-03  3.3e-07  3.80  \n",
      "14  1.1e-06  1.0e-07  6.4e-10  9.89e-01   -5.425472429e-03  -5.462404654e-03  1.0e-07  4.03  \n",
      "15  2.2e-07  2.0e-08  5.4e-11  9.83e-01   -3.137027117e-03  -3.144289283e-03  2.0e-08  4.29  \n",
      "16  8.9e-08  8.1e-09  1.5e-11  9.60e-01   -1.981896578e-03  -1.984973062e-03  8.1e-09  4.53  \n",
      "17  4.0e-08  3.7e-09  4.6e-12  9.20e-01   -1.336097579e-03  -1.337569311e-03  3.7e-09  4.79  \n",
      "18  2.2e-08  2.0e-09  1.9e-12  8.97e-01   -1.022389661e-03  -1.023248022e-03  2.0e-09  5.04  \n",
      "19  3.6e-09  3.3e-10  1.4e-13  9.05e-01   -5.374178998e-04  -5.376046953e-04  3.3e-10  5.33  \n",
      "20  1.5e-09  1.3e-10  4.1e-14  8.38e-01   -3.582956521e-04  -3.583855236e-04  1.3e-10  5.69  \n",
      "21  1.1e-09  1.0e-10  2.7e-14  9.21e-01   -3.096913518e-04  -3.097607936e-04  1.0e-10  5.91  \n",
      "22  4.5e-10  4.1e-11  7.0e-15  9.06e-01   -2.047330135e-04  -2.047618396e-04  4.1e-11  6.25  \n",
      "23  3.6e-10  2.8e-11  4.2e-15  8.35e-01   -1.724184168e-04  -1.724401055e-04  2.9e-11  6.56  \n",
      "24  1.5e-10  1.3e-11  1.6e-15  1.28e+00   -1.153563390e-04  -1.153700718e-04  1.7e-11  6.80  \n",
      "25  1.2e-10  7.2e-12  6.3e-16  1.01e+00   -8.809149951e-05  -8.809899767e-05  9.4e-12  7.03  \n",
      "Optimizer terminated. Time: 7.04    \n",
      "\n",
      "Termination status = OPTIMAL\n",
      "Optimal value = -8.809149950868864e-5\n",
      " 13.337797 seconds (23.18 M allocations: 4.030 GiB, 3.02% gc time)\n"
     ]
    }
   ],
   "source": [
    "using SparseArrays\n",
    "\n",
    "include(\"../src/InterRelax.jl\")\n",
    "using .InterRelax\n",
    "\n",
    "n,m,l,lmon_g,supp_g,coe_g,lmon_h,supp_h,coe_h,lmon_f,supp_f,coe_f,dg,dh=InterRelax.get_info(x,f,g,h,sparse=true);\n",
    "\n",
    "\n",
    "k=0\n",
    "s=76\n",
    "d=Int64(maximum([sum(supp_f[:,i]) for i in 1:lmon_f]))+1\n",
    "\n",
    "@time opt_val1,opt_sol=InterRelax.RelaxSparse(n,m,l,lmon_g,supp_g,coe_g,lmon_h,supp_h,coe_h,lmon_f,supp_f,coe_f,dg,dh,k,s,d,assign=\"min\",alg=\"MD\",minimize=true,solver=\"Mosek\",comp_opt_sol=false);"
   ]
  },
  {
   "cell_type": "code",
   "execution_count": null,
   "metadata": {},
   "outputs": [],
   "source": []
  },
  {
   "cell_type": "code",
   "execution_count": 42,
   "metadata": {
    "scrolled": true
   },
   "outputs": [
    {
     "name": "stdout",
     "output_type": "stream",
     "text": [
      "**Interrupted relaxation based on Putinar-Vasilescu's Positivstellensatz**\n",
      "Relaxation order: k=1\n",
      "Sparsity order: s=22\n",
      "Sparsity order: d=2\n",
      "------------------------------------------------------\n",
      "The clique sizes of varibles:\n",
      "[20, 8]\n",
      "[1, 7]\n",
      "------------------------------------------------------\n",
      "  Number of cliques: p=8\n",
      "  Largest clique size: u=20\n",
      " Maximal matrix size:21\n",
      "Problem\n",
      "  Name                   :                 \n",
      "  Objective sense        : max             \n",
      "  Type                   : CONIC (conic optimization problem)\n",
      "  Constraints            : 3220            \n",
      "  Cones                  : 0               \n",
      "  Scalar variables       : 7127            \n",
      "  Matrix variables       : 111             \n",
      "  Integer variables      : 0               \n",
      "\n",
      "Optimizer started.\n",
      "Presolve started.\n",
      "Linear dependency checker started.\n",
      "Linear dependency checker terminated.\n",
      "Eliminator started.\n",
      "Freed constraints in eliminator : 0\n",
      "Eliminator terminated.\n",
      "Eliminator - tries                  : 1                 time                   : 0.00            \n",
      "Lin. dep.  - tries                  : 1                 time                   : 0.00            \n",
      "Lin. dep.  - number                 : 0               \n",
      "Presolve terminated. Time: 0.01    \n",
      "Problem\n",
      "  Name                   :                 \n",
      "  Objective sense        : max             \n",
      "  Type                   : CONIC (conic optimization problem)\n",
      "  Constraints            : 3220            \n",
      "  Cones                  : 0               \n",
      "  Scalar variables       : 7127            \n",
      "  Matrix variables       : 111             \n",
      "  Integer variables      : 0               \n",
      "\n",
      "Optimizer  - threads                : 4               \n",
      "Optimizer  - solved problem         : the primal      \n",
      "Optimizer  - Constraints            : 2961\n",
      "Optimizer  - Cones                  : 1\n",
      "Optimizer  - Scalar variables       : 6673              conic                  : 499             \n",
      "Optimizer  - Semi-definite variables: 111               scalarized             : 12621           \n",
      "Factor     - setup time             : 0.16              dense det. time        : 0.00            \n",
      "Factor     - ML order time          : 0.04              GP order time          : 0.00            \n",
      "Factor     - nonzeros before factor : 1.67e+06          after factor           : 2.86e+06        \n",
      "Factor     - dense dim.             : 2                 flops                  : 3.55e+09        \n",
      "ITE PFEAS    DFEAS    GFEAS    PRSTATUS   POBJ              DOBJ              MU       TIME  \n",
      "0   2.7e+00  1.0e+00  1.0e+00  0.00e+00   0.000000000e+00   0.000000000e+00   1.0e+00  0.19  \n",
      "1   2.5e+00  9.1e-01  8.6e-01  1.61e+00   -2.132496087e-01  -2.207102965e-01  9.1e-01  0.77  \n",
      "2   1.9e+00  7.0e-01  1.0e+00  -5.74e-01  1.654655993e+00   8.715337802e-01   7.0e-01  1.34  \n",
      "3   1.2e+00  4.5e-01  5.1e-01  -5.38e-01  6.903218842e-01   2.577045934e-01   4.5e-01  1.87  \n",
      "4   2.2e-01  8.2e-02  2.3e-01  -9.98e-01  6.430605022e+00   -3.260168429e-01  8.2e-02  2.46  \n",
      "5   3.9e-02  1.4e-02  9.9e-02  -1.01e+00  4.605452046e+01   2.421593056e-01   1.4e-02  3.02  \n",
      "6   1.3e-02  4.6e-03  5.7e-02  -1.00e+00  1.496201678e+02   3.171325528e-01   4.6e-03  3.61  \n",
      "7   2.9e-03  1.1e-03  2.8e-02  -1.00e+00  6.769194695e+02   4.356344513e-01   1.1e-03  4.08  \n",
      "8   4.9e-04  1.8e-04  1.1e-02  -9.78e-01  3.680180489e+03   1.977993164e-01   1.8e-04  4.65  \n",
      "9   1.5e-04  5.4e-05  5.5e-03  -9.03e-01  1.068547002e+04   2.917383852e-01   5.4e-05  5.16  \n",
      "10  5.1e-06  1.9e-06  3.9e-04  -7.17e-01  4.343533890e+04   6.494292982e-02   1.9e-06  5.72  \n",
      "11  1.8e-06  1.7e-07  6.5e-06  8.68e-01   1.491571238e+03   5.822932642e-03   1.8e-07  6.29  \n",
      "12  7.7e-07  5.6e-08  1.1e-06  8.88e-01   4.197171779e+02   1.951014515e-03   5.7e-08  6.89  \n",
      "13  4.8e-07  2.9e-08  4.3e-07  9.71e-01   2.189109471e+02   1.055096089e-03   3.0e-08  7.51  \n",
      "14  3.7e-07  1.8e-08  1.9e-07  9.91e-01   1.272469872e+02   6.281825462e-04   1.7e-08  8.04  \n",
      "15  1.9e-07  1.1e-08  4.6e-08  9.95e-01   4.832712247e+01   2.433864398e-04   6.6e-09  8.57  \n",
      "16  8.9e-08  1.6e-08  1.5e-08  9.99e-01   2.221511651e+01   1.093659193e-04   3.0e-09  9.09  \n",
      "17  3.7e-08  7.2e-08  3.9e-09  9.99e-01   9.012625266e+00   4.097377724e-05   1.3e-09  9.60  \n",
      "18  1.5e-08  1.2e-07  9.5e-10  1.00e+00   3.469704300e+00   1.446952729e-05   4.9e-10  10.13 \n",
      "19  8.5e-09  6.0e-08  2.8e-10  1.00e+00   1.507965379e+00   5.800033678e-06   2.2e-10  10.64 \n",
      "Optimizer terminated. Time: 13.72   \n",
      "\n",
      "Termination status = SLOW_PROGRESS\n",
      "Optimal value = 1.5079653792345198\n",
      " 18.640030 seconds (16.78 M allocations: 1.551 GiB, 1.54% gc time)\n"
     ]
    },
    {
     "name": "stderr",
     "output_type": "stream",
     "text": [
      "WARNING: replacing module InterRelax.\n"
     ]
    }
   ],
   "source": [
    "using SparseArrays\n",
    "\n",
    "include(\"../src/InterRelax.jl\")\n",
    "using .InterRelax\n",
    "\n",
    "n,m,l,lmon_g,supp_g,coe_g,lmon_h,supp_h,coe_h,lmon_f,supp_f,coe_f,dg,dh=InterRelax.get_info(x,f,g,h,sparse=true);\n",
    "\n",
    "\n",
    "k=0\n",
    "s=22\n",
    "d=Int64(maximum([sum(supp_f[:,i]) for i in 1:lmon_f]))+1\n",
    "\n",
    "@time opt_val1,opt_sol=InterRelax.RelaxSparse(n,m,l,lmon_g,supp_g,coe_g,lmon_h,supp_h,coe_h,lmon_f,supp_f,coe_f,dg,dh,k,s,d,assign=\"min\",alg=\"MD\",minimize=true,solver=\"Mosek\",comp_opt_sol=false);"
   ]
  },
  {
   "cell_type": "code",
   "execution_count": null,
   "metadata": {},
   "outputs": [],
   "source": []
  },
  {
   "cell_type": "code",
   "execution_count": 7,
   "metadata": {
    "scrolled": true
   },
   "outputs": [
    {
     "name": "stdout",
     "output_type": "stream",
     "text": [
      "************************TSSOS************************\n",
      "TSSOS is launching...\n",
      "------------------------------------------------------\n",
      "The clique sizes of varibles:\n",
      "[11]\n",
      "[74]\n",
      "------------------------------------------------------\n",
      "Obtained the variable cliques in 0.001682999 seconds. The maximal size of cliques is 11.\n",
      "Assembling the SDP...\n",
      "There are 954 affine constraints.\n",
      "SDP assembling time: 0.008995551 seconds.\n",
      "Solving the SDP...\n",
      "Problem\n",
      "  Name                   :                 \n",
      "  Objective sense        : max             \n",
      "  Type                   : CONIC (conic optimization problem)\n",
      "  Constraints            : 954             \n",
      "  Cones                  : 0               \n",
      "  Scalar variables       : 189             \n",
      "  Matrix variables       : 74              \n",
      "  Integer variables      : 0               \n",
      "\n",
      "Optimizer started.\n",
      "Presolve started.\n",
      "Linear dependency checker started.\n",
      "Linear dependency checker terminated.\n",
      "Eliminator started.\n",
      "Freed constraints in eliminator : 0\n",
      "Eliminator terminated.\n",
      "Eliminator - tries                  : 1                 time                   : 0.00            \n",
      "Lin. dep.  - tries                  : 1                 time                   : 0.00            \n",
      "Lin. dep.  - number                 : 0               \n",
      "Presolve terminated. Time: 0.00    \n",
      "Problem\n",
      "  Name                   :                 \n",
      "  Objective sense        : max             \n",
      "  Type                   : CONIC (conic optimization problem)\n",
      "  Constraints            : 954             \n",
      "  Cones                  : 0               \n",
      "  Scalar variables       : 189             \n",
      "  Matrix variables       : 74              \n",
      "  Integer variables      : 0               \n",
      "\n",
      "Optimizer  - threads                : 4               \n",
      "Optimizer  - solved problem         : the primal      \n",
      "Optimizer  - Constraints            : 954\n",
      "Optimizer  - Cones                  : 1\n",
      "Optimizer  - Scalar variables       : 190               conic                  : 22              \n",
      "Optimizer  - Semi-definite variables: 74                scalarized             : 5772            \n",
      "Factor     - setup time             : 0.01              dense det. time        : 0.00            \n",
      "Factor     - ML order time          : 0.00              GP order time          : 0.00            \n",
      "Factor     - nonzeros before factor : 8.95e+04          after factor           : 2.45e+05        \n",
      "Factor     - dense dim.             : 2                 flops                  : 8.78e+07        \n",
      "ITE PFEAS    DFEAS    GFEAS    PRSTATUS   POBJ              DOBJ              MU       TIME  \n",
      "0   7.4e+01  1.0e+00  1.0e+00  0.00e+00   0.000000000e+00   0.000000000e+00   1.0e+00  0.03  \n",
      "1   1.1e+01  1.5e-01  3.1e-01  -1.16e+00  1.166271156e+00   -2.583332418e+00  1.5e-01  0.07  \n"
     ]
    },
    {
     "name": "stderr",
     "output_type": "stream",
     "text": [
      "WARNING: replacing module InterRelax.\n"
     ]
    },
    {
     "name": "stdout",
     "output_type": "stream",
     "text": [
      "2   8.1e+00  1.1e-01  2.6e-01  -9.08e-01  2.181818300e+00   -2.840849834e+00  1.1e-01  0.12  \n",
      "3   3.0e+00  4.1e-02  1.4e-01  -8.48e-01  6.720112854e+00   -4.282186117e+00  4.1e-02  0.18  \n",
      "4   1.3e+00  1.7e-02  4.5e-02  -1.92e-01  7.571742538e-01   -5.549865306e+00  1.7e-02  0.23  \n",
      "5   1.7e-01  2.2e-03  1.6e-03  5.04e-01   -6.504511739e+00  -7.000879474e+00  2.2e-03  0.28  \n",
      "6   2.5e-02  3.3e-04  1.0e-04  1.14e+00   -1.058382205e+01  -1.067417901e+01  3.3e-04  0.34  \n",
      "7   6.1e-03  8.2e-05  2.0e-05  5.99e-01   -1.728608865e+01  -1.734570191e+01  8.2e-05  0.40  \n",
      "8   2.2e-03  3.0e-05  7.6e-06  6.47e-02   -2.618219803e+01  -2.624401880e+01  3.0e-05  0.44  \n",
      "9   5.5e-04  7.5e-06  2.3e-06  -2.15e-01  -4.564391763e+01  -4.573504008e+01  7.5e-06  0.47  \n",
      "10  2.1e-04  2.9e-06  1.0e-06  -2.76e-01  -6.641615904e+01  -6.654735983e+01  2.9e-06  0.50  \n",
      "11  8.7e-05  1.2e-06  5.0e-07  2.84e-03   -9.177076427e+01  -9.194787813e+01  1.2e-06  0.53  \n",
      "12  1.9e-05  2.6e-07  1.3e-07  -1.47e-01  -1.422978341e+02  -1.425430219e+02  2.6e-07  0.55  \n",
      "13  5.8e-06  7.8e-08  4.7e-08  -2.14e-01  -2.122840044e+02  -2.126448581e+02  7.8e-08  0.59  \n",
      "14  1.8e-06  2.4e-08  1.9e-08  -3.07e-01  -3.346113086e+02  -3.352324318e+02  2.4e-08  0.60  \n",
      "15  7.1e-07  9.4e-09  8.4e-09  -1.73e-01  -4.527284946e+02  -4.535225148e+02  9.3e-09  0.62  \n",
      "16  1.2e-07  1.6e-09  1.8e-09  -2.58e-01  -7.734235565e+02  -7.747978444e+02  1.6e-09  0.65  \n",
      "17  4.0e-08  4.3e-10  6.7e-10  -4.14e-01  -1.242102440e+03  -1.244540325e+03  4.2e-10  0.67  \n",
      "18  3.6e-08  3.0e-10  4.8e-10  -1.64e-01  -1.380401926e+03  -1.382926266e+03  3.0e-10  0.70  \n",
      "19  3.6e-08  3.0e-10  4.8e-10  -1.66e-01  -1.380401926e+03  -1.382926266e+03  3.0e-10  0.78  \n",
      "20  3.6e-08  3.0e-10  4.8e-10  -1.54e-01  -1.380401926e+03  -1.382926266e+03  3.0e-10  0.82  \n",
      "21  3.5e-08  3.0e-10  4.7e-10  9.89e-01   -1.380880118e+03  -1.383385513e+03  2.9e-10  0.85  \n",
      "22  3.5e-08  3.0e-10  4.7e-10  9.89e-01   -1.381118373e+03  -1.383614365e+03  2.9e-10  0.88  \n",
      "23  3.5e-08  3.0e-10  4.7e-10  9.89e-01   -1.381237291e+03  -1.383728599e+03  2.9e-10  0.92  \n",
      "24  3.5e-08  3.0e-10  4.7e-10  9.89e-01   -1.381266994e+03  -1.383757133e+03  2.9e-10  0.95  \n",
      "25  3.5e-08  3.0e-10  4.7e-10  9.89e-01   -1.381281842e+03  -1.383771397e+03  2.9e-10  1.00  \n",
      "26  3.5e-08  3.0e-10  4.7e-10  9.89e-01   -1.381285554e+03  -1.383774963e+03  2.9e-10  1.05  \n",
      "27  3.5e-08  3.0e-10  4.7e-10  9.89e-01   -1.381285554e+03  -1.383774963e+03  2.9e-10  1.09  \n",
      "Optimizer terminated. Time: 1.14    \n",
      "\n",
      "SDP solving time: 1.176195707 seconds.\n",
      "termination status: SLOW_PROGRESS\n",
      "solution status: UNKNOWN_RESULT_STATUS\n",
      "optimum = -1381.285553886076\n",
      "  1.205943 seconds (449.37 k allocations: 46.127 MiB, 1.15% gc time)\n"
     ]
    }
   ],
   "source": [
    "using SparseArrays, TSSOS\n",
    "\n",
    "include(\"../src/InterRelax.jl\")\n",
    "using .InterRelax\n",
    "\n",
    "n,m,l,lmon_g,supp_g,coe_g,lmon_h,supp_h,coe_h,lmon_f,supp_f,coe_f,dg,dh=InterRelax.get_info(x,f,g,h,sparse=true);\n",
    "\n",
    "k=1\n",
    "\n",
    "vars,pop=InterRelax.get_POP(n,m,l,lmon_g,supp_g,coe_g,lmon_h,supp_h,coe_h,lmon_f,supp_f,coe_f)\n",
    "@time opt,sol,data=TSSOS.cs_tssos_first(pop,vars,k,numeq=l,CS=\"MD\",TS=false,solver=\"Mosek\");"
   ]
  },
  {
   "cell_type": "code",
   "execution_count": 8,
   "metadata": {},
   "outputs": [
    {
     "data": {
      "text/plain": [
       "9"
      ]
     },
     "execution_count": 8,
     "metadata": {},
     "output_type": "execute_result"
    }
   ],
   "source": [
    "binomial(8+1,1)"
   ]
  },
  {
   "cell_type": "code",
   "execution_count": 45,
   "metadata": {},
   "outputs": [
    {
     "name": "stdout",
     "output_type": "stream",
     "text": [
      "************************TSSOS************************\n",
      "TSSOS is launching...\n",
      "------------------------------------------------------\n",
      "The clique sizes of varibles:\n",
      "[20, 8]\n",
      "[1, 7]\n",
      "------------------------------------------------------\n",
      "Obtained the variable cliques in 0.000350333 seconds. The maximal size of cliques is 20.\n",
      "Assembling the SDP...\n",
      "There are 11781 affine constraints.\n",
      "SDP assembling time: 0.080258632 seconds.\n",
      "Solving the SDP...\n",
      "Problem\n",
      "  Name                   :                 \n",
      "  Objective sense        : max             \n",
      "  Type                   : CONIC (conic optimization problem)\n",
      "  Constraints            : 11781           \n",
      "  Cones                  : 0               \n",
      "  Scalar variables       : 1933            \n",
      "  Matrix variables       : 62              \n",
      "  Integer variables      : 0               \n",
      "\n",
      "Optimizer started.\n",
      "Presolve started.\n",
      "Linear dependency checker started.\n",
      "Linear dependency checker terminated.\n",
      "Eliminator started.\n",
      "Freed constraints in eliminator : 0\n",
      "Eliminator terminated.\n",
      "Eliminator - tries                  : 1                 time                   : 0.00            \n",
      "Lin. dep.  - tries                  : 1                 time                   : 0.00            \n",
      "Lin. dep.  - number                 : 0               \n",
      "Presolve terminated. Time: 0.00    \n",
      "Problem\n",
      "  Name                   :                 \n",
      "  Objective sense        : max             \n",
      "  Type                   : CONIC (conic optimization problem)\n",
      "  Constraints            : 11781           \n",
      "  Cones                  : 0               \n",
      "  Scalar variables       : 1933            \n",
      "  Matrix variables       : 62              \n",
      "  Integer variables      : 0               \n",
      "\n",
      "Optimizer  - threads                : 4               \n",
      "Optimizer  - solved problem         : the primal      \n",
      "Optimizer  - Constraints            : 11781\n",
      "Optimizer  - Cones                  : 1\n",
      "Optimizer  - Scalar variables       : 1934              conic                  : 1934            \n",
      "Optimizer  - Semi-definite variables: 62                scalarized             : 43911           \n",
      "Factor     - setup time             : 4.63              dense det. time        : 0.00            \n",
      "Factor     - ML order time          : 0.97              GP order time          : 0.00            \n",
      "Factor     - nonzeros before factor : 5.69e+07          after factor           : 5.69e+07        \n",
      "Factor     - dense dim.             : 2                 flops                  : 4.02e+11        \n",
      "ITE PFEAS    DFEAS    GFEAS    PRSTATUS   POBJ              DOBJ              MU       TIME  \n",
      "0   8.0e+00  1.0e+00  1.0e+00  0.00e+00   0.000000000e+00   0.000000000e+00   1.0e+00  4.68  \n",
      "1   6.7e+00  8.4e-01  8.8e-01  -1.62e-03  1.333922494e-01   2.458537758e-02   8.4e-01  14.77 \n",
      "2   3.6e+00  4.5e-01  7.2e-01  -7.60e-01  1.538389509e+00   1.705924309e-01   4.5e-01  24.51 \n",
      "3   4.0e-01  4.9e-02  2.0e-01  -8.03e-01  1.508818906e+01   2.181282201e-01   4.9e-02  34.59 \n",
      "4   6.9e-02  8.6e-03  8.5e-02  -1.01e+00  9.763663901e+01   1.131253055e-01   8.6e-03  45.07 \n",
      "5   1.5e-02  1.8e-03  3.8e-02  -9.95e-01  4.285779642e+02   1.676115782e-01   1.8e-03  55.56 \n",
      "6   1.6e-03  2.0e-04  1.2e-02  -9.86e-01  3.732826707e+03   1.994688460e-01   2.0e-04  66.17 \n",
      "7   2.1e-04  2.7e-05  4.4e-03  -9.97e-01  2.705055437e+04   2.165929951e-01   2.7e-05  76.60 \n",
      "8   1.5e-04  1.9e-05  3.7e-03  -1.00e+00  3.936474375e+04   2.208796888e-01   1.9e-05  86.82 \n",
      "9   2.2e-05  2.8e-06  1.4e-03  -1.00e+00  2.572722640e+05   2.549586553e-01   2.8e-06  96.54 \n",
      "10  6.7e-06  8.4e-07  7.6e-04  -1.00e+00  8.363755820e+05   2.381754281e-01   8.4e-07  106.78\n",
      "11  1.0e-06  1.2e-07  3.0e-04  -9.99e-01  5.628380843e+06   2.181475339e-01   1.2e-07  116.81\n",
      "12  7.6e-07  9.0e-08  2.5e-04  -9.93e-01  7.775390343e+06   2.169319322e-01   9.0e-08  126.50\n",
      "13  2.6e-07  3.0e-08  1.5e-04  -9.93e-01  2.321295158e+07   1.845390149e-01   3.0e-08  137.40\n",
      "14  6.7e-08  7.9e-09  7.4e-05  -9.90e-01  8.858758604e+07   1.776237565e-01   7.8e-09  175.59\n",
      "15  3.2e-08  3.8e-09  5.1e-05  -9.88e-01  1.837942677e+08   2.240113457e-01   3.7e-09  184.99\n",
      "16  6.7e-09  1.1e-09  2.3e-05  -9.89e-01  8.772763234e+08   4.844338217e-01   7.7e-10  194.79\n",
      "17  2.0e-09  1.7e-09  1.3e-05  -9.88e-01  2.872980264e+09   8.404103892e-01   2.3e-10  212.53\n",
      "18  6.9e-10  1.5e-08  7.2e-06  -9.87e-01  8.395056716e+09   1.299770845e+00   7.8e-11  223.08\n",
      "19  2.9e-10  7.3e-08  4.7e-06  -9.78e-01  1.913309647e+10   1.762432593e+00   3.3e-11  233.95\n",
      "20  2.9e-10  7.3e-08  4.7e-06  -9.60e-01  1.913309647e+10   1.762432593e+00   3.3e-11  244.30\n",
      "21  2.9e-10  7.3e-08  4.7e-06  -9.60e-01  1.913309647e+10   1.762432593e+00   3.3e-11  255.01\n",
      "Optimizer terminated. Time: 266.02  \n",
      "\n",
      "SDP solving time: 266.258711258 seconds.\n",
      "termination status: SLOW_PROGRESS\n",
      "solution status: INFEASIBILITY_CERTIFICATE\n",
      "optimum = 0.7910015241073102\n",
      "266.396499 seconds (3.67 M allocations: 342.657 MiB, 0.03% gc time)\n"
     ]
    },
    {
     "name": "stderr",
     "output_type": "stream",
     "text": [
      "WARNING: replacing module InterRelax.\n"
     ]
    }
   ],
   "source": [
    "using SparseArrays, TSSOS\n",
    "\n",
    "include(\"../src/InterRelax.jl\")\n",
    "using .InterRelax\n",
    "\n",
    "n,m,l,lmon_g,supp_g,coe_g,lmon_h,supp_h,coe_h,lmon_f,supp_f,coe_f,dg,dh=InterRelax.get_info(x,f,g,h,sparse=true);\n",
    "\n",
    "k=2\n",
    "\n",
    "vars,pop=InterRelax.get_POP(n,m,l,lmon_g,supp_g,coe_g,lmon_h,supp_h,coe_h,lmon_f,supp_f,coe_f)\n",
    "@time opt,sol,data=TSSOS.cs_tssos_first(pop,vars,k,numeq=l,CS=\"MD\",TS=false,solver=\"Mosek\");"
   ]
  },
  {
   "cell_type": "code",
   "execution_count": 46,
   "metadata": {},
   "outputs": [
    {
     "data": {
      "text/plain": [
       "231"
      ]
     },
     "execution_count": 46,
     "metadata": {},
     "output_type": "execute_result"
    }
   ],
   "source": [
    "binomial(20+2,2)"
   ]
  },
  {
   "cell_type": "code",
   "execution_count": null,
   "metadata": {},
   "outputs": [],
   "source": []
  }
 ],
 "metadata": {
  "kernelspec": {
   "display_name": "Julia 1.3.0",
   "language": "julia",
   "name": "julia-1.3"
  },
  "language_info": {
   "file_extension": ".jl",
   "mimetype": "application/julia",
   "name": "julia",
   "version": "1.3.0"
  }
 },
 "nbformat": 4,
 "nbformat_minor": 2
}
