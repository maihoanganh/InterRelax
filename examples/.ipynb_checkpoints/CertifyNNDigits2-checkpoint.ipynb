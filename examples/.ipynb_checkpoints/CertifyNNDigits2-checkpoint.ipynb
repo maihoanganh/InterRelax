{
 "cells": [
  {
   "cell_type": "code",
   "execution_count": 47,
   "metadata": {},
   "outputs": [
    {
     "data": {
      "text/plain": [
       "50"
      ]
     },
     "execution_count": 47,
     "metadata": {},
     "output_type": "execute_result"
    }
   ],
   "source": [
    "using MAT\n",
    "using DynamicPolynomials, LinearAlgebra, SparseArrays\n",
    "\n",
    "data=\"/home/hoanganh/Desktop/math-topics/InterruptedRelax/codes/dataPOP2\" # path of data\n",
    "D = matread(data*\"/WeightsDigits4.mat\");\n",
    "W1 = D[\"W1\"]; W2 = D[\"W2\"]; c = D[\"c\"]; x_bar=D[\"x_bar\"]; y_bar=D[\"y_bar\"]\n",
    "eps = 0.1;\n",
    "\n",
    "m1=size(W1,2)\n",
    "m2=size(W2,2)\n",
    "m3=size(W2,1)"
   ]
  },
  {
   "cell_type": "code",
   "execution_count": 48,
   "metadata": {},
   "outputs": [
    {
     "data": {
      "text/plain": [
       "5"
      ]
     },
     "execution_count": 48,
     "metadata": {},
     "output_type": "execute_result"
    }
   ],
   "source": [
    "y_bar+1"
   ]
  },
  {
   "cell_type": "code",
   "execution_count": 49,
   "metadata": {},
   "outputs": [
    {
     "data": {
      "text/plain": [
       "(10, 50)"
      ]
     },
     "execution_count": 49,
     "metadata": {},
     "output_type": "execute_result"
    }
   ],
   "source": [
    "size(c)"
   ]
  },
  {
   "cell_type": "code",
   "execution_count": 50,
   "metadata": {},
   "outputs": [
    {
     "name": "stdout",
     "output_type": "stream",
     "text": [
      "***Problem setting***\n",
      "Number of variables: n=214\n",
      "Number of inequality constraints: m=214\n",
      "Number of equality constraints: l=150\n"
     ]
    }
   ],
   "source": [
    "@polyvar x1[1:m1] x2[1:m2] x3[1:m3]# variables\n",
    "\n",
    "\n",
    "f=(c[y_bar+1,:]-c[10,:])'*x3\n",
    "\n",
    "g=Vector{Polynomial{true,Float64}}([])\n",
    "h=Vector{Polynomial{true,Float64}}([])\n",
    "\n",
    "pol=1.0*x1[1]\n",
    "\n",
    "for j in 1:m2\n",
    "    pol=x2[j]-sum(W1[j,r]*x1[r] for r=1:m1)\n",
    "    append!(g,[pol])\n",
    "    append!(h,[x2[j]*pol])\n",
    "end\n",
    "for j in 1:m3\n",
    "    pol=x3[j]-sum(W2[j,r]*x2[r] for r=1:m2)\n",
    "    append!(g,[pol])\n",
    "    append!(h,[x3[j]*pol])\n",
    "end\n",
    "\n",
    "for t in 1:m1\n",
    "    append!(g,[-x1[t]+x_bar[1,t]+eps])\n",
    "end\n",
    "\n",
    "m=length(g)\n",
    "l=length(h)\n",
    "\n",
    "f=f([x1;x2;x3]=>[x1+x_bar[1,:]-eps*ones(Float64,m1);x2;x3])\n",
    "\n",
    "for j in 1:m\n",
    "    g[j]=g[j]([x1;x2;x3]=>[x1+x_bar[1,:]-eps*ones(Float64,m1);x2;x3])\n",
    "end\n",
    "\n",
    "for j in 1:l\n",
    "    h[j]=h[j]([x1;x2;x3]=>[x1+x_bar[1,:]-eps*ones(Float64,m1);x2;x3])\n",
    "end\n",
    "\n",
    "\n",
    "x=[x1;x2;x3]; n=length(x)\n",
    "println(\"***Problem setting***\")\n",
    "println(\"Number of variables: n=\",n)\n",
    "println(\"Number of inequality constraints: m=\",m)\n",
    "println(\"Number of equality constraints: l=\",l)"
   ]
  },
  {
   "cell_type": "code",
   "execution_count": null,
   "metadata": {},
   "outputs": [],
   "source": []
  },
  {
   "cell_type": "code",
   "execution_count": 51,
   "metadata": {},
   "outputs": [
    {
     "name": "stdout",
     "output_type": "stream",
     "text": [
      "**Interrupted relaxation based on Putinar-Vasilescu's Positivstellensatz**\n",
      "Relaxation order: k=0\n",
      "Sparsity order: s=50\n",
      "Sparsity order: d=2\n",
      "------------------------------------------------------\n",
      "The clique sizes of varibles:\n",
      "[164, 101]\n",
      "[1, 50]\n",
      "------------------------------------------------------\n",
      "  Number of cliques: p=51\n",
      "  Largest clique size: u=164\n"
     ]
    },
    {
     "name": "stderr",
     "output_type": "stream",
     "text": [
      "WARNING: replacing module InterRelax.\n"
     ]
    },
    {
     "ename": "InterruptException",
     "evalue": "InterruptException:",
     "output_type": "error",
     "traceback": [
      "InterruptException:",
      "",
      "Stacktrace:",
      " [1] Array at ./boot.jl:406 [inlined]",
      " [2] Array at ./boot.jl:414 [inlined]",
      " [3] zeros at ./array.jl:461 [inlined]",
      " [4] zeros at ./array.jl:457 [inlined]",
      " [5] Array{T,2} where T(::SparseMatrixCSC{UInt64,Int64}) at /buildworker/worker/package_linux64/build/usr/share/julia/stdlib/v1.3/SparseArrays/src/sparsematrix.jl:548",
      " [6] Array at /buildworker/worker/package_linux64/build/usr/share/julia/stdlib/v1.3/SparseArrays/src/sparsematrix.jl:558 [inlined]",
      " [7] +(::SparseMatrixCSC{UInt64,Int64}, ::Array{UInt64,1}) at /buildworker/worker/package_linux64/build/usr/share/julia/stdlib/v1.3/SparseArrays/src/sparsematrix.jl:1646",
      " [8] + at ./operators.jl:529 [inlined]",
      " [9] #RelaxSparse_without_multiplier1#49(::Array{Float64,1}, ::String, ::String, ::Bool, ::String, ::Int64, ::Bool, ::typeof(Main.InterRelax.RelaxSparse_without_multiplier1), ::Int64, ::Int64, ::Int64, ::Array{UInt64,1}, ::Array{SparseMatrixCSC{UInt64,Ti} where Ti<:Integer,1}, ::Array{Array{Float64,1},1}, ::Array{UInt64,1}, ::Array{SparseMatrixCSC{UInt64,Ti} where Ti<:Integer,1}, ::Array{Array{Float64,1},1}, ::Int64, ::SparseMatrixCSC{UInt64,Int64}, ::Array{Float64,1}, ::Array{Int64,1}, ::Array{Int64,1}, ::Int64, ::Int64) at /home/hoanganh/Desktop/math-topics/InterruptedRelax/codes/InterruptedRelax/src/SolveRelaxSparse_without_multiplier.jl:237",
      " [10] #RelaxSparse_without_multiplier1 at ./none:0 [inlined]",
      " [11] #RelaxSparse#21 at /home/hoanganh/Desktop/math-topics/InterruptedRelax/codes/InterruptedRelax/src/SolveRelaxSparse.jl:11 [inlined]",
      " [12] (::Main.InterRelax.var\"#kw##RelaxSparse\")(::NamedTuple{(:assign, :alg, :minimize, :solver, :comp_opt_sol),Tuple{String,String,Bool,String,Bool}}, ::typeof(Main.InterRelax.RelaxSparse), ::Int64, ::Int64, ::Int64, ::Array{UInt64,1}, ::Array{SparseMatrixCSC{UInt64,Ti} where Ti<:Integer,1}, ::Array{Array{Float64,1},1}, ::Array{UInt64,1}, ::Array{SparseMatrixCSC{UInt64,Ti} where Ti<:Integer,1}, ::Array{Array{Float64,1},1}, ::Int64, ::SparseMatrixCSC{UInt64,Int64}, ::Array{Float64,1}, ::Array{Int64,1}, ::Array{Int64,1}, ::Int64, ::Int64, ::Int64) at ./none:0",
      " [13] top-level scope at util.jl:155",
      " [14] top-level scope at In[51]:12"
     ]
    }
   ],
   "source": [
    "using SparseArrays\n",
    "\n",
    "include(\"../src/InterRelax.jl\")\n",
    "using .InterRelax\n",
    "\n",
    "n,m,l,lmon_g,supp_g,coe_g,lmon_h,supp_h,coe_h,lmon_f,supp_f,coe_f,dg,dh=InterRelax.get_info(x,f,g,h,sparse=true);\n",
    "\n",
    "\n",
    "k=0\n",
    "s=166\n",
    "d=Int64(maximum([sum(supp_f[:,i]) for i in 1:lmon_f]))+1\n",
    "\n",
    "@time opt_val1,opt_sol=InterRelax.RelaxSparse(n,m,l,lmon_g,supp_g,coe_g,lmon_h,supp_h,coe_h,lmon_f,supp_f,coe_f,dg,dh,k,s,d,assign=\"min\",alg=\"MD\",minimize=true,solver=\"Mosek\",comp_opt_sol=false);"
   ]
  },
  {
   "cell_type": "code",
   "execution_count": null,
   "metadata": {},
   "outputs": [],
   "source": []
  },
  {
   "cell_type": "code",
   "execution_count": 46,
   "metadata": {
    "scrolled": true
   },
   "outputs": [
    {
     "name": "stdout",
     "output_type": "stream",
     "text": [
      "**Interrupted relaxation based on Handelman's Positivstellensatz**\n",
      "Relaxation order: k=1\n",
      "Sparsity order: s=76\n",
      "------------------------------------------------------\n",
      "The clique sizes of varibles:\n",
      "[51]\n",
      "[114]\n",
      "------------------------------------------------------\n",
      "  Number of cliques: p=114\n",
      "  Largest clique size: u=51\n"
     ]
    },
    {
     "name": "stderr",
     "output_type": "stream",
     "text": [
      "WARNING: replacing module InterRelax.\n"
     ]
    },
    {
     "ename": "BoundsError",
     "evalue": "BoundsError: attempt to access 74-element Array{Float64,1} at index [75]",
     "output_type": "error",
     "traceback": [
      "BoundsError: attempt to access 74-element Array{Float64,1} at index [75]",
      "",
      "Stacktrace:",
      " [1] getindex at ./array.jl:744 [inlined]",
      " [2] #RelaxSparse_without_multiplier1#49(::Array{Float64,1}, ::String, ::String, ::Bool, ::String, ::Int64, ::Bool, ::typeof(Main.InterRelax.RelaxSparse_without_multiplier1), ::Int64, ::Int64, ::Int64, ::Array{UInt64,1}, ::Array{SparseMatrixCSC{UInt64,Ti} where Ti<:Integer,1}, ::Array{Array{Float64,1},1}, ::Array{UInt64,1}, ::Array{SparseMatrixCSC{UInt64,Ti} where Ti<:Integer,1}, ::Array{Array{Float64,1},1}, ::Int64, ::SparseMatrixCSC{UInt64,Int64}, ::Array{Float64,1}, ::Array{Int64,1}, ::Array{Int64,1}, ::Int64, ::Int64) at /home/hoanganh/Desktop/math-topics/InterruptedRelax/codes/InterruptedRelax/src/SolveRelaxSparse_without_multiplier.jl:122",
      " [3] #RelaxSparse_without_multiplier1 at ./none:0 [inlined]",
      " [4] #RelaxSparse_without_multiplier#48 at /home/hoanganh/Desktop/math-topics/InterruptedRelax/codes/InterruptedRelax/src/SolveRelaxSparse_without_multiplier.jl:7 [inlined]",
      " [5] (::Main.InterRelax.var\"#kw##RelaxSparse_without_multiplier\")(::NamedTuple{(:L, :assign, :alg, :minimize, :solver, :comp_opt_sol),Tuple{Array{Float64,1},String,String,Bool,String,Bool}}, ::typeof(Main.InterRelax.RelaxSparse_without_multiplier), ::Int64, ::Int64, ::Int64, ::Array{UInt64,1}, ::Array{SparseMatrixCSC{UInt64,Ti} where Ti<:Integer,1}, ::Array{Array{Float64,1},1}, ::Array{UInt64,1}, ::Array{SparseMatrixCSC{UInt64,Ti} where Ti<:Integer,1}, ::Array{Array{Float64,1},1}, ::Int64, ::SparseMatrixCSC{UInt64,Int64}, ::Array{Float64,1}, ::Array{Int64,1}, ::Array{Int64,1}, ::Int64, ::Int64) at ./none:0",
      " [6] top-level scope at util.jl:155",
      " [7] top-level scope at In[46]:13"
     ]
    }
   ],
   "source": [
    "using SparseArrays\n",
    "\n",
    "include(\"../src/InterRelax.jl\")\n",
    "using .InterRelax\n",
    "\n",
    "n,m,l,lmon_g,supp_g,coe_g,lmon_h,supp_h,coe_h,lmon_f,supp_f,coe_f,dg,dh=InterRelax.get_info(x,f,g,h,sparse=true);\n",
    "#data=\"/home/hoanganh/Desktop/math-topics/InterruptedRelax/codes/dataPOP2\" # path of data\n",
    "#include(data*\"/sparsePOPcliq$(u)nineq$(m)neq$(l).jl\")\n",
    "\n",
    "k=1\n",
    "s=76\n",
    "L=100*ones(Float64,74)\n",
    "\n",
    "@time opt_val1,opt_sol=InterRelax.RelaxSparse_without_multiplier(n,m,l,lmon_g,supp_g,coe_g,lmon_h,supp_h,coe_h,\n",
    "    lmon_f,supp_f,coe_f,dg,dh,s,k,L=L,\n",
    "    assign=\"min\",alg=\"MD\",minimize=true,solver=\"Mosek\",comp_opt_sol=false);"
   ]
  },
  {
   "cell_type": "code",
   "execution_count": null,
   "metadata": {},
   "outputs": [],
   "source": []
  },
  {
   "cell_type": "code",
   "execution_count": null,
   "metadata": {},
   "outputs": [],
   "source": []
  },
  {
   "cell_type": "code",
   "execution_count": null,
   "metadata": {
    "scrolled": true
   },
   "outputs": [
    {
     "name": "stderr",
     "output_type": "stream",
     "text": [
      "WARNING: replacing module InterRelax.\n"
     ]
    }
   ],
   "source": []
  },
  {
   "cell_type": "code",
   "execution_count": null,
   "metadata": {},
   "outputs": [],
   "source": []
  },
  {
   "cell_type": "code",
   "execution_count": 6,
   "metadata": {
    "scrolled": true
   },
   "outputs": [
    {
     "name": "stderr",
     "output_type": "stream",
     "text": [
      "WARNING: replacing module InterRelax.\n"
     ]
    },
    {
     "ename": "UndefVarError",
     "evalue": "UndefVarError: x not defined",
     "output_type": "error",
     "traceback": [
      "UndefVarError: x not defined",
      "",
      "Stacktrace:",
      " [1] top-level scope at In[6]:5"
     ]
    }
   ],
   "source": [
    "using SparseArrays\n",
    "\n",
    "include(\"../src/InterRelax.jl\")\n",
    "using .InterRelax\n",
    "\n",
    "n,m,l,lmon_g,supp_g,coe_g,lmon_h,supp_h,coe_h,lmon_f,supp_f,coe_f,dg,dh=InterRelax.get_info(x,f,g,h,sparse=true);\n",
    "\n",
    "\n",
    "k=1\n",
    "s=76\n",
    "d=Int64(maximum([sum(supp_f[:,i]) for i in 1:lmon_f]))+1\n",
    "\n",
    "@time opt_val1,opt_sol=InterRelax.RelaxSparse(n,m,l,lmon_g,supp_g,coe_g,lmon_h,supp_h,coe_h,lmon_f,supp_f,coe_f,dg,dh,k,s,d,assign=\"min\",alg=\"MD\",minimize=true,solver=\"Mosek\",comp_opt_sol=false);"
   ]
  },
  {
   "cell_type": "code",
   "execution_count": null,
   "metadata": {},
   "outputs": [],
   "source": []
  },
  {
   "cell_type": "code",
   "execution_count": 43,
   "metadata": {
    "scrolled": true
   },
   "outputs": [
    {
     "name": "stdout",
     "output_type": "stream",
     "text": [
      "28  2.0e-10  1.1e-12  3.0e-12  -2.51e-01  -5.797443027e+03  -5.804388499e+03  1.1e-12  112.06\n",
      "Optimizer terminated. Time: 112.77  \n",
      "\n",
      "SDP solving time: 113.15328645 seconds.\n"
     ]
    },
    {
     "name": "stderr",
     "output_type": "stream",
     "text": [
      "WARNING: replacing module InterRelax.\n"
     ]
    },
    {
     "ename": "InterruptException",
     "evalue": "InterruptException:",
     "output_type": "error",
     "traceback": [
      "InterruptException:",
      "",
      "Stacktrace:",
      " [1] get(::MathOptInterface.Utilities.CachingOptimizer{MathOptInterface.AbstractOptimizer,MathOptInterface.Utilities.UniversalFallback{MathOptInterface.Utilities.GenericModel{Float64,MathOptInterface.Utilities.ModelFunctionConstraints{Float64}}}}, ::MathOptInterface.ObjectiveValue) at /home/hoanganh/.julia/packages/MathOptInterface/YDdD3/src/Utilities/cachingoptimizer.jl:716",
      " [2] _moi_get_result(::MathOptInterface.Utilities.CachingOptimizer{MathOptInterface.AbstractOptimizer,MathOptInterface.Utilities.UniversalFallback{MathOptInterface.Utilities.GenericModel{Float64,MathOptInterface.Utilities.ModelFunctionConstraints{Float64}}}}, ::MathOptInterface.ObjectiveValue) at /home/hoanganh/.julia/packages/JuMP/klrjG/src/JuMP.jl:1199",
      " [3] get(::JuMP.Model, ::MathOptInterface.ObjectiveValue) at /home/hoanganh/.julia/packages/JuMP/klrjG/src/JuMP.jl:1212",
      " [4] #objective_value#39(::Int64, ::typeof(JuMP.objective_value), ::JuMP.Model) at /home/hoanganh/.julia/packages/JuMP/klrjG/src/objective.jl:42",
      " [5] objective_value at /home/hoanganh/.julia/packages/JuMP/klrjG/src/objective.jl:42 [inlined]",
      " [6] #blockcpop_mix#88(::Int64, ::Int64, ::Bool, ::Bool, ::String, ::Bool, ::Bool, ::Bool, ::Bool, ::Bool, ::Bool, ::typeof(TSSOS.blockcpop_mix), ::Int64, ::Int64, ::Array{Array{Array{UInt16,1},1},1}, ::Array{Array{Float64,1},1}, ::Array{Array{Array{Array{UInt16,1},1},1},1}, ::Array{Array{UInt16,1},1}, ::Int64, ::Array{Int64,1}, ::Array{Array{UInt32,1},1}, ::Array{UInt32,1}, ::Array{Array{Array{Array{UInt16,1},1},1},1}, ::Array{Array{UInt16,1},1}, ::Array{Array{Array{UInt16,1},1},1}) at /home/hoanganh/.julia/packages/TSSOS/yRxCz/src/nblockmix.jl:398",
      " [7] (::TSSOS.var\"#kw##blockcpop_mix\")(::NamedTuple{(:numeq, :nb, :QUIET, :TS, :solver, :tune, :solve, :solution, :MomentOne, :Mommat),Tuple{Int64,Int64,Bool,Bool,String,Bool,Bool,Bool,Bool,Bool}}, ::typeof(TSSOS.blockcpop_mix), ::Int64, ::Int64, ::Array{Array{Array{UInt16,1},1},1}, ::Array{Array{Float64,1},1}, ::Array{Array{Array{Array{UInt16,1},1},1},1}, ::Array{Array{UInt16,1},1}, ::Int64, ::Array{Int64,1}, ::Array{Array{UInt32,1},1}, ::Array{UInt32,1}, ::Array{Array{Array{Array{UInt16,1},1},1},1}, ::Array{Array{UInt16,1},1}, ::Array{Array{Array{UInt16,1},1},1}) at ./none:0",
      " [8] #cs_tssos_first#84(::Int64, ::Int64, ::Int64, ::String, ::Bool, ::String, ::Bool, ::Bool, ::Int64, ::Bool, ::String, ::Bool, ::Bool, ::Bool, ::Bool, ::Bool, ::Float64, ::typeof(cs_tssos_first), ::Array{Array{Array{UInt16,1},1},1}, ::Array{Array{Float64,1},1}, ::Int64, ::Int64) at /home/hoanganh/.julia/packages/TSSOS/yRxCz/src/nblockmix.jl:118",
      " [9] #cs_tssos_first at ./none:0 [inlined]",
      " [10] #cs_tssos_first#81 at /home/hoanganh/.julia/packages/TSSOS/yRxCz/src/nblockmix.jl:47 [inlined]",
      " [11] (::TSSOS.var\"#kw##cs_tssos_first\")(::NamedTuple{(:numeq, :CS, :TS, :solver),Tuple{Int64,String,Bool,String}}, ::typeof(cs_tssos_first), ::Array{Polynomial{true,Float64},1}, ::Array{PolyVar{true},1}, ::Int64) at ./none:0",
      " [12] top-level scope at util.jl:155",
      " [13] top-level scope at In[43]:11"
     ]
    }
   ],
   "source": [
    "using SparseArrays, TSSOS\n",
    "\n",
    "include(\"../src/InterRelax.jl\")\n",
    "using .InterRelax\n",
    "\n",
    "n,m,l,lmon_g,supp_g,coe_g,lmon_h,supp_h,coe_h,lmon_f,supp_f,coe_f,dg,dh=InterRelax.get_info(x,f,g,h,sparse=true);\n",
    "\n",
    "k=1\n",
    "\n",
    "vars,pop=InterRelax.get_POP(n,m,l,lmon_g,supp_g,coe_g,lmon_h,supp_h,coe_h,lmon_f,supp_f,coe_f)\n",
    "@time opt,sol,data=TSSOS.cs_tssos_first(pop,vars,k,numeq=l,CS=\"MD\",TS=false,solver=\"Mosek\");"
   ]
  },
  {
   "cell_type": "code",
   "execution_count": 8,
   "metadata": {},
   "outputs": [
    {
     "data": {
      "text/plain": [
       "12"
      ]
     },
     "execution_count": 8,
     "metadata": {},
     "output_type": "execute_result"
    }
   ],
   "source": [
    "binomial(11+1,1)"
   ]
  },
  {
   "cell_type": "code",
   "execution_count": 9,
   "metadata": {},
   "outputs": [
    {
     "name": "stderr",
     "output_type": "stream",
     "text": [
      "WARNING: replacing module InterRelax.\n"
     ]
    },
    {
     "ename": "UndefVarError",
     "evalue": "UndefVarError: x not defined",
     "output_type": "error",
     "traceback": [
      "UndefVarError: x not defined",
      "",
      "Stacktrace:",
      " [1] top-level scope at In[9]:5"
     ]
    }
   ],
   "source": [
    "using SparseArrays, TSSOS\n",
    "\n",
    "include(\"../src/InterRelax.jl\")\n",
    "using .InterRelax\n",
    "\n",
    "n,m,l,lmon_g,supp_g,coe_g,lmon_h,supp_h,coe_h,lmon_f,supp_f,coe_f,dg,dh=InterRelax.get_info(x,f,g,h,sparse=true);\n",
    "\n",
    "k=2\n",
    "\n",
    "vars,pop=InterRelax.get_POP(n,m,l,lmon_g,supp_g,coe_g,lmon_h,supp_h,coe_h,lmon_f,supp_f,coe_f)\n",
    "@time opt,sol,data=TSSOS.cs_tssos_first(pop,vars,k,numeq=l,CS=\"MD\",TS=false,solver=\"Mosek\");"
   ]
  },
  {
   "cell_type": "code",
   "execution_count": 22,
   "metadata": {},
   "outputs": [
    {
     "data": {
      "text/plain": [
       "2850"
      ]
     },
     "execution_count": 22,
     "metadata": {},
     "output_type": "execute_result"
    }
   ],
   "source": [
    "binomial(74+2,2)"
   ]
  },
  {
   "cell_type": "code",
   "execution_count": null,
   "metadata": {},
   "outputs": [],
   "source": []
  }
 ],
 "metadata": {
  "kernelspec": {
   "display_name": "Julia 1.3.0",
   "language": "julia",
   "name": "julia-1.3"
  },
  "language_info": {
   "file_extension": ".jl",
   "mimetype": "application/julia",
   "name": "julia",
   "version": "1.3.0"
  }
 },
 "nbformat": 4,
 "nbformat_minor": 2
}
