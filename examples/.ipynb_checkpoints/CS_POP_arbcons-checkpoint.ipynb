{
 "cells": [
  {
   "cell_type": "code",
   "execution_count": 1,
   "metadata": {},
   "outputs": [
    {
     "name": "stdout",
     "output_type": "stream",
     "text": [
      "***Problem setting***\n",
      "Number of variables: n=10\n",
      "Number of inequality constraints: m=2\n",
      "Number of equality constraints: l=2\n"
     ]
    }
   ],
   "source": [
    "using DynamicPolynomials, LinearAlgebra, SparseArrays\n",
    "\n",
    "println(\"***Problem setting***\")\n",
    "\n",
    "n=10\n",
    "\n",
    "println(\"Number of variables: n=\",n)\n",
    "\n",
    "@polyvar x[1:n]# variables\n",
    "\n",
    "#function to get a random quadratic polynomial of variables x(T)\n",
    "function generate_random_poly(T::UnitRange{Int64})\n",
    "    v=reverse(monomials(x[T],0:2))\n",
    "    c=2*rand(Float64,length(v)).-1\n",
    "    return c'*v\n",
    "end\n",
    "\n",
    "# ball constraints on subsets of variables\n",
    "u=4# clique size\n",
    "p=floor(Int64,n/u) #number of cliques\n",
    "\n",
    "# indices of variables on each clique\n",
    "I=Vector{UnitRange{Int64}}(undef,p)\n",
    "I[1]=1:u \n",
    "I[2:p-1]=[u*(j-1):u*j for j in 2:p-1]\n",
    "I[p]=u*(p-1):n\n",
    "\n",
    "# random quadratic objective function f\n",
    "vecf=[generate_random_poly(I[j]) for j in 1:p] #vector of separable polynomials on each clique\n",
    "f=sum(vecf)\n",
    "\n",
    "# ball constraints on each clique\n",
    "m=ceil(Int64, n/5)# number of the equality constraints\n",
    "\n",
    "r=floor(Int64,m/p)\n",
    "J=[(j-1)*r+1:j*r for j in 1:p-1]# assign equality constraints\n",
    "append!(J,[(p-1)*r+1:m])\n",
    "\n",
    "g=Vector{Polynomial{true,Float64}}(undef,m)\n",
    "\n",
    "\n",
    "# get a random point satisfies the inequality constraints\n",
    "randx=rand(Float64,n)\n",
    "\n",
    "for j in 1:p\n",
    "    randx[I[j]]=randx[I[j]]./sum(randx[I[j]])\n",
    "    randx[I[j]]=rand(Float64,1)[1]*randx[I[j]]\n",
    "end\n",
    "\n",
    "for j in 1:p\n",
    "    for i in J[j]\n",
    "        g[i]=generate_random_poly(I[j])\n",
    "        g[i]+=0.125-g[i](x => randx) #make the random point satisfy the equality constraint h[i](randx) = 0\n",
    "    end\n",
    "    g[J[j][1]]=1-sum(x[I[j]])\n",
    "end\n",
    "\n",
    "m=length(g)\n",
    "println(\"Number of inequality constraints: m=\",m)\n",
    "\n",
    "\n",
    "l=ceil(Int64, n/5)# number of the equality constraints\n",
    "\n",
    "r=floor(Int64,l/p)\n",
    "W=[(j-1)*r+1:j*r for j in 1:p-1]# assign equality constraints\n",
    "append!(W,[(p-1)*r+1:l])\n",
    "\n",
    "h=Vector{Polynomial{true,Float64}}(undef,l)\n",
    "\n",
    "\n",
    "for j in 1:p\n",
    "    for i in W[j]\n",
    "        h[i]=generate_random_poly(I[j])\n",
    "        h[i]-=h[i](x => randx) #make the random point satisfy the equality constraint h[i](randx) = 0\n",
    "    end\n",
    "end\n",
    "\n",
    "l=length(h)\n",
    "println(\"Number of equality constraints: l=\",l)\n"
   ]
  },
  {
   "cell_type": "code",
   "execution_count": null,
   "metadata": {},
   "outputs": [],
   "source": []
  },
  {
   "cell_type": "code",
   "execution_count": 2,
   "metadata": {},
   "outputs": [
    {
     "ename": "UndefVarError",
     "evalue": "UndefVarError: d not defined",
     "output_type": "error",
     "traceback": [
      "UndefVarError: d not defined",
      "",
      "Stacktrace:",
      " [1] (::Main.InterRelax.var\"#kw##RelaxSparse_without_multiplier\")(::NamedTuple{(:assign, :alg, :minimize, :solver, :comp_opt_sol),Tuple{String,String,Bool,String,Bool}}, ::typeof(Main.InterRelax.RelaxSparse_without_multiplier), ::Int64, ::Int64, ::Int64, ::Array{UInt64,1}, ::Array{SparseMatrixCSC{UInt64,Ti} where Ti<:Integer,1}, ::Array{Array{Float64,1},1}, ::Array{UInt64,1}, ::Array{SparseMatrixCSC{UInt64,Ti} where Ti<:Integer,1}, ::Array{Array{Float64,1},1}, ::Int64, ::SparseMatrixCSC{UInt64,Int64}, ::Array{Float64,1}, ::Array{Int64,1}, ::Array{Int64,1}, ::Int64, ::Int64) at ./none:0",
      " [2] top-level scope at util.jl:155",
      " [3] top-level scope at In[2]:11"
     ]
    }
   ],
   "source": [
    "using SparseArrays\n",
    "\n",
    "include(\"../src/InterRelax.jl\")\n",
    "using .InterRelax\n",
    "\n",
    "n,m,l,lmon_g,supp_g,coe_g,lmon_h,supp_h,coe_h,lmon_f,supp_f,coe_f,dg,dh=InterRelax.get_info(x,f,g,h,sparse=true);\n",
    "#include(\"./sparsePOPcliq$(u)nineq$(m)neq$(l).jl\")\n",
    "\n",
    "k=2\n",
    "s=5\n",
    "\n",
    "@time opt_val1,opt_sol=InterRelax.RelaxSparse_without_multiplier(n,m,l,lmon_g,supp_g,coe_g,lmon_h,supp_h,coe_h,lmon_f,supp_f,coe_f,dg,dh,s,k,assign=\"min\",alg=\"MD\",minimize=true,solver=\"Mosek\",comp_opt_sol=false);"
   ]
  },
  {
   "cell_type": "code",
   "execution_count": null,
   "metadata": {},
   "outputs": [],
   "source": []
  },
  {
   "cell_type": "code",
   "execution_count": 3,
   "metadata": {
    "scrolled": true
   },
   "outputs": [
    {
     "name": "stdout",
     "output_type": "stream",
     "text": [
      "**Interrupted relaxation based on Putinar-Vasilescu's Positivstellensatz**\n",
      "Relaxation order: k=0\n",
      "Sparsity order: s=2\n",
      "Sparsity order: d=2\n",
      "------------------------------------------------------"
     ]
    },
    {
     "name": "stderr",
     "output_type": "stream",
     "text": [
      "WARNING: replacing module InterRelax.\n"
     ]
    },
    {
     "name": "stdout",
     "output_type": "stream",
     "text": [
      "\n",
      "The clique sizes of varibles:\n",
      "[7, 4]\n",
      "[1, 1]\n",
      "------------------------------------------------------\n",
      "  Number of cliques: p=2\n",
      "  Largest clique size: u=7\n",
      " Maximal matrix size:2\n",
      "Problem\n",
      "  Name                   :                 \n",
      "  Objective sense        : max             \n",
      "  Type                   : CONIC (conic optimization problem)\n",
      "  Constraints            : 48              \n",
      "  Cones                  : 0               \n",
      "  Scalar variables       : 54              \n",
      "  Matrix variables       : 11              \n",
      "  Integer variables      : 0               \n",
      "\n",
      "Optimizer started.\n",
      "Presolve started.\n",
      "Linear dependency checker started.\n",
      "Linear dependency checker terminated.\n",
      "Eliminator started.\n",
      "Freed constraints in eliminator : 1\n",
      "Eliminator terminated.\n",
      "Eliminator - tries                  : 1                 time                   : 0.00            \n",
      "Lin. dep.  - tries                  : 1                 time                   : 0.00            \n",
      "Lin. dep.  - number                 : 0               \n",
      "Presolve terminated. Time: 0.00    \n",
      "Problem\n",
      "  Name                   :                 \n",
      "  Objective sense        : max             \n",
      "  Type                   : CONIC (conic optimization problem)\n",
      "  Constraints            : 48              \n",
      "  Cones                  : 0               \n",
      "  Scalar variables       : 54              \n",
      "  Matrix variables       : 11              \n",
      "  Integer variables      : 0               \n",
      "\n",
      "Optimizer  - threads                : 4               \n",
      "Optimizer  - solved problem         : the primal      \n",
      "Optimizer  - Constraints            : 47\n",
      "Optimizer  - Cones                  : 12\n",
      "Optimizer  - Scalar variables       : 86                conic                  : 36              \n",
      "Optimizer  - Semi-definite variables: 0                 scalarized             : 0               \n",
      "Factor     - setup time             : 0.00              dense det. time        : 0.00            \n",
      "Factor     - ML order time          : 0.00              GP order time          : 0.00            \n",
      "Factor     - nonzeros before factor : 765               after factor           : 765             \n",
      "Factor     - dense dim.             : 0                 flops                  : 2.15e+04        \n",
      "ITE PFEAS    DFEAS    GFEAS    PRSTATUS   POBJ              DOBJ              MU       TIME  \n",
      "0   2.9e+00  1.0e+00  1.0e+00  0.00e+00   0.000000000e+00   0.000000000e+00   1.0e+00  0.00  \n",
      "1   1.8e+00  6.3e-01  6.2e-01  -5.98e-01  -1.374664423e+00  -1.539254342e+00  6.3e-01  0.00  \n",
      "2   7.4e-01  2.6e-01  4.8e-02  1.03e+00   -2.055100106e+00  -1.855106030e+00  2.6e-01  0.00  \n",
      "3   2.4e-01  8.2e-02  7.5e-03  1.66e+00   -1.842249867e+00  -1.797742513e+00  8.2e-02  0.00  \n",
      "4   9.6e-02  3.3e-02  1.9e-03  1.44e+00   -1.765575837e+00  -1.750229643e+00  3.3e-02  0.01  \n",
      "5   5.6e-02  1.9e-02  9.8e-04  1.07e+00   -1.802586346e+00  -1.794215589e+00  1.9e-02  0.01  \n",
      "6   8.7e-03  3.0e-03  6.2e-05  1.06e+00   -1.811790993e+00  -1.810585861e+00  3.0e-03  0.01  \n",
      "7   2.9e-04  9.9e-05  3.8e-07  1.01e+00   -1.812732160e+00  -1.812692912e+00  9.9e-05  0.01  \n",
      "8   8.8e-07  3.0e-07  6.5e-11  1.00e+00   -1.812812239e+00  -1.812812118e+00  3.0e-07  0.01  \n",
      "9   2.2e-08  7.6e-09  2.6e-13  1.00e+00   -1.812812391e+00  -1.812812388e+00  7.6e-09  0.01  \n",
      "Optimizer terminated. Time: 0.01    \n",
      "\n",
      "Termination status = OPTIMAL\n",
      "Optimal value = -1.8128123905286666\n",
      " 34.907664 seconds (46.90 M allocations: 2.297 GiB, 3.32% gc time)\n"
     ]
    }
   ],
   "source": [
    "using SparseArrays\n",
    "\n",
    "include(\"../src/InterRelax.jl\")\n",
    "using .InterRelax\n",
    "\n",
    "n,m,l,lmon_g,supp_g,coe_g,lmon_h,supp_h,coe_h,lmon_f,supp_f,coe_f,dg,dh=InterRelax.get_info(x,f,g,h,sparse=true);\n",
    "#include(\"./sparsePOPcliq$(u)nineq$(m)neq$(l).jl\");\n",
    "\n",
    "k=0\n",
    "s=2\n",
    "d=Int64(maximum([sum(supp_f[:,i]) for i in 1:lmon_f]))\n",
    "\n",
    "@time opt_val1,opt_sol=InterRelax.RelaxSparse(n,m,l,lmon_g,supp_g,coe_g,lmon_h,supp_h,coe_h,lmon_f,supp_f,coe_f,dg,dh,k,s,d,assign=\"min\",alg=\"MD\",minimize=true,solver=\"Mosek\",comp_opt_sol=false);"
   ]
  },
  {
   "cell_type": "code",
   "execution_count": null,
   "metadata": {},
   "outputs": [],
   "source": []
  },
  {
   "cell_type": "code",
   "execution_count": 4,
   "metadata": {
    "scrolled": true
   },
   "outputs": [
    {
     "name": "stdout",
     "output_type": "stream",
     "text": [
      "**Interrupted relaxation based on Putinar-Vasilescu's Positivstellensatz**\n",
      "Relaxation order: k=0\n",
      "Sparsity order: s=2\n",
      "Sparsity order: d=2\n",
      "------------------------------------------------------\n",
      "The clique sizes of varibles:\n",
      "[7, 4]\n",
      "[1, 1]\n",
      "------------------------------------------------------\n",
      "  Number of cliques: p="
     ]
    },
    {
     "name": "stderr",
     "output_type": "stream",
     "text": [
      "WARNING: replacing module InterRelax.\n"
     ]
    },
    {
     "name": "stdout",
     "output_type": "stream",
     "text": [
      "2\n",
      "  Largest clique size: u=7\n",
      " Maximal matrix size:2\n",
      "Problem\n",
      "  Name                   :                 \n",
      "  Objective sense        : max             \n",
      "  Type                   : CONIC (conic optimization problem)\n",
      "  Constraints            : 48              \n",
      "  Cones                  : 0               \n",
      "  Scalar variables       : 54              \n",
      "  Matrix variables       : 11              \n",
      "  Integer variables      : 0               \n",
      "\n",
      "Optimizer started.\n",
      "Presolve started.\n",
      "Linear dependency checker started.\n",
      "Linear dependency checker terminated.\n",
      "Eliminator started.\n",
      "Freed constraints in eliminator : 1\n",
      "Eliminator terminated.\n",
      "Eliminator - tries                  : 1                 time                   : 0.00            \n",
      "Lin. dep.  - tries                  : 1                 time                   : 0.00            \n",
      "Lin. dep.  - number                 : 0               \n",
      "Presolve terminated. Time: 0.00    \n",
      "Problem\n",
      "  Name                   :                 \n",
      "  Objective sense        : max             \n",
      "  Type                   : CONIC (conic optimization problem)\n",
      "  Constraints            : 48              \n",
      "  Cones                  : 0               \n",
      "  Scalar variables       : 54              \n",
      "  Matrix variables       : 11              \n",
      "  Integer variables      : 0               \n",
      "\n",
      "Optimizer  - threads                : 4               \n",
      "Optimizer  - solved problem         : the primal      \n",
      "Optimizer  - Constraints            : 47\n",
      "Optimizer  - Cones                  : 12\n",
      "Optimizer  - Scalar variables       : 86                conic                  : 36              \n",
      "Optimizer  - Semi-definite variables: 0                 scalarized             : 0               \n",
      "Factor     - setup time             : 0.00              dense det. time        : 0.00            \n",
      "Factor     - ML order time          : 0.00              GP order time          : 0.00            \n",
      "Factor     - nonzeros before factor : 765               after factor           : 765             \n",
      "Factor     - dense dim.             : 0                 flops                  : 2.15e+04        \n",
      "ITE PFEAS    DFEAS    GFEAS    PRSTATUS   POBJ              DOBJ              MU       TIME  \n",
      "0   2.9e+00  1.0e+00  1.0e+00  0.00e+00   0.000000000e+00   0.000000000e+00   1.0e+00  0.00  \n",
      "1   1.8e+00  6.3e-01  6.2e-01  -5.98e-01  -1.374664423e+00  -1.539254342e+00  6.3e-01  0.00  \n",
      "2   7.4e-01  2.6e-01  4.8e-02  1.03e+00   -2.055100106e+00  -1.855106030e+00  2.6e-01  0.00  \n",
      "3   2.4e-01  8.2e-02  7.5e-03  1.66e+00   -1.842249867e+00  -1.797742513e+00  8.2e-02  0.00  \n",
      "4   9.6e-02  3.3e-02  1.9e-03  1.44e+00   -1.765575837e+00  -1.750229643e+00  3.3e-02  0.00  \n",
      "5   5.6e-02  1.9e-02  9.8e-04  1.07e+00   -1.802586346e+00  -1.794215589e+00  1.9e-02  0.00  \n",
      "6   8.7e-03  3.0e-03  6.2e-05  1.06e+00   -1.811790993e+00  -1.810585861e+00  3.0e-03  0.00  \n",
      "7   2.9e-04  9.9e-05  3.8e-07  1.01e+00   -1.812732160e+00  -1.812692912e+00  9.9e-05  0.00  \n",
      "8   8.8e-07  3.0e-07  6.5e-11  1.00e+00   -1.812812239e+00  -1.812812118e+00  3.0e-07  0.00  \n",
      "9   2.2e-08  7.6e-09  2.6e-13  1.00e+00   -1.812812391e+00  -1.812812388e+00  7.6e-09  0.00  \n",
      "Optimizer terminated. Time: 0.00    \n",
      "\n",
      "Termination status = OPTIMAL\n",
      "Optimal value = -1.8128123905286666\n",
      "  5.545651 seconds (5.06 M allocations: 239.406 MiB, 2.18% gc time)\n"
     ]
    }
   ],
   "source": [
    "using SparseArrays\n",
    "\n",
    "include(\"../src/InterRelax.jl\")\n",
    "using .InterRelax\n",
    "\n",
    "n,m,l,lmon_g,supp_g,coe_g,lmon_h,supp_h,coe_h,lmon_f,supp_f,coe_f,dg,dh=InterRelax.get_info(x,f,g,h,sparse=true);\n",
    "#include(\"./sparsePOPcliq$(u)nineq$(m)neq$(l).jl\");\n",
    "\n",
    "k=0\n",
    "s=2\n",
    "d=Int64(maximum([sum(supp_f[:,i]) for i in 1:lmon_f]))\n",
    "\n",
    "@time opt_val1,opt_sol=InterRelax.RelaxSparse(n,m,l,lmon_g,supp_g,coe_g,lmon_h,supp_h,coe_h,lmon_f,supp_f,coe_f,dg,dh,k,s,d,assign=\"min\",alg=\"MD\",minimize=true,solver=\"Mosek\",comp_opt_sol=false);"
   ]
  },
  {
   "cell_type": "code",
   "execution_count": null,
   "metadata": {},
   "outputs": [],
   "source": []
  },
  {
   "cell_type": "code",
   "execution_count": 5,
   "metadata": {
    "scrolled": true
   },
   "outputs": [
    {
     "name": "stderr",
     "output_type": "stream",
     "text": [
      "WARNING: replacing module InterRelax.\n"
     ]
    },
    {
     "ename": "UndefVarError",
     "evalue": "UndefVarError: TSSOS_CS not defined",
     "output_type": "error",
     "traceback": [
      "UndefVarError: TSSOS_CS not defined",
      "",
      "Stacktrace:",
      " [1] top-level scope at In[5]:12"
     ]
    }
   ],
   "source": [
    "using SparseArrays\n",
    "\n",
    "include(\"../src/InterRelax.jl\")\n",
    "using .InterRelax\n",
    "\n",
    "n,m,l,lmon_g,supp_g,coe_g,lmon_h,supp_h,coe_h,lmon_f,supp_f,coe_f,dg,dh=InterRelax.get_info(x,f,g,h,sparse=true);\n",
    "#include(\"./sparsePOPcliq$(u)nineq$(m)neq$(l).jl\");\n",
    "\n",
    "k=2\n",
    "\n",
    "opt,sol,data=InterRelax.TSSOS_CS(n,m,l,lmon_g,supp_g,coe_g,lmon_h,supp_h,coe_h,lmon_f,supp_f,coe_f,k);"
   ]
  },
  {
   "cell_type": "code",
   "execution_count": null,
   "metadata": {},
   "outputs": [],
   "source": []
  },
  {
   "cell_type": "code",
   "execution_count": 29,
   "metadata": {},
   "outputs": [
    {
     "name": "stdout",
     "output_type": "stream",
     "text": [
      "Maximal matrix size: 21\n",
      "************************TSSOS************************\n",
      "TSSOS is launching...\n",
      "------------------------------------------------------\n",
      "The clique sizes of varibles:\n",
      "[7, 4]\n",
      "[1, 1]\n",
      "------------------------------------------------------\n",
      "Obtained the variable cliques in 0.000161438 seconds. The maximal size of cliques is 7.\n",
      "Assembling the SDP...\n",
      "There are 395 affine constraints.\n",
      "SDP assembling time: 0.002187623 seconds.\n",
      "Solving the SDP...\n",
      "Problem\n",
      "  Name                   :                 \n",
      "  Objective sense        : max             \n",
      "  Type                   : CONIC (conic optimization problem)\n",
      "  Constraints            : 395             \n",
      "  Cones                  : 0               \n",
      "  Scalar variables       : 52              \n",
      "  Matrix variables       : 14              \n",
      "  Integer variables      : 0               \n",
      "\n",
      "Optimizer started.\n",
      "Presolve started.\n",
      "Linear dependency checker started.\n",
      "Linear dependency checker terminated.\n",
      "Eliminator started.\n",
      "Freed constraints in eliminator : 0\n",
      "Eliminator terminated.\n",
      "Eliminator - tries                  : 1                 time                   : 0.00            \n",
      "Lin. dep.  - tries                  : 1                 time                   : 0.00            \n",
      "Lin. dep.  - number                 : 0               \n",
      "Presolve terminated. Time: 0.00    \n",
      "Problem\n",
      "  Name                   :                 \n",
      "  Objective sense        : max             \n",
      "  Type                   : CONIC (conic optimization problem)\n",
      "  Constraints            : 395             \n",
      "  Cones                  : 0               \n",
      "  Scalar variables       : 52              \n",
      "  Matrix variables       : 14              \n",
      "  Integer variables      : 0               \n",
      "\n",
      "Optimizer  - threads                : 4               \n",
      "Optimizer  - solved problem         : the primal      \n",
      "Optimizer  - Constraints            : 395\n",
      "Optimizer  - Cones                  : 1\n",
      "Optimizer  - Scalar variables       : 53                conic                  : 53              \n",
      "Optimizer  - Semi-definite variables: 14                scalarized             : 1134            \n",
      "Factor     - setup time             : 0.00              dense det. time        : 0.00            \n",
      "Factor     - ML order time          : 0.00              GP order time          : 0.00            \n",
      "Factor     - nonzeros before factor : 5.75e+04          after factor           : 5.75e+04        \n",
      "Factor     - dense dim.             : 2                 flops                  : 1.36e+07        \n",
      "ITE PFEAS    DFEAS    GFEAS    PRSTATUS   POBJ              DOBJ              MU       TIME  \n",
      "0   4.3e+00  1.0e+00  1.0e+00  0.00e+00   0.000000000e+00   0.000000000e+00   1.0e+00  0.01  \n",
      "1   2.4e+00  5.5e-01  3.6e-01  3.50e-01   -4.416063073e-01  -3.271902241e-01  5.5e-01  0.01  \n",
      "2   4.6e-01  1.1e-01  2.4e-02  7.95e-01   -6.001963110e-01  -5.492318796e-01  1.1e-01  0.02  \n",
      "3   7.1e-02  1.7e-02  1.4e-03  1.12e+00   -4.706756081e-01  -4.631891025e-01  1.7e-02  0.02  \n",
      "4   6.9e-03  1.6e-03  5.3e-05  9.19e-01   -4.695565618e-01  -4.691252179e-01  1.6e-03  0.02  \n",
      "5   1.6e-04  3.7e-05  1.8e-07  9.72e-01   -4.724294373e-01  -4.724180046e-01  3.7e-05  0.03  \n",
      "6   1.6e-06  3.6e-07  1.7e-10  1.00e+00   -4.724543135e-01  -4.724541920e-01  3.6e-07  0.03  \n",
      "7   1.6e-08  3.7e-09  1.8e-13  1.00e+00   -4.724537113e-01  -4.724537100e-01  3.7e-09  0.04  \n",
      "Optimizer terminated. Time: 0.04    \n",
      "\n",
      "SDP solving time: 0.040031988 seconds.\n",
      "optimum = -0.4724537113474217\n",
      "  0.045101 seconds (68.59 k allocations: 6.964 MiB)\n"
     ]
    }
   ],
   "source": [
    "using TSSOS\n",
    "\n",
    "k=2\n",
    "\n",
    "println(\"Maximal matrix size: \",binomial(u+1+k,k))\n",
    "\n",
    "@time opt,sol,data=TSSOS.cs_tssos_first(pop,vars,k,numeq=l,CS=\"MD\",TS=false,solver=\"Mosek\");"
   ]
  },
  {
   "cell_type": "code",
   "execution_count": null,
   "metadata": {},
   "outputs": [],
   "source": []
  },
  {
   "cell_type": "code",
   "execution_count": 23,
   "metadata": {},
   "outputs": [
    {
     "name": "stderr",
     "output_type": "stream",
     "text": [
      "WARNING: replacing module InterruptedRelax.\n"
     ]
    }
   ],
   "source": [
    "using SparseArrays\n",
    "\n",
    "include(\"../src/InterRelax.jl\")\n",
    "using .InterRelax\n",
    "\n",
    "n,m,l,lmon_g,supp_g,coe_g,lmon_h,supp_h,coe_h,lmon_f,supp_f,coe_f,dg,dh=InterRelax.get_info(x,f,g,h,sparse=true);\n",
    "\n",
    "InterRelax.save_info_sparsePOP(randx,u,n,m,l,lmon_g,supp_g,coe_g,lmon_h,supp_h,coe_h,lmon_f,supp_f,coe_f,dg,dh)"
   ]
  },
  {
   "cell_type": "code",
   "execution_count": null,
   "metadata": {},
   "outputs": [],
   "source": []
  }
 ],
 "metadata": {
  "kernelspec": {
   "display_name": "Julia 1.3.0",
   "language": "julia",
   "name": "julia-1.3"
  },
  "language_info": {
   "file_extension": ".jl",
   "mimetype": "application/julia",
   "name": "julia",
   "version": "1.3.0"
  }
 },
 "nbformat": 4,
 "nbformat_minor": 2
}
