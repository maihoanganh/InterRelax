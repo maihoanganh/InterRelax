{
 "cells": [
  {
   "cell_type": "code",
   "execution_count": 21,
   "metadata": {},
   "outputs": [
    {
     "name": "stdout",
     "output_type": "stream",
     "text": [
      "***Problem setting***\n",
      "Number of variable: n=1000\n",
      "====================\n",
      "Number of inequality constraints: m=200\n",
      "====================\n",
      "Number of equality constraints: l=200\n"
     ]
    }
   ],
   "source": [
    "using DynamicPolynomials, LinearAlgebra, SparseArrays\n",
    "\n",
    "println(\"***Problem setting***\")\n",
    "\n",
    "n=1000\n",
    "\n",
    "println(\"Number of variable: n=\",n)\n",
    "println(\"====================\")\n",
    "\n",
    "@polyvar x[1:n]# variables\n",
    "\n",
    "#function to get a random quadratic polynomial of variables x(T)\n",
    "function generate_random_poly(T::UnitRange{Int64})\n",
    "    v=reverse(monomials(x[T],0:2))\n",
    "    c=2*rand(Float64,length(v)).-1\n",
    "    return c'*v\n",
    "end\n",
    "\n",
    "# ball constraints on subsets of variables\n",
    "u=10# clique size\n",
    "p=floor(Int64,n/u) #number of cliques\n",
    "\n",
    "# indices of variables on each clique\n",
    "I=Vector{UnitRange{Int64}}(undef,p)\n",
    "I[1]=1:u \n",
    "I[2:p-1]=[u*(j-1):u*j for j in 2:p-1]\n",
    "I[p]=u*(p-1):n\n",
    "\n",
    "# random quadratic objective function f\n",
    "vecf=[generate_random_poly(I[j]) for j in 1:p] #vector of separable polynomials on each clique\n",
    "f=sum(vecf)\n",
    "\n",
    "# ball constraints on each clique\n",
    "m=ceil(Int64, n/5)# number of the equality constraints\n",
    "\n",
    "r=floor(Int64,m/p)\n",
    "J=[(j-1)*r+1:j*r for j in 1:p-1]# assign equality constraints\n",
    "append!(J,[(p-1)*r+1:m])\n",
    "\n",
    "g=Vector{Polynomial{true,Float64}}(undef,m)\n",
    "\n",
    "\n",
    "# get a random point satisfies the inequality constraints\n",
    "randx=rand(Float64,n)\n",
    "\n",
    "for j in 1:p\n",
    "    randx[I[j]]=randx[I[j]]./sum(randx[I[j]])\n",
    "    randx[I[j]]=rand(Float64,1)[1]*randx[I[j]]\n",
    "end\n",
    "\n",
    "for j in 1:p\n",
    "    for i in J[j]\n",
    "        g[i]=generate_random_poly(I[j])\n",
    "        g[i]+=0.125-g[i](x => randx) #make the random point satisfy the equality constraint h[i](randx) = 0\n",
    "    end\n",
    "    g[J[j][1]]=1-sum(x[I[j]])\n",
    "end\n",
    "\n",
    "m=length(g)\n",
    "println(\"Number of inequality constraints: m=\",m)\n",
    "println(\"====================\")\n",
    "\n",
    "\n",
    "l=ceil(Int64, n/5)# number of the equality constraints\n",
    "\n",
    "r=floor(Int64,l/p)\n",
    "W=[(j-1)*r+1:j*r for j in 1:p-1]# assign equality constraints\n",
    "append!(W,[(p-1)*r+1:l])\n",
    "\n",
    "h=Vector{Polynomial{true,Float64}}(undef,l)\n",
    "\n",
    "\n",
    "for j in 1:p\n",
    "    for i in W[j]\n",
    "        h[i]=generate_random_poly(I[j])\n",
    "        h[i]-=h[i](x => randx) #make the random point satisfy the equality constraint h[i](randx) = 0\n",
    "    end\n",
    "end\n",
    "\n",
    "l=length(h)\n",
    "println(\"Number of equality constraints: l=\",l)\n"
   ]
  },
  {
   "cell_type": "code",
   "execution_count": null,
   "metadata": {},
   "outputs": [],
   "source": []
  },
  {
   "cell_type": "code",
   "execution_count": 26,
   "metadata": {
    "scrolled": true
   },
   "outputs": [
    {
     "name": "stdout",
     "output_type": "stream",
     "text": [
      "Degree: d=2\n",
      "Relaxation order: k=0\n",
      "Block size: s=1\n",
      "------------------------------------------------------\n",
      "The clique sizes of varibles:\n",
      "[11, 10]\n",
      "[99, 1]\n",
      "------------------------------------------------------\n",
      "  Number of cliques: p=100\n",
      "  Largest clique size: u=11\n",
      " Maximal matrix size:1\n",
      "Problem\n",
      "  Name                   :                 \n",
      "  Objective sense        : max             \n",
      "  Type                   : LO (linear optimization problem)\n",
      "  Constraints            : 7491            \n",
      "  Cones                  : 0               \n",
      "  Scalar variables       : 9288            \n",
      "  Matrix variables       : 0               \n",
      "  Integer variables      : 0               \n",
      "\n",
      "Optimizer started.\n",
      "Presolve started.\n",
      "Linear dependency checker started.\n",
      "Linear dependency checker terminated.\n",
      "Eliminator started.\n",
      "Freed constraints in eliminator : 0\n",
      "Eliminator terminated.\n",
      "Eliminator - tries                  : 1                 time                   : 0.00            \n",
      "Lin. dep.  - tries                  : 1                 time                   : 0.00            \n",
      "Lin. dep.  - number                 : 0               \n",
      "Presolve terminated. Time: 0.01    \n",
      "Problem\n",
      "  Name                   :                 \n",
      "  Objective sense        : max             \n",
      "  Type                   : LO (linear optimization problem)\n",
      "  Constraints            : 7491            \n",
      "  Cones                  : 0               \n",
      "  Scalar variables       : 9288            \n",
      "  Matrix variables       : 0               \n",
      "  Integer variables      : 0               \n",
      "\n",
      "Optimizer  - threads                : 4               \n",
      "Optimizer  - solved problem         : the dual        \n",
      "Optimizer  - Constraints            : 1499\n",
      "Optimizer  - Cones                  : 0\n",
      "Optimizer  - Scalar variables       : 8789              conic                  : 0               \n",
      "Optimizer  - Semi-definite variables: 0                 scalarized             : 0               \n",
      "Factor     - setup time             : 0.01              dense det. time        : 0.00            \n",
      "Factor     - ML order time          : 0.00              GP order time          : 0.00            \n",
      "Factor     - nonzeros before factor : 1.45e+04          after factor           : 1.45e+04        \n",
      "Factor     - dense dim.             : 0                 flops                  : 3.81e+05        \n",
      "ITE PFEAS    DFEAS    GFEAS    PRSTATUS   POBJ              DOBJ              MU       TIME  \n",
      "0   6.8e+00  3.2e+01  1.2e+02  0.00e+00   1.866656839e-01   -4.927467051e+01  5.7e+00  0.02  \n",
      "1   5.6e-01  2.6e+00  9.5e+00  -8.55e-01  -5.006457092e+02  -5.183876569e+02  4.7e-01  0.03  \n",
      "2   2.1e-01  9.9e-01  3.6e+00  4.06e+00   -1.607428999e+02  -1.645812239e+02  1.8e-01  0.03  \n",
      "3   6.1e-02  2.9e-01  1.0e+00  1.72e+00   -1.105003573e+02  -1.113829254e+02  5.1e-02  0.03  \n",
      "4   2.4e-02  1.1e-01  4.0e-01  1.15e+00   -1.013162561e+02  -1.016339443e+02  2.0e-02  0.04  \n",
      "5   6.7e-03  3.2e-02  1.2e-01  1.04e+00   -9.782555041e+01  -9.790958725e+01  5.7e-03  0.04  \n",
      "6   2.7e-03  1.2e-02  4.6e-02  1.01e+00   -9.692105419e+01  -9.695308047e+01  2.2e-03  0.05  \n",
      "7   2.6e-04  1.2e-03  4.5e-03  1.00e+00   -9.643242518e+01  -9.643521262e+01  2.2e-04  0.05  \n",
      "8   1.6e-05  7.6e-05  2.8e-04  9.99e-01   -9.638775621e+01  -9.638790728e+01  1.4e-05  0.06  \n",
      "9   6.5e-07  3.0e-06  1.1e-05  1.00e+00   -9.638443235e+01  -9.638443831e+01  5.5e-07  0.06  \n",
      "10  1.2e-09  5.8e-09  2.1e-08  1.00e+00   -9.638424904e+01  -9.638424905e+01  1.0e-09  0.06  \n",
      "Basis identification started.\n",
      "Primal basis identification phase started.\n",
      "Primal basis identification phase terminated. Time: 0.00\n",
      "Dual basis identification phase started.\n",
      "Dual basis identification phase terminated. Time: 0.00\n",
      "Basis identification terminated. Time: 0.01\n",
      "Optimizer terminated. Time: 0.08    \n",
      "\n",
      "Termination status = OPTIMAL\n",
      "Optimal value = -96.38424873420952\n",
      " 13.905235 seconds (9.41 M allocations: 3.164 GiB, 1.42% gc time)\n"
     ]
    },
    {
     "name": "stderr",
     "output_type": "stream",
     "text": [
      "WARNING: replacing module InterruptedRelax.\n"
     ]
    }
   ],
   "source": [
    "using SparseArrays\n",
    "\n",
    "include(\"../src/InterruptedRelax.jl\")\n",
    "using .InterruptedRelax\n",
    "\n",
    "#n,m,l,lmon_g,supp_g,coe_g,lmon_h,supp_h,coe_h,lmon_f,supp_f,coe_f,dg,dh=InterruptedRelax.get_info(x,f,g,h,sparse=true);\n",
    "include(\"./sparsePOPcliq$(u)nineq$(m)neq$(l).jl\");\n",
    "\n",
    "d=Int64(maximum([sum(supp_f[:,i]) for i in 1:lmon_f]))\n",
    "\n",
    "println(\"Degree: d=\",d)\n",
    "\n",
    "\n",
    "k=0\n",
    "\n",
    "println(\"Relaxation order: k=\",k)\n",
    "\n",
    "\n",
    "s=1\n",
    "\n",
    "\n",
    "println(\"Block size: s=\",s)\n",
    "\n",
    "@time opt_val1,opt_sol=InterruptedRelax.RelaxSparse(n,m,l,lmon_g,supp_g,coe_g,lmon_h,supp_h,coe_h,lmon_f,supp_f,coe_f,dg,dh,k,s,d,assign=\"min\",alg=\"MD\",minimize=true,solver=\"Mosek\",comp_opt_sol=false);"
   ]
  },
  {
   "cell_type": "code",
   "execution_count": null,
   "metadata": {},
   "outputs": [],
   "source": []
  },
  {
   "cell_type": "code",
   "execution_count": null,
   "metadata": {
    "scrolled": true
   },
   "outputs": [],
   "source": [
    "using SparseArrays\n",
    "\n",
    "include(\"../src/InterruptedRelax.jl\")\n",
    "using .InterruptedRelax\n",
    "\n",
    "#n,m,l,lmon_g,supp_g,coe_g,lmon_h,supp_h,coe_h,lmon_f,supp_f,coe_f,dg,dh=InterruptedRelax.get_info(x,f,g,h,sparse=true);\n",
    "include(\"./sparsePOPcliq$(u)nineq$(m)neq$(l).jl\");\n",
    "\n",
    "d=Int64(maximum([sum(supp_f[:,i]) for i in 1:lmon_f]))\n",
    "\n",
    "println(\"Degree: d=\",d)\n",
    "\n",
    "\n",
    "k=1\n",
    "\n",
    "println(\"Relaxation order: k=\",k)\n",
    "\n",
    "\n",
    "s=12\n",
    "\n",
    "\n",
    "println(\"Block size: s=\",s)\n",
    "\n",
    "@time opt_val1,opt_sol=InterruptedRelax.RelaxSparse(n,m,l,lmon_g,supp_g,coe_g,lmon_h,supp_h,coe_h,lmon_f,supp_f,coe_f,dg,dh,k,s,d,assign=\"min\",alg=\"MD\",minimize=true,solver=\"Mosek\",comp_opt_sol=false);"
   ]
  },
  {
   "cell_type": "code",
   "execution_count": null,
   "metadata": {},
   "outputs": [],
   "source": []
  },
  {
   "cell_type": "code",
   "execution_count": 27,
   "metadata": {
    "scrolled": true
   },
   "outputs": [
    {
     "name": "stdout",
     "output_type": "stream",
     "text": [
      "Maximal matrix size: 78\n"
     ]
    },
    {
     "name": "stderr",
     "output_type": "stream",
     "text": [
      "WARNING: replacing module InterruptedRelax.\n"
     ]
    },
    {
     "ename": "InterruptException",
     "evalue": "InterruptException:",
     "output_type": "error",
     "traceback": [
      "InterruptException:",
      "",
      "Stacktrace:",
      " [1] _growend! at ./array.jl:827 [inlined]",
      " [2] push! at ./array.jl:869 [inlined]",
      " [3] mergevars_to!(::Array{PolyVar{true},1}, ::Array{Array{PolyVar{true},1},1}) at /home/hoanganh/.julia/packages/DynamicPolynomials/5p8Ga/src/var.jl:88",
      " [4] mergevars at /home/hoanganh/.julia/packages/DynamicPolynomials/5p8Ga/src/var.jl:104 [inlined]",
      " [5] multdivmono at /home/hoanganh/.julia/packages/DynamicPolynomials/5p8Ga/src/cmult.jl:73 [inlined]",
      " [6] mapexponents(::Function, ::Monomial{true}, ::Monomial{true}) at /home/hoanganh/.julia/packages/DynamicPolynomials/5p8Ga/src/cmult.jl:108",
      " [7] * at /home/hoanganh/.julia/packages/MultivariatePolynomials/vqcb5/src/operators.jl:271 [inlined]",
      " [8] mul_prod at ./reduce.jl:32 [inlined]",
      " [9] mapfoldl_impl(::typeof(identity), ::typeof(Base.mul_prod), ::NamedTuple{(:init,),Tuple{Monomial{true}}}, ::Base.Generator{UnitRange{Int64},Main.InterruptedRelax.var\"#5#6\"{Array{UInt64,2},Array{PolyVar{true},1},UInt64}}, ::Int64) at ./reduce.jl:49",
      " [10] get_poly(::UInt64, ::Array{UInt64,2}, ::Array{Float64,1}, ::Array{PolyVar{true},1}, ::Int64) at ./reduce.jl:61",
      " [11] get_POP(::Int64, ::Int64, ::Int64, ::Array{UInt64,1}, ::Array{SparseMatrixCSC{UInt64,Ti} where Ti<:Integer,1}, ::Array{Array{Float64,1},1}, ::Array{UInt64,1}, ::Array{SparseMatrixCSC{UInt64,Ti} where Ti<:Integer,1}, ::Array{Array{Float64,1},1}, ::Int64, ::SparseMatrixCSC{UInt64,Int64}, ::Array{Float64,1}) at /home/hoanganh/Desktop/math-topics/InterruptedRelax/codes/InterruptedRelax/src/basicfuncs.jl:35",
      " [12] top-level scope at In[27]:14"
     ]
    }
   ],
   "source": [
    "using SparseArrays\n",
    "\n",
    "include(\"../src/InterruptedRelax.jl\")\n",
    "using .InterruptedRelax\n",
    "\n",
    "#n,m,l,lmon_g,supp_g,coe_g,lmon_h,supp_h,coe_h,lmon_f,supp_f,coe_f,dg,dh=InterruptedRelax.get_info(x,f,g,h,sparse=true);\n",
    "include(\"./sparsePOPcliq$(u)nineq$(m)neq$(l).jl\");\n",
    "\n",
    "using TSSOS\n",
    "\n",
    "k=2\n",
    "\n",
    "println(\"Maximal matrix size: \",binomial(u+1+k,k))\n",
    "\n",
    "vars,pop=InterruptedRelax.get_POP(n,m,l,lmon_g,supp_g,coe_g,lmon_h,supp_h,coe_h,lmon_f,supp_f,coe_f)\n",
    "\n",
    "@time opt,sol,data=TSSOS.cs_tssos_first(pop,vars,k,numeq=l,CS=\"MD\",TS=false,solver=\"Mosek\");"
   ]
  },
  {
   "cell_type": "code",
   "execution_count": null,
   "metadata": {},
   "outputs": [],
   "source": []
  },
  {
   "cell_type": "code",
   "execution_count": null,
   "metadata": {},
   "outputs": [
    {
     "name": "stdout",
     "output_type": "stream",
     "text": [
      "Maximal matrix size: 253\n",
      "************************TSSOS************************\n",
      "TSSOS is launching...\n",
      "------------------------------------------------------\n",
      "The clique sizes of varibles:\n",
      "[21, 20]\n",
      "[49, 1]\n",
      "------------------------------------------------------\n",
      "Obtained the variable cliques in 0.030457627 seconds. The maximal size of cliques is 21.\n",
      "Assembling the SDP...\n",
      "There are 630231 affine constraints.\n",
      "SDP assembling time: 23.26637757 seconds.\n",
      "Solving the SDP...\n",
      "Problem\n",
      "  Name                   :                 \n",
      "  Objective sense        : max             \n",
      "  Type                   : CONIC (conic optimization problem)\n",
      "  Constraints            : 630231          \n",
      "  Cones                  : 0               \n",
      "  Scalar variables       : 50513           \n",
      "  Matrix variables       : 1250            \n",
      "  Integer variables      : 0               \n",
      "\n",
      "Optimizer started.\n",
      "Presolve started.\n",
      "Linear dependency checker started.\n",
      "Linear dependency checker terminated.\n",
      "Eliminator started.\n"
     ]
    }
   ],
   "source": [
    "using TSSOS\n",
    "\n",
    "k=2\n",
    "\n",
    "println(\"Maximal matrix size: \",binomial(u+1+k,k))\n",
    "\n",
    "@time opt,sol,data=TSSOS.cs_tssos_first(pop,vars,k,numeq=l,CS=\"MD\",TS=false,solver=\"Mosek\");"
   ]
  },
  {
   "cell_type": "code",
   "execution_count": null,
   "metadata": {},
   "outputs": [],
   "source": []
  },
  {
   "cell_type": "code",
   "execution_count": 23,
   "metadata": {},
   "outputs": [
    {
     "name": "stderr",
     "output_type": "stream",
     "text": [
      "WARNING: replacing module InterruptedRelax.\n"
     ]
    }
   ],
   "source": [
    "using SparseArrays\n",
    "\n",
    "include(\"../src/InterruptedRelax.jl\")\n",
    "using .InterruptedRelax\n",
    "\n",
    "n,m,l,lmon_g,supp_g,coe_g,lmon_h,supp_h,coe_h,lmon_f,supp_f,coe_f,dg,dh=InterruptedRelax.get_info(x,f,g,h,sparse=true);\n",
    "\n",
    "InterruptedRelax.save_info_sparsePOP(randx,u,n,m,l,lmon_g,supp_g,coe_g,lmon_h,supp_h,coe_h,lmon_f,supp_f,coe_f,dg,dh)"
   ]
  },
  {
   "cell_type": "code",
   "execution_count": null,
   "metadata": {},
   "outputs": [],
   "source": []
  }
 ],
 "metadata": {
  "kernelspec": {
   "display_name": "Julia 1.3.0",
   "language": "julia",
   "name": "julia-1.3"
  },
  "language_info": {
   "file_extension": ".jl",
   "mimetype": "application/julia",
   "name": "julia",
   "version": "1.3.0"
  }
 },
 "nbformat": 4,
 "nbformat_minor": 2
}
