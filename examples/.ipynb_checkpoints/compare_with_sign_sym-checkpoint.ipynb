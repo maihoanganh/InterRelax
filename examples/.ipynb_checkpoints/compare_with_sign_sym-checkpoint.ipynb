{
 "cells": [
  {
   "cell_type": "code",
   "execution_count": 38,
   "metadata": {},
   "outputs": [
    {
     "name": "stdout",
     "output_type": "stream",
     "text": [
      "***Problem setting***\n",
      "Number of variables: n=100\n",
      "Number of inequality constraints: m=1\n",
      "Number of equality constraints: l=0\n"
     ]
    }
   ],
   "source": [
    "using DynamicPolynomials\n",
    "\n",
    "println(\"***Problem setting***\")\n",
    "\n",
    "n=100\n",
    "\n",
    "println(\"Number of variables: n=\",n)\n",
    "\n",
    "@polyvar x[1:n]# variables\n",
    "\n",
    "#f=sum((-1)^i*x[i]*x[i+1]*x[i+2] for i=1:n-2)+(-1)^(n-1)*x[n-1]*x[n]*x[1]+(-1)^n*x[n]*x[1]*x[2]+0.0\n",
    "\n",
    "a=ones(Float64,n)/n\n",
    "\n",
    "f=-sum((x-a).^2)\n",
    "\n",
    "g=[1.0-sum(x)]#; n-sum(x)]\n",
    "\n",
    "m=length(g)\n",
    "println(\"Number of inequality constraints: m=\",m)\n",
    "\n",
    "l=0\n",
    "\n",
    "h=Vector{Polynomial{true,Float64}}(undef,l)\n",
    "\n",
    "l=length(h)\n",
    "println(\"Number of equality constraints: l=\",l)"
   ]
  },
  {
   "cell_type": "code",
   "execution_count": 35,
   "metadata": {
    "scrolled": true
   },
   "outputs": [
    {
     "name": "stdout",
     "output_type": "stream",
     "text": [
      "Relaxation order: k=1\n",
      "Sparsity order: s=2\n",
      "**Interrupted relaxation based on Polya's Positivstellensatz**\n",
      "Relaxation order: k=1\n",
      "Factor width upper bound: s=2\n",
      "Maximal matrix size:2\n",
      "Problem\n",
      "  Name                   :                 \n",
      "  Objective sense        : max             \n",
      "  Type                   : CONIC (conic optimization problem)\n",
      "  Constraints            : 286             \n",
      "  Cones                  : 0               \n",
      "  Scalar variables       : 221             \n",
      "  Matrix variables       : 120             \n",
      "  Integer variables      : 0               \n",
      "\n",
      "Optimizer started.\n",
      "Presolve started.\n",
      "Linear dependency checker started.\n",
      "Linear dependency checker terminated.\n",
      "Eliminator started.\n",
      "Freed constraints in eliminator : 0\n",
      "Eliminator terminated.\n",
      "Eliminator - tries                  : 1                 time                   : 0.00            \n",
      "Lin. dep.  - tries                  : 1                 time                   : 0.00            \n",
      "Lin. dep.  - number                 : 0               \n",
      "Presolve terminated. Time: 0.00    \n",
      "Problem\n",
      "  Name                   :                 \n",
      "  Objective sense        : max             \n",
      "  Type                   : CONIC (conic optimization problem)\n",
      "  Constraints            : 286             \n",
      "  Cones                  : 0               \n",
      "  Scalar variables       : 221             \n",
      "  Matrix variables       : 120             \n",
      "  Integer variables      : 0               \n",
      "\n",
      "Optimizer  - threads                : 4               \n",
      "Optimizer  - solved problem         : the primal      \n",
      "Optimizer  - Constraints            : 230\n",
      "Optimizer  - Cones                  : 121\n",
      "Optimizer  - Scalar variables       : 526               conic                  : 362             \n",
      "Optimizer  - Semi-definite variables: 0                 scalarized             : 0               \n",
      "Factor     - setup time             : 0.00              dense det. time        : 0.00            \n",
      "Factor     - ML order time          : 0.00              GP order time          : 0.00            \n",
      "Factor     - nonzeros before factor : 5234              after factor           : 1.50e+04        \n",
      "Factor     - dense dim.             : 0                 flops                  : 1.20e+06        \n",
      "ITE PFEAS    DFEAS    GFEAS    PRSTATUS   POBJ              DOBJ              MU       TIME  \n",
      "0   3.6e+00  1.0e+00  1.0e+00  0.00e+00   0.000000000e+00   0.000000000e+00   1.0e+00  0.00  \n",
      "1   4.4e-01  1.2e-01  8.2e-01  -1.27e+00  -3.732442993e+01  -7.852708457e+01  1.2e-01  0.00  \n",
      "2   1.8e-01  4.9e-02  5.8e-02  7.22e-01   -2.390448227e+01  -2.419230456e+01  4.9e-02  0.01  \n",
      "3   8.2e-02  2.3e-02  1.8e-02  5.70e+00   -3.524743567e+00  -4.061344582e+00  2.3e-02  0.01  \n",
      "4   1.7e-02  4.6e-03  7.3e-04  2.48e+00   -1.315716986e+00  -1.331870441e+00  4.6e-03  0.01  \n",
      "5   2.0e-03  5.5e-04  3.9e-05  1.84e+00   -9.231341101e-01  -9.271631653e-01  5.5e-04  0.01  \n",
      "6   6.4e-06  1.8e-06  6.5e-09  1.04e+00   -9.000934838e-01  -9.001045731e-01  1.8e-06  0.01  \n",
      "7   4.5e-08  1.2e-08  3.8e-12  1.00e+00   -9.000007103e-01  -9.000007866e-01  1.2e-08  0.01  \n",
      "8   2.2e-10  5.9e-11  1.2e-15  1.00e+00   -9.000000039e-01  -9.000000043e-01  5.9e-11  0.01  \n",
      "Optimizer terminated. Time: 0.01    \n",
      "\n",
      "Termination status = OPTIMAL\n",
      "Primal status = FEASIBLE_POINT\n",
      "Optimal value = -0.900000003914363\n",
      "  1.705577 seconds (2.23 M allocations: 126.665 MiB, 3.10% gc time)\n"
     ]
    },
    {
     "name": "stderr",
     "output_type": "stream",
     "text": [
      "WARNING: replacing module InterRelax.\n"
     ]
    },
    {
     "data": {
      "text/plain": [
       "(-0.900000003914363, Float64[])"
      ]
     },
     "execution_count": 35,
     "metadata": {},
     "output_type": "execute_result"
    }
   ],
   "source": [
    "include(\"../src/InterRelax.jl\")\n",
    "using .InterRelax\n",
    "\n",
    "k=1\n",
    "s=2\n",
    "\n",
    "n,m,l,lmon_g,supp_g,coe_g,lmon_h,supp_h,coe_h,lmon_f,supp_f,coe_f,dg,dh=InterRelax.get_info(x,f,g,h,sparse=false);\n",
    "\n",
    "println(\"Relaxation order: k=\",k)\n",
    "println(\"Sparsity order: s=\",s)\n",
    "\n",
    "@time opt_val1=InterRelax.RelaxDense(n,m,l,lmon_g,supp_g,coe_g,lmon_h,supp_h,coe_h,\n",
    "    lmon_f,supp_f,coe_f,dg,dh,k,s,solver=\"Mosek\")"
   ]
  },
  {
   "cell_type": "code",
   "execution_count": null,
   "metadata": {},
   "outputs": [],
   "source": [
    "using TSSOS\n",
    "\n",
    "k=2\n",
    "pop=[[f(x=>x.^2)];[g[j](x=>x.^2) for j in 1:m]]#;[h[j](x=>x.^2) for j in 1:l]]\n",
    "@time begin\n",
    "    opt,sol,data=TSSOS.tssos_first(pop,x,k,numeq=l,TS=\"block\",solver=\"Mosek\");\n",
    "    #opt,sol,data =TSSOS.tssos_higher!(data, TS=\"block\")\n",
    "end;"
   ]
  },
  {
   "cell_type": "code",
   "execution_count": null,
   "metadata": {},
   "outputs": [],
   "source": []
  },
  {
   "cell_type": "code",
   "execution_count": null,
   "metadata": {},
   "outputs": [],
   "source": []
  }
 ],
 "metadata": {
  "kernelspec": {
   "display_name": "Julia 1.3.0",
   "language": "julia",
   "name": "julia-1.3"
  },
  "language_info": {
   "file_extension": ".jl",
   "mimetype": "application/julia",
   "name": "julia",
   "version": "1.3.0"
  }
 },
 "nbformat": 4,
 "nbformat_minor": 2
}
