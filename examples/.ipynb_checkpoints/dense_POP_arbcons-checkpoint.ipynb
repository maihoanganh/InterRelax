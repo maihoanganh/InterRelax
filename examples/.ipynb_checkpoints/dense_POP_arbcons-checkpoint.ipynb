{
 "cells": [
  {
   "cell_type": "code",
   "execution_count": 12,
   "metadata": {},
   "outputs": [
    {
     "name": "stdout",
     "output_type": "stream",
     "text": [
      "***Problem setting***\n",
      "Number of variable: n=5\n",
      "====================\n",
      "Number of inequality constraints: m=1\n",
      "====================\n",
      "Number of equality constraints: l=0\n"
     ]
    }
   ],
   "source": [
    "using DynamicPolynomials, SparseArrays\n",
    "\n",
    "println(\"***Problem setting***\")\n",
    "\n",
    "n=5\n",
    "\n",
    "println(\"Number of variable: n=\",n)\n",
    "println(\"====================\")\n",
    "\n",
    "@polyvar x[1:n]# variables\n",
    "\n",
    "function generate_random_poly(v)\n",
    "    c=2*rand(Float64,length(v)).-1\n",
    "    return c'*v\n",
    "end\n",
    "\n",
    "function generate_sparse_random_poly(v)\n",
    "    c=sprand(Float64,length(v),0.01)\n",
    "    I,V=findnz(c)\n",
    "    V=2*V.-1\n",
    "    return sparsevec(I,V,length(v))'*v\n",
    "end\n",
    "# random quadratic objective function f\n",
    "v=reverse(monomials(x,0:2))\n",
    "f=generate_random_poly(v)\n",
    "\n",
    "\n",
    "# unit sphere constraint\n",
    "m=1#ceil(Int64, n/5)\n",
    "g=Vector{Polynomial{true,Float64}}(undef,m)\n",
    " #type of coefficients of each polynomial must be float\n",
    "\n",
    "randx=rand(n)# create a feasible solution\n",
    "randx=rand(1)[1]*randx./sum(randx)\n",
    "g[1]=1.0-sum(x)\n",
    "for j in 2:m\n",
    "    g[j]=generate_random_poly(v[2:end])\n",
    "    g[j]+=0.125-g[j](x => randx) #make constraints feasible\n",
    "end\n",
    "\n",
    "\n",
    "\n",
    "m=length(g)\n",
    "println(\"Number of inequality constraints: m=\",m)\n",
    "println(\"====================\")\n",
    "\n",
    "l=0#ceil(Int64,n/5)\n",
    "\n",
    "h=Vector{Polynomial{true,Float64}}(undef,l)\n",
    "for j in 1:l\n",
    "    h[j]=generate_random_poly(v[2:end])\n",
    "    h[j]-=h[j](x => randx) #make constraints feasible\n",
    "end\n",
    "\n",
    "#h=[h;1.0-sum(x.^2)]\n",
    "\n",
    "l=length(h)\n",
    "println(\"Number of equality constraints: l=\",l)"
   ]
  },
  {
   "cell_type": "code",
   "execution_count": 18,
   "metadata": {
    "scrolled": true
   },
   "outputs": [
    {
     "name": "stdout",
     "output_type": "stream",
     "text": [
      "Relaxation order: k=0\n",
      "Block size: s=10\n"
     ]
    },
    {
     "name": "stderr",
     "output_type": "stream",
     "text": [
      "WARNING: replacing module InterruptedRelax.\n"
     ]
    },
    {
     "name": "stdout",
     "output_type": "stream",
     "text": [
      "Maximal matrix size:6\n",
      "Problem\n",
      "  Name                   :                 \n",
      "  Objective sense        : max             \n",
      "  Type                   : CONIC (conic optimization problem)\n",
      "  Constraints            : 56              \n",
      "  Cones                  : 0               \n",
      "  Scalar variables       : 36              \n",
      "  Matrix variables       : 7               \n",
      "  Integer variables      : 0               \n",
      "\n",
      "Optimizer started.\n",
      "Presolve started.\n",
      "Linear dependency checker started.\n",
      "Linear dependency checker terminated.\n",
      "Eliminator started.\n",
      "Freed constraints in eliminator : 0\n",
      "Eliminator terminated.\n",
      "Eliminator - tries                  : 1                 time                   : 0.00            \n",
      "Lin. dep.  - tries                  : 1                 time                   : 0.00            \n",
      "Lin. dep.  - number                 : 0               \n",
      "Presolve terminated. Time: 0.00    \n",
      "Problem\n",
      "  Name                   :                 \n",
      "  Objective sense        : max             \n",
      "  Type                   : CONIC (conic optimization problem)\n",
      "  Constraints            : 56              \n",
      "  Cones                  : 0               \n",
      "  Scalar variables       : 36              \n",
      "  Matrix variables       : 7               \n",
      "  Integer variables      : 0               \n",
      "\n",
      "Optimizer  - threads                : 4               \n",
      "Optimizer  - solved problem         : the primal      \n",
      "Optimizer  - Constraints            : 56\n",
      "Optimizer  - Cones                  : 1\n",
      "Optimizer  - Scalar variables       : 37                conic                  : 2               \n",
      "Optimizer  - Semi-definite variables: 7                 scalarized             : 147             \n",
      "Factor     - setup time             : 0.00              dense det. time        : 0.00            \n",
      "Factor     - ML order time          : 0.00              GP order time          : 0.00            \n",
      "Factor     - nonzeros before factor : 1596              after factor           : 1596            \n",
      "Factor     - dense dim.             : 0                 flops                  : 8.54e+04        \n",
      "ITE PFEAS    DFEAS    GFEAS    PRSTATUS   POBJ              DOBJ              MU       TIME  \n",
      "0   2.8e+00  1.0e+00  1.0e+00  0.00e+00   0.000000000e+00   0.000000000e+00   1.0e+00  0.00  \n",
      "1   1.2e+00  4.2e-01  1.6e-01  6.64e-01   -6.500100589e-01  -4.412634287e-01  4.2e-01  0.00  \n",
      "2   2.9e-01  1.0e-01  1.7e-02  2.12e+00   -5.069376378e-01  -4.807571038e-01  1.0e-01  0.00  \n",
      "3   6.9e-02  2.5e-02  1.9e-03  1.50e+00   -4.843217111e-01  -4.798016511e-01  2.5e-02  0.00  \n",
      "4   1.4e-02  5.0e-03  1.7e-04  1.08e+00   -4.960385577e-01  -4.951429261e-01  5.0e-03  0.00  \n",
      "5   1.8e-03  6.4e-04  7.5e-06  9.88e-01   -5.019937703e-01  -5.018623793e-01  6.4e-04  0.01  \n",
      "6   3.8e-05  1.3e-05  2.3e-08  1.00e+00   -5.026227938e-01  -5.026199764e-01  1.3e-05  0.01  \n",
      "7   1.0e-06  3.6e-07  9.9e-11  1.00e+00   -5.026355213e-01  -5.026354450e-01  3.6e-07  0.01  \n",
      "8   1.8e-08  6.5e-09  2.4e-13  1.00e+00   -5.026358137e-01  -5.026358123e-01  6.5e-09  0.01  \n",
      "Optimizer terminated. Time: 0.01    \n",
      "\n",
      "Termination status = OPTIMAL\n",
      "Optimal value = -0.5026358137127329\n",
      "  1.003746 seconds (1.34 M allocations: 67.570 MiB)\n"
     ]
    },
    {
     "data": {
      "text/plain": [
       "-0.5026358137127329"
      ]
     },
     "execution_count": 18,
     "metadata": {},
     "output_type": "execute_result"
    }
   ],
   "source": [
    "include(\"../src/InterruptedRelax.jl\")\n",
    "using .InterruptedRelax\n",
    "\n",
    "n,m,l,lmon_g,supp_g,coe_g,lmon_h,supp_h,coe_h,lmon_f,supp_f,coe_f,dg,dh=InterruptedRelax.get_info(x,f,g,h,sparse=false);\n",
    "\n",
    "#InterruptedRelax.save_info_densePOP(randx,n,m,l,lmon_g,supp_g,coe_g,lmon_h,supp_h,coe_h,lmon_f,supp_f,coe_f,dg,dh)\n",
    "\n",
    "#include(\"./densePOP5.jl\")\n",
    "\n",
    "\n",
    "k=0\n",
    "\n",
    "println(\"Relaxation order: k=\",k)\n",
    "\n",
    "s=1\n",
    "\n",
    "println(\"Block size: s=\",s)\n",
    "\n",
    "@time opt_val1=InterruptedRelax.RelaxDense(n,m,l,lmon_g,supp_g,coe_g,lmon_h,supp_h,coe_h,\n",
    "    lmon_f,supp_f,coe_f,dg,dh,k,s)"
   ]
  },
  {
   "cell_type": "code",
   "execution_count": null,
   "metadata": {},
   "outputs": [],
   "source": []
  },
  {
   "cell_type": "code",
   "execution_count": 16,
   "metadata": {},
   "outputs": [
    {
     "name": "stdout",
     "output_type": "stream",
     "text": [
      "Maximal matrix size: 21\n",
      "------------------------------------------------------\n",
      "The clique sizes of varibles:\n",
      "[5]\n",
      "[1]\n",
      "------------------------------------------------------\n",
      "Problem\n",
      "  Name                   :                 \n",
      "  Objective sense        : max             \n",
      "  Type                   : CONIC (conic optimization problem)\n",
      "  Constraints            : 126             \n",
      "  Cones                  : 0               \n",
      "  Scalar variables       : 1               \n",
      "  Matrix variables       : 7               \n",
      "  Integer variables      : 0               \n",
      "\n",
      "Optimizer started.\n",
      "Presolve started.\n",
      "Linear dependency checker started.\n",
      "Linear dependency checker terminated.\n",
      "Eliminator started.\n",
      "Freed constraints in eliminator : 0\n",
      "Eliminator terminated.\n",
      "Eliminator - tries                  : 1                 time                   : 0.00            \n",
      "Lin. dep.  - tries                  : 1                 time                   : 0.00            \n",
      "Lin. dep.  - number                 : 0               \n",
      "Presolve terminated. Time: 0.00    \n",
      "Problem\n",
      "  Name                   :                 \n",
      "  Objective sense        : max             \n",
      "  Type                   : CONIC (conic optimization problem)\n",
      "  Constraints            : 126             \n",
      "  Cones                  : 0               \n",
      "  Scalar variables       : 1               \n",
      "  Matrix variables       : 7               \n",
      "  Integer variables      : 0               \n",
      "\n",
      "Optimizer  - threads                : 4               \n",
      "Optimizer  - solved problem         : the primal      \n",
      "Optimizer  - Constraints            : 126\n",
      "Optimizer  - Cones                  : 1\n",
      "Optimizer  - Scalar variables       : 2                 conic                  : 2               \n",
      "Optimizer  - Semi-definite variables: 7                 scalarized             : 357             \n",
      "Factor     - setup time             : 0.00              dense det. time        : 0.00            \n",
      "Factor     - ML order time          : 0.00              GP order time          : 0.00            \n",
      "Factor     - nonzeros before factor : 8001              after factor           : 8001            \n",
      "Factor     - dense dim.             : 0                 flops                  : 8.41e+05        \n",
      "ITE PFEAS    DFEAS    GFEAS    PRSTATUS   POBJ              DOBJ              MU       TIME  \n",
      "0   2.8e+00  1.0e+00  1.0e+00  0.00e+00   0.000000000e+00   0.000000000e+00   1.0e+00  0.00  \n",
      "1   6.5e-01  2.3e-01  4.8e-02  5.86e-01   -6.768687420e-01  -5.122067800e-01  2.3e-01  0.00  \n",
      "2   1.0e-01  3.7e-02  2.4e-03  1.74e+00   -4.979851329e-01  -4.798934291e-01  3.7e-02  0.01  \n",
      "3   1.3e-02  4.8e-03  1.3e-04  1.14e+00   -4.947997954e-01  -4.927487539e-01  4.8e-03  0.01  \n",
      "4   2.7e-03  9.8e-04  1.3e-05  9.66e-01   -4.999625272e-01  -4.995693927e-01  9.8e-04  0.01  \n",
      "5   2.2e-04  7.8e-05  3.6e-07  9.22e-01   -5.025983472e-01  -5.025719023e-01  7.8e-05  0.01  \n",
      "6   1.3e-06  4.6e-07  1.7e-10  9.96e-01   -5.026356601e-01  -5.026355134e-01  4.6e-07  0.01  \n",
      "7   1.5e-08  5.5e-09  2.2e-13  9.96e-01   -5.026358165e-01  -5.026358148e-01  5.5e-09  0.01  \n",
      "Optimizer terminated. Time: 0.01    \n",
      "\n",
      "optimum = -0.5026358165017458\n",
      "  0.039843 seconds (44.22 k allocations: 3.341 MiB)\n"
     ]
    },
    {
     "name": "stderr",
     "output_type": "stream",
     "text": [
      "WARNING: replacing module InterruptedRelax.\n"
     ]
    }
   ],
   "source": [
    "using SparseArrays\n",
    "\n",
    "include(\"../src/InterruptedRelax.jl\")\n",
    "using .InterruptedRelax\n",
    "\n",
    "n,m,l,lmon_g,supp_g,coe_g,lmon_h,supp_h,coe_h,lmon_f,supp_f,coe_f,dg,dh=InterruptedRelax.get_info(x,f,g,h,sparse=false);\n",
    "\n",
    "#InterruptedRelax.save_info_densePOP(randx,n,m,l,lmon_g,supp_g,coe_g,lmon_h,supp_h,coe_h,lmon_f,supp_f,coe_f,dg,dh)\n",
    "\n",
    "#include(\"./densePOP5.jl\")\n",
    "\n",
    "lmon_g=[lmon_g;ones(UInt64,n)]\n",
    "alpha=zeros(UInt64,n,1)\n",
    "\n",
    "for j in 1:n\n",
    "    alpha=zeros(UInt64,n,1)\n",
    "    alpha[j]=1\n",
    "    supp_g=[supp_g;[alpha]]\n",
    "    coe_g=[coe_g;[ones(Float64,1)]]\n",
    "\n",
    "    dg=[dg;1]\n",
    "end\n",
    "\n",
    "\n",
    "\n",
    "using TSSOS\n",
    "\n",
    "k=2\n",
    "\n",
    "println(\"Maximal matrix size: \",binomial(n+k,k))\n",
    "\n",
    "@time opt,sol,data=TSSOS.cs_tssos_first(Vector{SparseMatrixCSC{UInt8,UInt32}}([[supp_f];supp_g;supp_h]),[[coe_f];coe_g;coe_h],n,k,[dg;dh],numeq=l,CS=false,TS=false);"
   ]
  },
  {
   "cell_type": "code",
   "execution_count": null,
   "metadata": {},
   "outputs": [],
   "source": []
  },
  {
   "cell_type": "code",
   "execution_count": 8,
   "metadata": {},
   "outputs": [
    {
     "name": "stdout",
     "output_type": "stream",
     "text": [
      "Maximal matrix size:21\n"
     ]
    },
    {
     "name": "stderr",
     "output_type": "stream",
     "text": [
      "WARNING: replacing module InterruptedRelax.\n"
     ]
    },
    {
     "ename": "ErrorException",
     "evalue": "",
     "output_type": "error",
     "traceback": [
      "",
      "",
      "Stacktrace:",
      " [1] error() at ./error.jl:42",
      " [2] #POP_dense_SOS#81(::Float64, ::String, ::typeof(Main.InterruptedRelax.POP_dense_SOS), ::Array{PolyVar{true},1}, ::Polynomial{true,Float64}, ::Array{Polynomial{true,Float64},1}, ::Array{Polynomial{true,Float64},1}, ::Int64) at /home/hoanganh/Desktop/math-topics/InterruptedRelax/codes/InterruptedRelax/src/pop_dense_SOS.jl:13",
      " [3] POP_dense_SOS(::Array{PolyVar{true},1}, ::Polynomial{true,Float64}, ::Array{Polynomial{true,Float64},1}, ::Array{Polynomial{true,Float64},1}, ::Int64) at /home/hoanganh/Desktop/math-topics/InterruptedRelax/codes/InterruptedRelax/src/pop_dense_SOS.jl:3",
      " [4] top-level scope at util.jl:155",
      " [5] top-level scope at In[8]:3"
     ]
    }
   ],
   "source": [
    "include(\"../src/InterruptedRelax.jl\")\n",
    "using .InterruptedRelax\n",
    "\n",
    "@time opt_val=InterruptedRelax.POP_dense_SOS(x,f,[g;x],h, k);"
   ]
  },
  {
   "cell_type": "code",
   "execution_count": null,
   "metadata": {},
   "outputs": [],
   "source": []
  },
  {
   "cell_type": "code",
   "execution_count": null,
   "metadata": {},
   "outputs": [],
   "source": []
  }
 ],
 "metadata": {
  "kernelspec": {
   "display_name": "Julia 1.3.0",
   "language": "julia",
   "name": "julia-1.3"
  },
  "language_info": {
   "file_extension": ".jl",
   "mimetype": "application/julia",
   "name": "julia",
   "version": "1.3.0"
  }
 },
 "nbformat": 4,
 "nbformat_minor": 2
}
