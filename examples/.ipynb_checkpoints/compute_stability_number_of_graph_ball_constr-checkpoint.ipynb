{
 "cells": [
  {
   "cell_type": "code",
   "execution_count": 1,
   "metadata": {},
   "outputs": [
    {
     "name": "stdout",
     "output_type": "stream",
     "text": [
      "***Problem setting***\n",
      "Number of variables: n=23\n",
      "Number of inequality constraints: m=0\n",
      "Number of equality constraints: l=2\n"
     ]
    }
   ],
   "source": [
    "using DynamicPolynomials, SparseArrays, MatrixMarket\n",
    "\n",
    "println(\"***Problem setting***\")\n",
    "\n",
    "data=\"/home/hoanganh/Desktop/math-topics/InterruptedRelax/codes/dataPOP2\" # path of data \n",
    "A = MatrixMarket.mmread(data*\"/GD02_a.mtx\")\n",
    "\n",
    "n=size(A,1)\n",
    "for i in 1:n\n",
    "    A[i,i]=1\n",
    "end\n",
    "@polyvar x[1:n]# variables\n",
    "\n",
    "println(\"Number of variables: n=\",n)\n",
    "\n",
    "f=sum(A[i,j]*x[i]*x[j] for i=1:n for j=1:n)*1.0\n",
    "\n",
    "            \n",
    "g=Vector{Polynomial{true,Float64}}([])\n",
    "#type of coefficients of each polynomial must be float\n",
    "\n",
    "m=length(g)\n",
    "println(\"Number of inequality constraints: m=\",m)        \n",
    "\n",
    "# unit sphere constraint\n",
    "h=[1.0-sum(x),1.0-sum(x.^2)] #type of coefficients of each polynomial must be float\n",
    "\n",
    "l=length(h)\n",
    "\n",
    "println(\"Number of equality constraints: l=\",l)"
   ]
  },
  {
   "cell_type": "code",
   "execution_count": null,
   "metadata": {},
   "outputs": [
    {
     "name": "stderr",
     "output_type": "stream",
     "text": [
      "┌ Info: Precompiling MosekTools [1ec41992-ff65-5c91-ac43-2df89e9693a4]\n",
      "└ @ Base loading.jl:1273\n",
      "┌ Info: Precompiling JuMP [4076af6c-e467-56ae-b986-b466b2749572]\n",
      "└ @ Base loading.jl:1273\n",
      "┌ Info: Precompiling SumOfSquares [4b9e565b-77fc-50a5-a571-1244f986bda1]\n",
      "└ @ Base loading.jl:1273\n"
     ]
    }
   ],
   "source": [
    "include(\"../src/InterRelax.jl\")\n",
    "using .InterRelax\n",
    "\n",
    "n,m,l,lmon_g,supp_g,coe_g,lmon_h,supp_h,coe_h,lmon_f,supp_f,coe_f,dg,dh=InterRelax.get_info(x,f,g,h,sparse=false);\n",
    "\n",
    "\n",
    "k=0\n",
    "s=25\n",
    "\n",
    "@time opt_val1,opt_sol=InterRelax.RelaxDense(n,m,l,lmon_g,supp_g,coe_g,lmon_h,supp_h,coe_h,\n",
    "    lmon_f,supp_f,coe_f,dg,dh,k,s,solver=\"Mosek\",comp_opt_sol=false)"
   ]
  },
  {
   "cell_type": "code",
   "execution_count": null,
   "metadata": {},
   "outputs": [],
   "source": [
    "1/opt_val1"
   ]
  },
  {
   "cell_type": "code",
   "execution_count": null,
   "metadata": {},
   "outputs": [],
   "source": []
  },
  {
   "cell_type": "code",
   "execution_count": null,
   "metadata": {
    "scrolled": true
   },
   "outputs": [],
   "source": [
    "using SparseArrays\n",
    "\n",
    "include(\"../src/InterRelax.jl\")\n",
    "using .InterRelax\n",
    "\n",
    "n,m,l,lmon_g,supp_g,coe_g,lmon_h,supp_h,coe_h,lmon_f,supp_f,coe_f,dg,dh=InterRelax.get_info(x,f,g,h,sparse=true);\n",
    "\n",
    "\n",
    "k=1\n",
    "\n",
    "opt=InterRelax.TSSOS_Dense(n,m,l,lmon_g,supp_g,coe_g,lmon_h,supp_h,coe_h,lmon_f,supp_f,coe_f,k);"
   ]
  },
  {
   "cell_type": "code",
   "execution_count": null,
   "metadata": {},
   "outputs": [],
   "source": [
    "1/opt"
   ]
  },
  {
   "cell_type": "code",
   "execution_count": 30,
   "metadata": {
    "scrolled": true
   },
   "outputs": [
    {
     "name": "stdout",
     "output_type": "stream",
     "text": [
      "Maximal matrix size: 300\n",
      "************************TSSOS************************\n",
      "TSSOS is launching...\n",
      "------------------------------------------------------\n",
      "The clique sizes of varibles:\n",
      "[23]\n",
      "[1]\n",
      "------------------------------------------------------\n",
      "Assembling the SDP...\n",
      "There are 17550 affine constraints.\n",
      "SDP assembling time: 0.062577589 seconds.\n",
      "Solving the SDP...\n",
      "Problem\n",
      "  Name                   :                 \n",
      "  Objective sense        : max             \n",
      "  Type                   : CONIC (conic optimization problem)\n",
      "  Constraints            : 17550           \n",
      "  Cones                  : 0               \n",
      "  Scalar variables       : 301             \n",
      "  Matrix variables       : 24              \n",
      "  Integer variables      : 0               \n",
      "\n",
      "Optimizer started.\n",
      "Presolve started.\n",
      "Linear dependency checker started.\n",
      "Linear dependency checker terminated.\n",
      "Eliminator started.\n",
      "Freed constraints in eliminator : 0\n",
      "Eliminator terminated.\n",
      "Eliminator - tries                  : 1                 time                   : 0.00            \n",
      "Lin. dep.  - tries                  : 1                 time                   : 0.00            \n",
      "Lin. dep.  - number                 : 0               \n",
      "Presolve terminated. Time: 0.00    \n",
      "Problem\n",
      "  Name                   :                 \n",
      "  Objective sense        : max             \n",
      "  Type                   : CONIC (conic optimization problem)\n",
      "  Constraints            : 17550           \n",
      "  Cones                  : 0               \n",
      "  Scalar variables       : 301             \n",
      "  Matrix variables       : 24              \n",
      "  Integer variables      : 0               \n",
      "\n",
      "Optimizer  - threads                : 4               \n",
      "Optimizer  - solved problem         : the primal      \n",
      "Optimizer  - Constraints            : 17550\n",
      "Optimizer  - Cones                  : 1\n",
      "Optimizer  - Scalar variables       : 302               conic                  : 302             \n",
      "Optimizer  - Semi-definite variables: 24                scalarized             : 52050           \n",
      "Factor     - setup time             : 32.68             dense det. time        : 0.00            \n",
      "Factor     - ML order time          : 25.58             GP order time          : 0.00            \n",
      "Factor     - nonzeros before factor : 1.54e+08          after factor           : 1.54e+08        \n",
      "Factor     - dense dim.             : 2                 flops                  : 1.81e+12        \n",
      "ITE PFEAS    DFEAS    GFEAS    PRSTATUS   POBJ              DOBJ              MU       TIME  \n",
      "0   1.0e+00  1.0e+00  1.0e+00  0.00e+00   0.000000000e+00   0.000000000e+00   1.0e+00  32.73 \n",
      "1   8.3e-01  8.3e-01  5.6e-01  1.63e-01   -2.302307568e-01  -9.422890567e-03  8.3e-01  57.37 \n",
      "2   2.5e-01  2.5e-01  1.1e-01  1.10e-01   -9.664449573e-01  -9.050573116e-01  2.5e-01  83.15 \n",
      "3   2.6e-02  2.6e-02  2.2e-03  1.17e+00   -2.499200302e-01  -2.426751086e-01  2.6e-02  111.55\n",
      "4   2.2e-03  2.2e-03  4.2e-05  1.17e+00   2.870072012e-02   2.946885850e-02   2.2e-03  140.04\n",
      "5   2.6e-04  2.6e-04  2.3e-06  8.41e-01   6.794407319e-02   6.801915691e-02   2.6e-04  168.53\n"
     ]
    },
    {
     "name": "stderr",
     "output_type": "stream",
     "text": [
      "WARNING: replacing module InterRelax.\n",
      "WARNING: Force throwing a SIGINT\n"
     ]
    },
    {
     "ename": "InterruptException",
     "evalue": "InterruptException:",
     "output_type": "error",
     "traceback": [
      "InterruptException:",
      ""
     ]
    }
   ],
   "source": [
    "using SparseArrays\n",
    "\n",
    "include(\"../src/InterRelax.jl\")\n",
    "using .InterRelax\n",
    "\n",
    "n,m,l,lmon_g,supp_g,coe_g,lmon_h,supp_h,coe_h,lmon_f,supp_f,coe_f,dg,dh=InterRelax.get_info(x,f,g,h,sparse=true);\n",
    "\n",
    "using TSSOS\n",
    "\n",
    "k=2\n",
    "\n",
    "println(\"Maximal matrix size: \",binomial(n+k,k))\n",
    "\n",
    "vars,pop=InterRelax.get_POP(n,m,l,lmon_g,supp_g,coe_g,lmon_h,supp_h,coe_h,lmon_f,supp_f,coe_f)\n",
    "\n",
    "@time opt,sol,data=TSSOS.cs_tssos_first(pop,vars,k,numeq=l,CS=false,TS=false,solver=\"Mosek\");"
   ]
  },
  {
   "cell_type": "code",
   "execution_count": 31,
   "metadata": {},
   "outputs": [
    {
     "data": {
      "text/plain": [
       "13.017030029021846"
      ]
     },
     "execution_count": 31,
     "metadata": {},
     "output_type": "execute_result"
    }
   ],
   "source": [
    "1/opt"
   ]
  },
  {
   "cell_type": "code",
   "execution_count": null,
   "metadata": {},
   "outputs": [],
   "source": []
  }
 ],
 "metadata": {
  "kernelspec": {
   "display_name": "Julia 1.3.0",
   "language": "julia",
   "name": "julia-1.3"
  },
  "language_info": {
   "file_extension": ".jl",
   "mimetype": "application/julia",
   "name": "julia",
   "version": "1.3.0"
  }
 },
 "nbformat": 4,
 "nbformat_minor": 2
}
