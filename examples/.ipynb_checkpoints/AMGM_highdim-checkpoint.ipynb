{
 "cells": [
  {
   "cell_type": "code",
   "execution_count": 75,
   "metadata": {},
   "outputs": [
    {
     "name": "stdout",
     "output_type": "stream",
     "text": [
      "***Problem setting***\n",
      "Number of variables: n=5\n",
      "Number of inequality constraints: m=1\n",
      "Number of equality constraints: l=0\n"
     ]
    }
   ],
   "source": [
    "using DynamicPolynomials\n",
    "\n",
    "println(\"***Problem setting***\")\n",
    "\n",
    "n=5\n",
    "\n",
    "println(\"Number of variables: n=\",n)\n",
    "\n",
    "@polyvar x[1:n]# variables\n",
    "\n",
    "f=sum(x)+0.0\n",
    "\n",
    "g=[prod(x)-1.0]#; n-sum(x)]\n",
    "\n",
    "m=length(g)\n",
    "println(\"Number of inequality constraints: m=\",m)\n",
    "\n",
    "l=0\n",
    "\n",
    "h=Vector{Polynomial{true,Float64}}(undef,l)\n",
    "\n",
    "l=length(h)\n",
    "println(\"Number of equality constraints: l=\",l)"
   ]
  },
  {
   "cell_type": "code",
   "execution_count": 78,
   "metadata": {
    "scrolled": true
   },
   "outputs": [
    {
     "name": "stdout",
     "output_type": "stream",
     "text": [
      "Relaxation order: k=6\n",
      "Sparsity order: s=10\n",
      "**Interrupted relaxation based on Polya's Positivstellensatz**\n",
      "Relaxation order: k=6\n",
      "Factor width upper bound: s=10\n",
      "Maximal matrix size:10\n",
      "Problem\n",
      "  Name                   :                 \n",
      "  Objective sense        : max             \n",
      "  Type                   : CONIC (conic optimization problem)\n",
      "  Constraints            : 792             \n",
      "  Cones                  : 0               \n",
      "  Scalar variables       : 16              \n",
      "  Matrix variables       : 529             \n",
      "  Integer variables      : 0               \n",
      "\n",
      "Optimizer started.\n",
      "Presolve started.\n",
      "Linear dependency checker started.\n",
      "Linear dependency checker terminated.\n",
      "Eliminator started.\n",
      "Freed constraints in eliminator : 0\n",
      "Eliminator terminated.\n",
      "Eliminator - tries                  : 1                 time                   : 0.00            \n",
      "Lin. dep.  - tries                  : 1                 time                   : 0.00            \n",
      "Lin. dep.  - number                 : 0               \n",
      "Presolve terminated. Time: 0.00    \n",
      "Problem\n",
      "  Name                   :                 \n",
      "  Objective sense        : max             \n",
      "  Type                   : CONIC (conic optimization problem)\n",
      "  Constraints            : 792             \n",
      "  Cones                  : 0               \n",
      "  Scalar variables       : 16              \n",
      "  Matrix variables       : 529             \n",
      "  Integer variables      : 0               \n",
      "\n",
      "Optimizer  - threads                : 4               \n",
      "Optimizer  - solved problem         : the primal      \n",
      "Optimizer  - Constraints            : 792\n",
      "Optimizer  - Cones                  : 1\n",
      "Optimizer  - Scalar variables       : 17                conic                  : 2               \n",
      "Optimizer  - Semi-definite variables: 529               scalarized             : 28857           \n",
      "Factor     - setup time             : 0.03              dense det. time        : 0.00            \n",
      "Factor     - ML order time          : 0.01              GP order time          : 0.00            \n",
      "Factor     - nonzeros before factor : 7.67e+04          after factor           : 1.57e+05        \n",
      "Factor     - dense dim.             : 3                 flops                  : 4.25e+07        \n",
      "ITE PFEAS    DFEAS    GFEAS    PRSTATUS   POBJ              DOBJ              MU       TIME  \n",
      "0   1.3e+03  1.0e+00  1.0e+00  0.00e+00   0.000000000e+00   0.000000000e+00   1.0e+00  0.06  \n",
      "1   4.1e+02  3.2e-01  5.5e-01  -9.72e-01  -1.304235475e-02  -1.887508294e+00  3.2e-01  0.13  \n",
      "2   9.7e+01  7.7e-02  2.0e-01  -7.98e-01  -1.432589340e-03  -6.027325690e+00  7.7e-02  0.20  \n",
      "3   1.5e+01  1.2e-02  2.3e-02  -8.13e-02  1.479064966e-01   -3.536778793e+00  1.2e-02  0.27  \n",
      "4   6.5e-01  5.2e-04  1.9e-04  8.47e-01   2.735100764e-01   1.485903817e-01   5.2e-04  0.35  \n",
      "5   4.0e-02  3.2e-05  2.7e-06  1.03e+00   3.582186911e-01   3.513622696e-01   3.2e-05  0.42  \n",
      "6   6.5e-03  5.2e-06  1.6e-07  1.11e+00   7.162501348e-01   7.154061972e-01   5.2e-06  0.49  \n",
      "7   3.1e-04  2.5e-07  1.9e-09  1.02e+00   7.459331252e-01   7.458814872e-01   2.5e-07  0.56  \n",
      "8   1.8e-08  1.4e-11  8.0e-16  1.00e+00   7.499997441e-01   7.499997411e-01   1.4e-11  0.64  \n",
      "Optimizer terminated. Time: 0.64    \n",
      "\n",
      "Termination status = OPTIMAL\n",
      "Primal status = FEASIBLE_POINT\n",
      "Optimal value = 0.7499997440555652\n",
      "  2.844443 seconds (4.91 M allocations: 391.564 MiB, 3.50% gc time)\n"
     ]
    },
    {
     "name": "stderr",
     "output_type": "stream",
     "text": [
      "WARNING: replacing module InterRelax.\n"
     ]
    },
    {
     "data": {
      "text/plain": [
       "(0.7499997440555652, Float64[])"
      ]
     },
     "execution_count": 78,
     "metadata": {},
     "output_type": "execute_result"
    }
   ],
   "source": [
    "include(\"../src/InterRelax.jl\")\n",
    "using .InterRelax\n",
    "\n",
    "k=6\n",
    "s=10\n",
    "\n",
    "n,m,l,lmon_g,supp_g,coe_g,lmon_h,supp_h,coe_h,lmon_f,supp_f,coe_f,dg,dh=InterRelax.get_info(x,f,g,h,sparse=false);\n",
    "\n",
    "println(\"Relaxation order: k=\",k)\n",
    "println(\"Sparsity order: s=\",s)\n",
    "\n",
    "@time opt_val1=InterRelax.RelaxDense(n,m,l,lmon_g,supp_g,coe_g,lmon_h,supp_h,coe_h,\n",
    "    lmon_f,supp_f,coe_f,dg,dh,k,s,solver=\"Mosek\")"
   ]
  },
  {
   "cell_type": "code",
   "execution_count": 79,
   "metadata": {},
   "outputs": [
    {
     "name": "stdout",
     "output_type": "stream",
     "text": [
      "***************************TSSOS***************************\n",
      "TSSOS is launching...\n",
      "Starting to compute the block structure...\n",
      "------------------------------------------------------\n",
      "The sizes of PSD blocks:\n",
      "[21, 6, 1]\n",
      "[6, 20, 6]\n",
      "------------------------------------------------------\n",
      "Obtained the block structure in 0.023136799 seconds. The maximal size of blocks is 21.\n",
      "Assembling the SDP...\n",
      "There are 252 affine constraints.\n",
      "SDP assembling time: 0.003012003 seconds.\n",
      "Solving the SDP...\n",
      "Problem\n",
      "  Name                   :                 \n",
      "  Objective sense        : max             \n",
      "  Type                   : CONIC (conic optimization problem)\n",
      "  Constraints            : 252             \n",
      "  Cones                  : 0               \n",
      "  Scalar variables       : 8               \n",
      "  Matrix variables       : 26              \n",
      "  Integer variables      : 0               \n",
      "\n",
      "Optimizer started.\n",
      "Presolve started.\n",
      "Linear dependency checker started.\n",
      "Linear dependency checker terminated.\n",
      "Eliminator started.\n",
      "Freed constraints in eliminator : 0\n",
      "Eliminator terminated.\n",
      "Eliminator - tries                  : 1                 time                   : 0.00            \n",
      "Lin. dep.  - tries                  : 1                 time                   : 0.00            \n",
      "Lin. dep.  - number                 : 0               \n",
      "Presolve terminated. Time: 0.00    \n",
      "Problem\n",
      "  Name                   :                 \n",
      "  Objective sense        : max             \n",
      "  Type                   : CONIC (conic optimization problem)\n",
      "  Constraints            : 252             \n",
      "  Cones                  : 0               \n",
      "  Scalar variables       : 8               \n",
      "  Matrix variables       : 26              \n",
      "  Integer variables      : 0               \n",
      "\n",
      "Optimizer  - threads                : 4               \n",
      "Optimizer  - solved problem         : the primal      \n",
      "Optimizer  - Constraints            : 252\n",
      "Optimizer  - Cones                  : 1\n",
      "Optimizer  - Scalar variables       : 9                 conic                  : 2               \n",
      "Optimizer  - Semi-definite variables: 26                scalarized             : 1806            \n",
      "Factor     - setup time             : 0.00              dense det. time        : 0.00            \n",
      "Factor     - ML order time          : 0.00              GP order time          : 0.00            \n",
      "Factor     - nonzeros before factor : 2.84e+04          after factor           : 3.09e+04        \n",
      "Factor     - dense dim.             : 0                 flops                  : 5.89e+06        \n",
      "ITE PFEAS    DFEAS    GFEAS    PRSTATUS   POBJ              DOBJ              MU       TIME  \n",
      "0   1.0e+00  1.0e+00  1.0e+00  0.00e+00   0.000000000e+00   0.000000000e+00   1.0e+00  0.01  \n",
      "1   3.2e-01  3.2e-01  1.9e-01  6.09e-01   9.294318944e-01   9.524491043e-01   3.2e-01  0.01  \n",
      "2   1.0e-01  1.0e-01  9.6e-02  -5.48e-01  4.307149178e+00   3.749590176e+00   1.0e-01  0.02  \n",
      "3   4.0e-02  4.0e-02  1.8e-02  6.18e-01   3.997628454e+00   3.923211436e+00   4.0e-02  0.02  \n",
      "4   1.9e-02  1.9e-02  5.0e-03  1.40e+00   2.814362786e+00   2.794367881e+00   1.9e-02  0.03  \n",
      "5   7.8e-03  7.8e-03  1.3e-03  1.32e+00   7.218690285e-01   7.102240165e-01   7.8e-03  0.04  \n",
      "6   1.1e-03  1.1e-03  3.9e-05  1.40e+00   1.419625618e-01   1.425205120e-01   1.1e-03  0.04  \n",
      "7   2.1e-04  2.1e-04  3.4e-06  1.25e+00   2.353945276e-02   2.358381915e-02   2.1e-04  0.05  \n",
      "8   4.4e-05  4.4e-05  3.8e-07  1.08e+00   4.654722732e-03   4.643248503e-03   4.4e-05  0.05  \n",
      "9   9.3e-06  9.3e-06  4.0e-08  1.06e+00   9.971765851e-04   9.926538851e-04   9.3e-06  0.06  \n",
      "10  2.3e-06  2.3e-06  5.0e-09  9.93e-01   2.502166419e-04   2.488500967e-04   2.3e-06  0.07  \n",
      "11  5.1e-07  5.1e-07  5.3e-10  9.85e-01   5.708567858e-05   5.678435851e-05   5.1e-07  0.07  \n",
      "12  1.4e-07  1.4e-07  7.7e-11  9.81e-01   1.637822403e-05   1.630083099e-05   1.4e-07  0.08  \n",
      "13  3.0e-08  3.0e-08  7.0e-12  9.82e-01   3.421817606e-06   3.411217659e-06   3.0e-08  0.08  \n",
      "14  6.4e-09  6.4e-09  7.1e-13  9.89e-01   7.617693386e-07   7.594763684e-07   6.4e-09  0.09  \n",
      "Optimizer terminated. Time: 0.09    \n",
      "\n",
      "SDP solving time: 0.094265471 seconds.\n",
      "optimum = 7.617693385860426e-7\n",
      "Starting to compute the block structure...\n",
      "No higher TSSOS hierarchy!\n",
      "  0.145346 seconds (761.56 k allocations: 69.989 MiB)\n"
     ]
    }
   ],
   "source": [
    "using TSSOS\n",
    "\n",
    "k=5\n",
    "pop=[[f(x=>x.^2)];[g[j](x=>x.^2) for j in 1:m]]#;[h[j](x=>x.^2) for j in 1:l]]\n",
    "@time begin\n",
    "    opt,sol,data=TSSOS.tssos_first(pop,x,k,numeq=l,TS=\"block\",solver=\"Mosek\");\n",
    "    opt,sol,data =TSSOS.tssos_higher!(data, TS=\"block\")\n",
    "end;"
   ]
  },
  {
   "cell_type": "code",
   "execution_count": null,
   "metadata": {},
   "outputs": [],
   "source": [
    "using TSSOS\n",
    "\n",
    "k=5\n",
    "pop=[[f];x;g]#;[h[j](x=>x.^2) for j in 1:l]]\n",
    "@time begin\n",
    "    opt,sol,data=TSSOS.tssos_first(pop,x,k,numeq=l,TS=\"block\",solver=\"Mosek\");\n",
    "    opt,sol,data =TSSOS.tssos_higher!(data, TS=\"block\")\n",
    "end;"
   ]
  },
  {
   "cell_type": "code",
   "execution_count": null,
   "metadata": {},
   "outputs": [],
   "source": []
  }
 ],
 "metadata": {
  "kernelspec": {
   "display_name": "Julia 1.3.0",
   "language": "julia",
   "name": "julia-1.3"
  },
  "language_info": {
   "file_extension": ".jl",
   "mimetype": "application/julia",
   "name": "julia",
   "version": "1.3.0"
  }
 },
 "nbformat": 4,
 "nbformat_minor": 2
}
