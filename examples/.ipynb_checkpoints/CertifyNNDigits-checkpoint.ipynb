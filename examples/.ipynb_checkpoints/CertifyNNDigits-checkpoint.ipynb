{
 "cells": [
  {
   "cell_type": "code",
   "execution_count": 27,
   "metadata": {},
   "outputs": [
    {
     "data": {
      "text/plain": [
       "7"
      ]
     },
     "execution_count": 27,
     "metadata": {},
     "output_type": "execute_result"
    }
   ],
   "source": [
    "using MAT\n",
    "using DynamicPolynomials, LinearAlgebra, SparseArrays\n",
    "\n",
    "data=\"/home/hoanganh/Desktop/math-topics/InterruptedRelax/codes/dataPOP2\" # path of data\n",
    "D = matread(data*\"/WeightsDigits.mat\");\n",
    "W = D[\"W\"]; c = D[\"c\"]; x_bar=D[\"x_bar\"]; y_bar=D[\"y_bar\"]\n",
    "eps = 0.1;\n",
    "\n",
    "m1=size(W1,2)\n",
    "m2=size(W2,2)"
   ]
  },
  {
   "cell_type": "code",
   "execution_count": 39,
   "metadata": {},
   "outputs": [
    {
     "data": {
      "text/plain": [
       "1"
      ]
     },
     "execution_count": 39,
     "metadata": {},
     "output_type": "execute_result"
    }
   ],
   "source": [
    "y_bar"
   ]
  },
  {
   "cell_type": "code",
   "execution_count": null,
   "metadata": {},
   "outputs": [],
   "source": []
  },
  {
   "cell_type": "code",
   "execution_count": 40,
   "metadata": {},
   "outputs": [
    {
     "name": "stdout",
     "output_type": "stream",
     "text": [
      "***Problem setting***\n",
      "Number of variables: n=27\n",
      "Number of inequality constraints: m=27\n",
      "Number of equality constraints: l=14\n"
     ]
    }
   ],
   "source": [
    "@polyvar x1[1:m1] x2[1:m2]# variables\n",
    "\n",
    "\n",
    "f=(c[y_bar+1,:]-c[1,:])'*x2\n",
    "\n",
    "g=Vector{Polynomial{true,Float64}}([])\n",
    "h=Vector{Polynomial{true,Float64}}([])\n",
    "\n",
    "pol=1.0*x1[1]\n",
    "\n",
    "for j in 1:m2\n",
    "    pol=x2[j]-sum(W1[j,r]*x1[r] for r=1:m1)\n",
    "    append!(g,[pol])\n",
    "    append!(h,[x2[j]*pol])\n",
    "end\n",
    "\n",
    "for t in 1:m1\n",
    "    append!(g,[-x1[t]+x_bar[1,t]+eps])\n",
    "end\n",
    "\n",
    "m=length(g)\n",
    "l=length(h)\n",
    "\n",
    "f=f([x1;x2]=>[x1+x_bar[1,:]-eps*ones(Float64,m1);x2])\n",
    "\n",
    "for j in 1:m\n",
    "    g[j]=g[j]([x1;x2]=>[x1+x_bar[1,:]-eps*ones(Float64,m1);x2])\n",
    "end\n",
    "\n",
    "for j in 1:l\n",
    "    h[j]=h[j]([x1;x2]=>[x1+x_bar[1,:]-eps*ones(Float64,m1);x2])\n",
    "end\n",
    "\n",
    "\n",
    "x=[x1;x2]; n=length(x)\n",
    "println(\"***Problem setting***\")\n",
    "println(\"Number of variables: n=\",n)\n",
    "println(\"Number of inequality constraints: m=\",m)\n",
    "\n",
    "println(\"Number of equality constraints: l=\",l)"
   ]
  },
  {
   "cell_type": "code",
   "execution_count": 41,
   "metadata": {
    "scrolled": true
   },
   "outputs": [
    {
     "name": "stdout",
     "output_type": "stream",
     "text": [
      "**Interrupted relaxation based on Putinar-Vasilescu's Positivstellensatz**\n",
      "Relaxation order: k=0\n",
      "Sparsity order: s=22\n",
      "Sparsity order: d=2\n",
      "------------------------------------------------------\n",
      "The clique sizes of varibles:\n",
      "[20, 8]\n",
      "[1, 7]\n",
      "------------------------------------------------------\n",
      "  Number of cliques: p=8\n",
      "  Largest clique size: u=20\n",
      " Maximal matrix size:21\n",
      "Problem\n",
      "  Name                   :                 \n",
      "  Objective sense        : max             \n",
      "  Type                   : CONIC (conic optimization problem)\n",
      "  Constraints            : 294             \n",
      "  Cones                  : 0               \n",
      "  Scalar variables       : 960             \n",
      "  Matrix variables       : 8               \n",
      "  Integer variables      : 0               \n",
      "\n",
      "Optimizer started.\n",
      "Presolve started.\n",
      "Linear dependency checker started.\n",
      "Linear dependency checker terminated.\n",
      "Eliminator started.\n",
      "Freed constraints in eliminator : 0\n",
      "Eliminator terminated.\n",
      "Eliminator - tries                  : 1                 time                   : 0.00            \n",
      "Lin. dep.  - tries                  : 1                 time                   : 0.00            \n",
      "Lin. dep.  - number                 : 0               \n",
      "Presolve terminated. Time: 0.00    \n",
      "Problem\n",
      "  Name                   :                 \n",
      "  Objective sense        : max             \n",
      "  Type                   : CONIC (conic optimization problem)\n",
      "  Constraints            : 294             \n",
      "  Cones                  : 0               \n",
      "  Scalar variables       : 960             \n",
      "  Matrix variables       : 8               \n",
      "  Integer variables      : 0               \n",
      "\n",
      "Optimizer  - threads                : 4               \n",
      "Optimizer  - solved problem         : the primal      \n",
      "Optimizer  - Constraints            : 294\n",
      "Optimizer  - Cones                  : 1\n",
      "Optimizer  - Scalar variables       : 749               conic                  : 16              \n",
      "Optimizer  - Semi-definite variables: 8                 scalarized             : 546             \n",
      "Factor     - setup time             : 0.00              dense det. time        : 0.00            \n",
      "Factor     - ML order time          : 0.00              GP order time          : 0.00            \n",
      "Factor     - nonzeros before factor : 3.58e+04          after factor           : 3.58e+04        \n",
      "Factor     - dense dim.             : 0                 flops                  : 5.83e+06        \n",
      "ITE PFEAS    DFEAS    GFEAS    PRSTATUS   POBJ              DOBJ              MU       TIME  \n",
      "0   8.0e+00  1.0e+00  1.0e+00  0.00e+00   0.000000000e+00   0.000000000e+00   1.0e+00  0.00  \n",
      "1   4.3e+00  5.3e-01  6.6e-01  -8.09e-02  6.565252609e-01   9.116825677e-02   5.3e-01  0.01  \n",
      "2   1.6e+00  2.0e-01  4.1e-01  -9.52e-01  3.423403602e+00   1.752267338e-03   2.0e-01  0.01  \n",
      "3   3.3e-01  4.1e-02  1.9e-01  -9.83e-01  1.962487541e+01   4.081420311e-04   4.1e-02  0.01  \n",
      "4   5.5e-02  6.8e-03  7.5e-02  -9.97e-01  1.206071597e+02   4.446567929e-02   6.8e-03  0.01  \n",
      "5   1.3e-02  1.7e-03  3.7e-02  -1.00e+00  5.014577463e+02   5.821504976e-02   1.7e-03  0.02  \n",
      "6   4.7e-03  5.8e-04  2.2e-02  -1.00e+00  1.420596389e+03   7.107164888e-02   5.8e-04  0.02  \n",
      "7   1.1e-03  1.3e-04  1.0e-02  -9.93e-01  6.147113661e+03   6.599259100e-02   1.3e-04  0.02  \n",
      "8   2.3e-04  2.9e-05  4.5e-03  -9.55e-01  2.499599280e+04   2.936384652e-02   2.9e-05  0.03  \n",
      "9   4.4e-05  5.4e-06  1.5e-03  -7.85e-01  7.297384404e+04   4.740376551e-02   5.4e-06  0.03  \n",
      "10  8.3e-06  1.0e-06  2.5e-04  -2.03e-01  5.772300370e+04   2.795544291e-03   1.0e-06  0.03  \n",
      "11  2.5e-06  3.1e-07  4.1e-05  5.47e-01   1.800636357e+04   -3.169948991e-04  3.1e-07  0.03  \n",
      "12  5.5e-07  4.9e-08  1.6e-06  1.16e+00   1.078663705e+03   -1.366450700e-04  4.9e-08  0.04  \n",
      "13  1.4e-07  1.1e-08  1.9e-07  1.21e+00   3.184320048e+02   -3.661057751e-05  1.1e-08  0.04  \n",
      "14  3.8e-08  6.7e-09  2.0e-08  9.93e-01   6.987626106e+01   -5.544663514e-06  2.5e-09  0.04  \n",
      "15  2.4e-08  5.2e-09  2.4e-09  9.99e-01   1.627813679e+01   -7.642445817e-07  5.9e-10  0.04  \n",
      "16  2.0e-08  1.7e-09  2.4e-10  1.00e+00   3.486540013e+00   -2.232479803e-08  1.3e-10  0.05  \n",
      "17  6.0e-09  3.7e-09  4.0e-11  1.00e+00   1.048620907e+00   2.163026596e-08   3.9e-11  0.05  \n",
      "18  3.5e-09  2.0e-09  9.6e-12  1.00e+00   4.081630244e-01   1.751466116e-09   1.5e-11  0.05  \n",
      "19  2.7e-09  1.8e-09  7.4e-12  1.00e+00   3.454735583e-01   -1.595792771e-08  1.3e-11  0.06  \n",
      "20  1.4e-09  1.3e-09  1.3e-12  1.00e+00   1.095815523e-01   -8.223546278e-08  4.0e-12  0.06  \n",
      "Optimizer terminated. Time: 0.07    \n",
      "\n",
      "Termination status = SLOW_PROGRESS\n",
      "Optimal value = 0.10958155228293437\n",
      "  3.400958 seconds (5.51 M allocations: 283.251 MiB, 1.40% gc time)\n"
     ]
    },
    {
     "name": "stderr",
     "output_type": "stream",
     "text": [
      "WARNING: replacing module InterRelax.\n"
     ]
    }
   ],
   "source": [
    "using SparseArrays\n",
    "\n",
    "include(\"../src/InterRelax.jl\")\n",
    "using .InterRelax\n",
    "\n",
    "n,m,l,lmon_g,supp_g,coe_g,lmon_h,supp_h,coe_h,lmon_f,supp_f,coe_f,dg,dh=InterRelax.get_info(x,f,g,h,sparse=true);\n",
    "\n",
    "\n",
    "k=0\n",
    "s=22\n",
    "d=Int64(maximum([sum(supp_f[:,i]) for i in 1:lmon_f]))+1\n",
    "\n",
    "@time opt_val1,opt_sol=InterRelax.RelaxSparse(n,m,l,lmon_g,supp_g,coe_g,lmon_h,supp_h,coe_h,lmon_f,supp_f,coe_f,dg,dh,k,s,d,assign=\"min\",alg=\"MD\",minimize=true,solver=\"Mosek\",comp_opt_sol=false);"
   ]
  },
  {
   "cell_type": "code",
   "execution_count": null,
   "metadata": {},
   "outputs": [],
   "source": []
  },
  {
   "cell_type": "code",
   "execution_count": 42,
   "metadata": {
    "scrolled": true
   },
   "outputs": [
    {
     "name": "stdout",
     "output_type": "stream",
     "text": [
      "**Interrupted relaxation based on Putinar-Vasilescu's Positivstellensatz**\n",
      "Relaxation order: k=1\n",
      "Sparsity order: s=22\n",
      "Sparsity order: d=2\n",
      "------------------------------------------------------\n",
      "The clique sizes of varibles:\n",
      "[20, 8]\n",
      "[1, 7]\n",
      "------------------------------------------------------\n",
      "  Number of cliques: p=8\n",
      "  Largest clique size: u=20\n",
      " Maximal matrix size:21\n",
      "Problem\n",
      "  Name                   :                 \n",
      "  Objective sense        : max             \n",
      "  Type                   : CONIC (conic optimization problem)\n",
      "  Constraints            : 3220            \n",
      "  Cones                  : 0               \n",
      "  Scalar variables       : 7127            \n",
      "  Matrix variables       : 111             \n",
      "  Integer variables      : 0               \n",
      "\n",
      "Optimizer started.\n",
      "Presolve started.\n",
      "Linear dependency checker started.\n",
      "Linear dependency checker terminated.\n",
      "Eliminator started.\n",
      "Freed constraints in eliminator : 0\n",
      "Eliminator terminated.\n",
      "Eliminator - tries                  : 1                 time                   : 0.00            \n",
      "Lin. dep.  - tries                  : 1                 time                   : 0.00            \n",
      "Lin. dep.  - number                 : 0               \n",
      "Presolve terminated. Time: 0.01    \n",
      "Problem\n",
      "  Name                   :                 \n",
      "  Objective sense        : max             \n",
      "  Type                   : CONIC (conic optimization problem)\n",
      "  Constraints            : 3220            \n",
      "  Cones                  : 0               \n",
      "  Scalar variables       : 7127            \n",
      "  Matrix variables       : 111             \n",
      "  Integer variables      : 0               \n",
      "\n",
      "Optimizer  - threads                : 4               \n",
      "Optimizer  - solved problem         : the primal      \n",
      "Optimizer  - Constraints            : 2961\n",
      "Optimizer  - Cones                  : 1\n",
      "Optimizer  - Scalar variables       : 6673              conic                  : 499             \n",
      "Optimizer  - Semi-definite variables: 111               scalarized             : 12621           \n",
      "Factor     - setup time             : 0.16              dense det. time        : 0.00            \n",
      "Factor     - ML order time          : 0.04              GP order time          : 0.00            \n",
      "Factor     - nonzeros before factor : 1.67e+06          after factor           : 2.86e+06        \n",
      "Factor     - dense dim.             : 2                 flops                  : 3.55e+09        \n",
      "ITE PFEAS    DFEAS    GFEAS    PRSTATUS   POBJ              DOBJ              MU       TIME  \n",
      "0   2.7e+00  1.0e+00  1.0e+00  0.00e+00   0.000000000e+00   0.000000000e+00   1.0e+00  0.19  \n",
      "1   2.5e+00  9.1e-01  8.6e-01  1.61e+00   -2.132496087e-01  -2.207102965e-01  9.1e-01  0.77  \n",
      "2   1.9e+00  7.0e-01  1.0e+00  -5.74e-01  1.654655993e+00   8.715337802e-01   7.0e-01  1.34  \n",
      "3   1.2e+00  4.5e-01  5.1e-01  -5.38e-01  6.903218842e-01   2.577045934e-01   4.5e-01  1.87  \n",
      "4   2.2e-01  8.2e-02  2.3e-01  -9.98e-01  6.430605022e+00   -3.260168429e-01  8.2e-02  2.46  \n",
      "5   3.9e-02  1.4e-02  9.9e-02  -1.01e+00  4.605452046e+01   2.421593056e-01   1.4e-02  3.02  \n",
      "6   1.3e-02  4.6e-03  5.7e-02  -1.00e+00  1.496201678e+02   3.171325528e-01   4.6e-03  3.61  \n",
      "7   2.9e-03  1.1e-03  2.8e-02  -1.00e+00  6.769194695e+02   4.356344513e-01   1.1e-03  4.08  \n",
      "8   4.9e-04  1.8e-04  1.1e-02  -9.78e-01  3.680180489e+03   1.977993164e-01   1.8e-04  4.65  \n",
      "9   1.5e-04  5.4e-05  5.5e-03  -9.03e-01  1.068547002e+04   2.917383852e-01   5.4e-05  5.16  \n",
      "10  5.1e-06  1.9e-06  3.9e-04  -7.17e-01  4.343533890e+04   6.494292982e-02   1.9e-06  5.72  \n",
      "11  1.8e-06  1.7e-07  6.5e-06  8.68e-01   1.491571238e+03   5.822932642e-03   1.8e-07  6.29  \n",
      "12  7.7e-07  5.6e-08  1.1e-06  8.88e-01   4.197171779e+02   1.951014515e-03   5.7e-08  6.89  \n",
      "13  4.8e-07  2.9e-08  4.3e-07  9.71e-01   2.189109471e+02   1.055096089e-03   3.0e-08  7.51  \n",
      "14  3.7e-07  1.8e-08  1.9e-07  9.91e-01   1.272469872e+02   6.281825462e-04   1.7e-08  8.04  \n",
      "15  1.9e-07  1.1e-08  4.6e-08  9.95e-01   4.832712247e+01   2.433864398e-04   6.6e-09  8.57  \n",
      "16  8.9e-08  1.6e-08  1.5e-08  9.99e-01   2.221511651e+01   1.093659193e-04   3.0e-09  9.09  \n",
      "17  3.7e-08  7.2e-08  3.9e-09  9.99e-01   9.012625266e+00   4.097377724e-05   1.3e-09  9.60  \n",
      "18  1.5e-08  1.2e-07  9.5e-10  1.00e+00   3.469704300e+00   1.446952729e-05   4.9e-10  10.13 \n",
      "19  8.5e-09  6.0e-08  2.8e-10  1.00e+00   1.507965379e+00   5.800033678e-06   2.2e-10  10.64 \n",
      "Optimizer terminated. Time: 13.72   \n",
      "\n",
      "Termination status = SLOW_PROGRESS\n",
      "Optimal value = 1.5079653792345198\n",
      " 18.640030 seconds (16.78 M allocations: 1.551 GiB, 1.54% gc time)\n"
     ]
    },
    {
     "name": "stderr",
     "output_type": "stream",
     "text": [
      "WARNING: replacing module InterRelax.\n"
     ]
    }
   ],
   "source": [
    "using SparseArrays\n",
    "\n",
    "include(\"../src/InterRelax.jl\")\n",
    "using .InterRelax\n",
    "\n",
    "n,m,l,lmon_g,supp_g,coe_g,lmon_h,supp_h,coe_h,lmon_f,supp_f,coe_f,dg,dh=InterRelax.get_info(x,f,g,h,sparse=true);\n",
    "\n",
    "\n",
    "k=1\n",
    "s=22\n",
    "d=Int64(maximum([sum(supp_f[:,i]) for i in 1:lmon_f]))+1\n",
    "\n",
    "@time opt_val1,opt_sol=InterRelax.RelaxSparse(n,m,l,lmon_g,supp_g,coe_g,lmon_h,supp_h,coe_h,lmon_f,supp_f,coe_f,dg,dh,k,s,d,assign=\"min\",alg=\"MD\",minimize=true,solver=\"Mosek\",comp_opt_sol=false);"
   ]
  },
  {
   "cell_type": "code",
   "execution_count": null,
   "metadata": {},
   "outputs": [],
   "source": []
  },
  {
   "cell_type": "code",
   "execution_count": 43,
   "metadata": {
    "scrolled": true
   },
   "outputs": [
    {
     "name": "stdout",
     "output_type": "stream",
     "text": [
      "************************TSSOS************************\n",
      "TSSOS is launching...\n",
      "------------------------------------------------------\n",
      "The clique sizes of varibles:\n",
      "[8]\n",
      "[20]\n",
      "------------------------------------------------------\n",
      "Obtained the variable cliques in 0.00025675 seconds. The maximal size of cliques is 8.\n",
      "Assembling the SDP...\n",
      "There are 216 affine constraints.\n",
      "SDP assembling time: 0.000754444 seconds.\n",
      "Solving the SDP...\n",
      "Problem\n",
      "  Name                   :                 \n",
      "  Objective sense        : max             \n",
      "  Type                   : CONIC (conic optimization problem)\n",
      "  Constraints            : 216             \n",
      "  Cones                  : 0               \n",
      "  Scalar variables       : 69              \n",
      "  Matrix variables       : 20              \n",
      "  Integer variables      : 0               \n",
      "\n",
      "Optimizer started.\n",
      "Presolve started.\n",
      "Linear dependency checker started.\n",
      "Linear dependency checker terminated.\n",
      "Eliminator started.\n",
      "Freed constraints in eliminator : 0\n",
      "Eliminator terminated.\n",
      "Eliminator - tries                  : 1                 time                   : 0.00            \n",
      "Lin. dep.  - tries                  : 1                 time                   : 0.00            \n",
      "Lin. dep.  - number                 : 0               \n",
      "Presolve terminated. Time: 0.00    \n",
      "Problem\n",
      "  Name                   :                 \n",
      "  Objective sense        : max             \n",
      "  Type                   : CONIC (conic optimization problem)\n",
      "  Constraints            : 216             \n",
      "  Cones                  : 0               \n",
      "  Scalar variables       : 69              \n",
      "  Matrix variables       : 20              \n",
      "  Integer variables      : 0               \n",
      "\n",
      "Optimizer  - threads                : 4               \n",
      "Optimizer  - solved problem         : the primal      \n",
      "Optimizer  - Constraints            : 216\n",
      "Optimizer  - Cones                  : 1\n",
      "Optimizer  - Scalar variables       : 68                conic                  : 16              \n",
      "Optimizer  - Semi-definite variables: 20                scalarized             : 900             \n",
      "Factor     - setup time             : 0.00              dense det. time        : 0.00            \n",
      "Factor     - ML order time          : 0.00              GP order time          : 0.00            \n",
      "Factor     - nonzeros before factor : 1.84e+04          after factor           : 1.97e+04        \n",
      "Factor     - dense dim.             : 0                 flops                  : 2.52e+06        \n",
      "ITE PFEAS    DFEAS    GFEAS    PRSTATUS   POBJ              DOBJ              MU       TIME  \n",
      "0   2.0e+01  1.0e+00  1.0e+00  0.00e+00   0.000000000e+00   0.000000000e+00   1.0e+00  0.00  \n",
      "1   3.4e+00  1.7e-01  3.1e-01  -8.13e-02  2.905600480e+00   3.611102302e-01   1.7e-01  0.00  \n",
      "2   4.5e-01  2.2e-02  1.1e-01  -9.37e-01  2.539404152e+01   1.169485796e+00   2.2e-02  0.01  \n",
      "3   7.5e-02  3.8e-03  4.6e-02  -1.00e+00  1.503077569e+02   3.720411371e+00   3.8e-03  0.01  \n",
      "4   1.5e-02  7.3e-04  2.0e-02  -1.00e+00  7.363487211e+02   7.644931447e+00   7.3e-04  0.01  \n",
      "5   3.2e-03  1.6e-04  9.0e-03  -1.00e+00  3.277359101e+03   1.295159822e+01   1.6e-04  0.01  \n",
      "6   7.6e-04  3.8e-05  4.4e-03  -1.00e+00  1.327909003e+04   2.110974181e+01   3.8e-05  0.02  \n",
      "7   2.1e-04  1.0e-05  2.2e-03  -9.95e-01  4.674966335e+04   3.716031057e+01   1.0e-05  0.02  \n",
      "8   3.6e-05  1.8e-06  8.7e-04  -9.72e-01  2.370536819e+05   1.358369018e+02   1.8e-06  0.02  \n",
      "9   1.1e-05  5.4e-07  3.9e-04  -8.04e-01  5.193770869e+05   2.392045154e+02   5.4e-07  0.02  \n",
      "10  1.9e-06  9.5e-08  5.8e-05  -2.99e-01  3.736776214e+05   2.753283615e+02   9.5e-08  0.02  \n",
      "11  2.9e-07  1.5e-08  2.3e-06  1.43e+00   2.439691125e+04   2.082395472e+02   1.4e-08  0.02  \n",
      "12  1.4e-08  5.6e-10  1.8e-08  8.84e-01   1.283102052e+03   2.068435446e+02   4.7e-10  0.03  \n",
      "13  1.9e-09  7.8e-11  9.6e-10  9.98e-01   3.159438167e+02   1.657578833e+02   6.6e-11  0.03  \n",
      "14  4.1e-10  1.7e-11  8.7e-11  1.00e+00   -6.251857017e+01  -8.886331711e+01  1.4e-11  0.03  \n",
      "15  1.2e-10  2.9e-12  5.9e-12  1.00e+00   -2.834328383e+02  -2.875163380e+02  2.5e-12  0.03  \n",
      "16  1.2e-10  2.6e-12  4.8e-12  1.01e+00   -2.926293353e+02  -2.961702539e+02  2.2e-12  0.04  \n",
      "17  1.2e-10  2.5e-12  4.6e-12  1.01e+00   -2.948716794e+02  -2.982837975e+02  2.1e-12  0.04  \n",
      "18  1.2e-10  2.5e-12  4.6e-12  1.01e+00   -2.948716794e+02  -2.982837975e+02  2.1e-12  0.04  \n",
      "19  1.2e-10  2.5e-12  4.6e-12  1.01e+00   -2.948716794e+02  -2.982837975e+02  2.1e-12  0.05  \n",
      "20  1.2e-10  2.4e-12  4.5e-12  1.01e+00   -2.953161202e+02  -2.986785988e+02  2.1e-12  0.05  \n",
      "21  1.2e-10  2.4e-12  4.5e-12  1.01e+00   -2.953161202e+02  -2.986785988e+02  2.1e-12  0.05  \n",
      "22  1.2e-10  2.4e-12  4.5e-12  1.01e+00   -2.953161202e+02  -2.986785988e+02  2.1e-12  0.06  \n",
      "23  1.1e-10  1.9e-12  3.0e-12  1.01e+00   -3.011452823e+02  -3.037195389e+02  1.6e-12  0.06  \n",
      "24  1.1e-10  1.9e-12  3.0e-12  1.01e+00   -3.011452823e+02  -3.037195389e+02  1.6e-12  0.07  \n",
      "25  1.1e-10  1.9e-12  3.0e-12  1.00e+00   -3.011456918e+02  -3.037196832e+02  1.6e-12  0.07  \n",
      "26  1.1e-10  1.9e-12  3.0e-12  1.00e+00   -3.011458965e+02  -3.037197553e+02  1.6e-12  0.08  \n",
      "Optimizer terminated. Time: 0.08    \n",
      "\n",
      "SDP solving time: 0.083153522 seconds.\n",
      "termination status: SLOW_PROGRESS\n",
      "solution status: UNKNOWN_RESULT_STATUS\n",
      "optimum = -301.14589645593907\n",
      "  0.086257 seconds (58.95 k allocations: 6.666 MiB)\n"
     ]
    },
    {
     "name": "stderr",
     "output_type": "stream",
     "text": [
      "WARNING: replacing module InterRelax.\n"
     ]
    }
   ],
   "source": [
    "using SparseArrays, TSSOS\n",
    "\n",
    "include(\"../src/InterRelax.jl\")\n",
    "using .InterRelax\n",
    "\n",
    "n,m,l,lmon_g,supp_g,coe_g,lmon_h,supp_h,coe_h,lmon_f,supp_f,coe_f,dg,dh=InterRelax.get_info(x,f,g,h,sparse=true);\n",
    "\n",
    "k=1\n",
    "\n",
    "vars,pop=InterRelax.get_POP(n,m,l,lmon_g,supp_g,coe_g,lmon_h,supp_h,coe_h,lmon_f,supp_f,coe_f)\n",
    "@time opt,sol,data=TSSOS.cs_tssos_first(pop,vars,k,numeq=l,CS=\"MD\",TS=false,solver=\"Mosek\");"
   ]
  },
  {
   "cell_type": "code",
   "execution_count": 44,
   "metadata": {},
   "outputs": [
    {
     "data": {
      "text/plain": [
       "9"
      ]
     },
     "execution_count": 44,
     "metadata": {},
     "output_type": "execute_result"
    }
   ],
   "source": [
    "binomial(8+1,1)"
   ]
  },
  {
   "cell_type": "code",
   "execution_count": 45,
   "metadata": {},
   "outputs": [
    {
     "name": "stdout",
     "output_type": "stream",
     "text": [
      "************************TSSOS************************\n",
      "TSSOS is launching...\n",
      "------------------------------------------------------\n",
      "The clique sizes of varibles:\n",
      "[20, 8]\n",
      "[1, 7]\n",
      "------------------------------------------------------\n",
      "Obtained the variable cliques in 0.000350333 seconds. The maximal size of cliques is 20.\n",
      "Assembling the SDP...\n",
      "There are 11781 affine constraints.\n",
      "SDP assembling time: 0.080258632 seconds.\n",
      "Solving the SDP...\n",
      "Problem\n",
      "  Name                   :                 \n",
      "  Objective sense        : max             \n",
      "  Type                   : CONIC (conic optimization problem)\n",
      "  Constraints            : 11781           \n",
      "  Cones                  : 0               \n",
      "  Scalar variables       : 1933            \n",
      "  Matrix variables       : 62              \n",
      "  Integer variables      : 0               \n",
      "\n",
      "Optimizer started.\n",
      "Presolve started.\n",
      "Linear dependency checker started.\n",
      "Linear dependency checker terminated.\n",
      "Eliminator started.\n",
      "Freed constraints in eliminator : 0\n",
      "Eliminator terminated.\n",
      "Eliminator - tries                  : 1                 time                   : 0.00            \n",
      "Lin. dep.  - tries                  : 1                 time                   : 0.00            \n",
      "Lin. dep.  - number                 : 0               \n",
      "Presolve terminated. Time: 0.00    \n",
      "Problem\n",
      "  Name                   :                 \n",
      "  Objective sense        : max             \n",
      "  Type                   : CONIC (conic optimization problem)\n",
      "  Constraints            : 11781           \n",
      "  Cones                  : 0               \n",
      "  Scalar variables       : 1933            \n",
      "  Matrix variables       : 62              \n",
      "  Integer variables      : 0               \n",
      "\n",
      "Optimizer  - threads                : 4               \n",
      "Optimizer  - solved problem         : the primal      \n",
      "Optimizer  - Constraints            : 11781\n",
      "Optimizer  - Cones                  : 1\n",
      "Optimizer  - Scalar variables       : 1934              conic                  : 1934            \n",
      "Optimizer  - Semi-definite variables: 62                scalarized             : 43911           \n",
      "Factor     - setup time             : 4.63              dense det. time        : 0.00            \n",
      "Factor     - ML order time          : 0.97              GP order time          : 0.00            \n",
      "Factor     - nonzeros before factor : 5.69e+07          after factor           : 5.69e+07        \n",
      "Factor     - dense dim.             : 2                 flops                  : 4.02e+11        \n",
      "ITE PFEAS    DFEAS    GFEAS    PRSTATUS   POBJ              DOBJ              MU       TIME  \n",
      "0   8.0e+00  1.0e+00  1.0e+00  0.00e+00   0.000000000e+00   0.000000000e+00   1.0e+00  4.68  \n",
      "1   6.7e+00  8.4e-01  8.8e-01  -1.62e-03  1.333922494e-01   2.458537758e-02   8.4e-01  14.77 \n",
      "2   3.6e+00  4.5e-01  7.2e-01  -7.60e-01  1.538389509e+00   1.705924309e-01   4.5e-01  24.51 \n",
      "3   4.0e-01  4.9e-02  2.0e-01  -8.03e-01  1.508818906e+01   2.181282201e-01   4.9e-02  34.59 \n",
      "4   6.9e-02  8.6e-03  8.5e-02  -1.01e+00  9.763663901e+01   1.131253055e-01   8.6e-03  45.07 \n",
      "5   1.5e-02  1.8e-03  3.8e-02  -9.95e-01  4.285779642e+02   1.676115782e-01   1.8e-03  55.56 \n",
      "6   1.6e-03  2.0e-04  1.2e-02  -9.86e-01  3.732826707e+03   1.994688460e-01   2.0e-04  66.17 \n",
      "7   2.1e-04  2.7e-05  4.4e-03  -9.97e-01  2.705055437e+04   2.165929951e-01   2.7e-05  76.60 \n",
      "8   1.5e-04  1.9e-05  3.7e-03  -1.00e+00  3.936474375e+04   2.208796888e-01   1.9e-05  86.82 \n",
      "9   2.2e-05  2.8e-06  1.4e-03  -1.00e+00  2.572722640e+05   2.549586553e-01   2.8e-06  96.54 \n",
      "10  6.7e-06  8.4e-07  7.6e-04  -1.00e+00  8.363755820e+05   2.381754281e-01   8.4e-07  106.78\n",
      "11  1.0e-06  1.2e-07  3.0e-04  -9.99e-01  5.628380843e+06   2.181475339e-01   1.2e-07  116.81\n",
      "12  7.6e-07  9.0e-08  2.5e-04  -9.93e-01  7.775390343e+06   2.169319322e-01   9.0e-08  126.50\n",
      "13  2.6e-07  3.0e-08  1.5e-04  -9.93e-01  2.321295158e+07   1.845390149e-01   3.0e-08  137.40\n",
      "14  6.7e-08  7.9e-09  7.4e-05  -9.90e-01  8.858758604e+07   1.776237565e-01   7.8e-09  175.59\n",
      "15  3.2e-08  3.8e-09  5.1e-05  -9.88e-01  1.837942677e+08   2.240113457e-01   3.7e-09  184.99\n",
      "16  6.7e-09  1.1e-09  2.3e-05  -9.89e-01  8.772763234e+08   4.844338217e-01   7.7e-10  194.79\n",
      "17  2.0e-09  1.7e-09  1.3e-05  -9.88e-01  2.872980264e+09   8.404103892e-01   2.3e-10  212.53\n",
      "18  6.9e-10  1.5e-08  7.2e-06  -9.87e-01  8.395056716e+09   1.299770845e+00   7.8e-11  223.08\n",
      "19  2.9e-10  7.3e-08  4.7e-06  -9.78e-01  1.913309647e+10   1.762432593e+00   3.3e-11  233.95\n",
      "20  2.9e-10  7.3e-08  4.7e-06  -9.60e-01  1.913309647e+10   1.762432593e+00   3.3e-11  244.30\n",
      "21  2.9e-10  7.3e-08  4.7e-06  -9.60e-01  1.913309647e+10   1.762432593e+00   3.3e-11  255.01\n",
      "Optimizer terminated. Time: 266.02  \n",
      "\n",
      "SDP solving time: 266.258711258 seconds.\n",
      "termination status: SLOW_PROGRESS\n",
      "solution status: INFEASIBILITY_CERTIFICATE\n",
      "optimum = 0.7910015241073102\n",
      "266.396499 seconds (3.67 M allocations: 342.657 MiB, 0.03% gc time)\n"
     ]
    },
    {
     "name": "stderr",
     "output_type": "stream",
     "text": [
      "WARNING: replacing module InterRelax.\n"
     ]
    }
   ],
   "source": [
    "using SparseArrays, TSSOS\n",
    "\n",
    "include(\"../src/InterRelax.jl\")\n",
    "using .InterRelax\n",
    "\n",
    "n,m,l,lmon_g,supp_g,coe_g,lmon_h,supp_h,coe_h,lmon_f,supp_f,coe_f,dg,dh=InterRelax.get_info(x,f,g,h,sparse=true);\n",
    "\n",
    "k=2\n",
    "\n",
    "vars,pop=InterRelax.get_POP(n,m,l,lmon_g,supp_g,coe_g,lmon_h,supp_h,coe_h,lmon_f,supp_f,coe_f)\n",
    "@time opt,sol,data=TSSOS.cs_tssos_first(pop,vars,k,numeq=l,CS=\"MD\",TS=false,solver=\"Mosek\");"
   ]
  },
  {
   "cell_type": "code",
   "execution_count": 46,
   "metadata": {},
   "outputs": [
    {
     "data": {
      "text/plain": [
       "231"
      ]
     },
     "execution_count": 46,
     "metadata": {},
     "output_type": "execute_result"
    }
   ],
   "source": [
    "binomial(20+2,2)"
   ]
  },
  {
   "cell_type": "code",
   "execution_count": null,
   "metadata": {},
   "outputs": [],
   "source": []
  }
 ],
 "metadata": {
  "kernelspec": {
   "display_name": "Julia 1.3.0",
   "language": "julia",
   "name": "julia-1.3"
  },
  "language_info": {
   "file_extension": ".jl",
   "mimetype": "application/julia",
   "name": "julia",
   "version": "1.3.0"
  }
 },
 "nbformat": 4,
 "nbformat_minor": 2
}
