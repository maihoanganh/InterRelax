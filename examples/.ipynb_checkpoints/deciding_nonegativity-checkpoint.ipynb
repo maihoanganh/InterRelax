{
 "cells": [
  {
   "cell_type": "code",
   "execution_count": 2,
   "metadata": {},
   "outputs": [
    {
     "name": "stdout",
     "output_type": "stream",
     "text": [
      "***Problem setting***\n",
      "Number of variable: n=5\n",
      "====================\n",
      "Number of inequality constraints: m=0\n",
      "====================\n",
      "Number of equality constraints: l=1\n"
     ]
    }
   ],
   "source": [
    "using DynamicPolynomials, SparseArrays\n",
    "println(\"***Problem setting***\")\n",
    "\n",
    "n=5\n",
    "println(\"Number of variable: n=\",n)\n",
    "println(\"====================\")\n",
    "\n",
    "@polyvar x[1:n]# variables\n",
    "\n",
    "# random quadratic objective function f\n",
    "v=reverse(monomials(x,4))\n",
    "c=2*rand(Float64,length(v)).-1\n",
    "#include(\"./vec_nonneg_var$(n).jl\")\n",
    "f=c'*v\n",
    "\n",
    "\n",
    "g=Vector{Polynomial{true,Float64}}([])\n",
    " #type of coefficients of each polynomial must be float\n",
    "\n",
    "m=length(g)\n",
    "println(\"Number of inequality constraints: m=\",m)\n",
    "println(\"====================\")\n",
    "\n",
    "h=[1.0-sum(x)]\n",
    "\n",
    "l=length(h)\n",
    "println(\"Number of equality constraints: l=\",l)"
   ]
  },
  {
   "cell_type": "code",
   "execution_count": null,
   "metadata": {},
   "outputs": [],
   "source": []
  },
  {
   "cell_type": "code",
   "execution_count": null,
   "metadata": {
    "scrolled": true
   },
   "outputs": [
    {
     "name": "stdout",
     "output_type": "stream",
     "text": [
      "Relaxation order: k=0\n",
      "Block size: s=9\n",
      "Maximal matrix size:9\n"
     ]
    }
   ],
   "source": [
    "include(\"../src/InterruptedRelax.jl\")\n",
    "using .InterruptedRelax\n",
    "\n",
    "n,m,l,lmon_g,supp_g,coe_g,lmon_h,supp_h,coe_h,lmon_f,supp_f,coe_f,dg,dh=InterruptedRelax.get_info(x,f,g,h,sparse=false);\n",
    "\n",
    "\n",
    "k=0\n",
    "\n",
    "println(\"Relaxation order: k=\",k)\n",
    "\n",
    "s=50\n",
    "\n",
    "println(\"Block size: s=\",s)\n",
    "\n",
    "@time opt_val1,opt_sol=InterruptedRelax.RelaxDense(n,m,l,lmon_g,supp_g,coe_g,lmon_h,supp_h,coe_h,\n",
    "    lmon_f,supp_f,coe_f,dg,dh,k,s,solver=\"Mosek\",comp_opt_sol=true);"
   ]
  },
  {
   "cell_type": "code",
   "execution_count": null,
   "metadata": {},
   "outputs": [],
   "source": []
  },
  {
   "cell_type": "code",
   "execution_count": null,
   "metadata": {},
   "outputs": [],
   "source": []
  },
  {
   "cell_type": "code",
   "execution_count": 19,
   "metadata": {},
   "outputs": [
    {
     "name": "stdout",
     "output_type": "stream",
     "text": [
      "Maximal matrix size: 21\n",
      "************************TSSOS************************"
     ]
    },
    {
     "name": "stderr",
     "output_type": "stream",
     "text": [
      "WARNING: replacing module InterruptedRelax.\n"
     ]
    },
    {
     "name": "stdout",
     "output_type": "stream",
     "text": [
      "\n",
      "TSSOS is launching...\n",
      "------------------------------------------------------\n",
      "The clique sizes of varibles:\n",
      "[20]\n",
      "[1]\n",
      "------------------------------------------------------\n",
      "Assembling the SDP...\n",
      "There are 231 affine constraints.\n",
      "SDP assembling time: 0.000550289 seconds.\n",
      "Solving the SDP...\n",
      "Problem\n",
      "  Name                   :                 \n",
      "  Objective sense        : max             \n",
      "  Type                   : CONIC (conic optimization problem)\n",
      "  Constraints            : 231             \n",
      "  Cones                  : 0               \n",
      "  Scalar variables       : 22              \n",
      "  Matrix variables       : 1               \n",
      "  Integer variables      : 0               \n",
      "\n",
      "Optimizer started.\n",
      "Presolve started.\n",
      "Linear dependency checker started.\n",
      "Linear dependency checker terminated.\n",
      "Eliminator started.\n",
      "Freed constraints in eliminator : 0\n",
      "Eliminator terminated.\n",
      "Eliminator - tries                  : 1                 time                   : 0.00            \n",
      "Lin. dep.  - tries                  : 1                 time                   : 0.00            \n",
      "Lin. dep.  - number                 : 0               \n",
      "Presolve terminated. Time: 0.00    \n",
      "Problem\n",
      "  Name                   :                 \n",
      "  Objective sense        : max             \n",
      "  Type                   : CONIC (conic optimization problem)\n",
      "  Constraints            : 231             \n",
      "  Cones                  : 0               \n",
      "  Scalar variables       : 22              \n",
      "  Matrix variables       : 1               \n",
      "  Integer variables      : 0               \n",
      "\n",
      "Optimizer  - threads                : 4               \n",
      "Optimizer  - solved problem         : the primal      \n",
      "Optimizer  - Constraints            : 231\n",
      "Optimizer  - Cones                  : 1\n",
      "Optimizer  - Scalar variables       : 23                conic                  : 3               \n",
      "Optimizer  - Semi-definite variables: 1                 scalarized             : 231             \n",
      "Factor     - setup time             : 0.00              dense det. time        : 0.00            \n",
      "Factor     - ML order time          : 0.00              GP order time          : 0.00            \n",
      "Factor     - nonzeros before factor : 2.68e+04          after factor           : 2.68e+04        \n",
      "Factor     - dense dim.             : 0                 flops                  : 4.33e+06        \n",
      "ITE PFEAS    DFEAS    GFEAS    PRSTATUS   POBJ              DOBJ              MU       TIME  \n",
      "0   2.0e+00  1.0e+00  1.0e+00  0.00e+00   0.000000000e+00   0.000000000e+00   1.0e+00  0.00  \n",
      "1   2.7e-01  1.4e-01  3.4e-01  -1.17e+00  -9.636945870e+00  -1.522633329e+01  1.4e-01  0.01  \n",
      "2   4.6e-03  2.3e-03  6.2e-02  -1.02e+00  -1.024247626e+03  -1.726180004e+03  2.3e-03  0.01  \n",
      "3   3.7e-05  1.9e-05  4.8e-03  -1.01e+00  -7.667206958e+04  -1.410831640e+05  1.9e-05  0.01  \n",
      "4   3.6e-10  1.8e-10  1.5e-05  -1.00e+00  -8.154418783e+09  -1.503037273e+10  1.8e-10  0.02  \n",
      "5   1.1e-14  1.0e-14  1.5e-09  -1.00e+00  -1.264604304e+00  -2.330966511e+00  9.2e-15  0.02  \n",
      "Optimizer terminated. Time: 0.02    \n",
      "\n",
      "SDP solving time: 0.020268363 seconds.\n",
      "termination status: INFEASIBLE\n",
      "solution status: NO_SOLUTION\n",
      "optimum = -1.2646043039350785\n",
      "  0.023134 seconds (23.88 k allocations: 2.877 MiB)\n"
     ]
    }
   ],
   "source": [
    "using SparseArrays\n",
    "\n",
    "include(\"../src/InterruptedRelax.jl\")\n",
    "using .InterruptedRelax\n",
    "\n",
    "n,m,l,lmon_g,supp_g,coe_g,lmon_h,supp_h,coe_h,lmon_f,supp_f,coe_f,dg,dh=InterruptedRelax.get_info(x,f,g,h,sparse=true);\n",
    "\n",
    "using TSSOS\n",
    "\n",
    "k=1\n",
    "\n",
    "println(\"Maximal matrix size: \",binomial(n+k,k))\n",
    "\n",
    "vars,pop=InterruptedRelax.get_POP(n,m,l,lmon_g,supp_g,coe_g,lmon_h,supp_h,coe_h,lmon_f,supp_f,coe_f)\n",
    "\n",
    "@time opt,sol,data=TSSOS.cs_tssos_first(pop,vars,k,numeq=l,CS=false,TS=false,solver=\"Mosek\");"
   ]
  },
  {
   "cell_type": "code",
   "execution_count": null,
   "metadata": {},
   "outputs": [],
   "source": []
  },
  {
   "cell_type": "code",
   "execution_count": 21,
   "metadata": {},
   "outputs": [
    {
     "name": "stdout",
     "output_type": "stream",
     "text": [
      "Maximal matrix size: 231\n",
      "************************TSSOS************************"
     ]
    },
    {
     "name": "stderr",
     "output_type": "stream",
     "text": [
      "WARNING: replacing module InterruptedRelax.\n"
     ]
    },
    {
     "name": "stdout",
     "output_type": "stream",
     "text": [
      "\n",
      "TSSOS is launching...\n",
      "------------------------------------------------------\n",
      "The clique sizes of varibles:\n",
      "[20]\n",
      "[1]\n",
      "------------------------------------------------------\n",
      "Assembling the SDP...\n",
      "There are 10626 affine constraints.\n",
      "SDP assembling time: 0.056481302 seconds.\n",
      "Solving the SDP...\n",
      "Problem\n",
      "  Name                   :                 \n",
      "  Objective sense        : max             \n",
      "  Type                   : CONIC (conic optimization problem)\n",
      "  Constraints            : 10626           \n",
      "  Cones                  : 0               \n",
      "  Scalar variables       : 232             \n",
      "  Matrix variables       : 21              \n",
      "  Integer variables      : 0               \n",
      "\n",
      "Optimizer started.\n",
      "Presolve started.\n",
      "Linear dependency checker started.\n",
      "Linear dependency checker terminated.\n",
      "Eliminator started.\n",
      "Freed constraints in eliminator : 0\n",
      "Eliminator terminated.\n",
      "Eliminator - tries                  : 1                 time                   : 0.00            \n",
      "Lin. dep.  - tries                  : 1                 time                   : 0.00            \n",
      "Lin. dep.  - number                 : 0               \n",
      "Presolve terminated. Time: 0.00    \n",
      "Problem\n",
      "  Name                   :                 \n",
      "  Objective sense        : max             \n",
      "  Type                   : CONIC (conic optimization problem)\n",
      "  Constraints            : 10626           \n",
      "  Cones                  : 0               \n",
      "  Scalar variables       : 232             \n",
      "  Matrix variables       : 21              \n",
      "  Integer variables      : 0               \n",
      "\n",
      "Optimizer  - threads                : 4               \n",
      "Optimizer  - solved problem         : the primal      \n",
      "Optimizer  - Constraints            : 10626\n",
      "Optimizer  - Cones                  : 1\n",
      "Optimizer  - Scalar variables       : 233               conic                  : 233             \n",
      "Optimizer  - Semi-definite variables: 21                scalarized             : 31416           \n",
      "Factor     - setup time             : 13.93             dense det. time        : 0.00            \n",
      "Factor     - ML order time          : 9.81              GP order time          : 0.00            \n",
      "Factor     - nonzeros before factor : 5.65e+07          after factor           : 5.65e+07        \n",
      "Factor     - dense dim.             : 2                 flops                  : 4.02e+11        \n",
      "ITE PFEAS    DFEAS    GFEAS    PRSTATUS   POBJ              DOBJ              MU       TIME  \n",
      "0   1.0e+00  1.0e+00  1.0e+00  0.00e+00   0.000000000e+00   0.000000000e+00   1.0e+00  13.98 \n",
      "1   7.7e-01  7.7e-01  9.5e-01  -9.47e-01  -1.119299572e+00  -1.519430298e+00  7.7e-01  23.91 \n",
      "2   7.2e-02  7.2e-02  8.2e-02  -7.08e-01  -4.746359056e+00  -5.851232055e+00  7.2e-02  33.59 \n",
      "3   1.2e-02  1.2e-02  2.8e-03  1.94e+00   -1.169588008e+00  -1.209110886e+00  1.2e-02  42.72 \n",
      "4   7.0e-03  7.0e-03  1.1e-03  1.26e+00   -9.619534235e-01  -9.771388707e-01  7.0e-03  51.47 \n",
      "5   2.7e-03  2.7e-03  2.2e-04  1.15e+00   -9.867884258e-01  -9.907723990e-01  2.7e-03  60.20 \n",
      "6   3.5e-05  3.5e-05  9.8e-08  1.03e+00   -9.518736368e-01  -9.518470160e-01  3.5e-05  70.06 \n",
      "7   7.1e-08  7.1e-08  7.6e-12  9.95e-01   -9.519831204e-01  -9.519830625e-01  7.1e-08  79.64 \n",
      "8   1.4e-10  3.9e-11  5.9e-19  9.99e-01   -9.519832203e-01  -9.519832203e-01  1.4e-12  89.39 \n",
      "Optimizer terminated. Time: 89.42   \n",
      "\n",
      "SDP solving time: 89.574806204 seconds.\n",
      "optimum = -0.9519832203376272\n",
      " 89.665598 seconds (1.48 M allocations: 137.060 MiB, 0.07% gc time)\n"
     ]
    }
   ],
   "source": [
    "using SparseArrays\n",
    "\n",
    "include(\"../src/InterruptedRelax.jl\")\n",
    "using .InterruptedRelax\n",
    "\n",
    "n,m,l,lmon_g,supp_g,coe_g,lmon_h,supp_h,coe_h,lmon_f,supp_f,coe_f,dg,dh=InterruptedRelax.get_info(x,f,g,h,sparse=true);\n",
    "\n",
    "using TSSOS\n",
    "\n",
    "k=2\n",
    "\n",
    "println(\"Maximal matrix size: \",binomial(n+k,k))\n",
    "\n",
    "vars,pop=InterruptedRelax.get_POP(n,m,l,lmon_g,supp_g,coe_g,lmon_h,supp_h,coe_h,lmon_f,supp_f,coe_f)\n",
    "\n",
    "@time opt,sol,data=TSSOS.cs_tssos_first(pop,vars,k,numeq=l,CS=false,TS=false,solver=\"Mosek\");"
   ]
  },
  {
   "cell_type": "code",
   "execution_count": null,
   "metadata": {},
   "outputs": [],
   "source": []
  },
  {
   "cell_type": "code",
   "execution_count": null,
   "metadata": {},
   "outputs": [],
   "source": [
    "include(\"../src/InterruptedRelax.jl\")\n",
    "using .InterruptedRelax\n",
    "\n",
    "InterruptedRelax.save_info_vec_nonneg(n,c)"
   ]
  }
 ],
 "metadata": {
  "kernelspec": {
   "display_name": "Julia 1.3.0",
   "language": "julia",
   "name": "julia-1.3"
  },
  "language_info": {
   "file_extension": ".jl",
   "mimetype": "application/julia",
   "name": "julia",
   "version": "1.3.0"
  }
 },
 "nbformat": 4,
 "nbformat_minor": 2
}
