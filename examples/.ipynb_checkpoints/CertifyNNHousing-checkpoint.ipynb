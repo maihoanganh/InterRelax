{
 "cells": [
  {
   "cell_type": "code",
   "execution_count": 32,
   "metadata": {},
   "outputs": [
    {
     "data": {
      "text/plain": [
       "10"
      ]
     },
     "execution_count": 32,
     "metadata": {},
     "output_type": "execute_result"
    }
   ],
   "source": [
    "using MAT\n",
    "using DynamicPolynomials, LinearAlgebra, SparseArrays\n",
    "\n",
    "data=\"/home/hoanganh/Desktop/math-topics/InterruptedRelax/codes/dataPOP2\" # path of data\n",
    "D = matread(data*\"/WeightsHousing4.mat\");\n",
    "W1 = D[\"W1\"]; W2 = D[\"W2\"]; c = D[\"c\"]; x_bar=D[\"x_bar\"]; y_bar=D[\"y_bar\"]\n",
    "eps = 0.1;\n",
    "\n",
    "m1=size(W1,2)\n",
    "m2=size(W2,2)\n",
    "m3=size(W2,1)"
   ]
  },
  {
   "cell_type": "code",
   "execution_count": 33,
   "metadata": {},
   "outputs": [
    {
     "data": {
      "text/plain": [
       "2"
      ]
     },
     "execution_count": 33,
     "metadata": {},
     "output_type": "execute_result"
    }
   ],
   "source": [
    "y_bar"
   ]
  },
  {
   "cell_type": "code",
   "execution_count": 36,
   "metadata": {},
   "outputs": [
    {
     "name": "stdout",
     "output_type": "stream",
     "text": [
      "***Problem setting***\n",
      "Number of variables: n=43\n",
      "Number of inequality constraints: m=43\n",
      "Number of equality constraints: l=30\n"
     ]
    }
   ],
   "source": [
    "@polyvar x1[1:m1] x2[1:m2] x3[1:m3]# variables\n",
    "f=(c[y_bar+1,:]-c[1,:])'*x3\n",
    "g=Vector{Polynomial{true,Float64}}([])\n",
    "h=Vector{Polynomial{true,Float64}}([])\n",
    "\n",
    "pol=1.0*x1[1]\n",
    "\n",
    "for j in 1:m2\n",
    "    pol=x2[j]-sum(W1[j,r]*x1[r] for r=1:m1)\n",
    "    append!(g,[pol])\n",
    "    append!(h,[x2[j]*pol])\n",
    "end\n",
    "for j in 1:m3\n",
    "    pol=x3[j]-sum(W2[j,r]*x2[r] for r=1:m2)\n",
    "    append!(g,[pol])\n",
    "    append!(h,[x3[j]*pol])\n",
    "end\n",
    "\n",
    "for t in 1:m1\n",
    "    append!(g,[-x1[t]+x_bar[1,t]+eps])\n",
    "    #append!(g,[x1[t]-x_bar[1,t]+eps])\n",
    "end\n",
    "\n",
    "m=length(g)\n",
    "l=length(h)\n",
    "\n",
    "\n",
    "\n",
    "f=f([x1;x2;x3]=>[x1+x_bar[1,:]-eps*ones(Float64,m1);x2;x3])\n",
    "\n",
    "for j in 1:m\n",
    "    g[j]=g[j]([x1;x2;x3]=>[x1+x_bar[1,:]-eps*ones(Float64,m1);x2;x3])\n",
    "end\n",
    "\n",
    "for j in 1:l\n",
    "    h[j]=h[j]([x1;x2;x3]=>[x1+x_bar[1,:]-eps*ones(Float64,m1);x2;x3])\n",
    "end\n",
    "\n",
    "x=[x1;x2;x3]; n=length(x)\n",
    "println(\"***Problem setting***\")\n",
    "println(\"Number of variables: n=\",n)\n",
    "println(\"Number of inequality constraints: m=\",m)\n",
    "println(\"Number of equality constraints: l=\",l)"
   ]
  },
  {
   "cell_type": "code",
   "execution_count": 40,
   "metadata": {
    "scrolled": true
   },
   "outputs": [
    {
     "name": "stdout",
     "output_type": "stream",
     "text": [
      "**Interrupted relaxation based on Handelman's Positivstellensatz**\n",
      "Relaxation order: k=3\n",
      "Sparsity order: s=35\n",
      "------------------------------------------------------\n",
      "The clique sizes of varibles:\n",
      "[33, 21]\n",
      "[1, 10]\n",
      "------------------------------------------------------\n",
      "  Number of cliques: p=11\n",
      "  Largest clique size: u=33\n",
      " Maximal matrix size:34\n",
      "Problem\n",
      "  Name                   :                 \n",
      "  Objective sense        : max             \n",
      "  Type                   : CONIC (conic optimization problem)\n",
      "  Constraints            : 9670            \n",
      "  Cones                  : 0               \n",
      "  Scalar variables       : 47629           \n",
      "  Matrix variables       : 308             \n",
      "  Integer variables      : 0               \n",
      "\n",
      "Optimizer started.\n",
      "Presolve started.\n",
      "Linear dependency checker started.\n",
      "Linear dependency checker terminated.\n",
      "Eliminator started.\n",
      "Freed constraints in eliminator : 0\n",
      "Eliminator terminated.\n",
      "Eliminator - tries                  : 1                 time                   : 0.00            \n",
      "Lin. dep.  - tries                  : 1                 time                   : 0.00            \n",
      "Lin. dep.  - number                 : 0               \n",
      "Presolve terminated. Time: 0.07    \n",
      "Problem\n",
      "  Name                   :                 \n",
      "  Objective sense        : max             \n",
      "  Type                   : CONIC (conic optimization problem)\n",
      "  Constraints            : 9670            \n",
      "  Cones                  : 0               \n",
      "  Scalar variables       : 47629           \n",
      "  Matrix variables       : 308             \n",
      "  Integer variables      : 0               \n",
      "\n",
      "Optimizer  - threads                : 4               \n",
      "Optimizer  - solved problem         : the primal      \n",
      "Optimizer  - Constraints            : 9670\n",
      "Optimizer  - Cones                  : 1\n",
      "Optimizer  - Scalar variables       : 33460             conic                  : 902             \n",
      "Optimizer  - Semi-definite variables: 308               scalarized             : 101180          \n",
      "Factor     - setup time             : 9.42              dense det. time        : 1.35            \n",
      "Factor     - ML order time          : 3.16              GP order time          : 0.00            \n",
      "Factor     - nonzeros before factor : 3.08e+07          after factor           : 3.58e+07        \n",
      "Factor     - dense dim.             : 770               flops                  : 1.76e+11        \n",
      "ITE PFEAS    DFEAS    GFEAS    PRSTATUS   POBJ              DOBJ              MU       TIME  \n",
      "0   3.4e+00  1.0e+00  1.0e+00  0.00e+00   0.000000000e+00   0.000000000e+00   1.0e+00  9.75  \n",
      "1   3.1e+00  9.3e-01  9.6e-01  -1.78e-07  4.612388514e-02   8.215051357e-09   9.3e-01  30.93 \n",
      "2   2.9e+00  8.7e-01  9.2e-01  -9.31e-01  1.205165829e-01   4.543060754e-08   8.7e-01  52.22 \n",
      "3   2.4e+00  7.1e-01  8.3e-01  -9.68e-01  3.701277401e-01   9.400391050e-08   7.1e-01  72.99 \n",
      "4   9.4e-01  2.8e-01  5.2e-01  -9.93e-01  2.433663981e+00   1.001887264e-06   2.8e-01  93.75 \n",
      "5   3.9e-01  1.2e-01  3.3e-01  -1.00e+00  7.285498059e+00   4.659373896e-06   1.2e-01  115.29\n",
      "6   9.2e-02  2.7e-02  1.6e-01  -1.00e+00  3.330007963e+01   1.490227107e-05   2.7e-02  136.83\n",
      "7   1.3e-02  3.7e-03  6.0e-02  -1.00e+00  2.531853341e+02   1.257089745e-04   3.7e-03  159.35\n",
      "8   9.5e-03  2.8e-03  5.2e-02  -1.00e+00  3.379590259e+02   1.608397011e-04   2.8e-03  181.05\n",
      "9   4.6e-03  1.4e-03  3.6e-02  -1.00e+00  6.994416640e+02   3.160884064e-04   1.4e-03  201.88\n",
      "10  2.2e-03  6.4e-04  2.5e-02  -1.00e+00  1.496448419e+03   5.761431319e-04   6.4e-04  223.26\n",
      "11  1.7e-03  5.0e-04  2.2e-02  -1.00e+00  1.945881280e+03   5.485275666e-04   5.0e-04  245.27\n",
      "12  5.5e-04  1.7e-04  1.3e-02  -1.00e+00  5.845682769e+03   9.080480583e-04   1.7e-04  268.21\n",
      "13  2.8e-04  8.2e-05  8.9e-03  -1.00e+00  1.175169836e+04   9.499017183e-04   8.2e-05  290.09\n",
      "14  1.4e-04  4.2e-05  6.4e-03  -1.00e+00  2.329503007e+04   1.266765388e-03   4.2e-05  311.60\n",
      "15  9.8e-05  2.9e-05  5.3e-03  -1.00e+00  3.340098339e+04   1.656506764e-03   2.9e-05  332.47\n",
      "16  3.4e-05  1.0e-05  3.1e-03  -1.00e+00  9.597643829e+04   5.281518646e-03   1.0e-05  353.49\n",
      "17  2.5e-05  7.5e-06  2.7e-03  -1.00e+00  1.292785578e+05   7.513488729e-03   7.5e-06  374.31\n",
      "18  2.4e-05  7.1e-06  2.6e-03  -1.00e+00  1.370791424e+05   7.252730728e-03   7.1e-06  395.02\n",
      "19  1.2e-05  3.6e-06  1.9e-03  -1.00e+00  2.694216703e+05   7.812652210e-03   3.6e-06  415.86\n",
      "20  9.0e-06  2.7e-06  1.6e-03  -1.00e+00  3.650968531e+05   7.845061568e-03   2.7e-06  436.65\n",
      "21  4.8e-06  1.4e-06  1.2e-03  -1.00e+00  6.897385479e+05   7.921906191e-03   1.4e-06  457.52\n",
      "22  3.5e-06  1.0e-06  1.0e-03  -1.00e+00  9.421534926e+05   8.463117626e-03   1.0e-06  478.28\n",
      "23  1.6e-06  4.6e-07  6.8e-04  -1.00e+00  2.120294758e+06   1.225428922e-02   4.6e-07  499.00\n",
      "24  8.7e-07  2.6e-07  5.0e-04  -9.99e-01  3.803230396e+06   1.948182319e-02   2.6e-07  519.79\n",
      "25  2.1e-07  6.4e-08  2.5e-04  -9.98e-01  1.540184636e+07   5.585887476e-02   6.4e-08  541.07\n",
      "26  1.3e-07  4.0e-08  2.0e-04  -9.93e-01  2.440018292e+07   8.332996685e-02   4.0e-08  561.73\n",
      "27  8.3e-08  2.5e-08  1.5e-04  -9.89e-01  3.935910415e+07   1.344667526e-01   2.5e-08  582.36\n",
      "28  2.8e-08  8.3e-09  8.8e-05  -9.80e-01  1.121831368e+08   4.017416472e-01   8.3e-09  603.13\n",
      "29  1.0e-08  3.0e-09  5.0e-05  -9.36e-01  2.788850095e+08   1.169420492e+00   3.0e-09  623.76\n",
      "30  4.9e-09  1.5e-09  3.1e-05  -8.04e-01  4.606753444e+08   2.436796511e+00   1.5e-09  645.27\n",
      "31  2.7e-09  8.0e-10  1.9e-05  -5.90e-01  5.761392774e+08   4.124081693e+00   8.0e-10  667.38\n",
      "32  1.4e-09  4.1e-10  9.9e-06  -3.07e-01  5.750123808e+08   6.577864713e+00   4.1e-10  690.21\n",
      "33  6.0e-10  1.8e-10  3.5e-06  9.09e-02   3.943361740e+08   9.535771879e+00   1.8e-10  712.11\n",
      "34  3.9e-10  1.2e-10  2.0e-06  5.31e-01   2.841701644e+08   1.069306641e+01   1.2e-10  733.48\n",
      "35  1.8e-10  5.3e-11  6.3e-07  7.05e-01   1.420381440e+08   1.211512646e+01   5.3e-11  754.66\n",
      "36  1.0e-10  3.0e-11  2.7e-07  9.18e-01   8.292869502e+07   1.269834651e+01   3.0e-11  776.52\n",
      "37  5.1e-11  1.5e-11  9.8e-08  9.96e-01   4.230371151e+07   1.308282190e+01   1.5e-11  799.45\n",
      "38  3.3e-11  9.7e-12  5.1e-08  1.05e+00   2.754375047e+07   1.322164026e+01   9.7e-12  820.40\n",
      "39  2.7e-11  5.2e-12  2.0e-08  1.06e+00   1.469199114e+07   1.333559119e+01   5.2e-12  842.21\n",
      "40  1.8e-11  9.5e-12  2.0e-08  1.06e+00   1.451369220e+07   1.333717056e+01   5.2e-12  864.91\n",
      "41  1.8e-11  9.5e-12  2.0e-08  1.06e+00   1.451369220e+07   1.333717056e+01   5.2e-12  887.44\n",
      "42  1.8e-11  5.2e-12  2.0e-08  1.00e+00   1.446546183e+07   1.333759681e+01   5.2e-12  911.49\n",
      "43  1.8e-11  5.2e-12  2.0e-08  9.96e-01   1.446243301e+07   1.333762383e+01   5.1e-12  933.14\n",
      "44  1.8e-11  5.2e-12  2.0e-08  9.97e-01   1.446243301e+07   1.333762383e+01   5.1e-12  955.90\n",
      "45  1.7e-11  4.6e-12  1.6e-08  9.81e-01   1.290295994e+07   1.335144696e+01   4.6e-12  976.97\n",
      "46  1.7e-11  4.4e-12  1.6e-08  9.84e-01   1.248187713e+07   1.335512889e+01   4.4e-12  999.42\n",
      "47  1.7e-11  4.4e-12  1.6e-08  9.84e-01   1.247866841e+07   1.335515690e+01   4.4e-12  1021.97\n",
      "48  1.7e-11  4.4e-12  1.6e-08  9.84e-01   1.247866841e+07   1.335515690e+01   4.4e-12  1044.28\n",
      "49  1.4e-11  4.3e-12  1.5e-08  9.84e-01   1.206777109e+07   1.335875432e+01   4.3e-12  1067.61\n",
      "50  1.4e-11  4.3e-12  1.5e-08  9.85e-01   1.206777109e+07   1.335875432e+01   4.3e-12  1089.64\n",
      "51  1.4e-11  4.3e-12  1.5e-08  9.85e-01   1.201776931e+07   1.335919310e+01   4.2e-12  1113.25\n",
      "52  1.4e-11  4.3e-12  1.5e-08  9.85e-01   1.200530514e+07   1.335930246e+01   4.2e-12  1135.84\n",
      "53  1.4e-11  4.3e-12  1.5e-08  9.85e-01   1.199907754e+07   1.335935710e+01   4.2e-12  1158.14\n",
      "54  1.4e-11  4.3e-12  1.5e-08  9.85e-01   1.199829937e+07   1.335936393e+01   4.2e-12  1179.90\n",
      "55  1.4e-11  4.3e-12  1.5e-08  9.85e-01   1.199829937e+07   1.335936393e+01   4.2e-12  1202.71\n",
      "Optimizer terminated. Time: 1226.84 \n",
      "\n",
      "Termination status = SLOW_PROGRESS\n",
      "Primal status = UNKNOWN_RESULT_STATUS\n",
      "Optimal value = 1.1998299374062741e7\n",
      "1270.551942 seconds (306.29 M allocations: 41.678 GiB, 0.85% gc time)\n"
     ]
    },
    {
     "name": "stderr",
     "output_type": "stream",
     "text": [
      "WARNING: replacing module InterRelax.\n"
     ]
    }
   ],
   "source": [
    "using SparseArrays\n",
    "\n",
    "include(\"../src/InterRelax.jl\")\n",
    "using .InterRelax\n",
    "\n",
    "n,m,l,lmon_g,supp_g,coe_g,lmon_h,supp_h,coe_h,lmon_f,supp_f,coe_f,dg,dh=InterRelax.get_info(x,f,g,h,sparse=true);\n",
    "#data=\"/home/hoanganh/Desktop/math-topics/InterruptedRelax/codes/dataPOP2\" # path of data\n",
    "#include(data*\"/sparsePOPcliq$(u)nineq$(m)neq$(l).jl\")\n",
    "\n",
    "k=3\n",
    "s=35\n",
    "L=(1e4)*ones(Float64,100)\n",
    "\n",
    "@time opt_val1,opt_sol=InterRelax.RelaxSparse_without_multiplier(n,m,l,lmon_g,supp_g,coe_g,lmon_h,supp_h,coe_h,lmon_f,supp_f,coe_f,dg,dh,s,k,assign=\"min\",alg=\"MD\",minimize=true,solver=\"Mosek\",comp_opt_sol=false,L=L);"
   ]
  },
  {
   "cell_type": "code",
   "execution_count": null,
   "metadata": {},
   "outputs": [],
   "source": []
  },
  {
   "cell_type": "code",
   "execution_count": 41,
   "metadata": {
    "scrolled": true
   },
   "outputs": [
    {
     "name": "stdout",
     "output_type": "stream",
     "text": [
      "**Interrupted relaxation based on Putinar-Vasilescu's Positivstellensatz**\n",
      "Relaxation order: k=1\n",
      "Sparsity order: s=35\n",
      "Sparsity order: d=2\n",
      "------------------------------------------------------\n",
      "The clique sizes of varibles:\n",
      "[33, 21]\n",
      "[1, 10]\n",
      "------------------------------------------------------\n",
      "  Number of cliques: p=11\n",
      "  Largest clique size: u=33\n",
      " Maximal matrix size:34\n",
      "Problem\n",
      "  Name                   :                 \n",
      "  Objective sense        : max             \n",
      "  Type                   : CONIC (conic optimization problem)\n",
      "  Constraints            : 28195           \n",
      "  Cones                  : 0               \n",
      "  Scalar variables       : 46233           \n",
      "  Matrix variables       : 297             \n",
      "  Integer variables      : 0               \n",
      "\n",
      "Optimizer started.\n",
      "Presolve started.\n",
      "Linear dependency checker started.\n",
      "Linear dependency checker terminated.\n",
      "Eliminator started.\n",
      "Freed constraints in eliminator : 0\n",
      "Eliminator terminated.\n",
      "Eliminator - tries                  : 1                 time                   : 0.00            \n",
      "Lin. dep.  - tries                  : 1                 time                   : 0.00            \n",
      "Lin. dep.  - number                 : 0               \n",
      "Presolve terminated. Time: 0.04    \n",
      "GP based matrix reordering started.\n",
      "GP based matrix reordering terminated.\n",
      "Problem\n",
      "  Name                   :                 \n",
      "  Objective sense        : max             \n",
      "  Type                   : CONIC (conic optimization problem)\n",
      "  Constraints            : 28195           \n",
      "  Cones                  : 0               \n",
      "  Scalar variables       : 46233           \n",
      "  Matrix variables       : 297             \n",
      "  Integer variables      : 0               \n",
      "\n",
      "Optimizer  - threads                : 4               \n",
      "Optimizer  - solved problem         : the primal      \n",
      "Optimizer  - Constraints            : 27610\n",
      "Optimizer  - Cones                  : 1\n",
      "Optimizer  - Scalar variables       : 44779             conic                  : 3442            \n",
      "Optimizer  - Semi-definite variables: 297               scalarized             : 98055           \n",
      "Factor     - setup time             : 56.23             dense det. time        : 3.62            \n",
      "Factor     - ML order time          : 7.47              GP order time          : 36.51           \n",
      "Factor     - nonzeros before factor : 4.53e+07          after factor           : 5.23e+07        \n",
      "Factor     - dense dim.             : 2                 flops                  : 1.74e+11        \n",
      "Factor     - GP saved nzs           : 2.89e+08          GP saved flops         : 5.30e+12        \n",
      "ITE PFEAS    DFEAS    GFEAS    PRSTATUS   POBJ              DOBJ              MU       TIME  \n",
      "0   2.7e+00  1.0e+00  1.0e+00  0.00e+00   0.000000000e+00   0.000000000e+00   1.0e+00  56.50 \n",
      "1   2.6e+00  9.8e-01  9.6e-01  1.59e+00   -1.078469861e-01  -1.047587196e-01  9.8e-01  74.40 \n",
      "2   2.5e+00  9.2e-01  1.1e+00  -3.12e-02  3.016189229e+00   2.828450965e+00   9.2e-01  92.49 \n",
      "3   2.3e+00  8.5e-01  8.4e-01  -3.04e-01  1.488758781e+00   1.462024247e+00   8.5e-01  111.81\n",
      "4   1.3e+00  4.8e-01  6.3e-01  -8.09e-01  8.993872131e-01   1.591377984e-01   4.8e-01  129.67\n",
      "5   3.3e-01  1.2e-01  3.1e-01  -9.51e-01  3.629404545e+00   -2.054952944e+00  1.2e-01  147.48\n",
      "6   8.5e-02  3.2e-02  1.5e-01  -9.45e-01  2.442218745e+01   2.913008860e+00   3.2e-02  164.78\n",
      "7   4.6e-02  1.7e-02  9.4e-02  -7.11e-01  3.428106963e+01   5.100809158e+00   1.7e-02  182.28\n",
      "8   2.5e-02  9.2e-03  5.0e-02  -3.83e-01  3.629594503e+01   7.570740146e+00   9.2e-03  200.17\n",
      "9   1.8e-02  6.8e-03  3.3e-02  1.24e-01   3.243760849e+01   8.853732874e+00   6.8e-03  217.47\n",
      "10  1.6e-02  5.9e-03  2.8e-02  3.34e-01   3.106609081e+01   9.318251932e+00   5.9e-03  235.98\n",
      "11  3.5e-03  1.3e-03  3.2e-03  4.10e-01   1.874615868e+01   1.248857267e+01   1.3e-03  254.24\n",
      "12  7.3e-04  2.7e-04  3.6e-04  8.61e-01   1.505504578e+01   1.328937869e+01   2.7e-04  272.37\n",
      "13  2.3e-04  8.5e-05  5.8e-05  1.22e+00   1.387994731e+01   1.342166723e+01   8.5e-05  289.60\n",
      "14  3.8e-05  1.4e-05  2.3e-06  1.37e+00   1.348500129e+01   1.345872791e+01   1.4e-05  307.82\n",
      "15  1.9e-05  7.1e-06  7.8e-07  1.56e+00   1.347126832e+01   1.345941214e+01   7.0e-06  325.22\n",
      "16  6.4e-06  1.8e-06  9.8e-08  1.29e+00   1.346121554e+01   1.345839966e+01   1.8e-06  343.40\n",
      "17  3.8e-06  1.0e-06  4.1e-08  1.02e+00   1.345778863e+01   1.345623176e+01   1.0e-06  361.51\n",
      "18  1.8e-06  3.4e-07  7.4e-09  9.89e-01   1.345100058e+01   1.345053816e+01   3.3e-07  379.31\n",
      "19  1.3e-06  7.5e-08  5.8e-10  1.00e+00   1.342561297e+01   1.342553356e+01   6.3e-08  396.75\n",
      "20  7.7e-07  5.9e-08  2.8e-10  1.00e+00   1.337635025e+01   1.337630181e+01   3.8e-08  414.09\n",
      "21  4.2e-07  6.9e-08  1.1e-10  1.00e+00   1.332400891e+01   1.332398247e+01   2.1e-08  432.91\n",
      "22  4.2e-07  6.9e-08  1.1e-10  1.00e+00   1.332400891e+01   1.332398247e+01   2.1e-08  450.90\n",
      "23  4.2e-07  6.9e-08  1.1e-10  1.00e+00   1.332400891e+01   1.332398247e+01   2.1e-08  469.04\n",
      "Optimizer terminated. Time: 487.42  \n",
      "\n",
      "Termination status = SLOW_PROGRESS\n",
      "Primal status = FEASIBLE_POINT\n",
      "Optimal value = 13.324008910290615\n",
      "518.383542 seconds (218.91 M allocations: 28.432 GiB, 0.99% gc time)\n"
     ]
    },
    {
     "name": "stderr",
     "output_type": "stream",
     "text": [
      "WARNING: replacing module InterRelax.\n"
     ]
    }
   ],
   "source": [
    "using SparseArrays\n",
    "\n",
    "include(\"../src/InterRelax.jl\")\n",
    "using .InterRelax\n",
    "\n",
    "n,m,l,lmon_g,supp_g,coe_g,lmon_h,supp_h,coe_h,lmon_f,supp_f,coe_f,dg,dh=InterRelax.get_info(x,f,g,h,sparse=true);\n",
    "\n",
    "\n",
    "k=1\n",
    "s=35\n",
    "d=Int64(maximum([sum(supp_f[:,i]) for i in 1:lmon_f]))+1\n",
    "\n",
    "@time opt_val1,opt_sol=InterRelax.RelaxSparse(n,m,l,lmon_g,supp_g,coe_g,lmon_h,supp_h,coe_h,lmon_f,supp_f,coe_f,dg,dh,k,s,d,assign=\"min\",alg=\"MD\",minimize=true,solver=\"Mosek\",comp_opt_sol=false);"
   ]
  },
  {
   "cell_type": "code",
   "execution_count": null,
   "metadata": {},
   "outputs": [],
   "source": []
  },
  {
   "cell_type": "code",
   "execution_count": null,
   "metadata": {},
   "outputs": [],
   "source": []
  },
  {
   "cell_type": "code",
   "execution_count": 42,
   "metadata": {
    "scrolled": true
   },
   "outputs": [
    {
     "name": "stdout",
     "output_type": "stream",
     "text": [
      "************************TSSOS************************\n",
      "TSSOS is launching...\n",
      "------------------------------------------------------\n",
      "The clique sizes of varibles:\n",
      "[33, 21]\n",
      "[1, 10]\n",
      "------------------------------------------------------\n",
      "Obtained the variable cliques in 0.001596256 seconds. The maximal size of cliques is 33.\n",
      "Assembling the SDP...\n",
      "There are 86285 affine constraints.\n",
      "SDP assembling time: 1.871864189 seconds.\n",
      "Solving the SDP...\n",
      "Problem\n",
      "  Name                   :                 \n",
      "  Objective sense        : max             \n",
      "  Type                   : CONIC (conic optimization problem)\n",
      "  Constraints            : 86285           \n",
      "  Cones                  : 0               \n",
      "  Scalar variables       : 14431           \n",
      "  Matrix variables       : 97              \n",
      "  Integer variables      : 0               \n",
      "\n",
      "Optimizer started.\n",
      "Presolve started.\n",
      "Linear dependency checker started.\n",
      "Linear dependency checker terminated.\n",
      "Eliminator started.\n",
      "Freed constraints in eliminator : 0\n",
      "Eliminator terminated.\n",
      "Eliminator - tries                  : 1                 time                   : 0.00            \n",
      "Lin. dep.  - tries                  : 1                 time                   : 0.01            \n",
      "Lin. dep.  - number                 : 0               \n",
      "Presolve terminated. Time: 0.04    \n"
     ]
    },
    {
     "name": "stderr",
     "output_type": "stream",
     "text": [
      "WARNING: replacing module InterRelax.\n",
      "WARNING: Force throwing a SIGINT\n"
     ]
    },
    {
     "ename": "InterruptException",
     "evalue": "InterruptException:",
     "output_type": "error",
     "traceback": [
      "InterruptException:",
      "",
      "Stacktrace:",
      " [1] macro expansion at /home/hoanganh/.julia/packages/Mosek/Ue6iA/src/Mosek.jl:30 [inlined]",
      " [2] #370 at /home/hoanganh/.julia/packages/Mosek/Ue6iA/src/msk_functions.jl:5505 [inlined]",
      " [3] disable_sigint at ./c.jl:446 [inlined]",
      " [4] optimize(::Mosek.Task) at /home/hoanganh/.julia/packages/Mosek/Ue6iA/src/msk_functions.jl:5504",
      " [5] optimize!(::MosekTools.MosekModel) at /home/hoanganh/.julia/packages/MosekTools/sppJY/src/MosekTools.jl:272",
      " [6] optimize!(::MathOptInterface.Bridges.LazyBridgeOptimizer{MosekTools.MosekModel}) at /home/hoanganh/.julia/packages/MathOptInterface/YDdD3/src/Bridges/bridge_optimizer.jl:319",
      " [7] optimize!(::MathOptInterface.Utilities.CachingOptimizer{MathOptInterface.AbstractOptimizer,MathOptInterface.Utilities.UniversalFallback{MathOptInterface.Utilities.GenericModel{Float64,MathOptInterface.Utilities.ModelFunctionConstraints{Float64}}}}) at /home/hoanganh/.julia/packages/MathOptInterface/YDdD3/src/Utilities/cachingoptimizer.jl:252",
      " [8] #optimize!#126(::Bool, ::Bool, ::Base.Iterators.Pairs{Union{},Union{},Tuple{},NamedTuple{(),Tuple{}}}, ::typeof(JuMP.optimize!), ::JuMP.Model, ::Nothing) at /home/hoanganh/.julia/packages/JuMP/klrjG/src/optimizer_interface.jl:185",
      " [9] optimize! at /home/hoanganh/.julia/packages/JuMP/klrjG/src/optimizer_interface.jl:157 [inlined] (repeats 2 times)",
      " [10] macro expansion at /home/hoanganh/.julia/packages/TSSOS/yRxCz/src/nblockmix.jl:392 [inlined]",
      " [11] macro expansion at ./util.jl:212 [inlined]",
      " [12] #blockcpop_mix#88(::Int64, ::Int64, ::Bool, ::Bool, ::String, ::Bool, ::Bool, ::Bool, ::Bool, ::Bool, ::Bool, ::typeof(TSSOS.blockcpop_mix), ::Int64, ::Int64, ::Array{Array{Array{UInt16,1},1},1}, ::Array{Array{Float64,1},1}, ::Array{Array{Array{Array{UInt16,1},1},1},1}, ::Array{Array{UInt16,1},1}, ::Int64, ::Array{Int64,1}, ::Array{Array{UInt32,1},1}, ::Array{UInt32,1}, ::Array{Array{Array{Array{UInt16,1},1},1},1}, ::Array{Array{UInt16,1},1}, ::Array{Array{Array{UInt16,1},1},1}) at /home/hoanganh/.julia/packages/TSSOS/yRxCz/src/nblockmix.jl:391",
      " [13] (::TSSOS.var\"#kw##blockcpop_mix\")(::NamedTuple{(:numeq, :nb, :QUIET, :TS, :solver, :tune, :solve, :solution, :MomentOne, :Mommat),Tuple{Int64,Int64,Bool,Bool,String,Bool,Bool,Bool,Bool,Bool}}, ::typeof(TSSOS.blockcpop_mix), ::Int64, ::Int64, ::Array{Array{Array{UInt16,1},1},1}, ::Array{Array{Float64,1},1}, ::Array{Array{Array{Array{UInt16,1},1},1},1}, ::Array{Array{UInt16,1},1}, ::Int64, ::Array{Int64,1}, ::Array{Array{UInt32,1},1}, ::Array{UInt32,1}, ::Array{Array{Array{Array{UInt16,1},1},1},1}, ::Array{Array{UInt16,1},1}, ::Array{Array{Array{UInt16,1},1},1}) at ./none:0",
      " [14] #cs_tssos_first#84(::Int64, ::Int64, ::Int64, ::String, ::Bool, ::String, ::Bool, ::Bool, ::Int64, ::Bool, ::String, ::Bool, ::Bool, ::Bool, ::Bool, ::Bool, ::Float64, ::typeof(cs_tssos_first), ::Array{Array{Array{UInt16,1},1},1}, ::Array{Array{Float64,1},1}, ::Int64, ::Int64) at /home/hoanganh/.julia/packages/TSSOS/yRxCz/src/nblockmix.jl:118",
      " [15] #cs_tssos_first at ./none:0 [inlined]",
      " [16] #cs_tssos_first#81 at /home/hoanganh/.julia/packages/TSSOS/yRxCz/src/nblockmix.jl:47 [inlined]",
      " [17] (::TSSOS.var\"#kw##cs_tssos_first\")(::NamedTuple{(:numeq, :CS, :TS, :solver),Tuple{Int64,String,Bool,String}}, ::typeof(cs_tssos_first), ::Array{Polynomial{true,Float64},1}, ::Array{PolyVar{true},1}, ::Int64) at ./none:0",
      " [18] top-level scope at util.jl:155",
      " [19] top-level scope at In[42]:11"
     ]
    }
   ],
   "source": [
    "using SparseArrays, TSSOS\n",
    "\n",
    "include(\"../src/InterRelax.jl\")\n",
    "using .InterRelax\n",
    "\n",
    "n,m,l,lmon_g,supp_g,coe_g,lmon_h,supp_h,coe_h,lmon_f,supp_f,coe_f,dg,dh=InterRelax.get_info(x,f,g,h,sparse=true);\n",
    "\n",
    "k=2\n",
    "\n",
    "vars,pop=InterRelax.get_POP(n,m,l,lmon_g,supp_g,coe_g,lmon_h,supp_h,coe_h,lmon_f,supp_f,coe_f)\n",
    "@time opt,sol,data=TSSOS.cs_tssos_first(pop,vars,k,numeq=l,CS=\"MD\",TS=false,solver=\"Mosek\");"
   ]
  },
  {
   "cell_type": "code",
   "execution_count": 43,
   "metadata": {},
   "outputs": [
    {
     "data": {
      "text/plain": [
       "595"
      ]
     },
     "execution_count": 43,
     "metadata": {},
     "output_type": "execute_result"
    }
   ],
   "source": [
    "binomial(33+2,2)"
   ]
  },
  {
   "cell_type": "code",
   "execution_count": 35,
   "metadata": {},
   "outputs": [
    {
     "name": "stdout",
     "output_type": "stream",
     "text": [
      "************************TSSOS************************\n",
      "TSSOS is launching...\n",
      "------------------------------------------------------\n",
      "The clique sizes of varibles:\n",
      "[1]\n",
      "[43]\n",
      "------------------------------------------------------\n",
      "Obtained the variable cliques in 0.000588668 seconds. The maximal size of cliques is 1.\n",
      "Assembling the SDP...\n",
      "There are 89 affine constraints.\n",
      "SDP assembling time: 0.000498996 seconds.\n",
      "Solving the SDP...\n",
      "Problem\n",
      "  Name                   :                 \n",
      "  Objective sense        : max             \n",
      "  Type                   : CONIC (conic optimization problem)\n",
      "  Constraints            : 89              \n",
      "  Cones                  : 0               \n",
      "  Scalar variables       : 87              \n",
      "  Matrix variables       : 43              \n",
      "  Integer variables      : 0               \n",
      "\n",
      "Optimizer started.\n",
      "Presolve started.\n",
      "Eliminator - tries                  : 0                 time                   : 0.00            \n",
      "Lin. dep.  - tries                  : 0                 time                   : 0.00            \n",
      "Lin. dep.  - number                 : 0               \n",
      "Presolve terminated. Time: 0.00    \n",
      "Optimizer terminated. Time: 0.00    \n",
      "\n",
      "SDP solving time: 0.003037887 seconds.\n",
      "termination status: DUAL_INFEASIBLE\n",
      "solution status: INFEASIBILITY_CERTIFICATE\n",
      "optimum = 1.0\n",
      "  0.007471 seconds (51.58 k allocations: 8.022 MiB)\n"
     ]
    },
    {
     "name": "stderr",
     "output_type": "stream",
     "text": [
      "WARNING: replacing module InterRelax.\n"
     ]
    }
   ],
   "source": [
    "using SparseArrays, TSSOS\n",
    "\n",
    "include(\"../src/InterRelax.jl\")\n",
    "using .InterRelax\n",
    "\n",
    "n,m,l,lmon_g,supp_g,coe_g,lmon_h,supp_h,coe_h,lmon_f,supp_f,coe_f,dg,dh=InterRelax.get_info(x,f,g,h,sparse=true);\n",
    "\n",
    "k=1\n",
    "\n",
    "vars,pop=InterRelax.get_POP(n,m,l,lmon_g,supp_g,coe_g,lmon_h,supp_h,coe_h,lmon_f,supp_f,coe_f)\n",
    "\n",
    "#var=x\n",
    "#pop=[[f];g;h]\n",
    "\n",
    "@time opt,sol,data=TSSOS.cs_tssos_first(pop,vars,k,numeq=l,CS=\"MD\",TS=false,solver=\"Mosek\");"
   ]
  },
  {
   "cell_type": "code",
   "execution_count": 36,
   "metadata": {},
   "outputs": [
    {
     "data": {
      "text/plain": [
       "22"
      ]
     },
     "execution_count": 36,
     "metadata": {},
     "output_type": "execute_result"
    }
   ],
   "source": [
    "binomial(21+1,1)"
   ]
  },
  {
   "cell_type": "code",
   "execution_count": 37,
   "metadata": {},
   "outputs": [
    {
     "name": "stdout",
     "output_type": "stream",
     "text": [
      "************************TSSOS************************\n",
      "TSSOS is launching...\n",
      "------------------------------------------------------\n",
      "The clique sizes of varibles:\n",
      "[43]\n",
      "[1]\n",
      "------------------------------------------------------\n",
      "Assembling the SDP...\n",
      "There are 990 affine constraints.\n",
      "SDP assembling time: 0.003007182 seconds.\n",
      "Solving the SDP...\n",
      "Problem\n",
      "  Name                   :                 \n",
      "  Objective sense        : max             \n",
      "  Type                   : CONIC (conic optimization problem)\n",
      "  Constraints            : 990             \n",
      "  Cones                  : 0               \n",
      "  Scalar variables       : 117             \n",
      "  Matrix variables       : 1               \n",
      "  Integer variables      : 0               \n",
      "\n",
      "Optimizer started.\n",
      "Presolve started.\n",
      "Linear dependency checker started.\n",
      "Linear dependency checker terminated.\n",
      "Eliminator started.\n",
      "Freed constraints in eliminator : 0\n",
      "Eliminator terminated.\n",
      "Eliminator - tries                  : 1                 time                   : 0.00            \n",
      "Lin. dep.  - tries                  : 1                 time                   : 0.00            \n",
      "Lin. dep.  - number                 : 0               \n",
      "Presolve terminated. Time: 0.00    \n",
      "Problem\n",
      "  Name                   :                 \n",
      "  Objective sense        : max             \n",
      "  Type                   : CONIC (conic optimization problem)\n",
      "  Constraints            : 990             \n",
      "  Cones                  : 0               \n",
      "  Scalar variables       : 117             \n",
      "  Matrix variables       : 1               \n",
      "  Integer variables      : 0               \n",
      "\n",
      "Optimizer  - threads                : 4               \n",
      "Optimizer  - solved problem         : the primal      \n",
      "Optimizer  - Constraints            : 990\n",
      "Optimizer  - Cones                  : 1\n",
      "Optimizer  - Scalar variables       : 118               conic                  : 32              \n",
      "Optimizer  - Semi-definite variables: 1                 scalarized             : 990             \n",
      "Factor     - setup time             : 0.04              dense det. time        : 0.00            \n",
      "Factor     - ML order time          : 0.02              GP order time          : 0.00            \n",
      "Factor     - nonzeros before factor : 4.91e+05          after factor           : 4.91e+05        \n",
      "Factor     - dense dim.             : 2                 flops                  : 3.28e+08        \n",
      "ITE PFEAS    DFEAS    GFEAS    PRSTATUS   POBJ              DOBJ              MU       TIME  \n",
      "0   1.2e+00  1.0e+00  1.0e+00  0.00e+00   0.000000000e+00   0.000000000e+00   1.0e+00  0.04  \n",
      "1   4.0e-01  3.4e-01  4.2e-01  6.46e-01   1.699868859e+00   8.266834617e-01   3.4e-01  0.07  \n"
     ]
    },
    {
     "name": "stderr",
     "output_type": "stream",
     "text": [
      "WARNING: replacing module InterRelax.\n"
     ]
    },
    {
     "name": "stdout",
     "output_type": "stream",
     "text": [
      "2   7.3e-02  6.2e-02  1.8e-01  -9.91e-01  1.011885161e+01   2.474433368e+00   6.2e-02  0.11  \n",
      "3   1.9e-02  1.6e-02  8.9e-02  -9.91e-01  3.661688973e+01   6.265708058e+00   1.6e-02  0.14  \n",
      "4   2.7e-03  2.3e-03  3.2e-02  -9.93e-01  2.001507732e+02   1.344193704e+01   2.3e-03  0.18  \n",
      "5   2.0e-03  1.7e-03  2.5e-02  -7.56e-01  2.248909054e+02   1.160656494e+01   1.7e-03  0.21  \n",
      "6   1.1e-03  8.9e-04  1.5e-02  -6.47e-01  3.133576329e+02   2.175368383e+01   8.9e-04  0.24  \n",
      "7   5.8e-04  4.9e-04  8.1e-03  -3.56e-01  2.918069299e+02   1.732336996e+01   4.9e-04  0.27  \n",
      "8   7.8e-05  6.6e-05  6.3e-04  1.97e-02   1.191229009e+02   2.888828645e+01   6.6e-05  0.31  \n",
      "9   1.3e-05  1.1e-05  3.6e-05  1.77e+00   2.727041375e+01   1.613013151e+01   1.1e-05  0.34  \n",
      "10  1.3e-06  1.1e-06  1.0e-06  1.01e+00   -9.455259657e+00  -1.035616540e+01  1.1e-06  0.37  \n",
      "11  9.2e-07  7.8e-07  8.5e-07  2.73e-01   -2.109969422e+01  -2.226684854e+01  7.8e-07  0.40  \n",
      "12  2.2e-07  1.8e-07  1.7e-07  5.16e-01   -4.811564684e+01  -4.892925107e+01  1.8e-07  0.43  \n",
      "13  9.7e-08  6.3e-08  5.9e-08  5.90e-02   -7.734220687e+01  -7.822251467e+01  6.3e-08  0.45  \n",
      "14  4.7e-08  2.9e-08  3.3e-08  -8.82e-02  -1.099848389e+02  -1.113057799e+02  2.9e-08  0.49  \n",
      "15  2.4e-08  1.3e-08  1.2e-08  2.98e-01   -1.301312194e+02  -1.310983674e+02  1.3e-08  0.52  \n",
      "16  2.4e-08  1.3e-08  1.2e-08  -1.87e-01  -1.301312194e+02  -1.310983674e+02  1.3e-08  0.55  \n",
      "17  2.3e-08  1.1e-08  1.2e-08  -3.04e-01  -1.366572619e+02  -1.377217918e+02  1.1e-08  0.58  \n",
      "18  2.2e-08  1.0e-08  1.1e-08  -2.83e-01  -1.400210455e+02  -1.411091564e+02  1.0e-08  0.62  \n",
      "19  2.0e-08  8.6e-09  9.3e-09  -2.67e-01  -1.495212387e+02  -1.506916090e+02  8.7e-09  0.65  \n",
      "20  2.0e-08  8.6e-09  9.3e-09  -2.73e-01  -1.495212387e+02  -1.506916090e+02  8.7e-09  0.69  \n",
      "21  2.0e-08  8.6e-09  9.3e-09  -2.74e-01  -1.495212387e+02  -1.506916090e+02  8.7e-09  0.73  \n",
      "Optimizer terminated. Time: 0.77    \n",
      "\n",
      "SDP solving time: 0.776293062 seconds.\n",
      "termination status: SLOW_PROGRESS\n",
      "solution status: UNKNOWN_RESULT_STATUS\n",
      "optimum = -149.52123867127415\n",
      "  0.785048 seconds (92.28 k allocations: 12.074 MiB)\n"
     ]
    }
   ],
   "source": [
    "using SparseArrays, TSSOS\n",
    "\n",
    "include(\"../src/InterRelax.jl\")\n",
    "using .InterRelax\n",
    "\n",
    "n,m,l,lmon_g,supp_g,coe_g,lmon_h,supp_h,coe_h,lmon_f,supp_f,coe_f,dg,dh=InterRelax.get_info(x,f,g,h,sparse=true);\n",
    "\n",
    "k=1\n",
    "\n",
    "vars,pop=InterRelax.get_POP(n,m,l,lmon_g,supp_g,coe_g,lmon_h,supp_h,coe_h,lmon_f,supp_f,coe_f)\n",
    "#var=x\n",
    "#pop=[[f];g;h]\n",
    "@time opt,sol,data=TSSOS.cs_tssos_first(pop,vars,k,numeq=l,CS=false,TS=false,solver=\"Mosek\");"
   ]
  },
  {
   "cell_type": "code",
   "execution_count": null,
   "metadata": {},
   "outputs": [],
   "source": []
  }
 ],
 "metadata": {
  "kernelspec": {
   "display_name": "Julia 1.3.0",
   "language": "julia",
   "name": "julia-1.3"
  },
  "language_info": {
   "file_extension": ".jl",
   "mimetype": "application/julia",
   "name": "julia",
   "version": "1.3.0"
  }
 },
 "nbformat": 4,
 "nbformat_minor": 2
}
