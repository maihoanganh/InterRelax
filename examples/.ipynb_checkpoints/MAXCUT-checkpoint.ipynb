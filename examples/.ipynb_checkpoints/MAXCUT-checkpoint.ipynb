{
 "cells": [
  {
   "cell_type": "code",
   "execution_count": 45,
   "metadata": {},
   "outputs": [
    {
     "name": "stdout",
     "output_type": "stream",
     "text": [
      "***Problem setting***\n"
     ]
    },
    {
     "name": "stderr",
     "output_type": "stream",
     "text": [
      "WARNING: replacing module InterRelax.\n"
     ]
    },
    {
     "name": "stdout",
     "output_type": "stream",
     "text": [
      "Number of variables: n=26\n",
      "Number of inequality constraints: m=0\n",
      "Number of equality constraints: l=26\n"
     ]
    }
   ],
   "source": [
    "include(\"../src/InterRelax.jl\")\n",
    "using .InterRelax\n",
    "\n",
    "using DynamicPolynomials, SparseArrays, MatrixMarket\n",
    "\n",
    "println(\"***Problem setting***\")\n",
    "\n",
    "data=\"/home/hoanganh/Desktop/math-topics/InterruptedRelax/codes/dataPOP2\" # path of data\n",
    "path=data*\"/fri26.tsp\"\n",
    "\n",
    "W=InterRelax.readTSP(path).weights\n",
    "\n",
    "n=size(W,1)\n",
    "@polyvar x[1:n]# variables\n",
    "\n",
    "println(\"Number of variables: n=\",n)\n",
    "\n",
    "#W=0.5*(W+W')\n",
    "\n",
    "\n",
    "f=-1.0*sum(W[i,j]*x[i]*(1.0-x[j]) for i=1:n for j=1:n)\n",
    "\n",
    "            \n",
    "# unit sphere constraint\n",
    "g=Vector{Polynomial{true,Float64}}()\n",
    "#type of coefficients of each polynomial must be float\n",
    "\n",
    "m=length(g)\n",
    "println(\"Number of inequality constraints: m=\",m)       \n",
    "\n",
    "h=[x[j]*(1.0-x[j]) for j=1:n]\n",
    "\n",
    "l=length(h)\n",
    "println(\"Number of equality constraints: l=\",l)"
   ]
  },
  {
   "cell_type": "code",
   "execution_count": 50,
   "metadata": {
    "scrolled": false
   },
   "outputs": [
    {
     "name": "stdout",
     "output_type": "stream",
     "text": [
      "**Interrupted relaxation based on Putinar-Vasilescu's Positivstellensatz**\n",
      "Relaxation order: k=0\n",
      "Sparsity order: s=28\n"
     ]
    },
    {
     "name": "stderr",
     "output_type": "stream",
     "text": [
      "WARNING: replacing module InterRelax.\n"
     ]
    },
    {
     "name": "stdout",
     "output_type": "stream",
     "text": [
      "Maximal matrix size:27\n",
      "Problem\n",
      "  Name                   :                 \n",
      "  Objective sense        : max             \n",
      "  Type                   : CONIC (conic optimization problem)\n",
      "  Constraints            : 378             \n",
      "  Cones                  : 0               \n",
      "  Scalar variables       : 378             \n",
      "  Matrix variables       : 1               \n",
      "  Integer variables      : 0               \n",
      "\n",
      "Optimizer started.\n",
      "Presolve started.\n",
      "Linear dependency checker started.\n",
      "Linear dependency checker terminated.\n",
      "Eliminator started.\n",
      "Freed constraints in eliminator : 0\n",
      "Eliminator terminated.\n",
      "Eliminator - tries                  : 1                 time                   : 0.00            \n",
      "Lin. dep.  - tries                  : 1                 time                   : 0.00            \n",
      "Lin. dep.  - number                 : 0               \n",
      "Presolve terminated. Time: 0.00    \n",
      "Problem\n",
      "  Name                   :                 \n",
      "  Objective sense        : max             \n",
      "  Type                   : CONIC (conic optimization problem)\n",
      "  Constraints            : 378             \n",
      "  Cones                  : 0               \n",
      "  Scalar variables       : 378             \n",
      "  Matrix variables       : 1               \n",
      "  Integer variables      : 0               \n",
      "\n",
      "Optimizer  - threads                : 4               \n",
      "Optimizer  - solved problem         : the primal      \n",
      "Optimizer  - Constraints            : 378\n",
      "Optimizer  - Cones                  : 1\n",
      "Optimizer  - Scalar variables       : 379               conic                  : 28              \n",
      "Optimizer  - Semi-definite variables: 1                 scalarized             : 378             \n",
      "Factor     - setup time             : 0.00              dense det. time        : 0.00            \n",
      "Factor     - ML order time          : 0.00              GP order time          : 0.00            \n",
      "Factor     - nonzeros before factor : 7.16e+04          after factor           : 7.16e+04        \n",
      "Factor     - dense dim.             : 0                 flops                  : 1.86e+07        \n",
      "ITE PFEAS    DFEAS    GFEAS    PRSTATUS   POBJ              DOBJ              MU       TIME  \n",
      "0   4.8e+03  1.0e+00  1.0e+00  0.00e+00   0.000000000e+00   0.000000000e+00   1.0e+00  0.00  \n",
      "1   3.9e+03  8.1e-01  9.0e-01  -1.00e+00  -6.448985932e-01  -8.837402507e-01  8.1e-01  0.01  \n",
      "2   2.1e+03  4.3e-01  6.5e-01  -1.00e+00  -6.184512235e+00  -7.527293069e+00  4.3e-01  0.01  \n",
      "3   1.6e+03  3.4e-01  5.8e-01  -1.00e+00  -5.290183804e+01  -5.485806025e+01  3.4e-01  0.01  \n",
      "4   1.4e+03  2.8e-01  5.3e-01  -9.88e-01  -1.939764518e+02  -1.964834471e+02  2.8e-01  0.01  \n",
      "5   1.9e+02  3.9e-02  2.0e-01  -9.86e-01  -2.644371799e+03  -2.668838437e+03  3.9e-02  0.02  \n",
      "6   1.6e+01  3.3e-03  3.9e-02  -8.84e-01  -1.976829835e+04  -1.990286263e+04  3.3e-03  0.02  \n",
      "7   2.8e+00  5.8e-04  2.4e-03  2.26e-01   -2.347882557e+04  -2.349596467e+04  5.8e-04  0.02  \n",
      "8   4.6e-01  9.5e-05  1.2e-04  1.13e+00   -2.253685260e+04  -2.253852818e+04  9.5e-05  0.03  \n",
      "9   1.1e-01  2.2e-05  1.4e-05  1.05e+00   -2.228583359e+04  -2.228625903e+04  2.2e-05  0.03  \n",
      "10  2.5e-02  5.2e-06  1.7e-06  1.01e+00   -2.223926475e+04  -2.223936737e+04  5.2e-06  0.03  \n",
      "11  3.6e-03  7.5e-07  8.6e-08  1.00e+00   -2.222363700e+04  -2.222365027e+04  7.5e-07  0.04  \n",
      "12  1.3e-03  2.7e-07  2.0e-08  1.00e+00   -2.222169970e+04  -2.222170508e+04  2.7e-07  0.04  \n",
      "13  4.0e-04  8.4e-08  3.6e-09  1.00e+00   -2.222105834e+04  -2.222106023e+04  8.4e-08  0.04  \n",
      "14  9.4e-05  1.9e-08  4.1e-10  1.00e+00   -2.222074827e+04  -2.222074872e+04  1.9e-08  0.05  \n",
      "15  9.0e-06  1.9e-09  1.2e-11  1.00e+00   -2.222066775e+04  -2.222066779e+04  1.9e-09  0.05  \n",
      "16  5.1e-06  1.1e-09  5.3e-12  1.00e+00   -2.222066368e+04  -2.222066370e+04  1.1e-09  0.05  \n",
      "17  7.6e-07  1.7e-10  3.5e-13  1.01e+00   -2.222065845e+04  -2.222065845e+04  1.7e-10  0.06  \n",
      "18  5.1e-07  1.5e-10  2.0e-13  1.00e+00   -2.222065816e+04  -2.222065817e+04  1.2e-10  0.06  \n",
      "19  8.3e-08  4.4e-11  1.4e-14  1.00e+00   -2.222065757e+04  -2.222065757e+04  1.9e-11  0.06  \n",
      "Optimizer terminated. Time: 0.06    \n",
      "\n",
      "Termination status = OPTIMAL\n",
      "Optimal value = -22220.657573698256\n",
      "  1.165798 seconds (2.25 M allocations: 165.817 MiB, 2.78% gc time)\n"
     ]
    }
   ],
   "source": [
    "include(\"../src/InterRelax.jl\")\n",
    "using .InterRelax\n",
    "\n",
    "n,m,l,lmon_g,supp_g,coe_g,lmon_h,supp_h,coe_h,lmon_f,supp_f,coe_f,dg,dh=InterRelax.get_info(x,f,g,h,sparse=false);\n",
    "\n",
    "k=0\n",
    "s=28\n",
    "\n",
    "@time opt_val1,opt_sol=InterRelax.RelaxDense(n,m,l,lmon_g,supp_g,coe_g,lmon_h,supp_h,coe_h,\n",
    "    lmon_f,supp_f,coe_f,dg,dh,k,s,solver=\"Mosek\",comp_opt_sol=false);"
   ]
  },
  {
   "cell_type": "code",
   "execution_count": null,
   "metadata": {},
   "outputs": [],
   "source": []
  },
  {
   "cell_type": "code",
   "execution_count": 51,
   "metadata": {
    "scrolled": true
   },
   "outputs": [
    {
     "name": "stdout",
     "output_type": "stream",
     "text": [
      "**Semidefinite relaxation based on Putinar's Positivstellensatz**\n",
      "Relaxation order: k=1\n",
      "Maximal matrix size: 27\n"
     ]
    },
    {
     "name": "stderr",
     "output_type": "stream",
     "text": [
      "WARNING: replacing module InterRelax.\n"
     ]
    },
    {
     "name": "stdout",
     "output_type": "stream",
     "text": [
      "************************TSSOS************************\n",
      "TSSOS is launching...\n",
      "------------------------------------------------------\n",
      "The clique sizes of varibles:\n",
      "[26]\n",
      "[1]\n",
      "------------------------------------------------------\n",
      "Assembling the SDP...\n",
      "There are 378 affine constraints.\n",
      "SDP assembling time: 0.000589746 seconds.\n",
      "Solving the SDP...\n",
      "Problem\n",
      "  Name                   :                 \n",
      "  Objective sense        : max             \n",
      "  Type                   : CONIC (conic optimization problem)\n",
      "  Constraints            : 378             \n",
      "  Cones                  : 0               \n",
      "  Scalar variables       : 53              \n",
      "  Matrix variables       : 1               \n",
      "  Integer variables      : 0               \n",
      "\n",
      "Optimizer started.\n",
      "Presolve started.\n",
      "Linear dependency checker started.\n",
      "Linear dependency checker terminated.\n",
      "Eliminator started.\n",
      "Freed constraints in eliminator : 0\n",
      "Eliminator terminated.\n",
      "Eliminator - tries                  : 1                 time                   : 0.00            \n",
      "Lin. dep.  - tries                  : 1                 time                   : 0.00            \n",
      "Lin. dep.  - number                 : 0               \n",
      "Presolve terminated. Time: 0.00    \n",
      "Problem\n",
      "  Name                   :                 \n",
      "  Objective sense        : max             \n",
      "  Type                   : CONIC (conic optimization problem)\n",
      "  Constraints            : 378             \n",
      "  Cones                  : 0               \n",
      "  Scalar variables       : 53              \n",
      "  Matrix variables       : 1               \n",
      "  Integer variables      : 0               \n",
      "\n",
      "Optimizer  - threads                : 4               \n",
      "Optimizer  - solved problem         : the primal      \n",
      "Optimizer  - Constraints            : 378\n",
      "Optimizer  - Cones                  : 1\n",
      "Optimizer  - Scalar variables       : 54                conic                  : 28              \n",
      "Optimizer  - Semi-definite variables: 1                 scalarized             : 378             \n",
      "Factor     - setup time             : 0.00              dense det. time        : 0.00            \n",
      "Factor     - ML order time          : 0.00              GP order time          : 0.00            \n",
      "Factor     - nonzeros before factor : 7.16e+04          after factor           : 7.16e+04        \n",
      "Factor     - dense dim.             : 0                 flops                  : 1.86e+07        \n",
      "ITE PFEAS    DFEAS    GFEAS    PRSTATUS   POBJ              DOBJ              MU       TIME  \n",
      "0   4.8e+03  1.0e+00  1.0e+00  0.00e+00   0.000000000e+00   0.000000000e+00   1.0e+00  0.00  \n",
      "1   1.8e+03  3.7e-01  5.9e-01  -1.00e+00  -2.164186033e+00  -3.759117257e+00  3.7e-01  0.01  \n",
      "2   5.4e+02  1.1e-01  3.1e-01  -1.00e+00  -6.137738735e+01  -6.822536211e+01  1.1e-01  0.01  \n",
      "3   2.8e+01  5.7e-03  7.2e-02  -1.00e+00  -1.999085950e+03  -2.157396690e+03  5.7e-03  0.02  \n",
      "4   3.3e+00  6.8e-04  2.5e-02  -1.02e+00  -1.823201634e+04  -1.959517749e+04  6.8e-04  0.02  \n",
      "5   1.2e+00  2.6e-04  3.5e-03  -3.80e-01  -2.251975836e+04  -2.271017371e+04  2.6e-04  0.02  \n",
      "6   7.7e-01  1.6e-04  2.2e-03  9.89e-01   -2.488265137e+04  -2.507490633e+04  1.6e-04  0.02  \n",
      "7   1.3e-01  2.7e-05  1.2e-04  1.39e+00   -2.260049635e+04  -2.262149893e+04  2.7e-05  0.03  \n",
      "8   5.0e-03  1.0e-06  1.0e-06  1.08e+00   -2.222699433e+04  -2.222796863e+04  1.0e-06  0.03  \n",
      "9   4.3e-04  8.8e-08  2.9e-08  1.00e+00   -2.222161072e+04  -2.222172218e+04  8.8e-08  0.03  \n",
      "10  7.3e-05  1.5e-08  2.1e-09  1.00e+00   -2.222085471e+04  -2.222087384e+04  1.5e-08  0.04  \n",
      "11  2.1e-06  4.3e-10  9.5e-12  1.00e+00   -2.222066145e+04  -2.222066195e+04  4.3e-10  0.04  \n",
      "12  4.0e-09  8.6e-13  7.5e-16  1.00e+00   -2.222065746e+04  -2.222065746e+04  8.1e-13  0.04  \n",
      "Optimizer terminated. Time: 0.04    \n",
      "\n",
      "SDP solving time: 0.043953079 seconds.\n",
      "optimum = -22220.657462834497\n",
      "  0.046633 seconds (36.83 k allocations: 4.633 MiB)\n",
      "  0.453092 seconds (1.01 M allocations: 76.464 MiB, 8.38% gc time)\n"
     ]
    }
   ],
   "source": [
    "using SparseArrays\n",
    "\n",
    "include(\"../src/InterRelax.jl\")\n",
    "using .InterRelax\n",
    "\n",
    "n,m,l,lmon_g,supp_g,coe_g,lmon_h,supp_h,coe_h,lmon_f,supp_f,coe_f,dg,dh=InterRelax.get_info(x,f,g,h,sparse=true);\n",
    "k=1\n",
    "@time opt=InterRelax.TSSOS_Dense(n,m,l,lmon_g,supp_g,coe_g,lmon_h,supp_h,coe_h,lmon_f,supp_f,coe_f,k);"
   ]
  },
  {
   "cell_type": "code",
   "execution_count": null,
   "metadata": {},
   "outputs": [],
   "source": []
  }
 ],
 "metadata": {
  "kernelspec": {
   "display_name": "Julia 1.3.0",
   "language": "julia",
   "name": "julia-1.3"
  },
  "language_info": {
   "file_extension": ".jl",
   "mimetype": "application/julia",
   "name": "julia",
   "version": "1.3.0"
  }
 },
 "nbformat": 4,
 "nbformat_minor": 2
}
