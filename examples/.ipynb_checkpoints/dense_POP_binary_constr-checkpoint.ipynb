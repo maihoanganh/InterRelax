{
 "cells": [
  {
   "cell_type": "code",
   "execution_count": 21,
   "metadata": {},
   "outputs": [
    {
     "name": "stdout",
     "output_type": "stream",
     "text": [
      "***Problem setting***\n",
      "Number of variable: n=36\n",
      "====================\n",
      "Number of inequality constraints: m=0\n",
      "====================\n",
      "Number of equality constraints: l=36\n"
     ]
    }
   ],
   "source": [
    "using DynamicPolynomials, SparseArrays, MatrixMarket\n",
    "println(\"***Problem setting***\")\n",
    "\n",
    "\n",
    "\n",
    "# random quadratic objective function f\n",
    "data=\"/home/hoanganh/Desktop/math-topics/InterruptedRelax/codes/dataPOP2\" # path of data\n",
    "A = MatrixMarket.mmread(data*\"/GD95_a.mtx\")\n",
    "n=size(A,1)\n",
    "@polyvar x[1:n]# variables\n",
    "\n",
    "println(\"Number of variable: n=\",n)\n",
    "\n",
    "f=-1.0*sum(A[i,j]*x[i]*(1-x[j]) for i=1:n for j=1:n)\n",
    "\n",
    "\n",
    "# unit sphere constraint\n",
    "m=0#ceil(Int64, n/5)\n",
    "g=Vector{Polynomial{true,Float64}}(undef,m)\n",
    " #type of coefficients of each polynomial must be float\n",
    "\n",
    "randx=rand(n)# create a feasible solution\n",
    "for j in 1:n\n",
    "    if randx[j]>0.5\n",
    "        randx[j]=1\n",
    "    else\n",
    "        randx[j]=0\n",
    "    end\n",
    "end\n",
    "for j in 1:m\n",
    "    g[j]=generate_random_poly(v[2:end])\n",
    "    g[j]+=0.125-g[j](x => randx) #make constraints feasible\n",
    "end\n",
    "\n",
    "\n",
    "\n",
    "m=length(g)\n",
    "println(\"Number of inequality constraints: m=\",m)\n",
    "\n",
    "l=0#ceil(Int64,n/5)\n",
    "\n",
    "h=Vector{Polynomial{true,Float64}}(undef,l)\n",
    "for j in 1:l\n",
    "    h[j]=generate_random_poly(v[2:end])\n",
    "    h[j]-=h[j](x => randx) #make constraints feasible\n",
    "end\n",
    "\n",
    "h=[h;[x[j]*(1-x[j]) for j=1:n]]\n",
    "\n",
    "l=length(h)\n",
    "println(\"Number of equality constraints: l=\",l)"
   ]
  },
  {
   "cell_type": "code",
   "execution_count": 22,
   "metadata": {},
   "outputs": [
    {
     "data": {
      "text/plain": [
       "36×36 Array{Bool,2}:\n",
       " 0  0  0  0  0  0  0  0  0  0  0  0  0  …  0  0  0  0  0  0  0  0  0  0  0  0\n",
       " 1  0  0  0  0  0  0  0  0  0  0  0  0     0  0  0  0  0  0  0  0  0  0  0  0\n",
       " 0  1  0  0  0  0  0  0  0  0  0  0  0     0  0  0  0  0  0  0  0  0  0  0  0\n",
       " 0  0  1  0  0  0  0  0  0  0  0  0  0     0  0  0  0  0  0  0  0  0  0  1  0\n",
       " 1  0  0  0  0  1  0  0  0  0  0  0  0     0  0  0  0  0  0  0  0  0  0  0  0\n",
       " 0  0  0  0  0  0  1  0  0  0  0  0  0  …  0  0  0  0  0  0  0  0  0  0  0  0\n",
       " 0  0  0  0  0  0  0  1  0  0  0  0  0     0  0  0  0  0  0  0  0  0  0  0  0\n",
       " 0  0  0  0  1  0  0  0  0  0  0  0  0     0  0  0  0  0  0  0  0  0  0  0  0\n",
       " 0  0  0  0  0  0  0  0  0  1  0  0  0     0  0  0  0  0  0  0  0  0  0  0  0\n",
       " 0  0  0  0  0  0  0  0  0  0  1  0  0     0  0  0  0  0  0  0  0  0  0  0  0\n",
       " 0  0  0  0  0  0  0  0  0  0  0  0  1  …  0  0  0  0  0  0  0  0  0  0  0  0\n",
       " 0  0  0  0  0  0  0  0  1  0  0  0  0     0  0  0  0  0  0  0  0  0  0  0  0\n",
       " 0  0  0  0  0  0  0  0  0  0  0  0  0     0  0  0  0  0  0  0  0  0  0  0  0\n",
       " ⋮              ⋮              ⋮        ⋱     ⋮              ⋮              ⋮\n",
       " 0  0  0  0  0  0  0  0  0  0  0  0  0     0  0  0  0  0  0  0  0  0  0  0  0\n",
       " 0  0  0  0  0  0  0  0  0  0  0  0  0  …  0  0  0  1  0  0  0  0  0  0  0  1\n",
       " 0  0  0  0  0  0  0  0  0  0  0  1  0     0  1  0  0  1  0  0  0  0  0  0  0\n",
       " 0  0  0  0  0  0  0  0  0  0  0  0  0     0  0  1  0  0  0  0  0  0  0  0  0\n",
       " 0  0  0  0  0  0  0  0  0  0  0  0  0     0  0  0  0  0  1  0  0  0  0  0  0\n",
       " 0  0  0  0  0  0  0  0  0  0  0  0  0     0  0  0  0  0  0  0  0  1  1  0  0\n",
       " 0  0  0  0  0  0  0  0  0  0  0  0  0  …  0  0  0  0  0  0  0  1  0  0  0  0\n",
       " 0  0  0  0  0  0  0  0  0  0  0  0  0     0  0  0  0  1  0  0  0  0  0  0  0\n",
       " 0  0  0  0  0  0  0  0  0  0  0  0  0     0  0  0  0  1  0  0  0  0  0  0  0\n",
       " 0  0  0  0  0  0  0  0  0  0  0  0  0     0  0  0  0  0  0  1  0  0  0  0  0\n",
       " 0  0  1  0  0  0  0  0  0  0  0  0  0     0  0  0  0  0  0  0  0  0  0  0  0\n",
       " 0  0  0  0  0  0  0  0  0  0  0  0  0  …  0  0  0  1  0  0  0  0  0  0  0  0"
      ]
     },
     "execution_count": 22,
     "metadata": {},
     "output_type": "execute_result"
    }
   ],
   "source": [
    "Matrix(A)"
   ]
  },
  {
   "cell_type": "code",
   "execution_count": null,
   "metadata": {},
   "outputs": [],
   "source": []
  },
  {
   "cell_type": "code",
   "execution_count": 19,
   "metadata": {
    "scrolled": true
   },
   "outputs": [
    {
     "name": "stdout",
     "output_type": "stream",
     "text": [
      "Relaxation order: k=0\n",
      "Block size: s=30\n"
     ]
    },
    {
     "name": "stderr",
     "output_type": "stream",
     "text": [
      "WARNING: replacing module InterruptedRelax.\n"
     ]
    },
    {
     "name": "stdout",
     "output_type": "stream",
     "text": [
      "Maximal matrix size:29\n",
      "Problem\n",
      "  Name                   :                 \n",
      "  Objective sense        : max             \n",
      "  Type                   : CONIC (conic optimization problem)\n",
      "  Constraints            : 435             \n",
      "  Cones                  : 0               \n",
      "  Scalar variables       : 435             \n",
      "  Matrix variables       : 1               \n",
      "  Integer variables      : 0               \n",
      "\n",
      "Optimizer started.\n",
      "Presolve started.\n",
      "Linear dependency checker started.\n",
      "Linear dependency checker terminated.\n",
      "Eliminator started.\n",
      "Freed constraints in eliminator : 0\n",
      "Eliminator terminated.\n",
      "Eliminator - tries                  : 1                 time                   : 0.00            \n",
      "Lin. dep.  - tries                  : 1                 time                   : 0.00            \n",
      "Lin. dep.  - number                 : 0               \n",
      "Presolve terminated. Time: 0.00    \n",
      "Problem\n",
      "  Name                   :                 \n",
      "  Objective sense        : max             \n",
      "  Type                   : CONIC (conic optimization problem)\n",
      "  Constraints            : 435             \n",
      "  Cones                  : 0               \n",
      "  Scalar variables       : 435             \n",
      "  Matrix variables       : 1               \n",
      "  Integer variables      : 0               \n",
      "\n",
      "Optimizer  - threads                : 4               \n",
      "Optimizer  - solved problem         : the primal      \n",
      "Optimizer  - Constraints            : 435\n",
      "Optimizer  - Cones                  : 1\n",
      "Optimizer  - Scalar variables       : 436               conic                  : 30              \n",
      "Optimizer  - Semi-definite variables: 1                 scalarized             : 435             \n",
      "Factor     - setup time             : 0.01              dense det. time        : 0.00            \n",
      "Factor     - ML order time          : 0.00              GP order time          : 0.00            \n",
      "Factor     - nonzeros before factor : 9.48e+04          after factor           : 9.48e+04        \n",
      "Factor     - dense dim.             : 0                 flops                  : 2.82e+07        \n",
      "ITE PFEAS    DFEAS    GFEAS    PRSTATUS   POBJ              DOBJ              MU       TIME  \n",
      "0   1.5e+01  1.0e+00  1.0e+00  0.00e+00   0.000000000e+00   0.000000000e+00   1.0e+00  0.01  \n",
      "1   1.2e+01  8.2e-01  9.2e-01  -1.04e+00  -6.378709008e-01  -8.773867490e-01  8.2e-01  0.02  \n",
      "2   6.5e+00  4.4e-01  7.0e-01  -1.09e+00  -6.607460156e+00  -8.113999526e+00  4.4e-01  0.02  \n",
      "3   5.2e+00  3.5e-01  5.0e-01  -8.73e-01  -5.062637752e+01  -5.183892261e+01  3.5e-01  0.03  \n",
      "4   3.5e+00  2.3e-01  1.9e-01  1.09e+00   -1.182405122e+02  -1.184518977e+02  2.3e-01  0.03  \n",
      "5   8.9e-01  5.9e-02  9.7e-03  1.03e+00   -1.471567546e+02  -1.470918544e+02  5.9e-02  0.04  \n",
      "6   9.5e-02  6.3e-03  2.3e-04  1.32e+00   -1.414036413e+02  -1.413968356e+02  6.3e-03  0.05  \n",
      "7   2.6e-04  1.7e-05  9.3e-08  1.06e+00   -1.400051919e+02  -1.400051990e+02  1.7e-05  0.05  \n",
      "8   3.4e-09  2.3e-10  4.5e-15  1.00e+00   -1.400000000e+02  -1.400000000e+02  2.2e-10  0.06  \n",
      "Optimizer terminated. Time: 0.06    \n",
      "\n",
      "Termination status = OPTIMAL\n",
      "Optimal value = -140.00000004444533\n",
      "  1.758613 seconds (2.29 M allocations: 188.118 MiB, 3.96% gc time)\n"
     ]
    }
   ],
   "source": [
    "include(\"../src/InterRelax.jl\")\n",
    "using .InterRelax\n",
    "\n",
    "n,m,l,lmon_g,supp_g,coe_g,lmon_h,supp_h,coe_h,lmon_f,supp_f,coe_f,dg,dh=InterRelax.get_info(x,f,g,h,sparse=false);\n",
    "\n",
    "k=0\n",
    "s=30\n",
    "\n",
    "@time opt_val1,opt_sol=InterRelax.RelaxDense(n,m,l,lmon_g,supp_g,coe_g,lmon_h,supp_h,coe_h,\n",
    "    lmon_f,supp_f,coe_f,dg,dh,k,s,solver=\"Mosek\",comp_opt_sol=false);"
   ]
  },
  {
   "cell_type": "code",
   "execution_count": null,
   "metadata": {},
   "outputs": [],
   "source": []
  },
  {
   "cell_type": "code",
   "execution_count": null,
   "metadata": {},
   "outputs": [],
   "source": []
  },
  {
   "cell_type": "code",
   "execution_count": 20,
   "metadata": {},
   "outputs": [
    {
     "name": "stdout",
     "output_type": "stream",
     "text": [
      "Maximal matrix size: 29\n",
      "************************TSSOS************************"
     ]
    },
    {
     "name": "stderr",
     "output_type": "stream",
     "text": [
      "WARNING: replacing module InterruptedRelax.\n"
     ]
    },
    {
     "name": "stdout",
     "output_type": "stream",
     "text": [
      "\n",
      "TSSOS is launching...\n",
      "------------------------------------------------------\n",
      "The clique sizes of varibles:\n",
      "[28]\n",
      "[1]\n",
      "------------------------------------------------------\n",
      "Assembling the SDP...\n",
      "There are 435 affine constraints.\n",
      "SDP assembling time: 0.001543814 seconds.\n",
      "Solving the SDP...\n",
      "Problem\n",
      "  Name                   :                 \n",
      "  Objective sense        : max             \n",
      "  Type                   : CONIC (conic optimization problem)\n",
      "  Constraints            : 435             \n",
      "  Cones                  : 0               \n",
      "  Scalar variables       : 57              \n",
      "  Matrix variables       : 1               \n",
      "  Integer variables      : 0               \n",
      "\n",
      "Optimizer started.\n",
      "Presolve started.\n",
      "Linear dependency checker started.\n",
      "Linear dependency checker terminated.\n",
      "Eliminator started.\n",
      "Freed constraints in eliminator : 0\n",
      "Eliminator terminated.\n",
      "Eliminator - tries                  : 1                 time                   : 0.00            \n",
      "Lin. dep.  - tries                  : 1                 time                   : 0.00            \n",
      "Lin. dep.  - number                 : 0               \n",
      "Presolve terminated. Time: 0.00    \n",
      "Problem\n",
      "  Name                   :                 \n",
      "  Objective sense        : max             \n",
      "  Type                   : CONIC (conic optimization problem)\n",
      "  Constraints            : 435             \n",
      "  Cones                  : 0               \n",
      "  Scalar variables       : 57              \n",
      "  Matrix variables       : 1               \n",
      "  Integer variables      : 0               \n",
      "\n",
      "Optimizer  - threads                : 4               \n",
      "Optimizer  - solved problem         : the primal      \n",
      "Optimizer  - Constraints            : 435\n",
      "Optimizer  - Cones                  : 1\n",
      "Optimizer  - Scalar variables       : 58                conic                  : 30              \n",
      "Optimizer  - Semi-definite variables: 1                 scalarized             : 435             \n",
      "Factor     - setup time             : 0.01              dense det. time        : 0.00            \n",
      "Factor     - ML order time          : 0.00              GP order time          : 0.00            \n",
      "Factor     - nonzeros before factor : 9.48e+04          after factor           : 9.48e+04        \n",
      "Factor     - dense dim.             : 0                 flops                  : 2.82e+07        \n",
      "ITE PFEAS    DFEAS    GFEAS    PRSTATUS   POBJ              DOBJ              MU       TIME  \n",
      "0   1.5e+01  1.0e+00  1.0e+00  0.00e+00   0.000000000e+00   0.000000000e+00   1.0e+00  0.01  \n",
      "1   5.5e+00  3.7e-01  6.7e-01  -1.16e+00  -2.133110612e+00  -4.289826851e+00  3.7e-01  0.02  \n",
      "2   2.0e+00  1.3e-01  4.0e-01  -1.28e+00  -6.787618213e+01  -7.611978518e+01  1.3e-01  0.03  \n",
      "3   4.6e-01  3.1e-02  5.1e-02  -7.08e-01  -1.569783034e+02  -1.593767438e+02  3.1e-02  0.04  \n",
      "4   2.9e-02  1.9e-03  1.4e-04  1.19e+00   -1.438524373e+02  -1.438410150e+02  1.9e-03  0.05  \n",
      "5   1.8e-03  1.2e-04  1.0e-05  1.10e+00   -1.400110630e+02  -1.400180348e+02  1.2e-04  0.05  \n",
      "6   1.5e-06  9.7e-08  2.5e-10  1.00e+00   -1.399999655e+02  -1.399999713e+02  9.7e-08  0.06  \n",
      "7   5.9e-10  4.0e-11  2.0e-15  1.00e+00   -1.400000000e+02  -1.400000000e+02  3.9e-11  0.07  \n",
      "Optimizer terminated. Time: 0.07    \n",
      "\n",
      "SDP solving time: 0.07658534 seconds.\n",
      "optimum = -139.9999999777799\n",
      "  0.082825 seconds (39.06 k allocations: 4.393 MiB)\n"
     ]
    }
   ],
   "source": [
    "using SparseArrays\n",
    "\n",
    "include(\"../src/InterRelax.jl\")\n",
    "using .InterRelax\n",
    "\n",
    "n,m,l,lmon_g,supp_g,coe_g,lmon_h,supp_h,coe_h,lmon_f,supp_f,coe_f,dg,dh=InterRelax.get_info(x,f,g,h,sparse=true);\n",
    "#include(\"./densePOPvar$(n)nineq$(m)neq$(l).jl\");\n",
    "\n",
    "using TSSOS\n",
    "\n",
    "k=1\n",
    "\n",
    "println(\"Maximal matrix size: \",binomial(n+k,k))\n",
    "\n",
    "vars,pop=InterRelax.get_POP(n,m,l,lmon_g,supp_g,coe_g,lmon_h,supp_h,coe_h,lmon_f,supp_f,coe_f)\n",
    "\n",
    "@time opt,sol,data=TSSOS.cs_tssos_first(pop,vars,k,numeq=l,CS=false,TS=false,solver=\"Mosek\");"
   ]
  },
  {
   "cell_type": "code",
   "execution_count": null,
   "metadata": {},
   "outputs": [],
   "source": []
  }
 ],
 "metadata": {
  "kernelspec": {
   "display_name": "Julia 1.3.0",
   "language": "julia",
   "name": "julia-1.3"
  },
  "language_info": {
   "file_extension": ".jl",
   "mimetype": "application/julia",
   "name": "julia",
   "version": "1.3.0"
  }
 },
 "nbformat": 4,
 "nbformat_minor": 2
}
