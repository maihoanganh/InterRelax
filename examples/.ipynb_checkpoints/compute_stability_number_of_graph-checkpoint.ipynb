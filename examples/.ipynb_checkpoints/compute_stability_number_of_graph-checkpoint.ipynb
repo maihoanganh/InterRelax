{
 "cells": [
  {
   "cell_type": "code",
   "execution_count": 21,
   "metadata": {},
   "outputs": [
    {
     "name": "stdout",
     "output_type": "stream",
     "text": [
      "***Problem setting***\n",
      "Number of variables: n=23\n",
      "====================\n",
      "Number of inequality constraints: m=0\n",
      "====================\n",
      "Number of equality constraints: l=1\n",
      "====================\n"
     ]
    }
   ],
   "source": [
    "using DynamicPolynomials, SparseArrays, MatrixMarket\n",
    "\n",
    "println(\"***Problem setting***\")\n",
    "\n",
    "#n=25\n",
    "\n",
    "\n",
    "\n",
    "\n",
    "\n",
    "# random quadratic objective function f\n",
    "\n",
    "#=\n",
    "A=sprand(n, n, 0.5)\n",
    "for i in 1:n\n",
    "    for j=i:n\n",
    "        if i == j\n",
    "            A[j,j]=1\n",
    "        else\n",
    "            A[i,j]=sign(A[j,i])\n",
    "            A[j,i]=A[i,j]\n",
    "        end\n",
    "    end\n",
    "end\n",
    "A=Matrix(A)\n",
    "=#\n",
    "\n",
    "\n",
    "#include(\"./mat_stability_size$(n).jl\")\n",
    "A = MatrixMarket.mmread(\"GD02_a.mtx\")\n",
    "\n",
    "n=size(A,1)\n",
    "for i in 1:n\n",
    "    A[i,i]=1\n",
    "end\n",
    "@polyvar x[1:n]# variables\n",
    "\n",
    "println(\"Number of variables: n=\",n)\n",
    "println(\"====================\")\n",
    "\n",
    "#f=sum(A[i,j]*x[i]*x[j] for i=1:n for j=1:n)*1.0\n",
    "f=0.0\n",
    "for j in 1:n\n",
    "    for i in j:n\n",
    "        if i==j\n",
    "            f+=A[i,j]*x[i]*x[j]\n",
    "        else\n",
    "            f+=2*A[i,j]*x[i]*x[j]\n",
    "        end\n",
    "    end\n",
    "end\n",
    "            \n",
    "g=Vector{Polynomial{true,Float64}}([])\n",
    "#type of coefficients of each polynomial must be float\n",
    "\n",
    "m=length(g)\n",
    "println(\"Number of inequality constraints: m=\",m)\n",
    "println(\"====================\")            \n",
    "\n",
    "# unit sphere constraint\n",
    "h=[1.0-sum(x)] #type of coefficients of each polynomial must be float\n",
    "\n",
    "l=length(h)\n",
    "\n",
    "println(\"Number of equality constraints: l=\",l)\n",
    "println(\"====================\")"
   ]
  },
  {
   "cell_type": "code",
   "execution_count": 24,
   "metadata": {},
   "outputs": [
    {
     "name": "stdout",
     "output_type": "stream",
     "text": [
      "Relaxation order: k=1\n",
      "Block size: s=25\n"
     ]
    },
    {
     "name": "stderr",
     "output_type": "stream",
     "text": [
      "WARNING: replacing module InterruptedRelax.\n"
     ]
    },
    {
     "name": "stdout",
     "output_type": "stream",
     "text": [
      "Maximal matrix size:24\n",
      "Problem\n",
      "  Name                   :                 \n",
      "  Objective sense        : max             \n",
      "  Type                   : CONIC (conic optimization problem)\n",
      "  Constraints            : 2600            \n",
      "  Cones                  : 0               \n",
      "  Scalar variables       : 2325            \n",
      "  Matrix variables       : 24              \n",
      "  Integer variables      : 0               \n",
      "\n",
      "Optimizer started.\n",
      "Presolve started.\n",
      "Linear dependency checker started.\n",
      "Linear dependency checker terminated.\n",
      "Eliminator started.\n",
      "Freed constraints in eliminator : 0\n",
      "Eliminator terminated.\n",
      "Eliminator - tries                  : 1                 time                   : 0.00            \n",
      "Lin. dep.  - tries                  : 1                 time                   : 0.00            \n",
      "Lin. dep.  - number                 : 0               \n",
      "Presolve terminated. Time: 0.00    \n",
      "GP based matrix reordering started.\n",
      "GP based matrix reordering terminated.\n",
      "Problem\n",
      "  Name                   :                 \n",
      "  Objective sense        : max             \n",
      "  Type                   : CONIC (conic optimization problem)\n",
      "  Constraints            : 2600            \n",
      "  Cones                  : 0               \n",
      "  Scalar variables       : 2325            \n",
      "  Matrix variables       : 24              \n",
      "  Integer variables      : 0               \n",
      "\n",
      "Optimizer  - threads                : 4               \n",
      "Optimizer  - solved problem         : the primal      \n",
      "Optimizer  - Constraints            : 2600\n",
      "Optimizer  - Cones                  : 1\n",
      "Optimizer  - Scalar variables       : 2326              conic                  : 302             \n",
      "Optimizer  - Semi-definite variables: 24                scalarized             : 7200            \n",
      "Factor     - setup time             : 0.49              dense det. time        : 0.03            \n",
      "Factor     - ML order time          : 0.19              GP order time          : 0.18            \n",
      "Factor     - nonzeros before factor : 1.01e+06          after factor           : 3.12e+06        \n",
      "Factor     - dense dim.             : 2                 flops                  : 4.95e+09        \n",
      "ITE PFEAS    DFEAS    GFEAS    PRSTATUS   POBJ              DOBJ              MU       TIME  \n",
      "0   6.0e+00  1.0e+00  1.0e+00  0.00e+00   0.000000000e+00   0.000000000e+00   1.0e+00  0.49  \n",
      "1   3.4e+00  5.6e-01  6.6e-01  -6.88e-01  -8.760960044e-01  -1.365282319e+00  5.6e-01  0.66  \n",
      "2   1.6e-01  2.6e-02  6.4e-03  -7.10e-01  -2.987434466e+00  -2.967488845e+00  2.6e-02  0.96  \n",
      "3   1.9e-02  3.2e-03  3.4e-04  2.91e+00   -5.800368063e-01  -5.880078905e-01  3.2e-03  1.20  \n",
      "4   1.3e-02  2.1e-03  1.1e-04  1.07e+00   -2.703360771e-01  -2.712657541e-01  2.1e-03  1.45  \n",
      "5   8.5e-03  1.4e-03  3.8e-05  2.54e+00   -1.025875045e-01  -1.026347908e-01  1.4e-03  1.64  \n",
      "6   3.3e-03  5.4e-04  5.5e-06  2.43e+00   -2.018830518e-02  -2.015511424e-02  5.4e-04  1.85  \n",
      "7   1.3e-03  2.1e-04  8.1e-07  2.29e+00   -4.581381061e-03  -4.566779110e-03  2.1e-04  2.03  \n",
      "8   7.1e-05  1.2e-05  8.2e-09  1.56e+00   -1.940874560e-04  -1.933761543e-04  1.2e-05  2.22  \n",
      "9   1.2e-07  2.0e-08  5.8e-13  1.03e+00   -3.124039520e-07  -3.113134411e-07  2.0e-08  2.45  \n",
      "Optimizer terminated. Time: 2.45    \n",
      "\n",
      "Termination status = OPTIMAL\n",
      "Optimal value = -3.124039519537318e-7\n",
      "  5.036125 seconds (13.96 M allocations: 2.835 GiB, 6.72% gc time)\n"
     ]
    },
    {
     "data": {
      "text/plain": [
       "(-3.124039519537318e-7, Float64[])"
      ]
     },
     "execution_count": 24,
     "metadata": {},
     "output_type": "execute_result"
    }
   ],
   "source": [
    "include(\"../src/InterruptedRelax.jl\")\n",
    "using .InterruptedRelax\n",
    "\n",
    "n,m,l,lmon_g,supp_g,coe_g,lmon_h,supp_h,coe_h,lmon_f,supp_f,coe_f,dg,dh=InterruptedRelax.get_info(x,f,g,h,sparse=false);\n",
    "\n",
    "\n",
    "k=1\n",
    "\n",
    "println(\"Relaxation order: k=\",k)\n",
    "\n",
    "s=25\n",
    "\n",
    "println(\"Block size: s=\",s)\n",
    "\n",
    "@time opt_val1,opt_sol=InterruptedRelax.RelaxDense(n,m,l,lmon_g,supp_g,coe_g,lmon_h,supp_h,coe_h,\n",
    "    lmon_f,supp_f,coe_f,dg,dh,k,s,solver=\"Mosek\",comp_opt_sol=false)"
   ]
  },
  {
   "cell_type": "code",
   "execution_count": 23,
   "metadata": {},
   "outputs": [
    {
     "data": {
      "text/plain": [
       "-7.027549513616335e7"
      ]
     },
     "execution_count": 23,
     "metadata": {},
     "output_type": "execute_result"
    }
   ],
   "source": [
    "1/opt_val1"
   ]
  },
  {
   "cell_type": "code",
   "execution_count": 19,
   "metadata": {
    "scrolled": true
   },
   "outputs": [
    {
     "name": "stdout",
     "output_type": "stream",
     "text": [
      "Relaxation order: k=0\n",
      "Block size: s=12\n"
     ]
    },
    {
     "name": "stderr",
     "output_type": "stream",
     "text": [
      "WARNING: replacing module InterruptedRelax.\n"
     ]
    },
    {
     "name": "stdout",
     "output_type": "stream",
     "text": [
      "Maximal matrix size:12\n",
      "Problem\n",
      "  Name                   :                 \n",
      "  Objective sense        : max             \n",
      "  Type                   : CONIC (conic optimization problem)\n",
      "  Constraints            : 300             \n",
      "  Cones                  : 0               \n",
      "  Scalar variables       : 301             \n",
      "  Matrix variables       : 13              \n",
      "  Integer variables      : 0               \n",
      "\n",
      "Optimizer started.\n",
      "Presolve started.\n",
      "Linear dependency checker started.\n",
      "Linear dependency checker terminated.\n",
      "Eliminator started.\n",
      "Freed constraints in eliminator : 23\n",
      "Eliminator terminated.\n",
      "Eliminator - tries                  : 1                 time                   : 0.00            \n",
      "Lin. dep.  - tries                  : 1                 time                   : 0.00            \n",
      "Lin. dep.  - number                 : 0               \n",
      "Presolve terminated. Time: 0.00    \n",
      "Problem\n",
      "  Name                   :                 \n",
      "  Objective sense        : max             \n",
      "  Type                   : CONIC (conic optimization problem)\n",
      "  Constraints            : 300             \n",
      "  Cones                  : 0               \n",
      "  Scalar variables       : 301             \n",
      "  Matrix variables       : 13              \n",
      "  Integer variables      : 0               \n",
      "\n",
      "Optimizer  - threads                : 4               \n",
      "Optimizer  - solved problem         : the primal      \n",
      "Optimizer  - Constraints            : 277\n",
      "Optimizer  - Cones                  : 1\n",
      "Optimizer  - Scalar variables       : 279               conic                  : 3               \n",
      "Optimizer  - Semi-definite variables: 13                scalarized             : 1014            \n",
      "Factor     - setup time             : 0.00              dense det. time        : 0.00            \n",
      "Factor     - ML order time          : 0.00              GP order time          : 0.00            \n",
      "Factor     - nonzeros before factor : 2.15e+04          after factor           : 3.53e+04        \n",
      "Factor     - dense dim.             : 1                 flops                  : 6.38e+06        \n",
      "ITE PFEAS    DFEAS    GFEAS    PRSTATUS   POBJ              DOBJ              MU       TIME  \n",
      "0   1.1e+01  1.0e+00  1.0e+00  0.00e+00   0.000000000e+00   0.000000000e+00   1.0e+00  0.00  \n",
      "1   4.3e+00  3.9e-01  1.3e-01  2.11e-01   -1.037789728e+00  -8.424544793e-01  3.9e-01  0.01  \n",
      "2   1.1e+00  9.8e-02  7.4e-03  1.86e+00   -4.867883782e-01  -4.508227776e-01  9.8e-02  0.01  \n",
      "3   2.8e-01  2.5e-02  8.6e-04  1.68e+00   -1.476823908e-01  -1.413045165e-01  2.5e-02  0.01  \n",
      "4   1.5e-01  1.4e-02  3.3e-04  1.69e+00   -3.458983279e-02  -3.187734013e-02  1.4e-02  0.02  \n",
      "5   8.9e-02  8.1e-03  1.4e-04  1.41e+00   2.124257397e-02   2.261217923e-02   8.1e-03  0.02  \n",
      "6   1.8e-02  1.6e-03  1.1e-05  1.28e+00   5.899260136e-02   5.924137928e-02   1.6e-03  0.02  \n",
      "7   4.1e-03  3.8e-04  1.3e-06  1.06e+00   6.467515852e-02   6.473062828e-02   3.8e-04  0.03  \n",
      "8   9.3e-04  8.5e-05  1.4e-07  1.01e+00   6.621100995e-02   6.622345412e-02   8.5e-05  0.03  \n",
      "9   2.1e-04  2.0e-05  1.5e-08  1.00e+00   6.655979737e-02   6.656265441e-02   2.0e-05  0.03  \n",
      "10  4.2e-05  3.9e-06  1.3e-09  1.00e+00   6.664531032e-02   6.664587382e-02   3.9e-06  0.03  \n",
      "11  1.2e-05  1.0e-06  1.8e-10  1.00e+00   6.666092262e-02   6.666107574e-02   1.0e-06  0.04  \n",
      "12  2.0e-06  1.9e-07  1.4e-11  1.00e+00   6.666563843e-02   6.666566582e-02   1.9e-07  0.04  \n",
      "13  4.8e-07  4.3e-08  1.5e-12  1.00e+00   6.666642875e-02   6.666643513e-02   4.3e-08  0.04  \n",
      "14  1.1e-07  9.8e-09  1.6e-13  1.00e+00   6.666661251e-02   6.666661396e-02   9.8e-09  0.05  \n",
      "Optimizer terminated. Time: 0.05    \n",
      "\n",
      "Termination status = OPTIMAL\n",
      "Optimal value = 0.06666661251018555\n",
      "  1.018316 seconds (2.16 M allocations: 142.161 MiB, 2.21% gc time)\n"
     ]
    },
    {
     "data": {
      "text/plain": [
       "(0.06666661251018555, Float64[])"
      ]
     },
     "execution_count": 19,
     "metadata": {},
     "output_type": "execute_result"
    }
   ],
   "source": [
    "include(\"../src/InterruptedRelax.jl\")\n",
    "using .InterruptedRelax\n",
    "\n",
    "n,m,l,lmon_g,supp_g,coe_g,lmon_h,supp_h,coe_h,lmon_f,supp_f,coe_f,dg,dh=InterruptedRelax.get_info(x,f,g,h,sparse=false);\n",
    "\n",
    "\n",
    "k=0\n",
    "\n",
    "println(\"Relaxation order: k=\",k)\n",
    "\n",
    "s=12\n",
    "\n",
    "println(\"Block size: s=\",s)\n",
    "\n",
    "@time opt_val1,opt_sol=InterruptedRelax.RelaxDense(n,m,l,lmon_g,supp_g,coe_g,lmon_h,supp_h,coe_h,\n",
    "    lmon_f,supp_f,coe_f,dg,dh,k,s,solver=\"Mosek\")"
   ]
  },
  {
   "cell_type": "code",
   "execution_count": 20,
   "metadata": {},
   "outputs": [
    {
     "data": {
      "text/plain": [
       "15.00001218521815"
      ]
     },
     "execution_count": 20,
     "metadata": {},
     "output_type": "execute_result"
    }
   ],
   "source": [
    "1/opt_val1"
   ]
  },
  {
   "cell_type": "code",
   "execution_count": null,
   "metadata": {},
   "outputs": [],
   "source": []
  },
  {
   "cell_type": "code",
   "execution_count": 15,
   "metadata": {
    "scrolled": true
   },
   "outputs": [
    {
     "name": "stdout",
     "output_type": "stream",
     "text": [
      "Maximal matrix size: 24\n",
      "************************TSSOS************************"
     ]
    },
    {
     "name": "stderr",
     "output_type": "stream",
     "text": [
      "WARNING: replacing module InterruptedRelax.\n"
     ]
    },
    {
     "name": "stdout",
     "output_type": "stream",
     "text": [
      "\n",
      "TSSOS is launching...\n",
      "------------------------------------------------------\n",
      "The clique sizes of varibles:\n",
      "[23]\n",
      "[1]\n",
      "------------------------------------------------------\n",
      "Assembling the SDP...\n",
      "There are 300 affine constraints.\n",
      "SDP assembling time: 0.000475511 seconds.\n",
      "Solving the SDP...\n",
      "Problem\n",
      "  Name                   :                 \n",
      "  Objective sense        : max             \n",
      "  Type                   : CONIC (conic optimization problem)\n",
      "  Constraints            : 300             \n",
      "  Cones                  : 0               \n",
      "  Scalar variables       : 25              \n",
      "  Matrix variables       : 1               \n",
      "  Integer variables      : 0               \n",
      "\n",
      "Optimizer started.\n",
      "Presolve started.\n",
      "Linear dependency checker started.\n",
      "Linear dependency checker terminated.\n",
      "Eliminator started.\n",
      "Freed constraints in eliminator : 0\n",
      "Eliminator terminated.\n",
      "Eliminator - tries                  : 1                 time                   : 0.00            \n",
      "Lin. dep.  - tries                  : 1                 time                   : 0.00            \n",
      "Lin. dep.  - number                 : 0               \n",
      "Presolve terminated. Time: 0.00    \n",
      "Problem\n",
      "  Name                   :                 \n",
      "  Objective sense        : max             \n",
      "  Type                   : CONIC (conic optimization problem)\n",
      "  Constraints            : 300             \n",
      "  Cones                  : 0               \n",
      "  Scalar variables       : 25              \n",
      "  Matrix variables       : 1               \n",
      "  Integer variables      : 0               \n",
      "\n",
      "Optimizer  - threads                : 4               \n",
      "Optimizer  - solved problem         : the primal      \n",
      "Optimizer  - Constraints            : 300\n",
      "Optimizer  - Cones                  : 1\n",
      "Optimizer  - Scalar variables       : 26                conic                  : 3               \n",
      "Optimizer  - Semi-definite variables: 1                 scalarized             : 300             \n",
      "Factor     - setup time             : 0.00              dense det. time        : 0.00            \n",
      "Factor     - ML order time          : 0.00              GP order time          : 0.00            \n",
      "Factor     - nonzeros before factor : 4.52e+04          after factor           : 4.52e+04        \n",
      "Factor     - dense dim.             : 0                 flops                  : 9.37e+06        \n",
      "ITE PFEAS    DFEAS    GFEAS    PRSTATUS   POBJ              DOBJ              MU       TIME  \n",
      "0   2.0e+00  1.0e+00  1.0e+00  0.00e+00   0.000000000e+00   0.000000000e+00   1.0e+00  0.00  \n",
      "1   5.1e-01  2.5e-01  3.5e-01  -5.41e-01  -3.355255607e+00  -4.579603792e+00  2.5e-01  0.01  \n",
      "2   2.0e-02  9.8e-03  8.8e-02  -9.27e-01  -1.946691991e+02  -2.729235869e+02  9.8e-03  0.01  \n",
      "3   8.5e-04  4.3e-04  1.5e-02  -9.67e-01  -2.512024808e+03  -3.729054431e+03  4.3e-04  0.01  \n",
      "4   7.1e-07  3.5e-07  4.0e-04  -9.96e-01  -2.379494405e+06  -3.681733537e+06  3.5e-07  0.01  \n",
      "5   2.4e-11  1.2e-11  2.4e-06  -1.00e+00  -6.940698858e+10  -1.074735913e+11  1.2e-11  0.02  \n",
      "6   6.6e-15  6.2e-15  8.2e-07  -1.00e+00  -1.142949393e+15  -1.771478470e+15  7.3e-16  0.02  \n",
      "Optimizer terminated. Time: 0.02    \n",
      "\n",
      "SDP solving time: 0.021547247 seconds.\n",
      "termination status: INFEASIBLE\n",
      "solution status: NO_SOLUTION\n",
      "optimum = -1.216064842223719\n",
      "  0.023285 seconds (26.09 k allocations: 2.572 MiB)\n"
     ]
    }
   ],
   "source": [
    "using SparseArrays\n",
    "\n",
    "include(\"../src/InterruptedRelax.jl\")\n",
    "using .InterruptedRelax\n",
    "\n",
    "n,m,l,lmon_g,supp_g,coe_g,lmon_h,supp_h,coe_h,lmon_f,supp_f,coe_f,dg,dh=InterruptedRelax.get_info(x,f,g,h,sparse=true);\n",
    "\n",
    "#InterruptedRelax.save_info_sparsePOP(randx,u,n,m,l,lmon_g,supp_g,coe_g,lmon_h,supp_h,coe_h,lmon_f,supp_f,coe_f,dg,dh)\n",
    "\n",
    "#include(\"./sparsePOP3.jl\")\n",
    "\n",
    "using TSSOS\n",
    "\n",
    "k=1\n",
    "\n",
    "println(\"Maximal matrix size: \",binomial(n+k,k))\n",
    "\n",
    "vars,pop=InterruptedRelax.get_POP(n,m,l,lmon_g,supp_g,coe_g,lmon_h,supp_h,coe_h,lmon_f,supp_f,coe_f)\n",
    "\n",
    "@time opt,sol,data=TSSOS.cs_tssos_first(pop,vars,k,numeq=l,CS=false,TS=false,solver=\"Mosek\");"
   ]
  },
  {
   "cell_type": "code",
   "execution_count": 16,
   "metadata": {},
   "outputs": [
    {
     "data": {
      "text/plain": [
       "-0.8223245712550831"
      ]
     },
     "execution_count": 16,
     "metadata": {},
     "output_type": "execute_result"
    }
   ],
   "source": [
    "1/opt"
   ]
  },
  {
   "cell_type": "code",
   "execution_count": 6,
   "metadata": {
    "scrolled": true
   },
   "outputs": [
    {
     "name": "stdout",
     "output_type": "stream",
     "text": [
      "Maximal matrix size: 300\n",
      "************************TSSOS************************"
     ]
    },
    {
     "name": "stderr",
     "output_type": "stream",
     "text": [
      "WARNING: replacing module InterruptedRelax.\n"
     ]
    },
    {
     "name": "stdout",
     "output_type": "stream",
     "text": [
      "\n",
      "TSSOS is launching...\n",
      "------------------------------------------------------\n",
      "The clique sizes of varibles:\n",
      "[23]\n",
      "[1]\n",
      "------------------------------------------------------\n",
      "Assembling the SDP...\n",
      "There are 17550 affine constraints.\n",
      "SDP assembling time: 0.341633141 seconds.\n",
      "Solving the SDP...\n",
      "Problem\n",
      "  Name                   :                 \n",
      "  Objective sense        : max             \n",
      "  Type                   : CONIC (conic optimization problem)\n",
      "  Constraints            : 17550           \n",
      "  Cones                  : 0               \n",
      "  Scalar variables       : 301             \n",
      "  Matrix variables       : 24              \n",
      "  Integer variables      : 0               \n",
      "\n",
      "Optimizer started.\n",
      "Presolve started.\n",
      "Linear dependency checker started.\n",
      "Linear dependency checker terminated.\n",
      "Eliminator started.\n",
      "Freed constraints in eliminator : 0\n",
      "Eliminator terminated.\n",
      "Eliminator - tries                  : 1                 time                   : 0.00            \n",
      "Lin. dep.  - tries                  : 1                 time                   : 0.00            \n",
      "Lin. dep.  - number                 : 0               \n",
      "Presolve terminated. Time: 0.00    \n",
      "Problem\n",
      "  Name                   :                 \n",
      "  Objective sense        : max             \n",
      "  Type                   : CONIC (conic optimization problem)\n",
      "  Constraints            : 17550           \n",
      "  Cones                  : 0               \n",
      "  Scalar variables       : 301             \n",
      "  Matrix variables       : 24              \n",
      "  Integer variables      : 0               \n",
      "\n",
      "Optimizer  - threads                : 4               \n",
      "Optimizer  - solved problem         : the primal      \n",
      "Optimizer  - Constraints            : 17550\n",
      "Optimizer  - Cones                  : 1\n",
      "Optimizer  - Scalar variables       : 302               conic                  : 302             \n",
      "Optimizer  - Semi-definite variables: 24                scalarized             : 52050           \n",
      "Factor     - setup time             : 31.60             dense det. time        : 0.00            \n",
      "Factor     - ML order time          : 24.05             GP order time          : 0.00            \n",
      "Factor     - nonzeros before factor : 1.54e+08          after factor           : 1.54e+08        \n",
      "Factor     - dense dim.             : 2                 flops                  : 1.81e+12        \n",
      "ITE PFEAS    DFEAS    GFEAS    PRSTATUS   POBJ              DOBJ              MU       TIME  \n",
      "0   1.0e+00  1.0e+00  1.0e+00  0.00e+00   0.000000000e+00   0.000000000e+00   1.0e+00  31.66 \n",
      "1   8.3e-01  8.3e-01  6.1e-01  -6.51e-02  -2.919277765e-01  -1.135418486e-01  8.3e-01  55.67 \n",
      "2   2.5e-01  2.5e-01  1.4e-01  -5.07e-02  -1.268829601e+00  -1.271705585e+00  2.5e-01  81.25 \n",
      "3   2.3e-02  2.3e-02  2.3e-03  1.04e+00   -3.726622978e-01  -3.671294564e-01  2.3e-02  110.22\n",
      "4   2.0e-03  2.0e-03  5.0e-05  1.18e+00   -6.473288503e-04  2.914857462e-05   2.0e-03  140.54\n",
      "5   2.4e-04  2.4e-04  2.5e-06  8.06e-01   5.908115654e-02   5.914236266e-02   2.4e-04  170.96\n",
      "6   7.1e-05  7.1e-05  4.3e-07  6.63e-01   7.096966770e-02   7.099208523e-02   7.1e-05  200.20\n",
      "7   1.1e-05  1.1e-05  2.5e-08  7.07e-01   7.603255957e-02   7.603653117e-02   1.1e-05  228.51\n",
      "8   5.7e-06  5.7e-06  1.1e-08  9.57e-01   7.640699044e-02   7.640874518e-02   5.7e-06  255.25\n",
      "9   9.6e-07  9.6e-07  9.2e-10  9.57e-01   7.675532966e-02   7.675534826e-02   9.6e-07  282.96\n",
      "10  5.7e-07  5.7e-07  4.3e-10  9.27e-01   7.680065587e-02   7.680065236e-02   5.7e-07  310.23\n",
      "11  9.0e-08  8.8e-08  2.7e-11  9.63e-01   7.684512212e-02   7.684512039e-02   8.8e-08  338.50\n",
      "12  4.7e-08  4.7e-08  1.1e-11  9.20e-01   7.685243590e-02   7.685243331e-02   4.7e-08  365.32\n",
      "13  6.4e-09  6.4e-09  5.5e-13  9.74e-01   7.685783677e-02   7.685783643e-02   6.4e-09  393.44\n",
      "Optimizer terminated. Time: 393.48  \n",
      "\n",
      "SDP solving time: 393.684827733 seconds.\n",
      "optimum = 0.07685783676829479\n",
      "394.051172 seconds (2.64 M allocations: 244.897 MiB, 0.06% gc time)\n"
     ]
    }
   ],
   "source": [
    "using SparseArrays\n",
    "\n",
    "include(\"../src/InterruptedRelax.jl\")\n",
    "using .InterruptedRelax\n",
    "\n",
    "n,m,l,lmon_g,supp_g,coe_g,lmon_h,supp_h,coe_h,lmon_f,supp_f,coe_f,dg,dh=InterruptedRelax.get_info(x,f,g,h,sparse=true);\n",
    "\n",
    "#InterruptedRelax.save_info_sparsePOP(randx,u,n,m,l,lmon_g,supp_g,coe_g,lmon_h,supp_h,coe_h,lmon_f,supp_f,coe_f,dg,dh)\n",
    "\n",
    "#include(\"./sparsePOP3.jl\")\n",
    "\n",
    "using TSSOS\n",
    "\n",
    "k=2\n",
    "\n",
    "println(\"Maximal matrix size: \",binomial(n+k,k))\n",
    "\n",
    "vars,pop=InterruptedRelax.get_POP(n,m,l,lmon_g,supp_g,coe_g,lmon_h,supp_h,coe_h,lmon_f,supp_f,coe_f)\n",
    "\n",
    "@time opt,sol,data=TSSOS.cs_tssos_first(pop,vars,k,numeq=l,CS=false,TS=false,solver=\"Mosek\");"
   ]
  },
  {
   "cell_type": "code",
   "execution_count": 7,
   "metadata": {},
   "outputs": [
    {
     "data": {
      "text/plain": [
       "13.011034945138055"
      ]
     },
     "execution_count": 7,
     "metadata": {},
     "output_type": "execute_result"
    }
   ],
   "source": [
    "1/opt"
   ]
  },
  {
   "cell_type": "code",
   "execution_count": null,
   "metadata": {},
   "outputs": [],
   "source": []
  }
 ],
 "metadata": {
  "kernelspec": {
   "display_name": "Julia 1.3.0",
   "language": "julia",
   "name": "julia-1.3"
  },
  "language_info": {
   "file_extension": ".jl",
   "mimetype": "application/julia",
   "name": "julia",
   "version": "1.3.0"
  }
 },
 "nbformat": 4,
 "nbformat_minor": 2
}
