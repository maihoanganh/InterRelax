{
 "cells": [
  {
   "cell_type": "code",
   "execution_count": 323,
   "metadata": {},
   "outputs": [
    {
     "name": "stdout",
     "output_type": "stream",
     "text": [
      "***Problem setting***\n",
      "Number of variables: n=25\n",
      "====================\n",
      "Number of inequality constraints: m=0\n",
      "====================\n",
      "Number of equality constraints: l=1\n",
      "====================\n"
     ]
    }
   ],
   "source": [
    "using DynamicPolynomials, SparseArrays\n",
    "\n",
    "println(\"***Problem setting***\")\n",
    "\n",
    "n=25\n",
    "\n",
    "println(\"Number of variables: n=\",n)\n",
    "println(\"====================\")\n",
    "\n",
    "@polyvar x[1:n]# variables\n",
    "\n",
    "# random quadratic objective function f\n",
    "\n",
    "\n",
    "A=sprand(n, n, 0.5)\n",
    "for i in 1:n\n",
    "    for j=i:n\n",
    "        if i == j\n",
    "            A[j,j]=1\n",
    "        else\n",
    "            A[i,j]=sign(A[j,i])\n",
    "            A[j,i]=A[i,j]\n",
    "        end\n",
    "    end\n",
    "end\n",
    "A=Matrix(A)\n",
    "\n",
    "\n",
    "#include(\"./mat_stability_size$(n).jl\")\n",
    "\n",
    "\n",
    "f=sum(A[i,j]*x[i]*x[j] for i=1:n for j=1:n)\n",
    "\n",
    "            \n",
    "g=Vector{Polynomial{true,Float64}}([])\n",
    "#type of coefficients of each polynomial must be float\n",
    "\n",
    "m=length(g)\n",
    "println(\"Number of inequality constraints: m=\",m)\n",
    "println(\"====================\")            \n",
    "\n",
    "# unit sphere constraint\n",
    "h=[1.0-sum(x)] #type of coefficients of each polynomial must be float\n",
    "\n",
    "l=length(h)\n",
    "\n",
    "println(\"Number of equality constraints: l=\",l)\n",
    "println(\"====================\")"
   ]
  },
  {
   "cell_type": "code",
   "execution_count": 324,
   "metadata": {},
   "outputs": [
    {
     "name": "stdout",
     "output_type": "stream",
     "text": [
      "Relaxation order: k=0\n",
      "Block size: s=26\n",
      "Maximal matrix size:26\n",
      "Problem\n",
      "  Name                   :                 \n",
      "  Objective sense        : max             \n",
      "  Type                   : CONIC (conic optimization problem)\n",
      "  Constraints            : 351             \n",
      "  Cones                  : 0               \n",
      "  Scalar variables       : 352             \n",
      "  Matrix variables       : 1               \n",
      "  Integer variables      : 0               \n",
      "\n",
      "Optimizer started.\n",
      "Presolve started.\n",
      "Linear dependency checker started.\n",
      "Linear dependency checker terminated.\n",
      "Eliminator started.\n",
      "Freed constraints in eliminator : 0\n",
      "Eliminator terminated.\n",
      "Eliminator - tries                  : 1                 time                   : 0.00            \n",
      "Lin. dep.  - tries                  : 1                 time                   : 0.00            \n",
      "Lin. dep.  - number                 : 0               \n",
      "Presolve terminated. Time: 0.00    \n",
      "Problem\n",
      "  Name                   :                 \n",
      "  Objective sense        : max             \n",
      "  Type                   : CONIC (conic optimization problem)\n",
      "  Constraints            : 351             \n",
      "  Cones                  : 0               \n",
      "  Scalar variables       : 352             \n",
      "  Matrix variables       : 1               \n",
      "  Integer variables      : 0               \n",
      "\n",
      "Optimizer  - threads                : 4               \n",
      "Optimizer  - solved problem         : the primal      \n",
      "Optimizer  - Constraints            : 351\n",
      "Optimizer  - Cones                  : 1\n",
      "Optimizer  - Scalar variables       : 353               conic                  : 28              \n",
      "Optimizer  - Semi-definite variables: 1                 scalarized             : 351             \n",
      "Factor     - setup time             : 0.00              dense det. time        : 0.00            \n",
      "Factor     - ML order time          : 0.00              GP order time          : 0.00            \n",
      "Factor     - nonzeros before factor : 6.21e+04          after factor           : 6.21e+04        \n",
      "Factor     - dense dim.             : 2                 flops                  : 1.51e+07        \n",
      "ITE PFEAS    DFEAS    GFEAS    PRSTATUS   POBJ              DOBJ              MU       TIME  \n",
      "0   2.0e+00  1.0e+00  1.0e+00  0.00e+00   0.000000000e+00   0.000000000e+00   1.0e+00  0.01  \n",
      "1   9.6e-01  4.8e-01  6.0e-01  -7.14e-01  -1.904303004e+00  -2.597670979e+00  4.8e-01  0.01  \n",
      "2   7.1e-02  3.6e-02  4.9e-02  -5.00e-01  -7.946527524e+00  -9.639109417e+00  3.6e-02  0.02  \n",
      "3   1.2e-02  6.2e-03  1.5e-03  2.09e+00   -1.223834808e+00  -1.271282063e+00  6.2e-03  0.02  \n",
      "4   2.5e-03  1.2e-03  7.3e-05  2.52e+00   2.287319648e-02   2.049231087e-02   1.2e-03  0.03  \n",
      "5   5.9e-04  2.9e-04  7.1e-06  1.63e+00   1.443827183e-01   1.439887260e-01   2.9e-04  0.03  \n",
      "6   1.6e-04  8.2e-05  8.1e-07  1.09e+00   1.587821525e-01   1.587377989e-01   8.2e-05  0.04  \n",
      "7   3.0e-05  1.5e-05  4.2e-08  1.02e+00   1.631579786e-01   1.631591839e-01   1.5e-05  0.04  \n",
      "8   9.7e-06  4.8e-06  7.1e-09  1.00e+00   1.636903741e-01   1.636912405e-01   4.8e-06  0.05  \n",
      "9   1.5e-06  7.7e-07  3.9e-10  1.00e+00   1.639202489e-01   1.639204705e-01   7.7e-07  0.05  \n",
      "10  2.9e-07  1.4e-07  3.1e-11  9.98e-01   1.639602247e-01   1.639602656e-01   1.4e-07  0.06  \n",
      "11  3.9e-08  1.9e-08  1.6e-12  1.00e+00   1.639685539e-01   1.639685587e-01   1.9e-08  0.06  \n",
      "Optimizer terminated. Time: 0.06    \n",
      "\n",
      "Termination status = OPTIMAL\n",
      "Optimal value = 0.16396855391107124\n",
      "  1.738103 seconds (2.15 M allocations: 155.446 MiB, 2.54% gc time)\n"
     ]
    },
    {
     "name": "stderr",
     "output_type": "stream",
     "text": [
      "WARNING: replacing module InterruptedRelax.\n"
     ]
    },
    {
     "data": {
      "text/plain": [
       "(0.16396855391107124, Float64[])"
      ]
     },
     "execution_count": 324,
     "metadata": {},
     "output_type": "execute_result"
    }
   ],
   "source": [
    "include(\"../src/InterruptedRelax.jl\")\n",
    "using .InterruptedRelax\n",
    "\n",
    "n,m,l,lmon_g,supp_g,coe_g,lmon_h,supp_h,coe_h,lmon_f,supp_f,coe_f,dg,dh=InterruptedRelax.get_info(x,f,g,h,sparse=false);\n",
    "\n",
    "\n",
    "k=0\n",
    "\n",
    "println(\"Relaxation order: k=\",k)\n",
    "\n",
    "s=26\n",
    "\n",
    "println(\"Block size: s=\",s)\n",
    "\n",
    "@time opt_val1,opt_sol=InterruptedRelax.RelaxDense(n,m,l,lmon_g,supp_g,coe_g,lmon_h,supp_h,coe_h,\n",
    "    lmon_f,supp_f,coe_f,dg,dh,k,s,solver=\"Mosek\",comp_opt_sol=false)"
   ]
  },
  {
   "cell_type": "code",
   "execution_count": 325,
   "metadata": {},
   "outputs": [
    {
     "data": {
      "text/plain": [
       "6.09873037327848"
      ]
     },
     "execution_count": 325,
     "metadata": {},
     "output_type": "execute_result"
    }
   ],
   "source": [
    "1/opt_val1"
   ]
  },
  {
   "cell_type": "code",
   "execution_count": null,
   "metadata": {},
   "outputs": [],
   "source": []
  },
  {
   "cell_type": "code",
   "execution_count": 326,
   "metadata": {
    "scrolled": true
   },
   "outputs": [
    {
     "name": "stdout",
     "output_type": "stream",
     "text": [
      "Relaxation order: k=1\n",
      "Block size: s=26\n",
      "Maximal matrix size:26\n",
      "Problem\n",
      "  Name                   :                 \n",
      "  Objective sense        : max             \n",
      "  Type                   : CONIC (conic optimization problem)\n",
      "  Constraints            : 3276            \n",
      "  Cones                  : 0               \n",
      "  Scalar variables       : 2952            \n",
      "  Matrix variables       : 26              \n",
      "  Integer variables      : 0               \n",
      "\n",
      "Optimizer started.\n",
      "Presolve started.\n",
      "Linear dependency checker started.\n",
      "Linear dependency checker terminated.\n",
      "Eliminator started.\n",
      "Freed constraints in eliminator : 0\n",
      "Eliminator terminated.\n",
      "Eliminator - tries                  : 1                 time                   : 0.00            \n",
      "Lin. dep.  - tries                  : 1                 time                   : 0.00            \n",
      "Lin. dep.  - number                 : 0               \n",
      "Presolve terminated. Time: 0.00    \n",
      "GP based matrix reordering started.\n",
      "GP based matrix reordering terminated.\n",
      "Problem\n",
      "  Name                   :                 \n",
      "  Objective sense        : max             \n",
      "  Type                   : CONIC (conic optimization problem)\n",
      "  Constraints            : 3276            \n",
      "  Cones                  : 0               \n",
      "  Scalar variables       : 2952            \n",
      "  Matrix variables       : 26              \n",
      "  Integer variables      : 0               \n",
      "\n",
      "Optimizer  - threads                : 4               \n",
      "Optimizer  - solved problem         : the primal      \n",
      "Optimizer  - Constraints            : 3276\n",
      "Optimizer  - Cones                  : 1\n",
      "Optimizer  - Scalar variables       : 2953              conic                  : 353             \n",
      "Optimizer  - Semi-definite variables: 26                scalarized             : 9126            \n",
      "Factor     - setup time             : 1.37              dense det. time        : 0.06            \n",
      "Factor     - ML order time          : 0.60              GP order time          : 0.47            \n",
      "Factor     - nonzeros before factor : 1.50e+06          after factor           : 4.94e+06        \n",
      "Factor     - dense dim.             : 2                 flops                  : 9.80e+09        \n",
      "ITE PFEAS    DFEAS    GFEAS    PRSTATUS   POBJ              DOBJ              MU       TIME  \n",
      "0   6.0e+00  1.0e+00  1.0e+00  0.00e+00   0.000000000e+00   0.000000000e+00   1.0e+00  1.39  \n",
      "1   2.9e+00  4.9e-01  5.7e-01  -6.12e-01  -9.954923975e-01  -1.525958616e+00  4.9e-01  1.78  \n",
      "2   1.1e-01  1.8e-02  8.6e-03  -4.90e-01  -3.558032730e+00  -3.699677179e+00  1.8e-02  2.24  \n",
      "3   1.1e-02  1.8e-03  9.4e-05  2.29e+00   -5.351540737e-01  -5.352396235e-01  1.8e-03  2.70  \n",
      "4   1.9e-03  3.1e-04  2.5e-06  1.12e+00   1.012724742e-01   1.014311158e-01   3.1e-04  3.24  \n",
      "5   8.5e-04  1.4e-04  8.3e-07  1.65e+00   1.443279127e-01   1.443756860e-01   1.4e-04  3.65  \n",
      "6   1.9e-04  3.2e-05  1.0e-07  1.12e+00   1.622312545e-01   1.622397024e-01   3.2e-05  4.10  \n",
      "7   3.5e-05  5.8e-06  9.0e-09  8.08e-01   1.659057173e-01   1.659071392e-01   5.8e-06  4.54  \n",
      "8   3.3e-06  5.5e-07  3.0e-10  9.03e-01   1.665899204e-01   1.665900148e-01   5.5e-07  4.98  \n",
      "9   1.0e-06  1.7e-07  5.5e-11  9.66e-01   1.666406765e-01   1.666407046e-01   1.7e-07  5.38  \n",
      "10  2.8e-08  4.6e-09  2.4e-13  9.94e-01   1.666659262e-01   1.666659269e-01   4.6e-09  5.80  \n",
      "Optimizer terminated. Time: 5.80    \n",
      "\n",
      "Termination status = OPTIMAL\n",
      "Optimal value = 0.16666592623652846\n",
      " 11.323014 seconds (19.31 M allocations: 4.598 GiB, 8.01% gc time)\n"
     ]
    },
    {
     "name": "stderr",
     "output_type": "stream",
     "text": [
      "WARNING: replacing module InterruptedRelax.\n"
     ]
    },
    {
     "data": {
      "text/plain": [
       "(0.16666592623652846, Float64[])"
      ]
     },
     "execution_count": 326,
     "metadata": {},
     "output_type": "execute_result"
    }
   ],
   "source": [
    "include(\"../src/InterruptedRelax.jl\")\n",
    "using .InterruptedRelax\n",
    "\n",
    "n,m,l,lmon_g,supp_g,coe_g,lmon_h,supp_h,coe_h,lmon_f,supp_f,coe_f,dg,dh=InterruptedRelax.get_info(x,f,g,h,sparse=false);\n",
    "\n",
    "\n",
    "k=1\n",
    "\n",
    "println(\"Relaxation order: k=\",k)\n",
    "\n",
    "s=26\n",
    "\n",
    "println(\"Block size: s=\",s)\n",
    "\n",
    "@time opt_val1,opt_sol=InterruptedRelax.RelaxDense(n,m,l,lmon_g,supp_g,coe_g,lmon_h,supp_h,coe_h,\n",
    "    lmon_f,supp_f,coe_f,dg,dh,k,s,solver=\"Mosek\")"
   ]
  },
  {
   "cell_type": "code",
   "execution_count": 327,
   "metadata": {},
   "outputs": [
    {
     "data": {
      "text/plain": [
       "6.000026655603396"
      ]
     },
     "execution_count": 327,
     "metadata": {},
     "output_type": "execute_result"
    }
   ],
   "source": [
    "1/opt_val1"
   ]
  },
  {
   "cell_type": "code",
   "execution_count": null,
   "metadata": {},
   "outputs": [],
   "source": []
  },
  {
   "cell_type": "code",
   "execution_count": 328,
   "metadata": {
    "scrolled": true
   },
   "outputs": [
    {
     "name": "stdout",
     "output_type": "stream",
     "text": [
      "Maximal matrix size: 26\n",
      "************************TSSOS************************\n",
      "TSSOS is launching...\n",
      "------------------------------------------------------\n",
      "The clique sizes of varibles:\n",
      "[25]\n",
      "[1]\n",
      "------------------------------------------------------\n",
      "Assembling the SDP...\n",
      "There are 351 affine constraints.\n",
      "SDP assembling time: 0.000826238 seconds.\n",
      "Solving the SDP...\n",
      "Problem\n",
      "  Name                   :                 \n",
      "  Objective sense        : max             \n",
      "  Type                   : CONIC (conic optimization problem)\n",
      "  Constraints            : 351             \n",
      "  Cones                  : 0               \n",
      "  Scalar variables       : 27              \n",
      "  Matrix variables       : 1               \n",
      "  Integer variables      : 0               \n",
      "\n",
      "Optimizer started.\n",
      "Presolve started.\n",
      "Linear dependency checker started.\n",
      "Linear dependency checker terminated.\n",
      "Eliminator started.\n",
      "Freed constraints in eliminator : 0\n",
      "Eliminator terminated.\n",
      "Eliminator - tries                  : 1                 time                   : 0.00            \n",
      "Lin. dep.  - tries                  : 1                 time                   : 0.00            \n",
      "Lin. dep.  - number                 : 0               \n",
      "Presolve terminated. Time: 0.00    \n",
      "Problem\n",
      "  Name                   :                 \n",
      "  Objective sense        : max             \n",
      "  Type                   : CONIC (conic optimization problem)\n",
      "  Constraints            : 351             \n",
      "  Cones                  : 0               \n",
      "  Scalar variables       : 27              \n",
      "  Matrix variables       : 1               \n",
      "  Integer variables      : 0               \n",
      "\n",
      "Optimizer  - threads                : 4               \n",
      "Optimizer  - solved problem         : the primal      \n",
      "Optimizer  - Constraints            : 351\n",
      "Optimizer  - Cones                  : 1\n",
      "Optimizer  - Scalar variables       : 28                conic                  : 3               \n",
      "Optimizer  - Semi-definite variables: 1                 scalarized             : 351             \n",
      "Factor     - setup time             : 0.01              dense det. time        : 0.00            \n",
      "Factor     - ML order time          : 0.00              GP order time          : 0.00            \n",
      "Factor     - nonzeros before factor : 6.18e+04          after factor           : 6.18e+04        \n",
      "Factor     - dense dim.             : 0                 flops                  : 1.49e+07        \n",
      "ITE PFEAS    DFEAS    GFEAS    PRSTATUS   POBJ              DOBJ              MU       TIME  \n",
      "0   2.0e+00  1.0e+00  1.0e+00  0.00e+00   0.000000000e+00   0.000000000e+00   1.0e+00  0.01  \n",
      "1   3.7e-01  1.9e-01  3.6e-01  -8.21e-01  -6.101448360e+00  -9.067332050e+00  1.9e-01  0.01  \n",
      "2   5.4e-03  2.7e-03  5.0e-02  -9.76e-01  -7.048238712e+02  -1.047497367e+03  2.7e-03  0.02  \n",
      "3   7.5e-06  3.7e-06  1.8e-03  -1.00e+00  -4.500639950e+05  -6.735109570e+05  3.7e-06  0.02  \n",
      "4   9.2e-09  4.6e-09  5.8e-05  -9.95e-01  -2.955040358e+08  -4.548735137e+08  4.6e-09  0.03  \n",
      "5   3.4e-13  1.7e-13  1.4e-07  -1.00e+00  -8.014961774e+12  -1.235069814e+13  1.7e-13  0.03  \n",
      "Optimizer terminated. Time: 0.03    \n",
      "\n",
      "SDP solving time: 0.034069285 seconds.\n",
      "termination status: INFEASIBLE\n",
      "solution status: NO_SOLUTION\n",
      "optimum = -1.5779387881734126\n",
      "  0.037304 seconds (30.79 k allocations: 3.332 MiB)\n"
     ]
    },
    {
     "name": "stderr",
     "output_type": "stream",
     "text": [
      "WARNING: replacing module InterruptedRelax.\n"
     ]
    }
   ],
   "source": [
    "using SparseArrays\n",
    "\n",
    "include(\"../src/InterruptedRelax.jl\")\n",
    "using .InterruptedRelax\n",
    "\n",
    "n,m,l,lmon_g,supp_g,coe_g,lmon_h,supp_h,coe_h,lmon_f,supp_f,coe_f,dg,dh=InterruptedRelax.get_info(x,f,g,h,sparse=true);\n",
    "\n",
    "#InterruptedRelax.save_info_sparsePOP(randx,u,n,m,l,lmon_g,supp_g,coe_g,lmon_h,supp_h,coe_h,lmon_f,supp_f,coe_f,dg,dh)\n",
    "\n",
    "#include(\"./sparsePOP3.jl\")\n",
    "\n",
    "using TSSOS\n",
    "\n",
    "k=1\n",
    "\n",
    "println(\"Maximal matrix size: \",binomial(n+k,k))\n",
    "\n",
    "vars,pop=InterruptedRelax.get_POP(n,m,l,lmon_g,supp_g,coe_g,lmon_h,supp_h,coe_h,lmon_f,supp_f,coe_f)\n",
    "\n",
    "@time opt,sol,data=TSSOS.cs_tssos_first(pop,vars,k,numeq=l,CS=false,TS=false,solver=\"Mosek\");"
   ]
  },
  {
   "cell_type": "code",
   "execution_count": 329,
   "metadata": {},
   "outputs": [
    {
     "data": {
      "text/plain": [
       "-0.6337381446574224"
      ]
     },
     "execution_count": 329,
     "metadata": {},
     "output_type": "execute_result"
    }
   ],
   "source": [
    "1/opt"
   ]
  },
  {
   "cell_type": "code",
   "execution_count": 330,
   "metadata": {
    "scrolled": true
   },
   "outputs": [
    {
     "name": "stdout",
     "output_type": "stream",
     "text": [
      "Maximal matrix size: 351\n",
      "************************TSSOS************************\n",
      "TSSOS is launching...\n",
      "------------------------------------------------------\n",
      "The clique sizes of varibles:\n",
      "[25]\n",
      "[1]\n",
      "------------------------------------------------------\n",
      "Assembling the SDP...\n",
      "There are 23751 affine constraints.\n",
      "SDP assembling time: 0.12946266 seconds.\n",
      "Solving the SDP...\n",
      "Problem\n",
      "  Name                   :                 \n",
      "  Objective sense        : max             \n",
      "  Type                   : CONIC (conic optimization problem)\n",
      "  Constraints            : 23751           \n",
      "  Cones                  : 0               \n",
      "  Scalar variables       : 352             \n",
      "  Matrix variables       : 26              \n",
      "  Integer variables      : 0               \n",
      "\n",
      "Optimizer started.\n",
      "Presolve started.\n",
      "Linear dependency checker started.\n",
      "Linear dependency checker terminated.\n",
      "Eliminator started.\n",
      "Freed constraints in eliminator : 0\n",
      "Eliminator terminated.\n",
      "Eliminator - tries                  : 1                 time                   : 0.00            \n",
      "Lin. dep.  - tries                  : 1                 time                   : 0.00            \n",
      "Lin. dep.  - number                 : 0               \n",
      "Presolve terminated. Time: 0.01    \n",
      "Problem\n",
      "  Name                   :                 \n",
      "  Objective sense        : max             \n",
      "  Type                   : CONIC (conic optimization problem)\n",
      "  Constraints            : 23751           \n",
      "  Cones                  : 0               \n",
      "  Scalar variables       : 352             \n",
      "  Matrix variables       : 26              \n",
      "  Integer variables      : 0               \n",
      "\n",
      "Optimizer  - threads                : 4               \n",
      "Optimizer  - solved problem         : the primal      \n",
      "Optimizer  - Constraints            : 23751\n",
      "Optimizer  - Cones                  : 1\n",
      "Optimizer  - Scalar variables       : 353               conic                  : 353             \n",
      "Optimizer  - Semi-definite variables: 26                scalarized             : 70551           \n",
      "Factor     - setup time             : 104.85            dense det. time        : 0.00            \n",
      "Factor     - ML order time          : 77.24             GP order time          : 0.00            \n",
      "Factor     - nonzeros before factor : 2.82e+08          after factor           : 2.82e+08        \n",
      "Factor     - dense dim.             : 2                 flops                  : 4.48e+12        \n",
      "ITE PFEAS    DFEAS    GFEAS    PRSTATUS   POBJ              DOBJ              MU       TIME  \n",
      "0   1.0e+00  1.0e+00  1.0e+00  0.00e+00   0.000000000e+00   0.000000000e+00   1.0e+00  104.97\n",
      "1   8.3e-01  8.3e-01  7.6e-01  -6.15e-01  -5.289531812e-01  -5.167794669e-01  8.3e-01  177.14\n",
      "2   2.3e-01  2.3e-01  2.4e-01  -5.25e-01  -3.047005533e+00  -3.669628615e+00  2.3e-01  253.72\n",
      "3   2.3e-02  2.3e-02  4.8e-03  5.97e-01   -9.673714956e-01  -9.819991488e-01  2.3e-02  327.25\n",
      "4   1.8e-03  1.8e-03  7.8e-05  1.40e+00   -9.353238764e-02  -9.358017780e-02  1.8e-03  402.52\n",
      "5   2.0e-04  2.0e-04  3.4e-06  9.08e-01   1.152900206e-01   1.152429486e-01   2.0e-04  480.90\n",
      "6   1.3e-04  1.3e-04  1.6e-06  6.25e-01   1.383042599e-01   1.382984496e-01   1.3e-04  552.97\n",
      "7   6.5e-05  6.5e-05  6.3e-07  8.25e-01   1.552648461e-01   1.552517910e-01   6.5e-05  626.44\n",
      "8   8.8e-06  8.8e-06  3.2e-08  9.45e-01   1.635544377e-01   1.635524555e-01   8.8e-06  698.85\n",
      "9   1.6e-06  1.6e-06  2.4e-09  9.48e-01   1.648458890e-01   1.648458244e-01   1.6e-06  775.20\n",
      "10  6.0e-07  6.0e-07  5.7e-10  9.72e-01   1.649932901e-01   1.649931640e-01   6.0e-07  846.76\n",
      "11  4.4e-08  4.4e-08  1.1e-11  9.85e-01   1.650627677e-01   1.650627592e-01   4.4e-08  919.86\n",
      "12  3.6e-08  3.6e-08  8.6e-12  9.39e-01   1.650649887e-01   1.650649804e-01   3.6e-08  992.83\n",
      "13  1.1e-08  6.0e-09  6.0e-13  9.62e-01   1.650706636e-01   1.650706619e-01   6.0e-09  1064.00\n",
      "Optimizer terminated. Time: 1064.08 \n",
      "\n",
      "SDP solving time: 1064.428484996 seconds.\n",
      "optimum = 0.16507066356215822\n",
      "1064.622600 seconds (3.61 M allocations: 336.754 MiB, 0.01% gc time)\n"
     ]
    },
    {
     "name": "stderr",
     "output_type": "stream",
     "text": [
      "WARNING: replacing module InterruptedRelax.\n"
     ]
    }
   ],
   "source": [
    "using SparseArrays\n",
    "\n",
    "include(\"../src/InterruptedRelax.jl\")\n",
    "using .InterruptedRelax\n",
    "\n",
    "n,m,l,lmon_g,supp_g,coe_g,lmon_h,supp_h,coe_h,lmon_f,supp_f,coe_f,dg,dh=InterruptedRelax.get_info(x,f,g,h,sparse=true);\n",
    "\n",
    "#InterruptedRelax.save_info_sparsePOP(randx,u,n,m,l,lmon_g,supp_g,coe_g,lmon_h,supp_h,coe_h,lmon_f,supp_f,coe_f,dg,dh)\n",
    "\n",
    "#include(\"./sparsePOP3.jl\")\n",
    "\n",
    "using TSSOS\n",
    "\n",
    "k=2\n",
    "\n",
    "println(\"Maximal matrix size: \",binomial(n+k,k))\n",
    "\n",
    "vars,pop=InterruptedRelax.get_POP(n,m,l,lmon_g,supp_g,coe_g,lmon_h,supp_h,coe_h,lmon_f,supp_f,coe_f)\n",
    "\n",
    "@time opt,sol,data=TSSOS.cs_tssos_first(pop,vars,k,numeq=l,CS=false,TS=false,solver=\"Mosek\");"
   ]
  },
  {
   "cell_type": "code",
   "execution_count": 333,
   "metadata": {},
   "outputs": [
    {
     "data": {
      "text/plain": [
       "6.058011632233154"
      ]
     },
     "execution_count": 333,
     "metadata": {},
     "output_type": "execute_result"
    }
   ],
   "source": [
    "1/opt"
   ]
  },
  {
   "cell_type": "code",
   "execution_count": 334,
   "metadata": {},
   "outputs": [
    {
     "name": "stderr",
     "output_type": "stream",
     "text": [
      "WARNING: replacing module InterruptedRelax.\n"
     ]
    }
   ],
   "source": [
    "include(\"../src/InterruptedRelax.jl\")\n",
    "using .InterruptedRelax\n",
    "\n",
    "InterruptedRelax.save_info_mat_stability(n,A)"
   ]
  },
  {
   "cell_type": "code",
   "execution_count": null,
   "metadata": {},
   "outputs": [],
   "source": []
  }
 ],
 "metadata": {
  "kernelspec": {
   "display_name": "Julia 1.3.0",
   "language": "julia",
   "name": "julia-1.3"
  },
  "language_info": {
   "file_extension": ".jl",
   "mimetype": "application/julia",
   "name": "julia",
   "version": "1.3.0"
  }
 },
 "nbformat": 4,
 "nbformat_minor": 2
}
